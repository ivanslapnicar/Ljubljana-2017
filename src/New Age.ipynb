{
 "cells": [
  {
   "cell_type": "markdown",
   "metadata": {
    "nbpresent": {
     "id": "c8a714c5-14b1-4002-862d-8f81edb5674c"
    },
    "slideshow": {
     "slide_type": "slide"
    }
   },
   "source": [
    "# New Age\n",
    "\n",
    "Fakulteta za matematiko in fiziko - Univerza v Ljubljani\n",
    "\n",
    "Ivan Slapničar, Sveučilište u Splitu, FESB\n",
    "\n",
    "April, 2017"
   ]
  },
  {
   "cell_type": "markdown",
   "metadata": {
    "nbpresent": {
     "id": "5b02d01f-08b5-41cf-ae99-5c997f1618ad"
    },
    "slideshow": {
     "slide_type": "slide"
    }
   },
   "source": [
    "## Messages\n",
    "\n",
    "Easy -> hard?\n",
    "\n",
    "Present: __age of search__ -> _mathematics_\n",
    "\n",
    "Future: __age of recommendation__  -> _mathematics_\n",
    "\n",
    "(BigData, new technologies)\n"
   ]
  },
  {
   "cell_type": "markdown",
   "metadata": {
    "collapsed": true,
    "nbpresent": {
     "id": "4c3647c8-bf68-4fc7-9494-d11fdb86327f"
    }
   },
   "source": [
    "## Easy -> hard\n",
    "\n",
    "weight:  1 _kg_  -> 1 _kg_ $\\pm$ 0.000000001 _kg_\n",
    "\n",
    "running: 100 _m_ -> 42,195 _m_ ili 100 _m_ < 10 _sek_\n",
    "\n",
    "mathematics: exam -> state competition  -> [Olympiad](http://www.imo-official.org/)\n",
    "\n",
    "search, recommending: good -> excellent"
   ]
  },
  {
   "cell_type": "markdown",
   "metadata": {
    "nbpresent": {
     "id": "d194cf53-622d-4d19-a5ea-7bfb4e7cedf1"
    }
   },
   "source": [
    "## Age of Search\n",
    "\n",
    "google (and others)\n",
    "\n",
    "\n",
    "* [50 billion pages](http://www.worldwidewebsize.com/), [3.5 billion querries daily](http://www.internetlivestats.com/google-search-statistics/)\n",
    "* __PageRank__\n",
    "* history, context - cookies, storing data (about you), [200+ parameters](http://backlinko.com/google-ranking-factors)"
   ]
  },
  {
   "cell_type": "markdown",
   "metadata": {
    "nbpresent": {
     "id": "ec4afe08-74b2-4219-b379-b3a4cfb185c9"
    }
   },
   "source": [
    "## PageRank\n",
    "\n",
    "* Graph theory and linear algebra\n",
    "* [C, Moler, Google PageRank][Mol11]\n",
    "\n",
    "\n",
    "[Mol11]: https://www.mathworks.com/moler/exm/chapters/pagerank.pdf \"C, Moler, 'Google PageRank', mathWorks, 2011.\"\n"
   ]
  },
  {
   "cell_type": "code",
   "execution_count": 1,
   "metadata": {
    "collapsed": false,
    "nbpresent": {
     "id": "339964f2-eba2-40c6-bc72-08687a1d486e"
    }
   },
   "outputs": [
    {
     "data": {
      "text/plain": [
       "6×6 sparse matrix with 9 Float64 nonzero entries:\n",
       "\t[2, 1]  =  1.0\n",
       "\t[6, 1]  =  1.0\n",
       "\t[3, 2]  =  1.0\n",
       "\t[4, 2]  =  1.0\n",
       "\t[4, 3]  =  1.0\n",
       "\t[5, 3]  =  1.0\n",
       "\t[6, 3]  =  1.0\n",
       "\t[1, 4]  =  1.0\n",
       "\t[1, 6]  =  1.0"
      ]
     },
     "execution_count": 1,
     "metadata": {},
     "output_type": "execute_result"
    }
   ],
   "source": [
    "i = vec([ 2 6 3 4 4 5 6 1 1])\n",
    "j = vec([ 1 1 2 2 3 3 3 4 6])\n",
    "G=sparse(i,j,1.0)"
   ]
  },
  {
   "cell_type": "code",
   "execution_count": 2,
   "metadata": {
    "collapsed": false,
    "nbpresent": {
     "id": "a61a812c-8380-4789-9685-819fdb925442"
    }
   },
   "outputs": [
    {
     "data": {
      "text/plain": [
       "6×6 Array{Float64,2}:\n",
       " 0.0  0.0  0.0  1.0  0.0  1.0\n",
       " 1.0  0.0  0.0  0.0  0.0  0.0\n",
       " 0.0  1.0  0.0  0.0  0.0  0.0\n",
       " 0.0  1.0  1.0  0.0  0.0  0.0\n",
       " 0.0  0.0  1.0  0.0  0.0  0.0\n",
       " 1.0  0.0  1.0  0.0  0.0  0.0"
      ]
     },
     "execution_count": 2,
     "metadata": {},
     "output_type": "execute_result"
    }
   ],
   "source": [
    "full(G)"
   ]
  },
  {
   "cell_type": "markdown",
   "metadata": {
    "nbpresent": {
     "id": "303bcbc1-fb7d-41a5-9d65-e599645bcca6"
    }
   },
   "source": [
    "On the graph we do a _random walk_ - probabilty to follow any link is equal:"
   ]
  },
  {
   "cell_type": "code",
   "execution_count": 3,
   "metadata": {
    "collapsed": false,
    "nbpresent": {
     "id": "4ca78374-00d1-4c7a-af63-28daa0b57223"
    }
   },
   "outputs": [
    {
     "data": {
      "text/plain": [
       "6×6 Array{Float64,2}:\n",
       " 0.0  0.0  0.0       1.0  0.0  1.0\n",
       " 0.5  0.0  0.0       0.0  0.0  0.0\n",
       " 0.0  0.5  0.0       0.0  0.0  0.0\n",
       " 0.0  0.5  0.333333  0.0  0.0  0.0\n",
       " 0.0  0.0  0.333333  0.0  0.0  0.0\n",
       " 0.5  0.0  0.333333  0.0  0.0  0.0"
      ]
     },
     "execution_count": 3,
     "metadata": {},
     "output_type": "execute_result"
    }
   ],
   "source": [
    "c=sum(G,1)\n",
    "n=size(G,1)\n",
    "for j=1:n\n",
    "    if c[j]>0\n",
    "        G[:,j]=G[:,j]/c[j]\n",
    "    end\n",
    "end\n",
    "full(G)"
   ]
  },
  {
   "cell_type": "markdown",
   "metadata": {
    "nbpresent": {
     "id": "c82e5cb0-d85d-41df-abdf-5ae6bdab7ccd"
    }
   },
   "source": [
    "* $p$: probability to follow link\n",
    "* $1-p$: probability to visit some other page (at random)\n",
    "* google uses $p=0.85$ ?"
   ]
  },
  {
   "cell_type": "code",
   "execution_count": 4,
   "metadata": {
    "collapsed": false,
    "nbpresent": {
     "id": "799e14b7-f4a0-4f55-a8f8-fc821ce0fd93"
    }
   },
   "outputs": [
    {
     "data": {
      "text/plain": [
       "6×6 Array{Float64,2}:\n",
       " 0.025  0.025  0.025     0.875  0.166667  0.875\n",
       " 0.45   0.025  0.025     0.025  0.166667  0.025\n",
       " 0.025  0.45   0.025     0.025  0.166667  0.025\n",
       " 0.025  0.45   0.308333  0.025  0.166667  0.025\n",
       " 0.025  0.025  0.308333  0.025  0.166667  0.025\n",
       " 0.45   0.025  0.308333  0.025  0.166667  0.025"
      ]
     },
     "execution_count": 4,
     "metadata": {},
     "output_type": "execute_result"
    }
   ],
   "source": [
    "p=0.85\n",
    "z = ((1-p)*(c.!=0) + (c.==0))/n\n",
    "A=p*G+ones(n)*z"
   ]
  },
  {
   "cell_type": "markdown",
   "metadata": {
    "nbpresent": {
     "id": "96822e37-d2f5-4503-9655-e6040556107e"
    }
   },
   "source": [
    "## Idea\n",
    "\n",
    "Let us start a random walk from the vector $x_0=\\begin{bmatrix} 1/n \\\\ 1/n \\\\ \\vdots \\\\ 1/n \\end{bmatrix}$.\n",
    "\n",
    "The subsequent vectors are  \n",
    "\n",
    "$$\n",
    "x_1=A\\cdot x_0 \\\\\n",
    "x_2=A\\cdot x_1 \\\\\n",
    "x_3=A\\cdot x_2\\\\\n",
    "\\vdots\n",
    "$$\n",
    "\n",
    "When the vector __stabilizes__:\n",
    "\n",
    "$$\n",
    "A\\cdot x\\approx x,\n",
    "$$\n",
    "\n",
    "then $x[i]$ is the __rank of the page__ $i$."
   ]
  },
  {
   "cell_type": "code",
   "execution_count": 5,
   "metadata": {
    "collapsed": false,
    "nbpresent": {
     "id": "93956a24-6b26-4e59-9921-05164b0826a6"
    }
   },
   "outputs": [
    {
     "data": {
      "text/plain": [
       "myPageRank (generic function with 1 method)"
      ]
     },
     "execution_count": 5,
     "metadata": {},
     "output_type": "execute_result"
    }
   ],
   "source": [
    "function myPageRank(G::SparseMatrixCSC{Float64,Int64},steps::Int)\n",
    "    p=0.85\n",
    "    c=sum(G,1)/p\n",
    "    n=size(G,1)\n",
    "    for i=1:n\n",
    "        G.nzval[G.colptr[i]:G.colptr[i+1]-1]./=c[i]\n",
    "    end\n",
    "    e=ones(n)\n",
    "    x=e/n\n",
    "    z = vec(((1-p)*(c.!=0) + (c.==0))/n)\n",
    "    for j=1:steps\n",
    "        x=G*x+(z⋅x)\n",
    "    end\n",
    "    x/norm(x,1)\n",
    "end"
   ]
  },
  {
   "cell_type": "code",
   "execution_count": 7,
   "metadata": {
    "collapsed": false,
    "nbpresent": {
     "id": "f0505634-c456-47dd-a4fe-0a6a86388b81"
    }
   },
   "outputs": [
    {
     "data": {
      "text/plain": [
       "6-element Array{Float64,1}:\n",
       " 0.321024 \n",
       " 0.170538 \n",
       " 0.106596 \n",
       " 0.136795 \n",
       " 0.0643103\n",
       " 0.200737 "
      ]
     },
     "execution_count": 7,
     "metadata": {},
     "output_type": "execute_result"
    }
   ],
   "source": [
    "myPageRank(G,15)"
   ]
  },
  {
   "cell_type": "code",
   "execution_count": 6,
   "metadata": {
    "collapsed": false
   },
   "outputs": [
    {
     "data": {
      "text/plain": [
       "5-element Array{Symbol,1}:\n",
       " :m     \n",
       " :n     \n",
       " :colptr\n",
       " :rowval\n",
       " :nzval "
      ]
     },
     "execution_count": 6,
     "metadata": {},
     "output_type": "execute_result"
    }
   ],
   "source": [
    "fieldnames(G)"
   ]
  },
  {
   "cell_type": "code",
   "execution_count": 7,
   "metadata": {
    "collapsed": false
   },
   "outputs": [
    {
     "data": {
      "text/plain": [
       "6×6 sparse matrix with 9 Float64 nonzero entries:\n",
       "\t[2, 1]  =  0.5\n",
       "\t[6, 1]  =  0.5\n",
       "\t[3, 2]  =  0.5\n",
       "\t[4, 2]  =  0.5\n",
       "\t[4, 3]  =  0.333333\n",
       "\t[5, 3]  =  0.333333\n",
       "\t[6, 3]  =  0.333333\n",
       "\t[1, 4]  =  1.0\n",
       "\t[1, 6]  =  1.0"
      ]
     },
     "execution_count": 7,
     "metadata": {},
     "output_type": "execute_result"
    }
   ],
   "source": [
    "G"
   ]
  },
  {
   "cell_type": "code",
   "execution_count": 8,
   "metadata": {
    "collapsed": false
   },
   "outputs": [
    {
     "data": {
      "text/plain": [
       "7-element Array{Int64,1}:\n",
       "  1\n",
       "  3\n",
       "  5\n",
       "  8\n",
       "  9\n",
       "  9\n",
       " 10"
      ]
     },
     "execution_count": 8,
     "metadata": {},
     "output_type": "execute_result"
    }
   ],
   "source": [
    "G.colptr"
   ]
  },
  {
   "cell_type": "markdown",
   "metadata": {
    "nbpresent": {
     "id": "c9bf7ecc-5c51-4cb3-9747-dd4bda11560f"
    }
   },
   "source": [
    "### [Stanford web graph](http://snap.stanford.edu/data/web-Stanford.html)\n",
    "\n",
    "This is somewhat larger test problem."
   ]
  },
  {
   "cell_type": "code",
   "execution_count": 9,
   "metadata": {
    "collapsed": false,
    "nbpresent": {
     "id": "637112da-d944-4bce-a751-e8a95f9014a2"
    }
   },
   "outputs": [
    {
     "data": {
      "text/plain": [
       "2312497×2 Array{Int64,2}:\n",
       "      1    6548\n",
       "      1   15409\n",
       "   6548   57031\n",
       "  15409   13102\n",
       "      2   17794\n",
       "      2   25202\n",
       "      2   53625\n",
       "      2   54582\n",
       "      2   64930\n",
       "      2   73764\n",
       "      2   84477\n",
       "      2   98628\n",
       "      2  100193\n",
       "      ⋮        \n",
       " 281849  165189\n",
       " 281849  177014\n",
       " 281849  226290\n",
       " 281849  243180\n",
       " 281849  244195\n",
       " 281849  247252\n",
       " 281849  281568\n",
       " 281865  186750\n",
       " 281865  225872\n",
       " 281888  114388\n",
       " 281888  192969\n",
       " 281888  233184"
      ]
     },
     "execution_count": 9,
     "metadata": {},
     "output_type": "execute_result"
    }
   ],
   "source": [
    "W=readdlm(\"web-Stanford.txt\",Int)"
   ]
  },
  {
   "cell_type": "code",
   "execution_count": 10,
   "metadata": {
    "collapsed": false,
    "nbpresent": {
     "id": "cd7c4a66-da5a-4f42-8cd0-f4cff46120df"
    }
   },
   "outputs": [
    {
     "data": {
      "text/plain": [
       "281903×281903 sparse matrix with 2312497 Float64 nonzero entries:\n",
       "\t[6548  ,      1]  =  1.0\n",
       "\t[15409 ,      1]  =  1.0\n",
       "\t[17794 ,      2]  =  1.0\n",
       "\t[25202 ,      2]  =  1.0\n",
       "\t[53625 ,      2]  =  1.0\n",
       "\t[54582 ,      2]  =  1.0\n",
       "\t[64930 ,      2]  =  1.0\n",
       "\t[73764 ,      2]  =  1.0\n",
       "\t[84477 ,      2]  =  1.0\n",
       "\t[98628 ,      2]  =  1.0\n",
       "\t⋮\n",
       "\t[168703, 281902]  =  1.0\n",
       "\t[180771, 281902]  =  1.0\n",
       "\t[266504, 281902]  =  1.0\n",
       "\t[275189, 281902]  =  1.0\n",
       "\t[44103 , 281903]  =  1.0\n",
       "\t[56088 , 281903]  =  1.0\n",
       "\t[90591 , 281903]  =  1.0\n",
       "\t[94440 , 281903]  =  1.0\n",
       "\t[216688, 281903]  =  1.0\n",
       "\t[256539, 281903]  =  1.0\n",
       "\t[260899, 281903]  =  1.0"
      ]
     },
     "execution_count": 10,
     "metadata": {},
     "output_type": "execute_result"
    }
   ],
   "source": [
    "S=sparse(W[:,2],W[:,1],1.0)"
   ]
  },
  {
   "cell_type": "code",
   "execution_count": 13,
   "metadata": {
    "collapsed": false,
    "nbpresent": {
     "id": "b5352330-ab91-41fe-824c-e5ccc2ace595"
    }
   },
   "outputs": [
    {
     "name": "stdout",
     "output_type": "stream",
     "text": [
      "  1.663106 seconds (846.56 k allocations: 542.589 MB, 4.09% gc time)\n"
     ]
    }
   ],
   "source": [
    "@time x100=myPageRank(S,100);"
   ]
  },
  {
   "cell_type": "code",
   "execution_count": 14,
   "metadata": {
    "collapsed": false,
    "nbpresent": {
     "id": "cc0d1a66-a69a-478f-8db8-e6a850725631"
    }
   },
   "outputs": [
    {
     "data": {
      "text/plain": [
       "2.3491380959929403e-7"
      ]
     },
     "execution_count": 14,
     "metadata": {},
     "output_type": "execute_result"
    }
   ],
   "source": [
    "x101=myPageRank(S,101)\n",
    "maxabs((x100-x101)./x100)"
   ]
  },
  {
   "cell_type": "code",
   "execution_count": 15,
   "metadata": {
    "collapsed": false,
    "nbpresent": {
     "id": "7caf1ddf-e679-41b6-83ae-75260f278dac"
    }
   },
   "outputs": [
    {
     "data": {
      "text/plain": [
       "([89073,226411,241454,262860,134832,234704,136821,68889,105607,69358  …  281647,281700,281715,281728,281778,281785,281813,281849,281865,281888],[0.0113029,0.00926783,0.00829727,0.00302312,0.00300128,0.00257173,0.00245371,0.00243079,0.00239105,0.00236401  …  5.33369e-7,5.33369e-7,5.33369e-7,5.33369e-7,5.33369e-7,5.33369e-7,5.33369e-7,5.33369e-7,5.33369e-7,5.33369e-7])"
      ]
     },
     "execution_count": 15,
     "metadata": {},
     "output_type": "execute_result"
    }
   ],
   "source": [
    "sortperm(x100,rev=true), sort(x101,rev=true)"
   ]
  },
  {
   "cell_type": "markdown",
   "metadata": {
    "nbpresent": {
     "id": "8e161bdf-c2f4-457b-aa37-87cb7b94a62a"
    }
   },
   "source": [
    "## Age of Recommendation\n",
    "\n",
    "NetFlix, Amazon Prime, PickBox, ... - on-line streaming of movies and shows\n",
    "\n",
    "[NetFlix](https://www.netflix.com/hr/)\n",
    "\n",
    " * [80 million users](https://www.statista.com/statistics/250934/quarterly-number-of-netflix-streaming-subscribers-worldwide/), 5,000 movies\n",
    " * [NetFlix Prize](http://www.kdd.org/kdd2014/tutorials/KDD%20-%20The%20Recommender%20Problem%20Revisited.pdf)\n",
    " "
   ]
  },
  {
   "cell_type": "markdown",
   "metadata": {
    "nbpresent": {
     "id": "5bd4499f-d408-4ef5-873c-d2af140a3863"
    }
   },
   "source": [
    "## Mathematics\n",
    "\n",
    "Netflix Recommendation Engine is based on approximation of a (large and sparse) matrix\n",
    "```\n",
    "M = Users x Movies \n",
    "```\n",
    "using (approximation of) singular value decomposition (SVD): \n",
    "\n",
    "* [IncrementalSVD.jl](https://github.com/aaw/IncrementalSVD.jl)\n",
    "* [A parallel recommendation engine in Julia](http://juliacomputing.com/blog/2016/04/22/a-parallel-recommendation-engine-in-julia.html)"
   ]
  },
  {
   "cell_type": "markdown",
   "metadata": {
    "nbpresent": {
     "id": "95e8dd12-5e61-4c6e-903e-21d9933c61d6"
    }
   },
   "source": [
    "## Similarities\n",
    "\n",
    "Similarity of users $i$ and $k$:\n",
    "$$\n",
    "\\cos \\angle (i,k)=\\frac{(M[i,:],M[k,:])}{\\|M[i,:]\\| \\cdot \\|M[k,:]\\|}\n",
    "$$\n",
    "Similarity of movies $i$ and $k$:\n",
    "$$\n",
    "\\cos \\angle (i,k)=\\frac{(M[:,i],M[:,k)}{\\|M[:,i]\\| \\cdot \\|M[:,k]\\|}\n",
    "$$"
   ]
  },
  {
   "cell_type": "markdown",
   "metadata": {
    "nbpresent": {
     "id": "310609df-23c9-43d4-be57-c9e837921be5"
    }
   },
   "source": [
    "## Search\n",
    "\n",
    "Row $M[u,:]$ - what user $u$ thinks about movies\n",
    "\n",
    "Column $M[:,m]$ - what users think about movie $m$\n",
    "\n",
    "Element $M[u,m]$ - what user $u$ thinks about movie $m$."
   ]
  },
  {
   "cell_type": "markdown",
   "metadata": {
    "nbpresent": {
     "id": "0dc62bf7-111e-4a65-aa8f-d581ccc78705"
    }
   },
   "source": [
    "## Problem\n",
    "\n",
    "Matrix $M$ is sparse so we do not have enough information. For example, \n",
    "\n",
    "```\n",
    "900188 marks / ( 6040 users x 3706 movies ) = 4%\n",
    "```"
   ]
  },
  {
   "cell_type": "markdown",
   "metadata": {
    "nbpresent": {
     "id": "4944f869-4080-4947-a6ad-a08c3f2dc6b8"
    }
   },
   "source": [
    "## Approximation\n",
    "\n",
    "SVD decomposition $M=U\\Sigma V^T$ is [approximated by a low-rank matrix](https://en.wikipedia.org/wiki/Low-rank_approximation) (for example. $rank=25$)\n",
    "\n",
    "![SVD decomposition](svd.png)\n",
    "\n",
    "The approximation matrix is __full__ and __gives enough good information__.\n",
    "\n",
    "Prize for efficient approximation algorithm was $\\$$ 1.000.000.  "
   ]
  },
  {
   "cell_type": "code",
   "execution_count": 16,
   "metadata": {
    "collapsed": false,
    "nbpresent": {
     "id": "b668eb1e-a6ab-4765-b3cc-d146fd9af9b6"
    }
   },
   "outputs": [],
   "source": [
    "# Pkg.clone(\"git://github.com/aaw/IncrementalSVD.jl.git\")"
   ]
  },
  {
   "cell_type": "code",
   "execution_count": 17,
   "metadata": {
    "collapsed": false,
    "nbpresent": {
     "id": "bccc43b9-69b2-440e-a866-7deca5e28515"
    }
   },
   "outputs": [
    {
     "name": "stderr",
     "output_type": "stream",
     "text": [
      "\u001b[1m\u001b[34mINFO: Recompiling stale cache file C:\\Users\\Ivan\\.julia\\lib\\v0.5\\ProgressMeter.ji for module ProgressMeter.\n",
      "\u001b[0m"
     ]
    }
   ],
   "source": [
    "using IncrementalSVD"
   ]
  },
  {
   "cell_type": "code",
   "execution_count": 18,
   "metadata": {
    "collapsed": false,
    "nbpresent": {
     "id": "49fe305c-c879-4aa3-a255-53b3301f55ff"
    }
   },
   "outputs": [
    {
     "name": "stdout",
     "output_type": "stream",
     "text": [
      "                IncrementalSVD     56 KB     Module\n",
      "                        Rating    136 bytes  DataType\n",
      "                     RatingSet    148 bytes  DataType\n",
      "                  RatingsModel    160 bytes  DataType\n",
      "             cosine_similarity      0 bytes  IncrementalSVD.#cosine_similarity\n",
      "          get_predicted_rating      0 bytes  IncrementalSVD.#get_predicted_rati…\n",
      "                 item_features      0 bytes  IncrementalSVD.#item_features\n",
      "                   item_search      0 bytes  IncrementalSVD.#item_search\n",
      "                         items      0 bytes  IncrementalSVD.#items\n",
      "    load_book_crossing_dataset      0 bytes  IncrementalSVD.#load_book_crossing…\n",
      "  load_large_movielens_dataset      0 bytes  IncrementalSVD.#load_large_moviele…\n",
      "  load_small_movielens_dataset      0 bytes  IncrementalSVD.#load_small_moviele…\n",
      "                          rmse      0 bytes  IncrementalSVD.#rmse\n",
      "                 similar_items      0 bytes  IncrementalSVD.#similar_items\n",
      "                 similar_users      0 bytes  IncrementalSVD.#similar_users\n",
      "                 split_ratings      0 bytes  IncrementalSVD.#split_ratings\n",
      "                         train      0 bytes  IncrementalSVD.#train\n",
      "               truncate_model!      0 bytes  IncrementalSVD.#truncate_model!\n",
      "                 user_features      0 bytes  IncrementalSVD.#user_features\n",
      "                  user_ratings      0 bytes  IncrementalSVD.#user_ratings\n",
      "                         users      0 bytes  IncrementalSVD.#users\n"
     ]
    }
   ],
   "source": [
    "whos(IncrementalSVD)"
   ]
  },
  {
   "cell_type": "code",
   "execution_count": 19,
   "metadata": {
    "collapsed": false,
    "nbpresent": {
     "id": "fe34b160-0094-4f16-be24-7dce3df0d876"
    }
   },
   "outputs": [
    {
     "name": "stdout",
     "output_type": "stream",
     "text": [
      "Reusing existing downloaded files...\n"
     ]
    },
    {
     "name": "stderr",
     "output_type": "stream",
     "text": [
      "Loading ratings 100% Time: 0:00:04\n"
     ]
    }
   ],
   "source": [
    "rating_set = load_small_movielens_dataset();"
   ]
  },
  {
   "cell_type": "code",
   "execution_count": 20,
   "metadata": {
    "collapsed": false,
    "nbpresent": {
     "id": "0a04c7fc-c67f-4b4b-aa03-32900cb5651e"
    }
   },
   "outputs": [
    {
     "data": {
      "text/plain": [
       "4-element Array{Symbol,1}:\n",
       " :training_set \n",
       " :test_set     \n",
       " :user_to_index\n",
       " :item_to_index"
      ]
     },
     "execution_count": 20,
     "metadata": {},
     "output_type": "execute_result"
    }
   ],
   "source": [
    "fieldnames(rating_set)"
   ]
  },
  {
   "cell_type": "code",
   "execution_count": 21,
   "metadata": {
    "collapsed": false,
    "nbpresent": {
     "id": "c4456c31-299a-4f3a-9ad1-b9544ce009bd"
    }
   },
   "outputs": [
    {
     "data": {
      "text/plain": [
       "900188-element Array{IncrementalSVD.Rating,1}:\n",
       " IncrementalSVD.Rating(284,187,3.0)  \n",
       " IncrementalSVD.Rating(293,259,5.0)  \n",
       " IncrementalSVD.Rating(4277,519,4.0) \n",
       " IncrementalSVD.Rating(1939,727,5.0) \n",
       " IncrementalSVD.Rating(778,19,5.0)   \n",
       " IncrementalSVD.Rating(1297,673,5.0) \n",
       " IncrementalSVD.Rating(4460,1136,5.0)\n",
       " IncrementalSVD.Rating(1137,1406,3.0)\n",
       " IncrementalSVD.Rating(5077,1299,4.0)\n",
       " IncrementalSVD.Rating(4948,1107,4.0)\n",
       " IncrementalSVD.Rating(3430,862,4.0) \n",
       " IncrementalSVD.Rating(3687,547,2.0) \n",
       " IncrementalSVD.Rating(4305,344,4.0) \n",
       " ⋮                                   \n",
       " IncrementalSVD.Rating(3011,768,4.0) \n",
       " IncrementalSVD.Rating(5031,530,5.0) \n",
       " IncrementalSVD.Rating(4285,1722,1.0)\n",
       " IncrementalSVD.Rating(825,150,5.0)  \n",
       " IncrementalSVD.Rating(1097,1691,2.0)\n",
       " IncrementalSVD.Rating(686,190,3.0)  \n",
       " IncrementalSVD.Rating(3481,1285,5.0)\n",
       " IncrementalSVD.Rating(3729,1417,4.0)\n",
       " IncrementalSVD.Rating(2700,259,5.0) \n",
       " IncrementalSVD.Rating(5172,1857,2.0)\n",
       " IncrementalSVD.Rating(3551,150,4.0) \n",
       " IncrementalSVD.Rating(5831,630,5.0) "
      ]
     },
     "execution_count": 21,
     "metadata": {},
     "output_type": "execute_result"
    }
   ],
   "source": [
    "# The format is (user, movie, mark)\n",
    "rating_set.training_set"
   ]
  },
  {
   "cell_type": "code",
   "execution_count": 22,
   "metadata": {
    "collapsed": false,
    "nbpresent": {
     "id": "227f2334-6846-4dda-a3f7-a3672a820ea7"
    }
   },
   "outputs": [
    {
     "data": {
      "text/plain": [
       "100021-element Array{IncrementalSVD.Rating,1}:\n",
       " IncrementalSVD.Rating(533,1096,1.0) \n",
       " IncrementalSVD.Rating(1882,353,2.0) \n",
       " IncrementalSVD.Rating(1466,1675,3.0)\n",
       " IncrementalSVD.Rating(2304,739,4.0) \n",
       " IncrementalSVD.Rating(4457,49,5.0)  \n",
       " IncrementalSVD.Rating(1752,1252,4.0)\n",
       " IncrementalSVD.Rating(5627,215,3.0) \n",
       " IncrementalSVD.Rating(1698,316,5.0) \n",
       " IncrementalSVD.Rating(4322,862,5.0) \n",
       " IncrementalSVD.Rating(1224,259,5.0) \n",
       " IncrementalSVD.Rating(3823,510,4.0) \n",
       " IncrementalSVD.Rating(2529,749,3.0) \n",
       " IncrementalSVD.Rating(1465,215,4.0) \n",
       " ⋮                                   \n",
       " IncrementalSVD.Rating(3205,1191,3.0)\n",
       " IncrementalSVD.Rating(5019,2103,3.0)\n",
       " IncrementalSVD.Rating(4508,313,3.0) \n",
       " IncrementalSVD.Rating(3940,2476,4.0)\n",
       " IncrementalSVD.Rating(2181,879,2.0) \n",
       " IncrementalSVD.Rating(4547,353,3.0) \n",
       " IncrementalSVD.Rating(4553,653,4.0) \n",
       " IncrementalSVD.Rating(5841,332,3.0) \n",
       " IncrementalSVD.Rating(2223,861,1.0) \n",
       " IncrementalSVD.Rating(5787,410,3.0) \n",
       " IncrementalSVD.Rating(3057,54,5.0)  \n",
       " IncrementalSVD.Rating(2016,69,5.0)  "
      ]
     },
     "execution_count": 22,
     "metadata": {},
     "output_type": "execute_result"
    }
   ],
   "source": [
    "rating_set.test_set"
   ]
  },
  {
   "cell_type": "code",
   "execution_count": 23,
   "metadata": {
    "collapsed": false,
    "nbpresent": {
     "id": "eda35ea4-4078-4458-b92d-6c616d4809bf"
    }
   },
   "outputs": [
    {
     "data": {
      "text/plain": [
       "Dict{AbstractString,Int32} with 6040 entries:\n",
       "  \"4304\" => 4304\n",
       "  \"3935\" => 3935\n",
       "  \"5422\" => 5422\n",
       "  \"5734\" => 5734\n",
       "  \"2243\" => 2243\n",
       "  \"1881\" => 1881\n",
       "  \"5425\" => 5425\n",
       "  \"4209\" => 4209\n",
       "  \"1907\" => 1907\n",
       "  \"2923\" => 2923\n",
       "  \"599\"  => 599\n",
       "  \"2491\" => 2491\n",
       "  \"5944\" => 5944\n",
       "  \"228\"  => 228\n",
       "  \"2590\" => 2590\n",
       "  \"3697\" => 3697\n",
       "  \"5031\" => 5031\n",
       "  \"2579\" => 2579\n",
       "  \"5551\" => 5551\n",
       "  \"1880\" => 1880\n",
       "  \"2562\" => 2562\n",
       "  \"3215\" => 3215\n",
       "  \"3991\" => 3991\n",
       "  \"4652\" => 4652\n",
       "  \"4088\" => 4088\n",
       "  ⋮      => ⋮"
      ]
     },
     "execution_count": 23,
     "metadata": {},
     "output_type": "execute_result"
    }
   ],
   "source": [
    "# Users and their IDs\n",
    "rating_set.user_to_index"
   ]
  },
  {
   "cell_type": "code",
   "execution_count": 24,
   "metadata": {
    "collapsed": false,
    "nbpresent": {
     "id": "b617e472-3cbb-4dac-b889-0ede4baa5299"
    },
    "scrolled": true
   },
   "outputs": [
    {
     "data": {
      "text/plain": [
       "Dict{AbstractString,Int32} with 3706 entries:\n",
       "  \"Fried Green Tomatoes (1991)\"                                       => 594\n",
       "  \"Milk Money (1994)\"                                                 => 1361\n",
       "  \"From Russia with Love (1963)\"                                      => 729\n",
       "  \"House II: The Second Story (1987)\"                                 => 1247\n",
       "  \"Held Up (2000)\"                                                    => 3549\n",
       "  \"Missing in Action 2: The Beginning (1985)\"                         => 2177\n",
       "  \"Murder, My Sweet (1944)\"                                           => 996\n",
       "  \"Hidden, The (1987)\"                                                => 981\n",
       "  \"Cable Guy, The (1996)\"                                             => 669\n",
       "  \"Big Kahuna, The (2000)\"                                            => 893\n",
       "  \"Addams Family Values (1993)\"                                       => 1857\n",
       "  \"Farinelli: il castrato (1994)\"                                     => 1945\n",
       "  \"Education of Little Tree, The (1997)\"                              => 2759\n",
       "  \"In God's Hands (1998)\"                                             => 2814\n",
       "  \"Last Man Standing (1996)\"                                          => 1840\n",
       "  \"Sixth Sense, The (1999)\"                                           => 39\n",
       "  \"Star Maps (1997)\"                                                  => 2670\n",
       "  \"Girl, Interrupted (1999)\"                                          => 32\n",
       "  \"Stand by Me (1986)\"                                                => 85\n",
       "  \"Rob Roy (1995)\"                                                    => 449\n",
       "  \"Caligula (1980)\"                                                   => 2532\n",
       "  \"Flirting With Disaster (1996)\"                                     => 1290\n",
       "  \"Hook (1991)\"                                                       => 657\n",
       "  \"Institute Benjamenta, or This Dream People Call Human Life (1995)\" => 3397\n",
       "  \"Way We Were, The (1973)\"                                           => 762\n",
       "  ⋮                                                                   => ⋮"
      ]
     },
     "execution_count": 24,
     "metadata": {},
     "output_type": "execute_result"
    }
   ],
   "source": [
    "# Movies and their IDs\n",
    "rating_set.item_to_index"
   ]
  },
  {
   "cell_type": "code",
   "execution_count": 25,
   "metadata": {
    "collapsed": false,
    "nbpresent": {
     "id": "2de54f0f-448a-431f-a6b4-fabdafe1c663"
    },
    "scrolled": true
   },
   "outputs": [
    {
     "data": {
      "text/plain": [
       "Base.KeyIterator for a Dict{AbstractString,Int32} with 3706 entries. Keys:\n",
       "  \"Fried Green Tomatoes (1991)\"\n",
       "  \"Milk Money (1994)\"\n",
       "  \"From Russia with Love (1963)\"\n",
       "  \"House II: The Second Story (1987)\"\n",
       "  \"Held Up (2000)\"\n",
       "  \"Missing in Action 2: The Beginning (1985)\"\n",
       "  \"Murder, My Sweet (1944)\"\n",
       "  \"Hidden, The (1987)\"\n",
       "  \"Cable Guy, The (1996)\"\n",
       "  \"Big Kahuna, The (2000)\"\n",
       "  \"Addams Family Values (1993)\"\n",
       "  \"Farinelli: il castrato (1994)\"\n",
       "  \"Education of Little Tree, The (1997)\"\n",
       "  \"In God's Hands (1998)\"\n",
       "  \"Last Man Standing (1996)\"\n",
       "  \"Sixth Sense, The (1999)\"\n",
       "  \"Star Maps (1997)\"\n",
       "  \"Girl, Interrupted (1999)\"\n",
       "  \"Stand by Me (1986)\"\n",
       "  \"Rob Roy (1995)\"\n",
       "  \"Caligula (1980)\"\n",
       "  \"Flirting With Disaster (1996)\"\n",
       "  \"Hook (1991)\"\n",
       "  \"Institute Benjamenta, or This Dream People Call Human Life (1995)\"\n",
       "  ⋮"
      ]
     },
     "execution_count": 25,
     "metadata": {},
     "output_type": "execute_result"
    }
   ],
   "source": [
    "# We can extract the titles ...\n",
    "keys(rating_set.item_to_index)"
   ]
  },
  {
   "cell_type": "code",
   "execution_count": 26,
   "metadata": {
    "collapsed": false,
    "nbpresent": {
     "id": "78d27a10-f1f4-4d6e-9d23-e5e734f61466"
    }
   },
   "outputs": [
    {
     "data": {
      "text/plain": [
       "Base.ValueIterator for a Dict{AbstractString,Int32} with 3706 entries. Values:\n",
       "  594\n",
       "  1361\n",
       "  729\n",
       "  1247\n",
       "  3549\n",
       "  2177\n",
       "  996\n",
       "  981\n",
       "  669\n",
       "  893\n",
       "  1857\n",
       "  1945\n",
       "  2759\n",
       "  2814\n",
       "  1840\n",
       "  39\n",
       "  2670\n",
       "  32\n",
       "  85\n",
       "  449\n",
       "  2532\n",
       "  1290\n",
       "  657\n",
       "  3397\n",
       "  ⋮"
      ]
     },
     "execution_count": 26,
     "metadata": {},
     "output_type": "execute_result"
    }
   ],
   "source": [
    "# or codes\n",
    "values(rating_set.item_to_index)"
   ]
  },
  {
   "cell_type": "code",
   "execution_count": 27,
   "metadata": {
    "collapsed": false,
    "nbpresent": {
     "id": "d4c4b874-0934-45e3-bd91-ccb28e97ef46"
    }
   },
   "outputs": [
    {
     "data": {
      "text/plain": [
       "93-element Array{Tuple{SubString{String},Float32},1}:\n",
       " (\"Brazil (1985)\",5.0)                         \n",
       " (\"Babe (1995)\",5.0)                           \n",
       " (\"Gattaca (1997)\",5.0)                        \n",
       " (\"Defending Your Life (1991)\",5.0)            \n",
       " (\"Brothers McMullen, The (1995)\",5.0)         \n",
       " (\"Caddyshack (1980)\",5.0)                     \n",
       " (\"Princess Bride, The (1987)\",5.0)            \n",
       " (\"Rock, The (1996)\",5.0)                      \n",
       " (\"Time Bandits (1981)\",5.0)                   \n",
       " (\"When Harry Met Sally... (1989)\",5.0)        \n",
       " (\"Twelve Monkeys (1995)\",5.0)                 \n",
       " (\"Groundhog Day (1993)\",5.0)                  \n",
       " (\"One Flew Over the Cuckoo's Nest (1975)\",5.0)\n",
       " ⋮                                             \n",
       " (\"Twister (1996)\",2.0)                        \n",
       " (\"Death Becomes Her (1992)\",2.0)              \n",
       " (\"Total Recall (1990)\",2.0)                   \n",
       " (\"Young Sherlock Holmes (1985)\",2.0)          \n",
       " (\"Forrest Gump (1994)\",2.0)                   \n",
       " (\"Dirty Dancing (1987)\",1.0)                  \n",
       " (\"Sudden Death (1995)\",1.0)                   \n",
       " (\"Jewel of the Nile, The (1985)\",1.0)         \n",
       " (\"Grease 2 (1982)\",1.0)                       \n",
       " (\"Mission: Impossible (1996)\",1.0)            \n",
       " (\"Blue Lagoon, The (1980)\",1.0)               \n",
       " (\"Sphere (1998)\",1.0)                         "
      ]
     },
     "execution_count": 27,
     "metadata": {},
     "output_type": "execute_result"
    }
   ],
   "source": [
    "# Which movies did the user \"3000\" grade?\n",
    "user_ratings(rating_set, \"3000\")"
   ]
  },
  {
   "cell_type": "code",
   "execution_count": 28,
   "metadata": {
    "collapsed": false,
    "nbpresent": {
     "id": "d3cf851c-af8c-4b79-8f2f-7d01530a4516"
    }
   },
   "outputs": [
    {
     "name": "stdout",
     "output_type": "stream",
     "text": [
      "Sling Blade (1996)\n",
      "Blade (1998)\n",
      "Blade Runner (1982)\n",
      "Some Folks Call It a Sling Blade (1993)\n"
     ]
    },
    {
     "ename": "LoadError",
     "evalue": "UnicodeError: invalid character index",
     "output_type": "error",
     "traceback": [
      "UnicodeError: invalid character index",
      "",
      " in slow_utf8_next(::Array{UInt8,1}, ::UInt8, ::Int64) at .\\strings\\string.jl:67",
      " in next at .\\strings\\string.jl:96 [inlined]",
      " in next(::SubString{String}, ::Int64) at .\\strings\\types.jl:51",
      " in search(::SubString{String}, ::Char, ::Int64) at .\\strings\\search.jl:12",
      " in _searchindex(::SubString{String}, ::String, ::Int64) at .\\strings\\search.jl:31",
      " in contains(::SubString{String}, ::String) at .\\strings\\search.jl:310",
      " in macro expansion; at .\\In[28]:3 [inlined]",
      " in anonymous at .\\<missing>:?"
     ]
    }
   ],
   "source": [
    "# Let us find the exact title and code for \"Blade runner\"\n",
    "for k in keys(rating_set.item_to_index)\n",
    "    if contains(k,\"Blade\")\n",
    "        println(k)\n",
    "    end\n",
    "end"
   ]
  },
  {
   "cell_type": "code",
   "execution_count": 29,
   "metadata": {
    "collapsed": false,
    "nbpresent": {
     "id": "f9f29054-8d7f-4779-b29c-aa3834e2de8f"
    }
   },
   "outputs": [
    {
     "data": {
      "text/plain": [
       "744"
      ]
     },
     "execution_count": 29,
     "metadata": {},
     "output_type": "execute_result"
    }
   ],
   "source": [
    "get(rating_set.item_to_index,\"Blade Runner (1982)\",0)"
   ]
  },
  {
   "cell_type": "code",
   "execution_count": 30,
   "metadata": {
    "collapsed": false,
    "nbpresent": {
     "id": "1251af52-47ea-4d0f-a8e8-586a1f5517af"
    }
   },
   "outputs": [
    {
     "name": "stdout",
     "output_type": "stream",
     "text": [
      "(\"Blade Runner (1982)\",4.0f0)\n"
     ]
    }
   ],
   "source": [
    "# Did the user \"3000\" grade \"Blade Runner\" ?\n",
    "for k in user_ratings(rating_set,\"3000\")\n",
    "    if contains(k[1],\"Blade\")\n",
    "        println(k)\n",
    "    end\n",
    "end"
   ]
  },
  {
   "cell_type": "code",
   "execution_count": 31,
   "metadata": {
    "collapsed": false,
    "nbpresent": {
     "id": "97a60042-8c73-46bf-9f9e-66281228aecc"
    }
   },
   "outputs": [],
   "source": [
    "# Did the user \"3000\" grade \"Citizen Kane\" ?\n",
    "for k in user_ratings(rating_set,\"3000\")\n",
    "    if contains(k[1],\"Citizen\")\n",
    "        println(k)\n",
    "    end\n",
    "end"
   ]
  },
  {
   "cell_type": "code",
   "execution_count": 32,
   "metadata": {
    "collapsed": false,
    "nbpresent": {
     "id": "883cf538-0f01-4a0a-bd2f-dc14fed20fd0"
    }
   },
   "outputs": [
    {
     "name": "stderr",
     "output_type": "stream",
     "text": [
      "Computing truncated rank 25 SVD 100% Time: 0:02:34\n"
     ]
    }
   ],
   "source": [
    "# This takes about 2.5 minutes\n",
    "model = train(rating_set, 25);"
   ]
  },
  {
   "cell_type": "code",
   "execution_count": 33,
   "metadata": {
    "collapsed": false,
    "nbpresent": {
     "id": "4ab42861-734c-409a-ab8e-0c065328987f"
    }
   },
   "outputs": [
    {
     "data": {
      "text/plain": [
       "5-element Array{Symbol,1}:\n",
       " :user_to_index\n",
       " :item_to_index\n",
       " :U            \n",
       " :S            \n",
       " :V            "
      ]
     },
     "execution_count": 33,
     "metadata": {},
     "output_type": "execute_result"
    }
   ],
   "source": [
    "fieldnames(model)"
   ]
  },
  {
   "cell_type": "code",
   "execution_count": 34,
   "metadata": {
    "collapsed": false,
    "nbpresent": {
     "id": "9175e158-5a25-4d87-8236-0659ef31f3fd"
    }
   },
   "outputs": [
    {
     "data": {
      "text/plain": [
       "6040×25 Array{Float32,2}:\n",
       " 0.0109136   0.0120564    0.0160181    0.00870599  …   0.0150979   0.013934  \n",
       " 0.0143597   0.0108303    0.00952503   0.0100758       0.00687544  0.0109029 \n",
       " 0.00974189  0.0085419    0.0166435    0.00741452      0.00828278  0.0131701 \n",
       " 0.00680543  0.00669967   0.0151626    0.00418964      0.0127535   0.0109583 \n",
       " 0.0136235   0.0158545    0.00185634   0.0150315       0.00109894  0.0104951 \n",
       " 0.0111683   0.0161907    0.0151677    0.0159385   …   0.00845536  0.013711  \n",
       " 0.00861757  0.00714385   0.0183328    0.00368803      0.0112091   0.0121351 \n",
       " 0.0156814   0.0145832    0.00987226   0.0131809       0.00931192  0.00965002\n",
       " 0.0132787   0.00887208   0.0112577    0.00782999      0.00938066  0.00877462\n",
       " 0.0186663   0.0128824   -0.0105403    0.0250137       0.00610384  0.0111481 \n",
       " 0.012899    0.0111345    0.00903686   0.0106912   …   0.0103233   0.0101588 \n",
       " 0.00637085  0.00855026   0.0146385    0.00626682      0.0130673   0.016565  \n",
       " 0.0127295   0.00995596   0.0122353    0.00771881      0.00623461  0.0155832 \n",
       " ⋮                                                 ⋱                         \n",
       " 0.00610087  0.01286      0.0137335    0.0110584       0.0185306   0.0185751 \n",
       " 0.01428     0.0127326    0.0162898    0.0108844       0.0157068   0.00168016\n",
       " 0.00922806  0.0107179    0.0172707    0.00985773  …   0.00618012  0.0181931 \n",
       " 0.0137649   0.0133614    0.0141112    0.0106964       0.00841447  0.0120795 \n",
       " 0.0105876   0.0105734    0.0171905    0.00655842      0.0120917   0.0144505 \n",
       " 0.00508271  0.0112532    0.011519     0.00943642      0.0141624   0.0179198 \n",
       " 0.0143164   0.00714937   0.00311553   0.0052597      -0.018882    0.0106933 \n",
       " 0.0169845   0.0154942   -0.0232022    0.0237449   …  -0.0149359   0.00826512\n",
       " 0.0153951   0.010728    -0.000545928  0.0124661       0.0038704   0.0201543 \n",
       " 0.00474899  0.0082888    0.011246     0.00737599      0.00952854  0.0227353 \n",
       " 0.0143585   0.016926     0.00825478   0.0107052       0.00334653  0.00973555\n",
       " 0.0157194   0.0168614   -0.0107269    0.0191854       0.00949965  0.00195488"
      ]
     },
     "execution_count": 34,
     "metadata": {},
     "output_type": "execute_result"
    }
   ],
   "source": [
    "model.U"
   ]
  },
  {
   "cell_type": "code",
   "execution_count": 35,
   "metadata": {
    "collapsed": false,
    "nbpresent": {
     "id": "5f5fef72-581c-4f0a-bdec-2aba63597e82"
    }
   },
   "outputs": [
    {
     "data": {
      "text/plain": [
       "25-element Array{Float32,1}:\n",
       " 8190.77 \n",
       " 2149.5  \n",
       "  824.986\n",
       " 1149.77 \n",
       "  847.328\n",
       " 1209.95 \n",
       "  618.968\n",
       "  386.108\n",
       "  352.067\n",
       "  262.127\n",
       "  253.602\n",
       "  338.198\n",
       "  304.998\n",
       "  220.552\n",
       "  309.492\n",
       "  336.532\n",
       "  338.199\n",
       "  188.984\n",
       "  198.19 \n",
       "  194.301\n",
       "  169.297\n",
       "  144.274\n",
       "  134.29 \n",
       "  118.472\n",
       "   96.437"
      ]
     },
     "execution_count": 35,
     "metadata": {},
     "output_type": "execute_result"
    }
   ],
   "source": [
    "model.S"
   ]
  },
  {
   "cell_type": "code",
   "execution_count": 36,
   "metadata": {
    "collapsed": false,
    "nbpresent": {
     "id": "57d586fa-798e-44cb-9e81-f87754188ea8"
    }
   },
   "outputs": [
    {
     "data": {
      "text/plain": [
       "3706×25 Array{Float32,2}:\n",
       " 0.0357048   0.00763865  0.0678461   …   0.000220664   0.00511578 \n",
       " 0.0248908   0.0148034   0.0193536      -0.00587556    0.00740207 \n",
       " 0.0303079   0.0132326   0.0306704       0.00168739    0.00508068 \n",
       " 0.032306    0.0123712   0.0540161       0.0207233    -0.0115093  \n",
       " 0.0313989   0.00772239  0.0559563      -0.000758386   0.00210363 \n",
       " 0.0340505   0.00453273  0.0697202   …  -0.0109375     0.000534025\n",
       " 0.030447    0.0081357   0.0296927       0.00599335    0.0028845  \n",
       " 0.0332151   0.00420182  0.0507269       0.0132758     0.00742786 \n",
       " 0.0289114   0.00788475  0.0233104       0.000205755   0.0244397  \n",
       " 0.033651    0.00520378  0.0532696      -0.0230184     0.0320608  \n",
       " 0.02988     0.00539655  0.0362236   …   0.00615703   -0.0199942  \n",
       " 0.0169084   0.0272362   0.00967267      0.00696713    0.00617051 \n",
       " 0.0258817   0.0195916   0.0125598       0.00481522    0.00531761 \n",
       " ⋮                                   ⋱                            \n",
       " 0.00119731  0.00260581  0.00408055      0.0130117     0.0153172  \n",
       " 0.00113842  0.00241478  0.00387788  …   0.0121912     0.0130964  \n",
       " 0.0011228   0.00224569  0.00369512      0.0100728     0.0110876  \n",
       " 0.00115638  0.00259141  0.00406583      0.0143006     0.0150893  \n",
       " 0.00116926  0.00257671  0.00386226      0.0104483     0.0122847  \n",
       " 0.00126654  0.00246594  0.00345474      0.0128657     0.0115006  \n",
       " 0.00120365  0.00261393  0.00407274  …   0.013766      0.0138041  \n",
       " 0.00136956  0.0029262   0.00407622      0.0146686     0.0176284  \n",
       " 0.00127153  0.0024857   0.00348157      0.0108439     0.011925   \n",
       " 0.00114532  0.00227184  0.00366305      0.00990565    0.0110696  \n",
       " 0.00129862  0.00272264  0.0040454       0.012188      0.0143816  \n",
       " 0.00126935  0.00264825  0.00388148  …   0.0133041     0.012814   "
      ]
     },
     "execution_count": 36,
     "metadata": {},
     "output_type": "execute_result"
    }
   ],
   "source": [
    "model.V"
   ]
  },
  {
   "cell_type": "code",
   "execution_count": 37,
   "metadata": {
    "collapsed": false,
    "nbpresent": {
     "id": "22056d79-9af6-4ec3-8a7a-32344c7982ef"
    }
   },
   "outputs": [
    {
     "data": {
      "text/plain": [
       "10-element Array{SubString{String},1}:\n",
       " \"Friday the 13th (1980)\"                   \n",
       " \"Amityville Horror, The (1979)\"            \n",
       " \"Jaws 2 (1978)\"                            \n",
       " \"Friday the 13th Part 2 (1981)\"            \n",
       " \"Halloween II (1981)\"                      \n",
       " \"Omen, The (1976)\"                         \n",
       " \"Pet Sematary (1989)\"                      \n",
       " \"Friday the 13th: The Final Chapter (1984)\"\n",
       " \"Cujo (1983)\"                              \n",
       " \"Creepshow (1982)\"                         "
      ]
     },
     "execution_count": 37,
     "metadata": {},
     "output_type": "execute_result"
    }
   ],
   "source": [
    "similar_items(model, \"Friday the 13th (1980)\")"
   ]
  },
  {
   "cell_type": "code",
   "execution_count": 38,
   "metadata": {
    "collapsed": false,
    "nbpresent": {
     "id": "f5b090ca-1b56-49a2-b3e1-f46e01e28f77"
    }
   },
   "outputs": [
    {
     "data": {
      "text/html": [
       "similar_items(model::<b>IncrementalSVD.RatingsModel</b>, item) at <a href=\"https://github.com/aaw/IncrementalSVD.jl/tree/22f8e54fb9ace73912ae83020c010e4d4bc9791f/src/util.jl#L113\" target=\"_blank\">C:\\Users\\Ivan\\.julia\\v0.5\\IncrementalSVD\\src\\util.jl:113</a>"
      ],
      "text/plain": [
       "similar_items(model::IncrementalSVD.RatingsModel, item) at C:\\Users\\Ivan\\.julia\\v0.5\\IncrementalSVD\\src\\util.jl:113"
      ]
     },
     "execution_count": 38,
     "metadata": {},
     "output_type": "execute_result"
    }
   ],
   "source": [
    "@which similar_items(model, \"Friday the 13th (1980)\")"
   ]
  },
  {
   "cell_type": "code",
   "execution_count": 39,
   "metadata": {
    "collapsed": false,
    "nbpresent": {
     "id": "84987c4b-dae3-44b0-a710-91e435d5b13b"
    }
   },
   "outputs": [
    {
     "data": {
      "text/plain": [
       "10-element Array{SubString{String},1}:\n",
       " \"Citizen Kane (1941)\"                                                        \n",
       " \"M*A*S*H (1970)\"                                                             \n",
       " \"Chinatown (1974)\"                                                           \n",
       " \"Rear Window (1954)\"                                                         \n",
       " \"Dr. Strangelove or: How I Learned to Stop Worrying and Love the Bomb (1963)\"\n",
       " \"Lawrence of Arabia (1962)\"                                                  \n",
       " \"Manchurian Candidate, The (1962)\"                                           \n",
       " \"African Queen, The (1951)\"                                                  \n",
       " \"Cool Hand Luke (1967)\"                                                      \n",
       " \"Casablanca (1942)\"                                                          "
      ]
     },
     "execution_count": 39,
     "metadata": {},
     "output_type": "execute_result"
    }
   ],
   "source": [
    "similar_items(model, \"Citizen Kane (1941)\")"
   ]
  },
  {
   "cell_type": "code",
   "execution_count": 40,
   "metadata": {
    "collapsed": false,
    "nbpresent": {
     "id": "b6f3dae2-a575-42ac-9b64-2ebe7207749d"
    }
   },
   "outputs": [
    {
     "data": {
      "text/plain": [
       "10-element Array{SubString{String},1}:\n",
       " \"3000\"\n",
       " \"5613\"\n",
       " \"1360\"\n",
       " \"3845\"\n",
       " \"2202\"\n",
       " \"5619\"\n",
       " \"3052\"\n",
       " \"1409\"\n",
       " \"297\" \n",
       " \"523\" "
      ]
     },
     "execution_count": 40,
     "metadata": {},
     "output_type": "execute_result"
    }
   ],
   "source": [
    "similar_users(model,\"3000\")"
   ]
  },
  {
   "cell_type": "code",
   "execution_count": 41,
   "metadata": {
    "collapsed": false,
    "nbpresent": {
     "id": "480f4b30-a821-4873-9007-ba1533569c23"
    }
   },
   "outputs": [
    {
     "data": {
      "text/plain": [
       "4.296962f0"
      ]
     },
     "execution_count": 41,
     "metadata": {},
     "output_type": "execute_result"
    }
   ],
   "source": [
    "# What is the opinion of user \"3000\" about \"Blader Runner\" \n",
    "# in the approximate model (true mark is 4.0) ?\n",
    "get_predicted_rating(model, \"3000\", \"Blade Runner (1982)\")"
   ]
  },
  {
   "cell_type": "code",
   "execution_count": 42,
   "metadata": {
    "collapsed": false,
    "nbpresent": {
     "id": "f4108b64-09bd-45bc-8528-f1ee6f1e03f8"
    }
   },
   "outputs": [
    {
     "data": {
      "text/plain": [
       "4.267635f0"
      ]
     },
     "execution_count": 42,
     "metadata": {},
     "output_type": "execute_result"
    }
   ],
   "source": [
    "# What is the opinion of user \"3000\" about Citizen Kane \n",
    "# (no true mark!) ?\n",
    "IncrementalSVD.get_predicted_rating(model, \"3000\", \"Citizen Kane (1941)\")"
   ]
  },
  {
   "cell_type": "markdown",
   "metadata": {
    "nbpresent": {
     "id": "22a2e6a0-950b-436e-ba76-43bdd7f4e917"
    }
   },
   "source": [
    "## Thank you for you attention\n",
    "\n",
    "### Questions?"
   ]
  },
  {
   "cell_type": "code",
   "execution_count": null,
   "metadata": {
    "collapsed": true,
    "nbpresent": {
     "id": "5a1c181f-cbc4-4c2a-b0a2-ef794b15a4e9"
    }
   },
   "outputs": [],
   "source": []
  }
 ],
 "metadata": {
  "anaconda-cloud": {},
  "kernelspec": {
   "display_name": "Julia 0.5.1",
   "language": "julia",
   "name": "julia-0.5"
  },
  "language_info": {
   "file_extension": ".jl",
   "mimetype": "application/julia",
   "name": "julia",
   "version": "0.5.1"
  },
  "nbpresent": {
   "slides": {
    "1cd0ac1d-c1cb-4af0-a0e8-0b8bad5991ba": {
     "id": "1cd0ac1d-c1cb-4af0-a0e8-0b8bad5991ba",
     "prev": "349d3274-d0eb-4ee7-b382-ce9e6bbcd5c4",
     "regions": {
      "86d9dd72-a9cf-4c44-8e0d-d5002b856393": {
       "attrs": {
        "height": 0.862533692722372,
        "width": 0.8909703504043127,
        "x": 0.05754716981132078,
        "y": 0.06765498652291105
       },
       "content": {
        "cell": "5bd4499f-d408-4ef5-873c-d2af140a3863",
        "part": "whole"
       },
       "id": "86d9dd72-a9cf-4c44-8e0d-d5002b856393"
      }
     }
    },
    "349d3274-d0eb-4ee7-b382-ce9e6bbcd5c4": {
     "id": "349d3274-d0eb-4ee7-b382-ce9e6bbcd5c4",
     "prev": "ba488065-74e0-4b8c-98a7-fb8558e1154a",
     "regions": {
      "bd479cc5-076a-4e06-a106-2630ef5ea0c9": {
       "attrs": {
        "height": 0.862533692722372,
        "width": 0.8909703504043127,
        "x": 0.05754716981132078,
        "y": 0.06765498652291105
       },
       "content": {
        "cell": "8e161bdf-c2f4-457b-aa37-87cb7b94a62a",
        "part": "whole"
       },
       "id": "bd479cc5-076a-4e06-a106-2630ef5ea0c9"
      }
     }
    },
    "3f48ce7c-7017-4233-8825-085ad960ed2c": {
     "id": "3f48ce7c-7017-4233-8825-085ad960ed2c",
     "prev": "46500afe-d3ad-4c04-99c1-e4a629ff80fa",
     "regions": {
      "8732f081-c5cf-4ee8-9f9e-23836dd39254": {
       "attrs": {
        "height": 0.862533692722372,
        "width": 0.8909703504043127,
        "x": 0.05754716981132078,
        "y": 0.06765498652291105
       },
       "content": {
        "cell": "0dc62bf7-111e-4a65-aa8f-d581ccc78705",
        "part": "whole"
       },
       "id": "8732f081-c5cf-4ee8-9f9e-23836dd39254"
      }
     }
    },
    "46500afe-d3ad-4c04-99c1-e4a629ff80fa": {
     "id": "46500afe-d3ad-4c04-99c1-e4a629ff80fa",
     "prev": "5893a45f-1a1b-4718-95ce-e884db795854",
     "regions": {
      "76b1f58a-d0f8-4c33-a07c-7c9b7df69728": {
       "attrs": {
        "height": 0.862533692722372,
        "width": 0.8909703504043127,
        "x": 0.05754716981132078,
        "y": 0.06765498652291105
       },
       "content": {
        "cell": "310609df-23c9-43d4-be57-c9e837921be5",
        "part": "whole"
       },
       "id": "76b1f58a-d0f8-4c33-a07c-7c9b7df69728"
      }
     }
    },
    "5893a45f-1a1b-4718-95ce-e884db795854": {
     "id": "5893a45f-1a1b-4718-95ce-e884db795854",
     "prev": "1cd0ac1d-c1cb-4af0-a0e8-0b8bad5991ba",
     "regions": {
      "7c4ffea1-5019-4513-8e16-11661129e1ac": {
       "attrs": {
        "height": 0.862533692722372,
        "width": 0.8909703504043127,
        "x": 0.05754716981132078,
        "y": 0.06765498652291105
       },
       "content": {
        "cell": "95e8dd12-5e61-4c6e-903e-21d9933c61d6",
        "part": "whole"
       },
       "id": "7c4ffea1-5019-4513-8e16-11661129e1ac"
      }
     }
    },
    "8d8ecace-4749-46a8-be9f-51a1eb805331": {
     "id": "8d8ecace-4749-46a8-be9f-51a1eb805331",
     "prev": "cb28b9cd-b502-4716-9f7b-56621414d63d",
     "regions": {
      "32c0514e-1a19-4fb7-8fbd-ead249f4b14c": {
       "attrs": {
        "height": 0.862533692722372,
        "width": 0.8909703504043127,
        "x": 0.05754716981132078,
        "y": 0.06765498652291105
       },
       "content": {
        "cell": "5b02d01f-08b5-41cf-ae99-5c997f1618ad",
        "part": "whole"
       },
       "id": "32c0514e-1a19-4fb7-8fbd-ead249f4b14c"
      }
     }
    },
    "9418d3f9-1ec7-4989-8e56-dab8e0a74445": {
     "id": "9418d3f9-1ec7-4989-8e56-dab8e0a74445",
     "prev": "8d8ecace-4749-46a8-be9f-51a1eb805331",
     "regions": {
      "16ced40a-d165-41cb-bf8d-8e29cce20e1b": {
       "attrs": {
        "height": 0.862533692722372,
        "width": 0.8909703504043127,
        "x": 0.05754716981132078,
        "y": 0.06765498652291105
       },
       "content": {
        "cell": "4c3647c8-bf68-4fc7-9494-d11fdb86327f",
        "part": "whole"
       },
       "id": "16ced40a-d165-41cb-bf8d-8e29cce20e1b"
      }
     }
    },
    "b957b398-0d2c-4847-b361-fa13259afa90": {
     "id": "b957b398-0d2c-4847-b361-fa13259afa90",
     "prev": "3f48ce7c-7017-4233-8825-085ad960ed2c",
     "regions": {
      "25fb7865-d4e1-4171-b87c-555050a5ca6d": {
       "attrs": {
        "height": 0.862533692722372,
        "width": 0.8909703504043127,
        "x": 0.05754716981132078,
        "y": 0.06765498652291105
       },
       "content": {
        "cell": "4944f869-4080-4947-a6ad-a08c3f2dc6b8",
        "part": "whole"
       },
       "id": "25fb7865-d4e1-4171-b87c-555050a5ca6d"
      }
     }
    },
    "ba488065-74e0-4b8c-98a7-fb8558e1154a": {
     "id": "ba488065-74e0-4b8c-98a7-fb8558e1154a",
     "prev": "bb7e38c1-de6d-4306-8ae3-b5fe3f93bff6",
     "regions": {
      "cb304583-e2bf-48c2-99f0-16105f750e23": {
       "attrs": {
        "height": 0.862533692722372,
        "width": 0.8909703504043127,
        "x": 0.05754716981132078,
        "y": 0.06765498652291105
       },
       "content": {
        "cell": "ec4afe08-74b2-4219-b379-b3a4cfb185c9",
        "part": "whole"
       },
       "id": "cb304583-e2bf-48c2-99f0-16105f750e23"
      }
     }
    },
    "bb7e38c1-de6d-4306-8ae3-b5fe3f93bff6": {
     "id": "bb7e38c1-de6d-4306-8ae3-b5fe3f93bff6",
     "prev": "9418d3f9-1ec7-4989-8e56-dab8e0a74445",
     "regions": {
      "7635dca9-5603-4d55-a537-8399529bde25": {
       "attrs": {
        "height": 0.862533692722372,
        "width": 0.8909703504043127,
        "x": 0.05754716981132078,
        "y": 0.06765498652291105
       },
       "content": {
        "cell": "d194cf53-622d-4d19-a5ea-7bfb4e7cedf1",
        "part": "whole"
       },
       "id": "7635dca9-5603-4d55-a537-8399529bde25"
      }
     }
    },
    "cb28b9cd-b502-4716-9f7b-56621414d63d": {
     "id": "cb28b9cd-b502-4716-9f7b-56621414d63d",
     "prev": null,
     "regions": {
      "f6aa654d-8688-4646-b714-4cc31e207a0e": {
       "attrs": {
        "height": 0.862533692722372,
        "width": 0.8909703504043127,
        "x": 0.05754716981132078,
        "y": 0.06765498652291105
       },
       "content": {
        "cell": "c8a714c5-14b1-4002-862d-8f81edb5674c",
        "part": "whole"
       },
       "id": "f6aa654d-8688-4646-b714-4cc31e207a0e"
      }
     }
    },
    "d1341b75-44ac-4088-af3c-800b55d8ae03": {
     "id": "d1341b75-44ac-4088-af3c-800b55d8ae03",
     "prev": "b957b398-0d2c-4847-b361-fa13259afa90",
     "regions": {
      "042a2844-bd34-4957-af39-c824c7198b77": {
       "attrs": {
        "height": 0.862533692722372,
        "width": 0.8909703504043127,
        "x": 0.05754716981132078,
        "y": 0.06765498652291105
       },
       "content": {
        "cell": "22a2e6a0-950b-436e-ba76-43bdd7f4e917",
        "part": "whole"
       },
       "id": "042a2844-bd34-4957-af39-c824c7198b77"
      }
     }
    }
   },
   "themes": {
    "default": "12eec1f4-2448-4fdf-9ec4-8075829abdca",
    "theme": {
     "12eec1f4-2448-4fdf-9ec4-8075829abdca": {
      "id": "12eec1f4-2448-4fdf-9ec4-8075829abdca",
      "palette": {
       "19cc588f-0593-49c9-9f4b-e4d7cc113b1c": {
        "id": "19cc588f-0593-49c9-9f4b-e4d7cc113b1c",
        "rgb": [
         252,
         252,
         252
        ]
       },
       "31af15d2-7e15-44c5-ab5e-e04b16a89eff": {
        "id": "31af15d2-7e15-44c5-ab5e-e04b16a89eff",
        "rgb": [
         68,
         68,
         68
        ]
       },
       "50f92c45-a630-455b-aec3-788680ec7410": {
        "id": "50f92c45-a630-455b-aec3-788680ec7410",
        "rgb": [
         155,
         177,
         192
        ]
       },
       "c5cc3653-2ee1-402a-aba2-7caae1da4f6c": {
        "id": "c5cc3653-2ee1-402a-aba2-7caae1da4f6c",
        "rgb": [
         43,
         126,
         184
        ]
       },
       "efa7f048-9acb-414c-8b04-a26811511a21": {
        "id": "efa7f048-9acb-414c-8b04-a26811511a21",
        "rgb": [
         25.118061674008803,
         73.60176211453744,
         107.4819383259912
        ]
       }
      },
      "rules": {
       "blockquote": {
        "color": "50f92c45-a630-455b-aec3-788680ec7410"
       },
       "code": {
        "font-family": "Anonymous Pro"
       },
       "h1": {
        "color": "c5cc3653-2ee1-402a-aba2-7caae1da4f6c",
        "font-family": "Lato",
        "font-size": 8
       },
       "h2": {
        "color": "c5cc3653-2ee1-402a-aba2-7caae1da4f6c",
        "font-family": "Lato",
        "font-size": 6
       },
       "h3": {
        "color": "50f92c45-a630-455b-aec3-788680ec7410",
        "font-family": "Lato",
        "font-size": 5.5
       },
       "h4": {
        "color": "c5cc3653-2ee1-402a-aba2-7caae1da4f6c",
        "font-family": "Lato",
        "font-size": 5
       },
       "h5": {
        "font-family": "Lato"
       },
       "h6": {
        "font-family": "Lato"
       },
       "h7": {
        "font-family": "Lato"
       },
       "pre": {
        "font-family": "Anonymous Pro",
        "font-size": 4
       }
      },
      "text-base": {
       "font-family": "Merriweather",
       "font-size": 4
      }
     },
     "513c8753-d394-4ff4-95ce-f452e39334f5": {
      "backgrounds": {
       "backgroundColor": {
        "background-color": "backgroundColor",
        "id": "backgroundColor"
       }
      },
      "id": "513c8753-d394-4ff4-95ce-f452e39334f5",
      "palette": {
       "backgroundColor": {
        "id": "backgroundColor",
        "rgb": [
         17,
         17,
         17
        ]
       },
       "headingColor": {
        "id": "headingColor",
        "rgb": [
         238,
         238,
         238
        ]
       },
       "linkColor": {
        "id": "linkColor",
        "rgb": [
         231,
         173,
         82
        ]
       },
       "mainColor": {
        "id": "mainColor",
        "rgb": [
         238,
         238,
         238
        ]
       }
      },
      "rules": {
       "a": {
        "color": "linkColor"
       },
       "h1": {
        "color": "headingColor",
        "font-family": "Montserrat",
        "font-size": 7
       },
       "h2": {
        "color": "headingColor",
        "font-family": "Montserrat",
        "font-size": 5
       },
       "h3": {
        "color": "headingColor",
        "font-family": "Montserrat",
        "font-size": 3.75
       },
       "h4": {
        "color": "headingColor",
        "font-family": "Montserrat",
        "font-size": 3
       },
       "h5": {
        "color": "headingColor",
        "font-family": "Montserrat"
       },
       "h6": {
        "color": "headingColor",
        "font-family": "Montserrat"
       },
       "h7": {
        "color": "headingColor",
        "font-family": "Montserrat"
       },
       "li": {
        "color": "mainColor",
        "font-family": "Open Sans",
        "font-size": 4
       },
       "p": {
        "color": "mainColor",
        "font-family": "Open Sans",
        "font-size": 4
       }
      },
      "text-base": {
       "color": "mainColor",
       "font-family": "Open Sans",
       "font-size": 4
      }
     },
     "82f1c284-7368-467d-81a6-51fa90d6c991": {
      "backgrounds": {
       "backgroundColor": {
        "background-color": "backgroundColor",
        "id": "backgroundColor"
       }
      },
      "id": "82f1c284-7368-467d-81a6-51fa90d6c991",
      "palette": {
       "backgroundColor": {
        "id": "backgroundColor",
        "rgb": [
         17,
         17,
         17
        ]
       },
       "headingColor": {
        "id": "headingColor",
        "rgb": [
         238,
         238,
         238
        ]
       },
       "linkColor": {
        "id": "linkColor",
        "rgb": [
         231,
         173,
         82
        ]
       },
       "mainColor": {
        "id": "mainColor",
        "rgb": [
         238,
         238,
         238
        ]
       }
      },
      "rules": {
       "a": {
        "color": "linkColor"
       },
       "h1": {
        "color": "headingColor",
        "font-family": "Montserrat",
        "font-size": 7
       },
       "h2": {
        "color": "headingColor",
        "font-family": "Montserrat",
        "font-size": 5
       },
       "h3": {
        "color": "headingColor",
        "font-family": "Montserrat",
        "font-size": 3.75
       },
       "h4": {
        "color": "headingColor",
        "font-family": "Montserrat",
        "font-size": 3
       },
       "h5": {
        "color": "headingColor",
        "font-family": "Montserrat"
       },
       "h6": {
        "color": "headingColor",
        "font-family": "Montserrat"
       },
       "h7": {
        "color": "headingColor",
        "font-family": "Montserrat"
       },
       "li": {
        "color": "mainColor",
        "font-family": "Open Sans",
        "font-size": 4
       },
       "p": {
        "color": "mainColor",
        "font-family": "Open Sans",
        "font-size": 4
       }
      },
      "text-base": {
       "color": "mainColor",
       "font-family": "Open Sans",
       "font-size": 4
      }
     }
    }
   }
  }
 },
 "nbformat": 4,
 "nbformat_minor": 1
}
