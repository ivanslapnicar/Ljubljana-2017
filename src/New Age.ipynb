{
 "cells": [
  {
   "cell_type": "markdown",
   "metadata": {
    "nbpresent": {
     "id": "c8a714c5-14b1-4002-862d-8f81edb5674c"
    },
    "slideshow": {
     "slide_type": "slide"
    }
   },
   "source": [
    "# New Age\n",
    "\n",
    "Fakulteta za matematiko in fiziko - Univerza v Ljubljani\n",
    "\n",
    "Ivan Slapničar, Sveučilište u Splitu, FESB\n",
    "\n",
    "April, 2017"
   ]
  },
  {
   "cell_type": "markdown",
   "metadata": {
    "nbpresent": {
     "id": "5b02d01f-08b5-41cf-ae99-5c997f1618ad"
    },
    "slideshow": {
     "slide_type": "slide"
    }
   },
   "source": [
    "## Messages\n",
    "\n",
    "Easy -> hard?\n",
    "\n",
    "Present: __age of search__ -> _mathematics_\n",
    "\n",
    "Future: __age of recommendation__  -> _mathematics_\n",
    "\n",
    "(BigData, new technologies)\n"
   ]
  },
  {
   "cell_type": "markdown",
   "metadata": {
    "collapsed": true,
    "nbpresent": {
     "id": "4c3647c8-bf68-4fc7-9494-d11fdb86327f"
    }
   },
   "source": [
    "## Easy -> hard\n",
    "\n",
    "weight:  1 _kg_  -> 1 _kg_ $\\pm$ 0.000000001 _kg_\n",
    "\n",
    "running: 100 _m_ -> 42,195 _m_ ili 100 _m_ < 10 _sek_\n",
    "\n",
    "mathematics: exam -> state competition  -> [Olympiad](http://www.imo-official.org/)\n",
    "\n",
    "search, recommending: good -> excellent"
   ]
  },
  {
   "cell_type": "markdown",
   "metadata": {
    "nbpresent": {
     "id": "d194cf53-622d-4d19-a5ea-7bfb4e7cedf1"
    }
   },
   "source": [
    "## Age of Search\n",
    "\n",
    "google (and others)\n",
    "\n",
    "\n",
    "* [50 billion pages](http://www.worldwidewebsize.com/), [3.5 billion querries daily](http://www.internetlivestats.com/google-search-statistics/)\n",
    "* __PageRank__\n",
    "* history, context - cookies, storing data (about you), [200+ parameters](http://backlinko.com/google-ranking-factors)"
   ]
  },
  {
   "cell_type": "markdown",
   "metadata": {
    "nbpresent": {
     "id": "ec4afe08-74b2-4219-b379-b3a4cfb185c9"
    }
   },
   "source": [
    "## PageRank\n",
    "\n",
    "* Graph theory and linear algebra\n",
    "* [C, Moler, Google PageRank][Mol11]\n",
    "\n",
    "\n",
    "[Mol11]: https://www.mathworks.com/moler/exm/chapters/pagerank.pdf \"C, Moler, 'Google PageRank', mathWorks, 2011.\"\n"
   ]
  },
  {
   "cell_type": "code",
   "execution_count": 1,
   "metadata": {
    "collapsed": false,
    "nbpresent": {
     "id": "339964f2-eba2-40c6-bc72-08687a1d486e"
    }
   },
   "outputs": [
    {
     "data": {
      "text/plain": [
       "6×6 SparseMatrixCSC{Float64,Int64} with 9 stored entries:\n",
       "  [2, 1]  =  1.0\n",
       "  [6, 1]  =  1.0\n",
       "  [3, 2]  =  1.0\n",
       "  [4, 2]  =  1.0\n",
       "  [4, 3]  =  1.0\n",
       "  [5, 3]  =  1.0\n",
       "  [6, 3]  =  1.0\n",
       "  [1, 4]  =  1.0\n",
       "  [1, 6]  =  1.0"
      ]
     },
     "execution_count": 1,
     "metadata": {},
     "output_type": "execute_result"
    }
   ],
   "source": [
    "i = vec([ 2 6 3 4 4 5 6 1 1])\n",
    "j = vec([ 1 1 2 2 3 3 3 4 6])\n",
    "G=sparse(i,j,1.0)"
   ]
  },
  {
   "cell_type": "code",
   "execution_count": 2,
   "metadata": {
    "collapsed": false,
    "nbpresent": {
     "id": "a61a812c-8380-4789-9685-819fdb925442"
    }
   },
   "outputs": [
    {
     "data": {
      "text/plain": [
       "6×6 Array{Float64,2}:\n",
       " 0.0  0.0  0.0  1.0  0.0  1.0\n",
       " 1.0  0.0  0.0  0.0  0.0  0.0\n",
       " 0.0  1.0  0.0  0.0  0.0  0.0\n",
       " 0.0  1.0  1.0  0.0  0.0  0.0\n",
       " 0.0  0.0  1.0  0.0  0.0  0.0\n",
       " 1.0  0.0  1.0  0.0  0.0  0.0"
      ]
     },
     "execution_count": 2,
     "metadata": {},
     "output_type": "execute_result"
    }
   ],
   "source": [
    "full(G)"
   ]
  },
  {
   "cell_type": "markdown",
   "metadata": {
    "nbpresent": {
     "id": "303bcbc1-fb7d-41a5-9d65-e599645bcca6"
    }
   },
   "source": [
    "On the graph we do a _random walk_ - probabilty to follow any link is equal:"
   ]
  },
  {
   "cell_type": "code",
   "execution_count": 3,
   "metadata": {
    "collapsed": false,
    "nbpresent": {
     "id": "4ca78374-00d1-4c7a-af63-28daa0b57223"
    }
   },
   "outputs": [
    {
     "data": {
      "text/plain": [
       "6×6 Array{Float64,2}:\n",
       " 0.0  0.0  0.0       1.0  0.0  1.0\n",
       " 0.5  0.0  0.0       0.0  0.0  0.0\n",
       " 0.0  0.5  0.0       0.0  0.0  0.0\n",
       " 0.0  0.5  0.333333  0.0  0.0  0.0\n",
       " 0.0  0.0  0.333333  0.0  0.0  0.0\n",
       " 0.5  0.0  0.333333  0.0  0.0  0.0"
      ]
     },
     "execution_count": 3,
     "metadata": {},
     "output_type": "execute_result"
    }
   ],
   "source": [
    "c=sum(G,1)\n",
    "n=size(G,1)\n",
    "for j=1:n\n",
    "    if c[j]>0\n",
    "        G[:,j]=G[:,j]/c[j]\n",
    "    end\n",
    "end\n",
    "full(G)"
   ]
  },
  {
   "cell_type": "markdown",
   "metadata": {
    "nbpresent": {
     "id": "c82e5cb0-d85d-41df-abdf-5ae6bdab7ccd"
    }
   },
   "source": [
    "* $p$: probability to follow link\n",
    "* $1-p$: probability to visit some other page (at random)\n",
    "* google uses $p=0.85$ ?"
   ]
  },
  {
   "cell_type": "code",
   "execution_count": 4,
   "metadata": {
    "collapsed": false,
    "nbpresent": {
     "id": "799e14b7-f4a0-4f55-a8f8-fc821ce0fd93"
    }
   },
   "outputs": [
    {
     "data": {
      "text/plain": [
       "6×6 Array{Float64,2}:\n",
       " 0.025  0.025  0.025     0.875  0.166667  0.875\n",
       " 0.45   0.025  0.025     0.025  0.166667  0.025\n",
       " 0.025  0.45   0.025     0.025  0.166667  0.025\n",
       " 0.025  0.45   0.308333  0.025  0.166667  0.025\n",
       " 0.025  0.025  0.308333  0.025  0.166667  0.025\n",
       " 0.45   0.025  0.308333  0.025  0.166667  0.025"
      ]
     },
     "execution_count": 4,
     "metadata": {},
     "output_type": "execute_result"
    }
   ],
   "source": [
    "p=0.85\n",
    "z = ((1-p)*(c.!=0) + (c.==0))/n\n",
    "A=p*G+ones(n)*z"
   ]
  },
  {
   "cell_type": "markdown",
   "metadata": {
    "nbpresent": {
     "id": "96822e37-d2f5-4503-9655-e6040556107e"
    }
   },
   "source": [
    "## Idea\n",
    "\n",
    "Let us start a random walk from the vector $x_0=\\begin{bmatrix} 1/n \\\\ 1/n \\\\ \\vdots \\\\ 1/n \\end{bmatrix}$.\n",
    "\n",
    "The subsequent vectors are  \n",
    "\n",
    "$$\n",
    "x_1=A\\cdot x_0 \\\\\n",
    "x_2=A\\cdot x_1 \\\\\n",
    "x_3=A\\cdot x_2\\\\\n",
    "\\vdots\n",
    "$$\n",
    "\n",
    "When the vector __stabilizes__:\n",
    "\n",
    "$$\n",
    "A\\cdot x\\approx x,\n",
    "$$\n",
    "\n",
    "then $x[i]$ is the __rank of the page__ $i$."
   ]
  },
  {
   "cell_type": "code",
   "execution_count": 5,
   "metadata": {
    "collapsed": false,
    "nbpresent": {
     "id": "93956a24-6b26-4e59-9921-05164b0826a6"
    }
   },
   "outputs": [
    {
     "data": {
      "text/plain": [
       "myPageRank (generic function with 1 method)"
      ]
     },
     "execution_count": 5,
     "metadata": {},
     "output_type": "execute_result"
    }
   ],
   "source": [
    "function myPageRank(G::SparseMatrixCSC{Float64,Int64},steps::Int)\n",
    "    p=0.85\n",
    "    c=sum(G,1)/p\n",
    "    n=size(G,1)\n",
    "    for i=1:n\n",
    "        G.nzval[G.colptr[i]:G.colptr[i+1]-1]./=c[i]\n",
    "    end\n",
    "    e=ones(n)\n",
    "    x=e/n\n",
    "    z = vec(((1-p)*(c.!=0) + (c.==0))/n)\n",
    "    for j=1:steps\n",
    "        x=G*x+(z⋅x)\n",
    "    end\n",
    "    x/norm(x,1)\n",
    "end"
   ]
  },
  {
   "cell_type": "code",
   "execution_count": 6,
   "metadata": {
    "collapsed": false,
    "nbpresent": {
     "id": "f0505634-c456-47dd-a4fe-0a6a86388b81"
    }
   },
   "outputs": [
    {
     "data": {
      "text/plain": [
       "6-element Array{Float64,1}:\n",
       " 0.321024 \n",
       " 0.170538 \n",
       " 0.106596 \n",
       " 0.136795 \n",
       " 0.0643103\n",
       " 0.200737 "
      ]
     },
     "execution_count": 6,
     "metadata": {},
     "output_type": "execute_result"
    }
   ],
   "source": [
    "myPageRank(G,15)"
   ]
  },
  {
   "cell_type": "code",
   "execution_count": 7,
   "metadata": {
    "collapsed": false
   },
   "outputs": [
    {
     "data": {
      "text/plain": [
       "5-element Array{Symbol,1}:\n",
       " :m     \n",
       " :n     \n",
       " :colptr\n",
       " :rowval\n",
       " :nzval "
      ]
     },
     "execution_count": 7,
     "metadata": {},
     "output_type": "execute_result"
    }
   ],
   "source": [
    "fieldnames(G)"
   ]
  },
  {
   "cell_type": "code",
   "execution_count": 8,
   "metadata": {
    "collapsed": false
   },
   "outputs": [
    {
     "data": {
      "text/plain": [
       "6×6 SparseMatrixCSC{Float64,Int64} with 9 stored entries:\n",
       "  [2, 1]  =  0.425\n",
       "  [6, 1]  =  0.425\n",
       "  [3, 2]  =  0.425\n",
       "  [4, 2]  =  0.425\n",
       "  [4, 3]  =  0.283333\n",
       "  [5, 3]  =  0.283333\n",
       "  [6, 3]  =  0.283333\n",
       "  [1, 4]  =  0.85\n",
       "  [1, 6]  =  0.85"
      ]
     },
     "execution_count": 8,
     "metadata": {},
     "output_type": "execute_result"
    }
   ],
   "source": [
    "G"
   ]
  },
  {
   "cell_type": "code",
   "execution_count": 9,
   "metadata": {
    "collapsed": false
   },
   "outputs": [
    {
     "data": {
      "text/plain": [
       "7-element Array{Int64,1}:\n",
       "  1\n",
       "  3\n",
       "  5\n",
       "  8\n",
       "  9\n",
       "  9\n",
       " 10"
      ]
     },
     "execution_count": 9,
     "metadata": {},
     "output_type": "execute_result"
    }
   ],
   "source": [
    "G.colptr"
   ]
  },
  {
   "cell_type": "markdown",
   "metadata": {
    "nbpresent": {
     "id": "c9bf7ecc-5c51-4cb3-9747-dd4bda11560f"
    }
   },
   "source": [
    "### [Stanford web graph](http://snap.stanford.edu/data/web-Stanford.html)\n",
    "\n",
    "This is somewhat larger test problem."
   ]
  },
  {
   "cell_type": "code",
   "execution_count": 10,
   "metadata": {
    "collapsed": false,
    "nbpresent": {
     "id": "637112da-d944-4bce-a751-e8a95f9014a2"
    }
   },
   "outputs": [
    {
     "data": {
      "text/plain": [
       "2312497×2 Array{Int64,2}:\n",
       "      1    6548\n",
       "      1   15409\n",
       "   6548   57031\n",
       "  15409   13102\n",
       "      2   17794\n",
       "      2   25202\n",
       "      2   53625\n",
       "      2   54582\n",
       "      2   64930\n",
       "      2   73764\n",
       "      2   84477\n",
       "      2   98628\n",
       "      2  100193\n",
       "      ⋮        \n",
       " 281849  165189\n",
       " 281849  177014\n",
       " 281849  226290\n",
       " 281849  243180\n",
       " 281849  244195\n",
       " 281849  247252\n",
       " 281849  281568\n",
       " 281865  186750\n",
       " 281865  225872\n",
       " 281888  114388\n",
       " 281888  192969\n",
       " 281888  233184"
      ]
     },
     "execution_count": 10,
     "metadata": {},
     "output_type": "execute_result"
    }
   ],
   "source": [
    "W=readdlm(\"web-Stanford.txt\",Int)"
   ]
  },
  {
   "cell_type": "code",
   "execution_count": 11,
   "metadata": {
    "collapsed": false,
    "nbpresent": {
     "id": "cd7c4a66-da5a-4f42-8cd0-f4cff46120df"
    }
   },
   "outputs": [
    {
     "data": {
      "text/plain": [
       "281903×281903 SparseMatrixCSC{Float64,Int64} with 2312497 stored entries:\n",
       "  [6548  ,      1]  =  1.0\n",
       "  [15409 ,      1]  =  1.0\n",
       "  [17794 ,      2]  =  1.0\n",
       "  [25202 ,      2]  =  1.0\n",
       "  [53625 ,      2]  =  1.0\n",
       "  [54582 ,      2]  =  1.0\n",
       "  [64930 ,      2]  =  1.0\n",
       "  [73764 ,      2]  =  1.0\n",
       "  [84477 ,      2]  =  1.0\n",
       "  [98628 ,      2]  =  1.0\n",
       "  ⋮\n",
       "  [168703, 281902]  =  1.0\n",
       "  [180771, 281902]  =  1.0\n",
       "  [266504, 281902]  =  1.0\n",
       "  [275189, 281902]  =  1.0\n",
       "  [44103 , 281903]  =  1.0\n",
       "  [56088 , 281903]  =  1.0\n",
       "  [90591 , 281903]  =  1.0\n",
       "  [94440 , 281903]  =  1.0\n",
       "  [216688, 281903]  =  1.0\n",
       "  [256539, 281903]  =  1.0\n",
       "  [260899, 281903]  =  1.0"
      ]
     },
     "execution_count": 11,
     "metadata": {},
     "output_type": "execute_result"
    }
   ],
   "source": [
    "S=sparse(W[:,2],W[:,1],1.0)"
   ]
  },
  {
   "cell_type": "code",
   "execution_count": 12,
   "metadata": {
    "collapsed": false,
    "nbpresent": {
     "id": "b5352330-ab91-41fe-824c-e5ccc2ace595"
    }
   },
   "outputs": [
    {
     "name": "stdout",
     "output_type": "stream",
     "text": [
      "  4.834073 seconds (282.42 k allocations: 488.428 MiB, 7.51% gc time)\n"
     ]
    }
   ],
   "source": [
    "@time x100=myPageRank(S,100);"
   ]
  },
  {
   "cell_type": "code",
   "execution_count": 13,
   "metadata": {
    "collapsed": false,
    "nbpresent": {
     "id": "cc0d1a66-a69a-478f-8db8-e6a850725631"
    }
   },
   "outputs": [
    {
     "data": {
      "text/plain": [
       "2.3491380779056936e-7"
      ]
     },
     "execution_count": 13,
     "metadata": {},
     "output_type": "execute_result"
    }
   ],
   "source": [
    "x101=myPageRank(S,101)\n",
    "maximum(abs,(x100-x101)./x100)"
   ]
  },
  {
   "cell_type": "code",
   "execution_count": 14,
   "metadata": {
    "collapsed": false,
    "nbpresent": {
     "id": "7caf1ddf-e679-41b6-83ae-75260f278dac"
    }
   },
   "outputs": [
    {
     "data": {
      "text/plain": [
       "([89073, 226411, 241454, 262860, 134832, 234704, 136821, 68889, 105607, 69358  …  281647, 281700, 281715, 281728, 281778, 281785, 281813, 281849, 281865, 281888], [0.0113029, 0.00926783, 0.00829727, 0.00302312, 0.00300128, 0.00257173, 0.00245371, 0.00243079, 0.00239105, 0.00236401  …  5.33369e-7, 5.33369e-7, 5.33369e-7, 5.33369e-7, 5.33369e-7, 5.33369e-7, 5.33369e-7, 5.33369e-7, 5.33369e-7, 5.33369e-7])"
      ]
     },
     "execution_count": 14,
     "metadata": {},
     "output_type": "execute_result"
    }
   ],
   "source": [
    "sortperm(x100,rev=true), sort(x100,rev=true)"
   ]
  },
  {
   "cell_type": "markdown",
   "metadata": {
    "nbpresent": {
     "id": "8e161bdf-c2f4-457b-aa37-87cb7b94a62a"
    }
   },
   "source": [
    "## Age of Recommendation\n",
    "\n",
    "NetFlix, Amazon Prime, PickBox, ... - on-line streaming of movies and shows\n",
    "\n",
    "[NetFlix](https://www.netflix.com/hr/)\n",
    "\n",
    " * [80 million users](https://www.statista.com/statistics/250934/quarterly-number-of-netflix-streaming-subscribers-worldwide/), 5,000 movies\n",
    " * [NetFlix Prize](http://www.kdd.org/kdd2014/tutorials/KDD%20-%20The%20Recommender%20Problem%20Revisited.pdf)\n",
    " "
   ]
  },
  {
   "cell_type": "markdown",
   "metadata": {
    "nbpresent": {
     "id": "5bd4499f-d408-4ef5-873c-d2af140a3863"
    }
   },
   "source": [
    "## Mathematics\n",
    "\n",
    "Netflix Recommendation Engine is based on approximation of a (large and sparse) matrix\n",
    "```\n",
    "M = Users x Movies \n",
    "```\n",
    "using (approximation of) singular value decomposition (SVD): \n",
    "\n",
    "* [IncrementalSVD.jl](https://github.com/aaw/IncrementalSVD.jl)\n",
    "* [A parallel recommendation engine in Julia](http://juliacomputing.com/blog/2016/04/22/a-parallel-recommendation-engine-in-julia.html)"
   ]
  },
  {
   "cell_type": "markdown",
   "metadata": {
    "nbpresent": {
     "id": "95e8dd12-5e61-4c6e-903e-21d9933c61d6"
    }
   },
   "source": [
    "## Similarities\n",
    "\n",
    "Similarity of users $i$ and $k$:\n",
    "$$\n",
    "\\cos \\angle (i,k)=\\frac{(M[i,:],M[k,:])}{\\|M[i,:]\\| \\cdot \\|M[k,:]\\|}\n",
    "$$\n",
    "Similarity of movies $i$ and $k$:\n",
    "$$\n",
    "\\cos \\angle (i,k)=\\frac{(M[:,i],M[:,k)}{\\|M[:,i]\\| \\cdot \\|M[:,k]\\|}\n",
    "$$"
   ]
  },
  {
   "cell_type": "markdown",
   "metadata": {
    "nbpresent": {
     "id": "310609df-23c9-43d4-be57-c9e837921be5"
    }
   },
   "source": [
    "## Search\n",
    "\n",
    "Row $M[u,:]$ - what user $u$ thinks about movies\n",
    "\n",
    "Column $M[:,m]$ - what users think about movie $m$\n",
    "\n",
    "Element $M[u,m]$ - what user $u$ thinks about movie $m$."
   ]
  },
  {
   "cell_type": "markdown",
   "metadata": {
    "nbpresent": {
     "id": "0dc62bf7-111e-4a65-aa8f-d581ccc78705"
    }
   },
   "source": [
    "## Problem\n",
    "\n",
    "Matrix $M$ is sparse so we do not have enough information. For example, \n",
    "\n",
    "```\n",
    "900188 marks / ( 6040 users x 3706 movies ) = 4%\n",
    "```"
   ]
  },
  {
   "cell_type": "markdown",
   "metadata": {
    "nbpresent": {
     "id": "4944f869-4080-4947-a6ad-a08c3f2dc6b8"
    }
   },
   "source": [
    "## Approximation\n",
    "\n",
    "SVD decomposition $M=U\\Sigma V^T$ is [approximated by a low-rank matrix](https://en.wikipedia.org/wiki/Low-rank_approximation) (for example. $rank=25$)\n",
    "\n",
    "![SVD decomposition](svd.png)\n",
    "\n",
    "The approximation matrix is __full__ and __gives enough good information__.\n",
    "\n",
    "Prize for efficient approximation algorithm was $\\$$ 1.000.000.  "
   ]
  },
  {
   "cell_type": "code",
   "execution_count": 15,
   "metadata": {
    "collapsed": true,
    "nbpresent": {
     "id": "b668eb1e-a6ab-4765-b3cc-d146fd9af9b6"
    }
   },
   "outputs": [],
   "source": [
    "# Pkg.clone(\"git://github.com/aaw/IncrementalSVD.jl.git\")"
   ]
  },
  {
   "cell_type": "code",
   "execution_count": 16,
   "metadata": {
    "collapsed": true,
    "nbpresent": {
     "id": "bccc43b9-69b2-440e-a866-7deca5e28515"
    }
   },
   "outputs": [],
   "source": [
    "using IncrementalSVD"
   ]
  },
  {
   "cell_type": "code",
   "execution_count": 17,
   "metadata": {
    "collapsed": false,
    "nbpresent": {
     "id": "49fe305c-c879-4aa3-a255-53b3301f55ff"
    }
   },
   "outputs": [
    {
     "name": "stdout",
     "output_type": "stream",
     "text": [
      "                IncrementalSVD     52 KB     Module\n",
      "                        Rating    136 bytes  DataType\n",
      "                     RatingSet    148 bytes  DataType\n",
      "                  RatingsModel    160 bytes  DataType\n",
      "             cosine_similarity      0 bytes  IncrementalSVD.#cosine_similarity\n",
      "          get_predicted_rating      0 bytes  IncrementalSVD.#get_predicted_rati…\n",
      "                 item_features      0 bytes  IncrementalSVD.#item_features\n",
      "                   item_search      0 bytes  IncrementalSVD.#item_search\n",
      "                         items      0 bytes  IncrementalSVD.#items\n",
      "    load_book_crossing_dataset      0 bytes  IncrementalSVD.#load_book_crossing…\n",
      "  load_large_movielens_dataset      0 bytes  IncrementalSVD.#load_large_moviele…\n",
      "  load_small_movielens_dataset      0 bytes  IncrementalSVD.#load_small_moviele…\n",
      "                          rmse      0 bytes  IncrementalSVD.#rmse\n",
      "                 similar_items      0 bytes  IncrementalSVD.#similar_items\n",
      "                 similar_users      0 bytes  IncrementalSVD.#similar_users\n",
      "                 split_ratings      0 bytes  IncrementalSVD.#split_ratings\n",
      "                         train      0 bytes  IncrementalSVD.#train\n",
      "               truncate_model!      0 bytes  IncrementalSVD.#truncate_model!\n",
      "                 user_features      0 bytes  IncrementalSVD.#user_features\n",
      "                  user_ratings      0 bytes  IncrementalSVD.#user_ratings\n",
      "                         users      0 bytes  IncrementalSVD.#users\n"
     ]
    }
   ],
   "source": [
    "whos(IncrementalSVD)"
   ]
  },
  {
   "cell_type": "code",
   "execution_count": 18,
   "metadata": {
    "collapsed": false,
    "nbpresent": {
     "id": "fe34b160-0094-4f16-be24-7dce3df0d876"
    }
   },
   "outputs": [
    {
     "name": "stdout",
     "output_type": "stream",
     "text": [
      "Reusing existing downloaded files...\n"
     ]
    },
    {
     "name": "stderr",
     "output_type": "stream",
     "text": [
      "\u001b[32mLoading ratings 100%|███████████████████████████████████| Time: 0:00:06\u001b[39m\n"
     ]
    }
   ],
   "source": [
    "rating_set = load_small_movielens_dataset();"
   ]
  },
  {
   "cell_type": "code",
   "execution_count": 19,
   "metadata": {
    "collapsed": false,
    "nbpresent": {
     "id": "0a04c7fc-c67f-4b4b-aa03-32900cb5651e"
    }
   },
   "outputs": [
    {
     "data": {
      "text/plain": [
       "4-element Array{Symbol,1}:\n",
       " :training_set \n",
       " :test_set     \n",
       " :user_to_index\n",
       " :item_to_index"
      ]
     },
     "execution_count": 19,
     "metadata": {},
     "output_type": "execute_result"
    }
   ],
   "source": [
    "fieldnames(rating_set)"
   ]
  },
  {
   "cell_type": "code",
   "execution_count": 20,
   "metadata": {
    "collapsed": false,
    "nbpresent": {
     "id": "c4456c31-299a-4f3a-9ad1-b9544ce009bd"
    }
   },
   "outputs": [
    {
     "data": {
      "text/plain": [
       "900188-element Array{IncrementalSVD.Rating,1}:\n",
       " IncrementalSVD.Rating(4887, 211, 5.0) \n",
       " IncrementalSVD.Rating(411, 2694, 4.0) \n",
       " IncrementalSVD.Rating(5428, 504, 4.0) \n",
       " IncrementalSVD.Rating(479, 559, 2.0)  \n",
       " IncrementalSVD.Rating(454, 468, 5.0)  \n",
       " IncrementalSVD.Rating(2018, 1128, 5.0)\n",
       " IncrementalSVD.Rating(400, 52, 3.0)   \n",
       " IncrementalSVD.Rating(3585, 2638, 3.0)\n",
       " IncrementalSVD.Rating(984, 771, 4.0)  \n",
       " IncrementalSVD.Rating(1220, 1827, 3.0)\n",
       " IncrementalSVD.Rating(165, 14, 3.0)   \n",
       " IncrementalSVD.Rating(5526, 2626, 4.0)\n",
       " IncrementalSVD.Rating(5182, 2956, 4.0)\n",
       " ⋮                                     \n",
       " IncrementalSVD.Rating(2038, 795, 4.0) \n",
       " IncrementalSVD.Rating(5054, 154, 4.0) \n",
       " IncrementalSVD.Rating(1272, 1076, 5.0)\n",
       " IncrementalSVD.Rating(1097, 536, 4.0) \n",
       " IncrementalSVD.Rating(2676, 1606, 4.0)\n",
       " IncrementalSVD.Rating(463, 609, 3.0)  \n",
       " IncrementalSVD.Rating(5035, 529, 4.0) \n",
       " IncrementalSVD.Rating(1579, 1086, 2.0)\n",
       " IncrementalSVD.Rating(2063, 2576, 3.0)\n",
       " IncrementalSVD.Rating(2245, 518, 5.0) \n",
       " IncrementalSVD.Rating(1835, 1476, 5.0)\n",
       " IncrementalSVD.Rating(2172, 1191, 1.0)"
      ]
     },
     "execution_count": 20,
     "metadata": {},
     "output_type": "execute_result"
    }
   ],
   "source": [
    "# The format is (user, movie, mark)\n",
    "rating_set.training_set"
   ]
  },
  {
   "cell_type": "code",
   "execution_count": 21,
   "metadata": {
    "collapsed": false,
    "nbpresent": {
     "id": "227f2334-6846-4dda-a3f7-a3672a820ea7"
    }
   },
   "outputs": [
    {
     "data": {
      "text/plain": [
       "100021-element Array{IncrementalSVD.Rating,1}:\n",
       " IncrementalSVD.Rating(2589, 1107, 3.0)\n",
       " IncrementalSVD.Rating(933, 105, 3.0)  \n",
       " IncrementalSVD.Rating(4277, 110, 5.0) \n",
       " IncrementalSVD.Rating(4345, 535, 4.0) \n",
       " IncrementalSVD.Rating(5569, 640, 4.0) \n",
       " IncrementalSVD.Rating(4169, 1136, 3.0)\n",
       " IncrementalSVD.Rating(1617, 877, 4.0) \n",
       " IncrementalSVD.Rating(1246, 789, 5.0) \n",
       " IncrementalSVD.Rating(5312, 1104, 3.0)\n",
       " IncrementalSVD.Rating(202, 397, 4.0)  \n",
       " IncrementalSVD.Rating(6036, 264, 4.0) \n",
       " IncrementalSVD.Rating(3874, 865, 5.0) \n",
       " IncrementalSVD.Rating(466, 291, 4.0)  \n",
       " ⋮                                     \n",
       " IncrementalSVD.Rating(5831, 749, 4.0) \n",
       " IncrementalSVD.Rating(1968, 2389, 1.0)\n",
       " IncrementalSVD.Rating(2445, 433, 5.0) \n",
       " IncrementalSVD.Rating(4258, 1848, 3.0)\n",
       " IncrementalSVD.Rating(3965, 292, 2.0) \n",
       " IncrementalSVD.Rating(2773, 62, 4.0)  \n",
       " IncrementalSVD.Rating(5318, 433, 3.0) \n",
       " IncrementalSVD.Rating(472, 289, 5.0)  \n",
       " IncrementalSVD.Rating(1780, 1241, 4.0)\n",
       " IncrementalSVD.Rating(2068, 1713, 4.0)\n",
       " IncrementalSVD.Rating(837, 946, 3.0)  \n",
       " IncrementalSVD.Rating(2167, 1990, 4.0)"
      ]
     },
     "execution_count": 21,
     "metadata": {},
     "output_type": "execute_result"
    }
   ],
   "source": [
    "rating_set.test_set"
   ]
  },
  {
   "cell_type": "code",
   "execution_count": 22,
   "metadata": {
    "collapsed": false,
    "nbpresent": {
     "id": "eda35ea4-4078-4458-b92d-6c616d4809bf"
    },
    "scrolled": true
   },
   "outputs": [
    {
     "data": {
      "text/plain": [
       "Dict{AbstractString,Int32} with 6040 entries:\n",
       "  \"4304\" => 4304\n",
       "  \"3935\" => 3935\n",
       "  \"5422\" => 5422\n",
       "  \"5734\" => 5734\n",
       "  \"2243\" => 2243\n",
       "  \"1881\" => 1881\n",
       "  \"5425\" => 5425\n",
       "  \"4209\" => 4209\n",
       "  \"1907\" => 1907\n",
       "  \"2923\" => 2923\n",
       "  \"599\"  => 599\n",
       "  \"2491\" => 2491\n",
       "  \"5944\" => 5944\n",
       "  \"228\"  => 228\n",
       "  \"2590\" => 2590\n",
       "  \"3697\" => 3697\n",
       "  \"5031\" => 5031\n",
       "  \"2579\" => 2579\n",
       "  \"5551\" => 5551\n",
       "  \"1880\" => 1880\n",
       "  \"2562\" => 2562\n",
       "  \"3215\" => 3215\n",
       "  \"3991\" => 3991\n",
       "  \"4652\" => 4652\n",
       "  \"4088\" => 4088\n",
       "  ⋮      => ⋮"
      ]
     },
     "execution_count": 22,
     "metadata": {},
     "output_type": "execute_result"
    }
   ],
   "source": [
    "# Users and their IDs\n",
    "rating_set.user_to_index"
   ]
  },
  {
   "cell_type": "code",
   "execution_count": 23,
   "metadata": {
    "collapsed": false,
    "nbpresent": {
     "id": "b617e472-3cbb-4dac-b889-0ede4baa5299"
    },
    "scrolled": true
   },
   "outputs": [
    {
     "data": {
      "text/plain": [
       "Dict{AbstractString,Int32} with 3706 entries:\n",
       "  \"Fried Green Tomatoes (1991)\"                                       => 594\n",
       "  \"Milk Money (1994)\"                                                 => 1361\n",
       "  \"From Russia with Love (1963)\"                                      => 729\n",
       "  \"House II: The Second Story (1987)\"                                 => 1247\n",
       "  \"Held Up (2000)\"                                                    => 3549\n",
       "  \"Missing in Action 2: The Beginning (1985)\"                         => 2177\n",
       "  \"Murder, My Sweet (1944)\"                                           => 996\n",
       "  \"Hidden, The (1987)\"                                                => 981\n",
       "  \"Cable Guy, The (1996)\"                                             => 669\n",
       "  \"Big Kahuna, The (2000)\"                                            => 893\n",
       "  \"Addams Family Values (1993)\"                                       => 1857\n",
       "  \"Farinelli: il castrato (1994)\"                                     => 1945\n",
       "  \"Education of Little Tree, The (1997)\"                              => 2759\n",
       "  \"In God's Hands (1998)\"                                             => 2814\n",
       "  \"Last Man Standing (1996)\"                                          => 1840\n",
       "  \"Sixth Sense, The (1999)\"                                           => 39\n",
       "  \"Star Maps (1997)\"                                                  => 2670\n",
       "  \"Girl, Interrupted (1999)\"                                          => 32\n",
       "  \"Stand by Me (1986)\"                                                => 85\n",
       "  \"Rob Roy (1995)\"                                                    => 449\n",
       "  \"Caligula (1980)\"                                                   => 2532\n",
       "  \"Flirting With Disaster (1996)\"                                     => 1290\n",
       "  \"Hook (1991)\"                                                       => 657\n",
       "  \"Institute Benjamenta, or This Dream People Call Human Life (1995)\" => 3397\n",
       "  \"Way We Were, The (1973)\"                                           => 762\n",
       "  ⋮                                                                   => ⋮"
      ]
     },
     "execution_count": 23,
     "metadata": {},
     "output_type": "execute_result"
    }
   ],
   "source": [
    "# Movies and their IDs\n",
    "rating_set.item_to_index"
   ]
  },
  {
   "cell_type": "code",
   "execution_count": 24,
   "metadata": {
    "collapsed": false,
    "nbpresent": {
     "id": "2de54f0f-448a-431f-a6b4-fabdafe1c663"
    },
    "scrolled": true
   },
   "outputs": [
    {
     "data": {
      "text/plain": [
       "Base.KeyIterator for a Dict{AbstractString,Int32} with 3706 entries. Keys:\n",
       "  \"Fried Green Tomatoes (1991)\"\n",
       "  \"Milk Money (1994)\"\n",
       "  \"From Russia with Love (1963)\"\n",
       "  \"House II: The Second Story (1987)\"\n",
       "  \"Held Up (2000)\"\n",
       "  \"Missing in Action 2: The Beginning (1985)\"\n",
       "  \"Murder, My Sweet (1944)\"\n",
       "  \"Hidden, The (1987)\"\n",
       "  \"Cable Guy, The (1996)\"\n",
       "  \"Big Kahuna, The (2000)\"\n",
       "  \"Addams Family Values (1993)\"\n",
       "  \"Farinelli: il castrato (1994)\"\n",
       "  \"Education of Little Tree, The (1997)\"\n",
       "  \"In God's Hands (1998)\"\n",
       "  \"Last Man Standing (1996)\"\n",
       "  \"Sixth Sense, The (1999)\"\n",
       "  \"Star Maps (1997)\"\n",
       "  \"Girl, Interrupted (1999)\"\n",
       "  \"Stand by Me (1986)\"\n",
       "  \"Rob Roy (1995)\"\n",
       "  \"Caligula (1980)\"\n",
       "  \"Flirting With Disaster (1996)\"\n",
       "  \"Hook (1991)\"\n",
       "  \"Institute Benjamenta, or This Dream People Call Human Life (1995)\"\n",
       "  ⋮"
      ]
     },
     "execution_count": 24,
     "metadata": {},
     "output_type": "execute_result"
    }
   ],
   "source": [
    "# We can extract the titles ...\n",
    "keys(rating_set.item_to_index)"
   ]
  },
  {
   "cell_type": "code",
   "execution_count": 25,
   "metadata": {
    "collapsed": false,
    "nbpresent": {
     "id": "78d27a10-f1f4-4d6e-9d23-e5e734f61466"
    }
   },
   "outputs": [
    {
     "data": {
      "text/plain": [
       "Base.ValueIterator for a Dict{AbstractString,Int32} with 3706 entries. Values:\n",
       "  594\n",
       "  1361\n",
       "  729\n",
       "  1247\n",
       "  3549\n",
       "  2177\n",
       "  996\n",
       "  981\n",
       "  669\n",
       "  893\n",
       "  1857\n",
       "  1945\n",
       "  2759\n",
       "  2814\n",
       "  1840\n",
       "  39\n",
       "  2670\n",
       "  32\n",
       "  85\n",
       "  449\n",
       "  2532\n",
       "  1290\n",
       "  657\n",
       "  3397\n",
       "  ⋮"
      ]
     },
     "execution_count": 25,
     "metadata": {},
     "output_type": "execute_result"
    }
   ],
   "source": [
    "# or codes\n",
    "values(rating_set.item_to_index)"
   ]
  },
  {
   "cell_type": "code",
   "execution_count": 26,
   "metadata": {
    "collapsed": false,
    "nbpresent": {
     "id": "d4c4b874-0934-45e3-bd91-ccb28e97ef46"
    }
   },
   "outputs": [
    {
     "data": {
      "text/plain": [
       "97-element Array{Tuple{Pair{Int32,SubString{String}},Float32},1}:\n",
       " (2177=>\"Missing in Action 2: The Beginning (1985)\", 5.0)     \n",
       " (3283=>\"Jamaica Inn (1939)\", 5.0)                            \n",
       " (802=>\"Holy Man (1998)\", 5.0)                                \n",
       " (2427=>\"Morning After, The (1986)\", 5.0)                     \n",
       " (2051=>\"Bread and Chocolate (Pane e cioccolata) (1973)\", 5.0)\n",
       " (772=>\"Jerk, The (1979)\", 5.0)                               \n",
       " (1527=>\"Sliding Doors (1998)\", 5.0)                          \n",
       " (854=>\"Titan A.E. (2000)\", 5.0)                              \n",
       " (3176=>\"Goodbye, Lover (1999)\", 5.0)                         \n",
       " (530=>\"Sling Blade (1996)\", 5.0)                             \n",
       " (2861=>\"Tales of Terror (1962)\", 5.0)                        \n",
       " (2611=>\"Dersu Uzala (1974)\", 5.0)                            \n",
       " (1524=>\"Fantasia 2000 (1999)\", 4.0)                          \n",
       " ⋮                                                            \n",
       " (2496=>\"Poison Ivy: New Seduction (1997)\", 2.0)              \n",
       " (2885=>\"Major League: Back to the Minors (1998)\", 2.0)       \n",
       " (3388=>\"Slaughterhouse 2 (1988)\", 2.0)                       \n",
       " (406=>\"Keeping the Faith (2000)\", 1.0)                       \n",
       " (1449=>\"It Happened One Night (1934)\", 1.0)                  \n",
       " (2984=>\"Steam: The Turkish Bath (Hamam) (1997)\", 1.0)        \n",
       " (2461=>\"Meet Wally Sparks (1997)\", 1.0)                      \n",
       " (2247=>\"Dear Diary (Caro Diario) (1994)\", 1.0)               \n",
       " (1314=>\"Stripes (1981)\", 1.0)                                \n",
       " (126=>\"Con Air (1997)\", 1.0)                                 \n",
       " (3580=>\"Sprung (1997)\", 1.0)                                 \n",
       " (519=>\"Time to Kill, A (1996)\", 1.0)                         "
      ]
     },
     "execution_count": 26,
     "metadata": {},
     "output_type": "execute_result"
    }
   ],
   "source": [
    "# Which movies did the user \"3000\" grade?\n",
    "user_ratings(rating_set, \"3000\")"
   ]
  },
  {
   "cell_type": "code",
   "execution_count": 27,
   "metadata": {
    "collapsed": false,
    "nbpresent": {
     "id": "d3cf851c-af8c-4b79-8f2f-7d01530a4516"
    }
   },
   "outputs": [
    {
     "name": "stdout",
     "output_type": "stream",
     "text": [
      "Sling Blade (1996)\n",
      "Blade (1998)\n",
      "Blade Runner (1982)\n",
      "Some Folks Call It a Sling Blade (1993)\n"
     ]
    },
    {
     "ename": "LoadError",
     "evalue": "\u001b[91mUnicodeError: invalid character index 12 (0xb3 is a continuation byte)\u001b[39m",
     "output_type": "error",
     "traceback": [
      "\u001b[91mUnicodeError: invalid character index 12 (0xb3 is a continuation byte)\u001b[39m",
      "",
      "Stacktrace:",
      " [1] \u001b[1mslow_utf8_next\u001b[22m\u001b[22m\u001b[1m(\u001b[22m\u001b[22m::Ptr{UInt8}, ::UInt8, ::Int64, ::Int64\u001b[1m)\u001b[22m\u001b[22m at \u001b[1m./strings/string.jl:172\u001b[22m\u001b[22m",
      " [2] \u001b[1mnext\u001b[22m\u001b[22m at \u001b[1m./strings/string.jl:204\u001b[22m\u001b[22m [inlined]",
      " [3] \u001b[1mnext\u001b[22m\u001b[22m\u001b[1m(\u001b[22m\u001b[22m::SubString{String}, ::Int64\u001b[1m)\u001b[22m\u001b[22m at \u001b[1m./strings/types.jl:51\u001b[22m\u001b[22m",
      " [4] \u001b[1msearch\u001b[22m\u001b[22m\u001b[1m(\u001b[22m\u001b[22m::SubString{String}, ::Char, ::Int64\u001b[1m)\u001b[22m\u001b[22m at \u001b[1m./strings/search.jl:36\u001b[22m\u001b[22m",
      " [5] \u001b[1m_searchindex\u001b[22m\u001b[22m\u001b[1m(\u001b[22m\u001b[22m::SubString{String}, ::String, ::Int64\u001b[1m)\u001b[22m\u001b[22m at \u001b[1m./strings/search.jl:55\u001b[22m\u001b[22m",
      " [6] \u001b[1mcontains\u001b[22m\u001b[22m\u001b[1m(\u001b[22m\u001b[22m::SubString{String}, ::String\u001b[1m)\u001b[22m\u001b[22m at \u001b[1m./strings/search.jl:378\u001b[22m\u001b[22m",
      " [7] \u001b[1mmacro expansion\u001b[22m\u001b[22m at \u001b[1m./In[27]:3\u001b[22m\u001b[22m [inlined]",
      " [8] \u001b[1manonymous\u001b[22m\u001b[22m at \u001b[1m./<missing>:?\u001b[22m\u001b[22m",
      " [9] \u001b[1minclude_string\u001b[22m\u001b[22m\u001b[1m(\u001b[22m\u001b[22m::String, ::String\u001b[1m)\u001b[22m\u001b[22m at \u001b[1m./loading.jl:522\u001b[22m\u001b[22m"
     ]
    }
   ],
   "source": [
    "# Let us find the exact title and code for \"Blade Runner\"\n",
    "for k in keys(rating_set.item_to_index)\n",
    "    if contains(k,\"Blade\")\n",
    "        println(k)\n",
    "    end\n",
    "end"
   ]
  },
  {
   "cell_type": "code",
   "execution_count": 28,
   "metadata": {
    "collapsed": false,
    "nbpresent": {
     "id": "f9f29054-8d7f-4779-b29c-aa3834e2de8f"
    }
   },
   "outputs": [
    {
     "data": {
      "text/plain": [
       "744"
      ]
     },
     "execution_count": 28,
     "metadata": {},
     "output_type": "execute_result"
    }
   ],
   "source": [
    "get(rating_set.item_to_index,\"Blade Runner (1982)\",0)"
   ]
  },
  {
   "cell_type": "code",
   "execution_count": 29,
   "metadata": {
    "collapsed": false,
    "nbpresent": {
     "id": "1251af52-47ea-4d0f-a8e8-586a1f5517af"
    }
   },
   "outputs": [
    {
     "ename": "LoadError",
     "evalue": "\u001b[91mMethodError: no method matching contains(::Pair{Int32,SubString{String}}, ::String)\u001b[0m\nClosest candidates are:\n  contains(\u001b[91m::Function\u001b[39m, ::Any, \u001b[91m::Any\u001b[39m) at reduce.jl:664\n  contains(\u001b[91m::AbstractString\u001b[39m, ::AbstractString) at strings/search.jl:378\u001b[39m",
     "output_type": "error",
     "traceback": [
      "\u001b[91mMethodError: no method matching contains(::Pair{Int32,SubString{String}}, ::String)\u001b[0m\nClosest candidates are:\n  contains(\u001b[91m::Function\u001b[39m, ::Any, \u001b[91m::Any\u001b[39m) at reduce.jl:664\n  contains(\u001b[91m::AbstractString\u001b[39m, ::AbstractString) at strings/search.jl:378\u001b[39m",
      "",
      "Stacktrace:",
      " [1] \u001b[1mmacro expansion\u001b[22m\u001b[22m at \u001b[1m./In[29]:3\u001b[22m\u001b[22m [inlined]",
      " [2] \u001b[1manonymous\u001b[22m\u001b[22m at \u001b[1m./<missing>:?\u001b[22m\u001b[22m",
      " [3] \u001b[1minclude_string\u001b[22m\u001b[22m\u001b[1m(\u001b[22m\u001b[22m::String, ::String\u001b[1m)\u001b[22m\u001b[22m at \u001b[1m./loading.jl:522\u001b[22m\u001b[22m"
     ]
    }
   ],
   "source": [
    "# Did the user \"3000\" grade \"Blade Runner\" ?\n",
    "for k in user_ratings(rating_set,\"3000\")\n",
    "    if contains(k[1],\"Blade\")\n",
    "        println(k)\n",
    "    end\n",
    "end"
   ]
  },
  {
   "cell_type": "code",
   "execution_count": 30,
   "metadata": {
    "collapsed": false,
    "nbpresent": {
     "id": "97a60042-8c73-46bf-9f9e-66281228aecc"
    }
   },
   "outputs": [
    {
     "ename": "LoadError",
     "evalue": "\u001b[91mMethodError: no method matching contains(::Pair{Int32,SubString{String}}, ::String)\u001b[0m\nClosest candidates are:\n  contains(\u001b[91m::Function\u001b[39m, ::Any, \u001b[91m::Any\u001b[39m) at reduce.jl:664\n  contains(\u001b[91m::AbstractString\u001b[39m, ::AbstractString) at strings/search.jl:378\u001b[39m",
     "output_type": "error",
     "traceback": [
      "\u001b[91mMethodError: no method matching contains(::Pair{Int32,SubString{String}}, ::String)\u001b[0m\nClosest candidates are:\n  contains(\u001b[91m::Function\u001b[39m, ::Any, \u001b[91m::Any\u001b[39m) at reduce.jl:664\n  contains(\u001b[91m::AbstractString\u001b[39m, ::AbstractString) at strings/search.jl:378\u001b[39m",
      "",
      "Stacktrace:",
      " [1] \u001b[1mmacro expansion\u001b[22m\u001b[22m at \u001b[1m./In[30]:3\u001b[22m\u001b[22m [inlined]",
      " [2] \u001b[1manonymous\u001b[22m\u001b[22m at \u001b[1m./<missing>:?\u001b[22m\u001b[22m",
      " [3] \u001b[1minclude_string\u001b[22m\u001b[22m\u001b[1m(\u001b[22m\u001b[22m::String, ::String\u001b[1m)\u001b[22m\u001b[22m at \u001b[1m./loading.jl:522\u001b[22m\u001b[22m"
     ]
    }
   ],
   "source": [
    "# Did the user \"3000\" grade \"Citizen Kane\" ?\n",
    "for k in user_ratings(rating_set,\"3000\")\n",
    "    if contains(k[1],\"Citizen\")\n",
    "        println(k)\n",
    "    end\n",
    "end"
   ]
  },
  {
   "cell_type": "code",
   "execution_count": 31,
   "metadata": {
    "collapsed": false,
    "nbpresent": {
     "id": "883cf538-0f01-4a0a-bd2f-dc14fed20fd0"
    }
   },
   "outputs": [
    {
     "name": "stderr",
     "output_type": "stream",
     "text": [
      "\u001b[32mComputing truncated rank 25 SVD 100%|███████████████████| Time: 0:03:30\u001b[39m\n"
     ]
    }
   ],
   "source": [
    "# This takes about 2.5 - 3.5 minutes\n",
    "model = train(rating_set, 25);"
   ]
  },
  {
   "cell_type": "code",
   "execution_count": 32,
   "metadata": {
    "collapsed": false,
    "nbpresent": {
     "id": "4ab42861-734c-409a-ab8e-0c065328987f"
    }
   },
   "outputs": [
    {
     "data": {
      "text/plain": [
       "5-element Array{Symbol,1}:\n",
       " :user_to_index\n",
       " :item_to_index\n",
       " :U            \n",
       " :S            \n",
       " :V            "
      ]
     },
     "execution_count": 32,
     "metadata": {},
     "output_type": "execute_result"
    }
   ],
   "source": [
    "fieldnames(model)"
   ]
  },
  {
   "cell_type": "code",
   "execution_count": 33,
   "metadata": {
    "collapsed": false,
    "nbpresent": {
     "id": "9175e158-5a25-4d87-8236-0659ef31f3fd"
    }
   },
   "outputs": [
    {
     "data": {
      "text/plain": [
       "6040×25 Array{Float32,2}:\n",
       " 0.0103889   0.0120029    0.0168709    …   0.0158769    0.01233   \n",
       " 0.0144474   0.0114369    0.01046          0.0101324    0.0106126 \n",
       " 0.0107866   0.00910588   0.0163534        0.00670826   0.02098   \n",
       " 0.00651865  0.00644044   0.0152951        0.011859     0.0150761 \n",
       " 0.0136352   0.0152549    0.00175968       0.00628066   0.0100611 \n",
       " 0.0111944   0.017444     0.0156377    …   0.0115868    0.0159377 \n",
       " 0.00798559  0.00724785   0.0180301        0.0185246    0.00868485\n",
       " 0.0152403   0.0147618    0.0105188        0.0135337    0.0129277 \n",
       " 0.0134772   0.0086194    0.0107375        0.0073613    0.00890968\n",
       " 0.0188933   0.0127475   -0.0101799        0.0132478    0.0160951 \n",
       " 0.0131323   0.0112366    0.0092004    …   0.00374553   0.00899902\n",
       " 0.00637089  0.00853249   0.0146444        0.0127608    0.0173463 \n",
       " 0.0125482   0.00996851   0.0126272        0.00664081   0.0157661 \n",
       " ⋮                                     ⋱                          \n",
       " 0.00643649  0.0133206    0.013931         0.018866     0.0193263 \n",
       " 0.015257    0.0114668    0.0140725        0.00686877   0.00839596\n",
       " 0.00926849  0.0105911    0.0169419    …   0.0160268    0.0155223 \n",
       " 0.0148598   0.0141034    0.0125973        0.0119014    0.00984194\n",
       " 0.0107713   0.0102019    0.0175586        0.0168741    0.0117681 \n",
       " 0.00577048  0.0113545    0.0127229        0.0142795    0.0187211 \n",
       " 0.0142099   0.00695023   0.00328239      -0.00843061   0.0155071 \n",
       " 0.0169739   0.0153716   -0.0233768    …  -0.013762     0.00285373\n",
       " 0.0151785   0.0106571    0.000402114      0.00298458   0.0172463 \n",
       " 0.00525416  0.00854403   0.0120993        0.0137217    0.0218643 \n",
       " 0.0144176   0.0179192    0.00817758       0.00532093   0.00734289\n",
       " 0.0158492   0.0163635   -0.0103094        0.00300901  -0.00269434"
      ]
     },
     "execution_count": 33,
     "metadata": {},
     "output_type": "execute_result"
    }
   ],
   "source": [
    "model.U"
   ]
  },
  {
   "cell_type": "code",
   "execution_count": 34,
   "metadata": {
    "collapsed": false,
    "nbpresent": {
     "id": "5f5fef72-581c-4f0a-bdec-2aba63597e82"
    }
   },
   "outputs": [
    {
     "data": {
      "text/plain": [
       "25-element Array{Float32,1}:\n",
       " 8190.01  \n",
       " 2146.8   \n",
       "  832.417 \n",
       " 1146.95  \n",
       "  902.182 \n",
       " 1123.08  \n",
       "  656.133 \n",
       "  348.942 \n",
       "  411.011 \n",
       "  272.862 \n",
       "  234.178 \n",
       "  312.779 \n",
       "  289.596 \n",
       "  304.625 \n",
       "  227.754 \n",
       "  304.305 \n",
       "  244.441 \n",
       "  198.258 \n",
       "  185.093 \n",
       "  173.639 \n",
       "  184.006 \n",
       "  159.783 \n",
       "  152.299 \n",
       "  104.241 \n",
       "   94.8967"
      ]
     },
     "execution_count": 34,
     "metadata": {},
     "output_type": "execute_result"
    }
   ],
   "source": [
    "model.S"
   ]
  },
  {
   "cell_type": "code",
   "execution_count": 35,
   "metadata": {
    "collapsed": false,
    "nbpresent": {
     "id": "57d586fa-798e-44cb-9e81-f87754188ea8"
    }
   },
   "outputs": [
    {
     "data": {
      "text/plain": [
       "3706×25 Array{Float32,2}:\n",
       " 0.0358159   0.00761977  0.0678946   …  -0.0097144     0.00220286\n",
       " 0.0250763   0.0153529   0.0197009       0.00250674    0.00897316\n",
       " 0.0303364   0.0136331   0.0311693      -0.00813252    0.0169969 \n",
       " 0.031914    0.0117044   0.0527089      -0.0119025     0.00203751\n",
       " 0.0312843   0.00763712  0.0555989       0.0137012    -0.0107365 \n",
       " 0.0345707   0.00455098  0.0691735   …  -0.0113717     0.00911906\n",
       " 0.0305654   0.00853922  0.0291378       0.000823119   0.00253488\n",
       " 0.0330744   0.00409456  0.0519298       0.000384519   0.0101533 \n",
       " 0.0288623   0.00805691  0.0235771       0.00547914    0.0159415 \n",
       " 0.0333413   0.0050427   0.0535728      -0.0126028     0.0312711 \n",
       " 0.0300712   0.0053886   0.0386825   …   0.00967363   -0.00881841\n",
       " 0.0168945   0.0282457   0.00881869      0.00195522    0.0164239 \n",
       " 0.0257601   0.0194417   0.0134772       0.0104336     0.00799993\n",
       " ⋮                                   ⋱                           \n",
       " 0.00119613  0.00259929  0.00406258      0.0146313     0.0146631 \n",
       " 0.00113713  0.00238871  0.00384762  …   0.0128755     0.0135607 \n",
       " 0.00112402  0.00224172  0.00367861      0.0107115     0.0112606 \n",
       " 0.00115415  0.00254709  0.00402516      0.0150132     0.0158361 \n",
       " 0.00117324  0.0025692   0.00384309      0.011723      0.0120118 \n",
       " 0.00126289  0.00247103  0.00344077      0.0145682     0.0104851 \n",
       " 0.00120594  0.00262816  0.00407747  …   0.0142579     0.0146939 \n",
       " 0.00139906  0.00291203  0.00400633      0.0163585     0.0180135 \n",
       " 0.00128079  0.00249122  0.00346059      0.0114423     0.0117282 \n",
       " 0.00115513  0.00228168  0.00364631      0.0103681     0.011221  \n",
       " 0.00128482  0.00274784  0.00403506      0.0152683     0.013772  \n",
       " 0.00125238  0.00265324  0.00387281  …   0.0124438     0.0139491 "
      ]
     },
     "execution_count": 35,
     "metadata": {},
     "output_type": "execute_result"
    }
   ],
   "source": [
    "model.V"
   ]
  },
  {
   "cell_type": "code",
   "execution_count": 36,
   "metadata": {
    "collapsed": false,
    "nbpresent": {
     "id": "22056d79-9af6-4ec3-8a7a-32344c7982ef"
    }
   },
   "outputs": [
    {
     "data": {
      "text/plain": [
       "10-element Array{SubString{String},1}:\n",
       " \"Friday the 13th (1980)\"                  \n",
       " \"Amityville Horror, The (1979)\"           \n",
       " \"Jaws 2 (1978)\"                           \n",
       " \"Omen, The (1976)\"                        \n",
       " \"Friday the 13th Part 2 (1981)\"           \n",
       " \"Porky's (1981)\"                          \n",
       " \"Pet Sematary (1989)\"                     \n",
       " \"Cujo (1983)\"                             \n",
       " \"Battle for the Planet of the Apes (1973)\"\n",
       " \"Soylent Green (1973)\"                    "
      ]
     },
     "execution_count": 36,
     "metadata": {},
     "output_type": "execute_result"
    }
   ],
   "source": [
    "similar_items(model, \"Friday the 13th (1980)\")"
   ]
  },
  {
   "cell_type": "code",
   "execution_count": 39,
   "metadata": {
    "collapsed": false,
    "nbpresent": {
     "id": "f5b090ca-1b56-49a2-b3e1-f46e01e28f77"
    }
   },
   "outputs": [
    {
     "data": {
      "text/html": [
       "similar_items(model::<b>IncrementalSVD.RatingsModel</b>, item) at <a href=\"https://github.com/aaw/IncrementalSVD.jl/tree/22f8e54fb9ace73912ae83020c010e4d4bc9791f//src/util.jl#L113\" target=\"_blank\">/home/slap/.julia/v0.6/IncrementalSVD/src/util.jl:113</a>"
      ],
      "text/plain": [
       "similar_items(model::IncrementalSVD.RatingsModel, item) in IncrementalSVD at /home/slap/.julia/v0.6/IncrementalSVD/src/util.jl:113"
      ]
     },
     "execution_count": 39,
     "metadata": {},
     "output_type": "execute_result"
    }
   ],
   "source": [
    "# Take a look at the function\n",
    "@which similar_items(model, \"Friday the 13th (1980)\")"
   ]
  },
  {
   "cell_type": "code",
   "execution_count": 40,
   "metadata": {
    "collapsed": false,
    "nbpresent": {
     "id": "84987c4b-dae3-44b0-a710-91e435d5b13b"
    }
   },
   "outputs": [
    {
     "data": {
      "text/plain": [
       "10-element Array{SubString{String},1}:\n",
       " \"Citizen Kane (1941)\"                                                        \n",
       " \"M*A*S*H (1970)\"                                                             \n",
       " \"Lawrence of Arabia (1962)\"                                                  \n",
       " \"Chinatown (1974)\"                                                           \n",
       " \"Dr. Strangelove or: How I Learned to Stop Worrying and Love the Bomb (1963)\"\n",
       " \"Rear Window (1954)\"                                                         \n",
       " \"Manchurian Candidate, The (1962)\"                                           \n",
       " \"Vertigo (1958)\"                                                             \n",
       " \"Casablanca (1942)\"                                                          \n",
       " \"Apocalypse Now (1979)\"                                                      "
      ]
     },
     "execution_count": 40,
     "metadata": {},
     "output_type": "execute_result"
    }
   ],
   "source": [
    "similar_items(model, \"Citizen Kane (1941)\")"
   ]
  },
  {
   "cell_type": "code",
   "execution_count": 41,
   "metadata": {
    "collapsed": false,
    "nbpresent": {
     "id": "b6f3dae2-a575-42ac-9b64-2ebe7207749d"
    }
   },
   "outputs": [
    {
     "data": {
      "text/plain": [
       "10-element Array{SubString{String},1}:\n",
       " \"3000\"\n",
       " \"2202\"\n",
       " \"5457\"\n",
       " \"1695\"\n",
       " \"5613\"\n",
       " \"3003\"\n",
       " \"5715\"\n",
       " \"3845\"\n",
       " \"1360\"\n",
       " \"4989\""
      ]
     },
     "execution_count": 41,
     "metadata": {},
     "output_type": "execute_result"
    }
   ],
   "source": [
    "similar_users(model,\"3000\")"
   ]
  },
  {
   "cell_type": "code",
   "execution_count": 44,
   "metadata": {
    "collapsed": false,
    "nbpresent": {
     "id": "480f4b30-a821-4873-9007-ba1533569c23"
    }
   },
   "outputs": [
    {
     "data": {
      "text/plain": [
       "4.1628504f0"
      ]
     },
     "execution_count": 44,
     "metadata": {},
     "output_type": "execute_result"
    }
   ],
   "source": [
    "# What is the opinion of user \"3000\" about \"Blade Runner (1982)\" \n",
    "# in the approximate model (no true mark) ?\n",
    "get_predicted_rating(model, \"3000\", \"Blade Runner (1982)\")"
   ]
  },
  {
   "cell_type": "code",
   "execution_count": 45,
   "metadata": {
    "collapsed": false,
    "nbpresent": {
     "id": "f4108b64-09bd-45bc-8528-f1ee6f1e03f8"
    }
   },
   "outputs": [
    {
     "data": {
      "text/plain": [
       "4.0944686f0"
      ]
     },
     "execution_count": 45,
     "metadata": {},
     "output_type": "execute_result"
    }
   ],
   "source": [
    "# What is the opinion of user \"3000\" about \"Citizen Kane (1941)\"\n",
    "# (no true mark!) ?\n",
    "IncrementalSVD.get_predicted_rating(model, \"3000\", \"Citizen Kane (1941)\")"
   ]
  },
  {
   "cell_type": "code",
   "execution_count": 47,
   "metadata": {
    "collapsed": false
   },
   "outputs": [
    {
     "data": {
      "text/plain": [
       "1.682675f0"
      ]
     },
     "execution_count": 47,
     "metadata": {},
     "output_type": "execute_result"
    }
   ],
   "source": [
    "# What is the opinion of user \"3000\" about \"Holy Man (1998)\"\n",
    "# in the approximate model (true mark 5.0) ?\n",
    "IncrementalSVD.get_predicted_rating(model, \"3000\", \"Holy Man (1998)\")"
   ]
  },
  {
   "cell_type": "code",
   "execution_count": 49,
   "metadata": {
    "collapsed": false
   },
   "outputs": [
    {
     "data": {
      "text/plain": [
       "4.089586f0"
      ]
     },
     "execution_count": 49,
     "metadata": {},
     "output_type": "execute_result"
    }
   ],
   "source": [
    "# What is the opinion of user \"3000\" about \"Sling Blade (1996)\"\n",
    "# in the approximate model (true mark 5.0) ?\n",
    "IncrementalSVD.get_predicted_rating(model, \"3000\", \"Sling Blade (1996)\")"
   ]
  },
  {
   "cell_type": "markdown",
   "metadata": {
    "nbpresent": {
     "id": "22a2e6a0-950b-436e-ba76-43bdd7f4e917"
    }
   },
   "source": [
    "## Thank you for you attention\n",
    "\n",
    "### Questions?"
   ]
  },
  {
   "cell_type": "code",
   "execution_count": null,
   "metadata": {
    "collapsed": true,
    "nbpresent": {
     "id": "5a1c181f-cbc4-4c2a-b0a2-ef794b15a4e9"
    }
   },
   "outputs": [],
   "source": []
  }
 ],
 "metadata": {
  "anaconda-cloud": {},
  "kernelspec": {
   "display_name": "Julia 0.6.2",
   "language": "julia",
   "name": "julia-0.6"
  },
  "language_info": {
   "file_extension": ".jl",
   "mimetype": "application/julia",
   "name": "julia",
   "version": "0.6.2"
  },
  "nbpresent": {
   "slides": {
    "1cd0ac1d-c1cb-4af0-a0e8-0b8bad5991ba": {
     "id": "1cd0ac1d-c1cb-4af0-a0e8-0b8bad5991ba",
     "prev": "349d3274-d0eb-4ee7-b382-ce9e6bbcd5c4",
     "regions": {
      "86d9dd72-a9cf-4c44-8e0d-d5002b856393": {
       "attrs": {
        "height": 0.862533692722372,
        "width": 0.8909703504043127,
        "x": 0.05754716981132078,
        "y": 0.06765498652291105
       },
       "content": {
        "cell": "5bd4499f-d408-4ef5-873c-d2af140a3863",
        "part": "whole"
       },
       "id": "86d9dd72-a9cf-4c44-8e0d-d5002b856393"
      }
     }
    },
    "349d3274-d0eb-4ee7-b382-ce9e6bbcd5c4": {
     "id": "349d3274-d0eb-4ee7-b382-ce9e6bbcd5c4",
     "prev": "ba488065-74e0-4b8c-98a7-fb8558e1154a",
     "regions": {
      "bd479cc5-076a-4e06-a106-2630ef5ea0c9": {
       "attrs": {
        "height": 0.862533692722372,
        "width": 0.8909703504043127,
        "x": 0.05754716981132078,
        "y": 0.06765498652291105
       },
       "content": {
        "cell": "8e161bdf-c2f4-457b-aa37-87cb7b94a62a",
        "part": "whole"
       },
       "id": "bd479cc5-076a-4e06-a106-2630ef5ea0c9"
      }
     }
    },
    "3f48ce7c-7017-4233-8825-085ad960ed2c": {
     "id": "3f48ce7c-7017-4233-8825-085ad960ed2c",
     "prev": "46500afe-d3ad-4c04-99c1-e4a629ff80fa",
     "regions": {
      "8732f081-c5cf-4ee8-9f9e-23836dd39254": {
       "attrs": {
        "height": 0.862533692722372,
        "width": 0.8909703504043127,
        "x": 0.05754716981132078,
        "y": 0.06765498652291105
       },
       "content": {
        "cell": "0dc62bf7-111e-4a65-aa8f-d581ccc78705",
        "part": "whole"
       },
       "id": "8732f081-c5cf-4ee8-9f9e-23836dd39254"
      }
     }
    },
    "46500afe-d3ad-4c04-99c1-e4a629ff80fa": {
     "id": "46500afe-d3ad-4c04-99c1-e4a629ff80fa",
     "prev": "5893a45f-1a1b-4718-95ce-e884db795854",
     "regions": {
      "76b1f58a-d0f8-4c33-a07c-7c9b7df69728": {
       "attrs": {
        "height": 0.862533692722372,
        "width": 0.8909703504043127,
        "x": 0.05754716981132078,
        "y": 0.06765498652291105
       },
       "content": {
        "cell": "310609df-23c9-43d4-be57-c9e837921be5",
        "part": "whole"
       },
       "id": "76b1f58a-d0f8-4c33-a07c-7c9b7df69728"
      }
     }
    },
    "5893a45f-1a1b-4718-95ce-e884db795854": {
     "id": "5893a45f-1a1b-4718-95ce-e884db795854",
     "prev": "1cd0ac1d-c1cb-4af0-a0e8-0b8bad5991ba",
     "regions": {
      "7c4ffea1-5019-4513-8e16-11661129e1ac": {
       "attrs": {
        "height": 0.862533692722372,
        "width": 0.8909703504043127,
        "x": 0.05754716981132078,
        "y": 0.06765498652291105
       },
       "content": {
        "cell": "95e8dd12-5e61-4c6e-903e-21d9933c61d6",
        "part": "whole"
       },
       "id": "7c4ffea1-5019-4513-8e16-11661129e1ac"
      }
     }
    },
    "8d8ecace-4749-46a8-be9f-51a1eb805331": {
     "id": "8d8ecace-4749-46a8-be9f-51a1eb805331",
     "prev": "cb28b9cd-b502-4716-9f7b-56621414d63d",
     "regions": {
      "32c0514e-1a19-4fb7-8fbd-ead249f4b14c": {
       "attrs": {
        "height": 0.862533692722372,
        "width": 0.8909703504043127,
        "x": 0.05754716981132078,
        "y": 0.06765498652291105
       },
       "content": {
        "cell": "5b02d01f-08b5-41cf-ae99-5c997f1618ad",
        "part": "whole"
       },
       "id": "32c0514e-1a19-4fb7-8fbd-ead249f4b14c"
      }
     }
    },
    "9418d3f9-1ec7-4989-8e56-dab8e0a74445": {
     "id": "9418d3f9-1ec7-4989-8e56-dab8e0a74445",
     "prev": "8d8ecace-4749-46a8-be9f-51a1eb805331",
     "regions": {
      "16ced40a-d165-41cb-bf8d-8e29cce20e1b": {
       "attrs": {
        "height": 0.862533692722372,
        "width": 0.8909703504043127,
        "x": 0.05754716981132078,
        "y": 0.06765498652291105
       },
       "content": {
        "cell": "4c3647c8-bf68-4fc7-9494-d11fdb86327f",
        "part": "whole"
       },
       "id": "16ced40a-d165-41cb-bf8d-8e29cce20e1b"
      }
     }
    },
    "b957b398-0d2c-4847-b361-fa13259afa90": {
     "id": "b957b398-0d2c-4847-b361-fa13259afa90",
     "prev": "3f48ce7c-7017-4233-8825-085ad960ed2c",
     "regions": {
      "25fb7865-d4e1-4171-b87c-555050a5ca6d": {
       "attrs": {
        "height": 0.862533692722372,
        "width": 0.8909703504043127,
        "x": 0.05754716981132078,
        "y": 0.06765498652291105
       },
       "content": {
        "cell": "4944f869-4080-4947-a6ad-a08c3f2dc6b8",
        "part": "whole"
       },
       "id": "25fb7865-d4e1-4171-b87c-555050a5ca6d"
      }
     }
    },
    "ba488065-74e0-4b8c-98a7-fb8558e1154a": {
     "id": "ba488065-74e0-4b8c-98a7-fb8558e1154a",
     "prev": "bb7e38c1-de6d-4306-8ae3-b5fe3f93bff6",
     "regions": {
      "cb304583-e2bf-48c2-99f0-16105f750e23": {
       "attrs": {
        "height": 0.862533692722372,
        "width": 0.8909703504043127,
        "x": 0.05754716981132078,
        "y": 0.06765498652291105
       },
       "content": {
        "cell": "ec4afe08-74b2-4219-b379-b3a4cfb185c9",
        "part": "whole"
       },
       "id": "cb304583-e2bf-48c2-99f0-16105f750e23"
      }
     }
    },
    "bb7e38c1-de6d-4306-8ae3-b5fe3f93bff6": {
     "id": "bb7e38c1-de6d-4306-8ae3-b5fe3f93bff6",
     "prev": "9418d3f9-1ec7-4989-8e56-dab8e0a74445",
     "regions": {
      "7635dca9-5603-4d55-a537-8399529bde25": {
       "attrs": {
        "height": 0.862533692722372,
        "width": 0.8909703504043127,
        "x": 0.05754716981132078,
        "y": 0.06765498652291105
       },
       "content": {
        "cell": "d194cf53-622d-4d19-a5ea-7bfb4e7cedf1",
        "part": "whole"
       },
       "id": "7635dca9-5603-4d55-a537-8399529bde25"
      }
     }
    },
    "cb28b9cd-b502-4716-9f7b-56621414d63d": {
     "id": "cb28b9cd-b502-4716-9f7b-56621414d63d",
     "prev": null,
     "regions": {
      "f6aa654d-8688-4646-b714-4cc31e207a0e": {
       "attrs": {
        "height": 0.862533692722372,
        "width": 0.8909703504043127,
        "x": 0.05754716981132078,
        "y": 0.06765498652291105
       },
       "content": {
        "cell": "c8a714c5-14b1-4002-862d-8f81edb5674c",
        "part": "whole"
       },
       "id": "f6aa654d-8688-4646-b714-4cc31e207a0e"
      }
     }
    },
    "d1341b75-44ac-4088-af3c-800b55d8ae03": {
     "id": "d1341b75-44ac-4088-af3c-800b55d8ae03",
     "prev": "b957b398-0d2c-4847-b361-fa13259afa90",
     "regions": {
      "042a2844-bd34-4957-af39-c824c7198b77": {
       "attrs": {
        "height": 0.862533692722372,
        "width": 0.8909703504043127,
        "x": 0.05754716981132078,
        "y": 0.06765498652291105
       },
       "content": {
        "cell": "22a2e6a0-950b-436e-ba76-43bdd7f4e917",
        "part": "whole"
       },
       "id": "042a2844-bd34-4957-af39-c824c7198b77"
      }
     }
    }
   },
   "themes": {
    "default": "12eec1f4-2448-4fdf-9ec4-8075829abdca",
    "theme": {
     "12eec1f4-2448-4fdf-9ec4-8075829abdca": {
      "id": "12eec1f4-2448-4fdf-9ec4-8075829abdca",
      "palette": {
       "19cc588f-0593-49c9-9f4b-e4d7cc113b1c": {
        "id": "19cc588f-0593-49c9-9f4b-e4d7cc113b1c",
        "rgb": [
         252,
         252,
         252
        ]
       },
       "31af15d2-7e15-44c5-ab5e-e04b16a89eff": {
        "id": "31af15d2-7e15-44c5-ab5e-e04b16a89eff",
        "rgb": [
         68,
         68,
         68
        ]
       },
       "50f92c45-a630-455b-aec3-788680ec7410": {
        "id": "50f92c45-a630-455b-aec3-788680ec7410",
        "rgb": [
         155,
         177,
         192
        ]
       },
       "c5cc3653-2ee1-402a-aba2-7caae1da4f6c": {
        "id": "c5cc3653-2ee1-402a-aba2-7caae1da4f6c",
        "rgb": [
         43,
         126,
         184
        ]
       },
       "efa7f048-9acb-414c-8b04-a26811511a21": {
        "id": "efa7f048-9acb-414c-8b04-a26811511a21",
        "rgb": [
         25.118061674008803,
         73.60176211453744,
         107.4819383259912
        ]
       }
      },
      "rules": {
       "blockquote": {
        "color": "50f92c45-a630-455b-aec3-788680ec7410"
       },
       "code": {
        "font-family": "Anonymous Pro"
       },
       "h1": {
        "color": "c5cc3653-2ee1-402a-aba2-7caae1da4f6c",
        "font-family": "Lato",
        "font-size": 8
       },
       "h2": {
        "color": "c5cc3653-2ee1-402a-aba2-7caae1da4f6c",
        "font-family": "Lato",
        "font-size": 6
       },
       "h3": {
        "color": "50f92c45-a630-455b-aec3-788680ec7410",
        "font-family": "Lato",
        "font-size": 5.5
       },
       "h4": {
        "color": "c5cc3653-2ee1-402a-aba2-7caae1da4f6c",
        "font-family": "Lato",
        "font-size": 5
       },
       "h5": {
        "font-family": "Lato"
       },
       "h6": {
        "font-family": "Lato"
       },
       "h7": {
        "font-family": "Lato"
       },
       "pre": {
        "font-family": "Anonymous Pro",
        "font-size": 4
       }
      },
      "text-base": {
       "font-family": "Merriweather",
       "font-size": 4
      }
     },
     "513c8753-d394-4ff4-95ce-f452e39334f5": {
      "backgrounds": {
       "backgroundColor": {
        "background-color": "backgroundColor",
        "id": "backgroundColor"
       }
      },
      "id": "513c8753-d394-4ff4-95ce-f452e39334f5",
      "palette": {
       "backgroundColor": {
        "id": "backgroundColor",
        "rgb": [
         17,
         17,
         17
        ]
       },
       "headingColor": {
        "id": "headingColor",
        "rgb": [
         238,
         238,
         238
        ]
       },
       "linkColor": {
        "id": "linkColor",
        "rgb": [
         231,
         173,
         82
        ]
       },
       "mainColor": {
        "id": "mainColor",
        "rgb": [
         238,
         238,
         238
        ]
       }
      },
      "rules": {
       "a": {
        "color": "linkColor"
       },
       "h1": {
        "color": "headingColor",
        "font-family": "Montserrat",
        "font-size": 7
       },
       "h2": {
        "color": "headingColor",
        "font-family": "Montserrat",
        "font-size": 5
       },
       "h3": {
        "color": "headingColor",
        "font-family": "Montserrat",
        "font-size": 3.75
       },
       "h4": {
        "color": "headingColor",
        "font-family": "Montserrat",
        "font-size": 3
       },
       "h5": {
        "color": "headingColor",
        "font-family": "Montserrat"
       },
       "h6": {
        "color": "headingColor",
        "font-family": "Montserrat"
       },
       "h7": {
        "color": "headingColor",
        "font-family": "Montserrat"
       },
       "li": {
        "color": "mainColor",
        "font-family": "Open Sans",
        "font-size": 4
       },
       "p": {
        "color": "mainColor",
        "font-family": "Open Sans",
        "font-size": 4
       }
      },
      "text-base": {
       "color": "mainColor",
       "font-family": "Open Sans",
       "font-size": 4
      }
     },
     "82f1c284-7368-467d-81a6-51fa90d6c991": {
      "backgrounds": {
       "backgroundColor": {
        "background-color": "backgroundColor",
        "id": "backgroundColor"
       }
      },
      "id": "82f1c284-7368-467d-81a6-51fa90d6c991",
      "palette": {
       "backgroundColor": {
        "id": "backgroundColor",
        "rgb": [
         17,
         17,
         17
        ]
       },
       "headingColor": {
        "id": "headingColor",
        "rgb": [
         238,
         238,
         238
        ]
       },
       "linkColor": {
        "id": "linkColor",
        "rgb": [
         231,
         173,
         82
        ]
       },
       "mainColor": {
        "id": "mainColor",
        "rgb": [
         238,
         238,
         238
        ]
       }
      },
      "rules": {
       "a": {
        "color": "linkColor"
       },
       "h1": {
        "color": "headingColor",
        "font-family": "Montserrat",
        "font-size": 7
       },
       "h2": {
        "color": "headingColor",
        "font-family": "Montserrat",
        "font-size": 5
       },
       "h3": {
        "color": "headingColor",
        "font-family": "Montserrat",
        "font-size": 3.75
       },
       "h4": {
        "color": "headingColor",
        "font-family": "Montserrat",
        "font-size": 3
       },
       "h5": {
        "color": "headingColor",
        "font-family": "Montserrat"
       },
       "h6": {
        "color": "headingColor",
        "font-family": "Montserrat"
       },
       "h7": {
        "color": "headingColor",
        "font-family": "Montserrat"
       },
       "li": {
        "color": "mainColor",
        "font-family": "Open Sans",
        "font-size": 4
       },
       "p": {
        "color": "mainColor",
        "font-family": "Open Sans",
        "font-size": 4
       }
      },
      "text-base": {
       "color": "mainColor",
       "font-family": "Open Sans",
       "font-size": 4
      }
     }
    }
   }
  }
 },
 "nbformat": 4,
 "nbformat_minor": 1
}
