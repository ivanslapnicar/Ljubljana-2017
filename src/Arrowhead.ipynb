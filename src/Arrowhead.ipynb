{
 "cells": [
  {
   "cell_type": "markdown",
   "metadata": {
    "nbpresent": {
     "id": "c8a714c5-14b1-4002-862d-8f81edb5674c"
    },
    "slideshow": {
     "slide_type": "slide"
    }
   },
   "source": [
    "## Forward stable eigenvalue decomposition of real symmetric arrowhead matrices and rank-one modifications of diagonal matrices\n",
    "\n",
    "Fakulteta za matematiko in fiziko - Univerza v Ljubljani\n",
    "\n",
    "\n",
    "Ivan Slapničar, Sveučilište u Splitu, FESB\n",
    "\n",
    "April 19, 2017"
   ]
  },
  {
   "cell_type": "markdown",
   "metadata": {
    "nbpresent": {
     "id": "fc9bb354-30c5-40b2-b569-1a31452ff488"
    },
    "slideshow": {
     "slide_type": "slide"
    }
   },
   "source": [
    "### Outline\n",
    "\n",
    "* Algorithms, errors and perturbation theory\n",
    "* Eigenvalue problem and perturbation theory\n",
    "* Standard algorithms and errors\n",
    "* Arrowhead matrices\n",
    "    * inverses\n",
    "    * algorithm and errors\n",
    "    * SVD\n",
    "* DPR1 matrices - algorithms and errors\n",
    "* Deflation"
   ]
  },
  {
   "cell_type": "markdown",
   "metadata": {
    "collapsed": true,
    "nbpresent": {
     "id": "4c3647c8-bf68-4fc7-9494-d11fdb86327f"
    }
   },
   "source": [
    "### Algorithms, errors and perturbations\n",
    "\n",
    "Let the value of the function $f(x)$ be computed using $\\mathrm{alg(x)}$.\n",
    "\n",
    "__The (forward) error__ is\n",
    "\n",
    "$$\n",
    "\\|\\mathrm{alg(x)}-f(x)\\|,\n",
    "$$\n",
    "\n",
    "and __the relative error__ is \n",
    "\n",
    "$$\n",
    "\\frac{\\| \\mathrm{alg}(x)-f(x)\\|}{\\| f(x) \\|}.\n",
    "$$"
   ]
  },
  {
   "cell_type": "markdown",
   "metadata": {
    "nbpresent": {
     "id": "d194cf53-622d-4d19-a5ea-7bfb4e7cedf1"
    }
   },
   "source": [
    "### Perturbation theory\n",
    "\n",
    "The change in $f(x)$ w.r.t. change of $x$ to $x+\\delta x$ is\n",
    "\n",
    "$$\n",
    "\\| f(x+\\delta x)-f(x)\\| \\leq \\frac{\\| f(x+\\delta x)-f(x)\\|}{\\| \\delta x \\|} \\|\\delta x\\| \\equiv \\kappa \\|\\delta x\\|.\n",
    "$$\n",
    "\n",
    "$\\kappa$ is the __condition number__ (or __condition__) - reminds us of derivative.\n",
    "\n",
    "Similarly, the _relative_ change in $f(x)$ w.r.t. _relative_ change of $x$ to $x+\\delta x$ is\n",
    "\n",
    "$$\n",
    "\\frac{\\| f(x+\\delta x)-f(x)\\|}{\\| f(x) \\|}\\leq \\frac{\\| f(x+\\delta x)-f(x)\\|\\cdot  \\|x\\| }{\\|\\delta x\\| \\cdot\\| f(x)\\|}\n",
    "\\cdot \\frac{\\|\\delta x\\|}{\\|x\\|} \\equiv \\kappa \\frac{\\|\\delta x\\|}{\\|x\\|}\n",
    "$$"
   ]
  },
  {
   "cell_type": "markdown",
   "metadata": {
    "nbpresent": {
     "id": "ec4afe08-74b2-4219-b379-b3a4cfb185c9"
    }
   },
   "source": [
    "### Backward errors\n",
    "\n",
    "Forward erros are hard to estimate.\n",
    "\n",
    "Instead, we consider  __backward error__\n",
    "\n",
    "$$\n",
    "\\mathrm{alg}(x)=f(x+\\delta x).\n",
    "$$\n",
    "\n",
    "Algorithms is __stable__ if  this always holds for some _small_ $\\delta x$."
   ]
  },
  {
   "cell_type": "markdown",
   "metadata": {
    "nbpresent": {
     "id": "1e1d22d5-a704-409a-ac31-add80bf64f13"
    }
   },
   "source": [
    "### Eigenvalues and eigenvectors\n",
    "\n",
    "Let $F=\\mathbb{R}$ or $F=\\mathbb{C}$ and let $A\\in F^{n\\times n}$.\n",
    "\n",
    "If $\\exists (\\lambda,x) \\in F\\times F^n$, such that $n\\neq 0$ and\n",
    "\n",
    "$$\n",
    "Ax=\\lambda x,\n",
    "$$\n",
    "\n",
    "then $\\lambda$ is an __eigenvalue__ of $A$ and $x$ is an __eigenvector__ of $\\lambda$."
   ]
  },
  {
   "cell_type": "markdown",
   "metadata": {
    "nbpresent": {
     "id": "442dce44-21d2-42af-a00f-e12100f7796d"
    }
   },
   "source": [
    "### Schur decomposition\n",
    "\n",
    "\n",
    "__Schur decomposition__ of $A$ is \n",
    "\n",
    "$$A=QTQ^*,$$\n",
    "\n",
    "where $Q$ is unitary and $T$ is upper triangular. It always exists.\n",
    "\n",
    "If $A$ is __normal__ ($AA^*=A^*A$), then $T$ is diagonal.\n",
    "\n",
    "If, in addition, $A$ is __Hermitian__ ($A=A^*$), then $T$ is also real.\n",
    "\n",
    "If, in addition, $A$ is real (real symmetric), then $Q$ is real, $A=Q\\Lambda Q^T$."
   ]
  },
  {
   "cell_type": "markdown",
   "metadata": {
    "nbpresent": {
     "id": "6c0f20a0-4ee1-44de-ac3a-c2aad4504c16"
    }
   },
   "source": [
    "### Perturbation theory\n",
    "\n",
    "Notation: $\\tilde A=A+\\Delta A$ with eigenvalues $\\tilde \\Lambda$, $\\tau$ is a permutation, \n",
    "$\\kappa(A)=\\|A\\| \\|A^{-1}\\|$, $\\sigma(A)$ is the spectrum of $A$.\n",
    "\n",
    "__General__: $\\|\\Lambda- \\tilde\\Lambda_\\tau\\|_2\\leq 4(\\|A\\|_2+\\|\\tilde A\\|_2)^{1-1/n}\\|\\Delta A\\|_2^{1/n}$\n",
    "\n",
    "__Diagonalizable__ _(Bauer-Fike)_: If $A=X\\Lambda X^{-1}$, then \n",
    "\n",
    "$$\n",
    "\\max_i\\min_j |\\tilde \\lambda_i -\n",
    "\\lambda_j|\\leq \\|X^{-1}(\\Delta A)X\\|_p\\leq \\kappa_p(X)\\|\\Delta A\\|_p\n",
    "$$"
   ]
  },
  {
   "cell_type": "markdown",
   "metadata": {
    "nbpresent": {
     "id": "eea77eb3-e996-4f5d-9626-9059120b3548"
    }
   },
   "source": [
    "### Perturbation theory\n",
    "\n",
    "__Both diagonalizable__:\n",
    "$\\|\\Lambda-\\tilde\\Lambda_\\tau\\|_F\\leq \\sqrt{\\kappa_2(X)\\kappa_2(\\tilde X)}\\|\\Delta A\\|_F\n",
    "$\n",
    "\n",
    "$\\Lambda$ and  $\\tilde\\Lambda$ real:\n",
    "$\n",
    "\\|\\Lambda^\\uparrow-\\tilde\\Lambda^\\uparrow\\|_{2,F} \\leq \\sqrt{\\kappa_2(X)\\kappa_2(\\tilde X)}\\|\\Delta A\\|_{2,F}\n",
    "$\n",
    "\n",
    "__Normal__:\n",
    "$\n",
    "\\|\\Lambda-\\tilde\\Lambda_\\tau\\|_F\\leq\\sqrt{n}\\|\\Delta A\\|_F\n",
    "$\n",
    "\n",
    "\n",
    "__Both normal__ _(Hoffman-Wielandt)_:\n",
    "$\n",
    "\\|\\Lambda-\\tilde\\Lambda_\\tau\\|_F\\leq\\|\\Delta A\\|_F\n",
    "$\n"
   ]
  },
  {
   "cell_type": "markdown",
   "metadata": {
    "nbpresent": {
     "id": "ba95f896-9ec4-4252-b29c-f185e78868d4"
    }
   },
   "source": [
    "### Perturbation theory\n",
    "\n",
    "\n",
    "__Both Hermitian__: for any unitarily invariant norm \n",
    "$\\|\\Lambda^\\uparrow-\\tilde\\Lambda^\\uparrow\\| \\leq \\|\\Delta A\\|$\n",
    "\n",
    "In particular,\n",
    "\n",
    "\\begin{align*}\n",
    "\\max_i|\\lambda^\\uparrow_i-\\tilde\\lambda^\\uparrow_i|&\\leq \\|\\Delta A\\|_2\\\\ \n",
    "\\sqrt{\\sum_i(\\lambda^\\uparrow_i-\\tilde\\lambda^\\uparrow_i)^2}&\\leq \\|\\Delta A\\|_F\n",
    "\\end{align*}\n"
   ]
  },
  {
   "cell_type": "markdown",
   "metadata": {
    "nbpresent": {
     "id": "979da434-fe24-4fe1-a193-63ab5d1361f3"
    }
   },
   "source": [
    "### Residual bounds for Hermitian matrices\n",
    "\n",
    "For some $\\tilde\\lambda\\in\\mathbb{R}$ and $\\tilde x\\in\\mathbb{C}^n$, $\\|\\tilde x\\|_2=1$, define __residual__ \n",
    "$\n",
    "r=A\\tilde x-\\tilde\\lambda\\tilde x\n",
    "$.\n",
    "\n",
    "Then $|\\tilde\\lambda-\\lambda|\\leq \\|r\\|_2$ for some $\\lambda\\in\\sigma(A)$.\n",
    "\n",
    "Let, in addition,  $\\tilde\\lambda=\\tilde x^* A\\tilde x$, let $\\lambda$ be closest to $\\tilde\\lambda$ and $x$ be its unit eigenvector, and let \n",
    "$$\\eta=\\mathop{\\mathrm{gap}}(\\tilde\\lambda)= \\min_{\\lambda\\neq\\mu\\in\\sigma(A)}|\\tilde\\lambda-\\mu|.$$\n",
    "If $\\eta>0$, then\n",
    "\n",
    "$$ |\\tilde\\lambda-\\lambda|\\leq \\frac{\\|r\\|_2^2}{\\eta},\\quad \\sin\\theta(x,\\tilde x)\\leq \\frac{\\|r\\|_2}{\\eta}.\n",
    "$$\n"
   ]
  },
  {
   "cell_type": "markdown",
   "metadata": {
    "nbpresent": {
     "id": "70db2855-625a-448d-9a4c-fdc4cde275df"
    }
   },
   "source": [
    "### Algorithms - Power method\n",
    "\n",
    "$A$ is real symmetric and $A=U\\Lambda U^T$ is its EVD.\n",
    "\n",
    "__Power method__ starts from vector $x_0$ and computes the sequences\n",
    "\n",
    "$$\n",
    "\\nu_k=x_k^T A x_k, \\qquad x_{k+1}= A x_k /\n",
    " \\| A x_k \\|, \\qquad k=0,1,2,\\dots\n",
    "$$\n",
    "\n",
    "If $|\\lambda_1|> |\\lambda_2| \\geq \\cdots \\geq |\\lambda_n|$,\n",
    "and if  $x_0=\\sum c_i U_{:i}$, then\n",
    "\n",
    "$$\n",
    "|\\lambda_1-\\nu_k|\\approx \\left|\\frac{c_2}{c_1}\\right| \\left|\n",
    " \\frac{\\lambda_2}{\\lambda_1}\\right|^k,\\qquad\n",
    "\\|U_{:1}-x_k\\|_2 =O\\bigg(\\bigg|\n",
    " \\frac{\\lambda_2}{\\lambda_1}\\bigg|^k\\bigg)\\!.\n",
    "$$"
   ]
  },
  {
   "cell_type": "markdown",
   "metadata": {
    "nbpresent": {
     "id": "b7663393-5918-4101-94c5-742e526c6fb0"
    }
   },
   "source": [
    "### Inverse iteration\n",
    "\n",
    "is the power method applied to the inverse of\n",
    "a _shifted matrix_:\n",
    "\n",
    "$$\n",
    "\\nu_k=x_k^T A x_k, \\\n",
    "x_{k+1}= (A-\\mu I)^{-1} x_k, \\ \n",
    "x_{k+1} = x_{k+1}/\\|x_{k+1}\\|, \\ k=0,1,2,\\dots\n",
    "$$\n",
    "\n",
    "Notice $A-\\mu I=U(\\Lambda-\\mu I) U^T$.  \n",
    "\n",
    "Inverse iteration requires solving the system of linear equations \n",
    "$(A-\\mu I)x_{k+1}= x_k$ in each step. \n",
    "\n",
    "If $\\mu$ is very close to some $\\lambda_i$, then $|\\lambda_i-\\mu|\\gg\n",
    "|\\lambda_j-\\mu|$ for all $j\\neq i$, so the convergence is fast.\n",
    "The solutions of linear systems may have large errors. However, these errors are almost\n",
    "entirely in the direction of the dominant eigenvector so the method is accurate."
   ]
  },
  {
   "cell_type": "markdown",
   "metadata": {
    "nbpresent": {
     "id": "b851b330-8404-4a32-8311-2a75fe0d07a6"
    }
   },
   "source": [
    "###  QR iteration\n",
    "\n",
    "starts from the matrix $A_0=A$ and forms the sequence of matrices\n",
    "\n",
    "$$\n",
    "  A_k=Q_kR_k \\ \\textrm{(factorization)}, \\quad\n",
    "  A_{k+1}=R_kQ_k,\\quad k=0,1,2,\\ldots \n",
    "$$\n",
    "\n",
    "__Shifted QR iteration__ is the QR iteration applied to a shifted matrix:\n",
    "\n",
    "$$\n",
    "A_k-\\mu I=Q_kR_k \\ \\textrm{(factorization)}, \\quad\n",
    "  A_{k+1}=R_kQ_k+\\mu I ,\\quad k=0,1,2,\\ldots \n",
    "$$\n",
    "\n",
    "QR iteration is essentially equivalent to the power method and the shifted QR iteration is essentially equivalent to the inverse power method. "
   ]
  },
  {
   "cell_type": "markdown",
   "metadata": {
    "nbpresent": {
     "id": "bbdb4af0-fe5a-4a89-a8a8-f055f214eb11"
    }
   },
   "source": [
    "### Practical QR method\n",
    "\n",
    "1. Reduce $A$ to tridiagonal form $T$ by orthogonal similarities, $X^TAX=T$\n",
    "2. Compute the EVD of $T$, $T=Q\\Lambda Q^T$ \n",
    "3. Multiply $U=XQ$\n",
    "\n",
    "There are many methods for step 2: QR iterations, bisection and inverse iteration, D&C, MRRR, all requiring $O(n^2)$ operations."
   ]
  },
  {
   "cell_type": "markdown",
   "metadata": {
    "nbpresent": {
     "id": "cafdef8a-5834-41e9-a802-65dbcf736ca6"
    }
   },
   "source": [
    "### Error bounds\n",
    "\n",
    "All previous methods have backward errors s.t. $\\| \\Delta A \\| \\leq O(\\epsilon) \\|A\\|$.\n",
    "\n",
    "More precisely, let $\\tilde U \\tilde \\Lambda \\tilde U^T$ be the computed EVDs of $A$.\n",
    "Then\n",
    "\n",
    "$$\n",
    "|\\lambda_i-\\tilde \\lambda_i|\\leq \\phi \\epsilon\\|A\\|_2,\n",
    "\\qquad\n",
    "\\|u_i-\\tilde u_i\\|_2\\leq \\psi\\epsilon \\frac{\\|A\\|_2}\n",
    "{\\min_{j\\neq i} \n",
    "|\\lambda_i-\\tilde \\lambda_j|}\n",
    "$$\n",
    "\n",
    "$\\epsilon$ is machine precision, $\\phi$ and $\\psi$\n",
    "are slowly growing polynomial functions of\n",
    "$n$ (typically $O(n)$ or $O(n^2)$).\n",
    "Such bounds are obtained by combining perturbation bounds with the floating-point error analysis of the respective\n",
    "algorithm.\n"
   ]
  },
  {
   "cell_type": "markdown",
   "metadata": {
    "nbpresent": {
     "id": "00bc2b92-0529-4d3c-a291-c1664c47ee93"
    }
   },
   "source": [
    "### Relative perturbation theory\n",
    "\n",
    "$A$  is a real symmetric positive definite (PD) matrix, $\\lambda_i>0$.\n",
    "\n",
    "The __scaled matrix__ of $A$ is the matrix\n",
    "$A_S=D^{-1} A D^{-1}$, $D=\\mathop{\\mathrm{diag}}(\\sqrt{A_{11}},\\sqrt{A_{22}},\\ldots,\\sqrt{A_{nn}})$.\n",
    "\n",
    "This scaling is nearly optimal: \n",
    "$\\kappa_2(A_S)\\leq  n \\min\\limits_{D=\\mathrm{diag}} \\kappa(DHD) \\leq n\\kappa_2(H)$.\n",
    "\n",
    "If $\\tilde A=A+\\Delta A$ is PD, then [Demmel, Barlow, Veselić, Drmač, Li,...] \n",
    "\n",
    "$$\n",
    "\\frac{|\\lambda_i-\\tilde\\lambda_i|}{\\lambda_i}\\leq \n",
    "\\frac{\\| D^{-1} (\\Delta A) D^{-1}\\|_2}{\\lambda_{\\min} (A_S)}\\equiv\n",
    "\\|A_S^{-1}\\|_2 \\| \\Delta A_S\\|_2.\n",
    "$$"
   ]
  },
  {
   "cell_type": "markdown",
   "metadata": {
    "nbpresent": {
     "id": "ac8853f9-285d-4d78-ac71-9165306564db"
    }
   },
   "source": [
    "### Relative perturbation theory\n",
    "\n",
    "If $\\lambda_i$ and $\\tilde\\lambda_i$ are simple, then\n",
    "\n",
    "$$\n",
    "\\|U_{:,i}-\\tilde U_{:,i}\\|_2 \\leq \\frac{\\| A_S^{-1}\\|_2 \\|\\Delta A_S\\|_2}\n",
    "{\\displaystyle\\min_{j\\neq i}\\frac{|\\lambda_i-\\lambda_j|}{\\sqrt{\\lambda_i\\lambda_j}}}.\n",
    "$$\n",
    "\n",
    "These bounds are much sharper than the standard bounds when $\\kappa_2(A_S)\\ll \\kappa_2(A)$."
   ]
  },
  {
   "cell_type": "markdown",
   "metadata": {
    "nbpresent": {
     "id": "6cd3c9ad-2f9f-4a66-994e-c130d427f7c9"
    }
   },
   "source": [
    "### Jacobi method and relative error bounds\n",
    "\n",
    "__Jacobi method__ forms a sequence of matrices,\n",
    "\n",
    "$$\n",
    "A_0=A, \\qquad A_{k+1}=G(i_k,j_k,c,s) A_k G(i_k,j_k,c,s)^T, \\qquad\n",
    "k=1,2,\\ldots,\n",
    "$$\n",
    "\n",
    "where $G(i_k,j_k,c,s)$ is the orthogonal __plane rotation matrix__, and $c$ and $s$ are chosen such that \n",
    "$[A_{k+1}]_{i_k j_k}=[A_{k+1}]_{j_k i_k}=0$.\n",
    "\n",
    "Jacobi method with the relative stopping criterion $|A_{ij}|\\leq tol \\sqrt{A_{ii}A_{jj}}$ for all $i\\neq j$ (usually $tol=n\\varepsilon$), computes the EVD with small __scaled__ backward error $\\|\\Delta A_S\\|\\leq \\varepsilon\\, O(\\|A_S\\|_2)\\leq O(n)\\varepsilon$, __provided__ that $\\kappa_2([A_k]_S)$  does not grow much during the iterations. [Demmel, Veselić]"
   ]
  },
  {
   "cell_type": "code",
   "execution_count": 1,
   "metadata": {
    "collapsed": false,
    "nbpresent": {
     "id": "339964f2-eba2-40c6-bc72-08687a1d486e"
    }
   },
   "outputs": [
    {
     "data": {
      "text/plain": [
       "myJacobi (generic function with 1 method)"
      ]
     },
     "execution_count": 1,
     "metadata": {},
     "output_type": "execute_result"
    }
   ],
   "source": [
    "function myJacobi{T}(A::Array{T})\n",
    "    n,m=size(A)\n",
    "    U=eye(T,n)\n",
    "    # Tolerance for rotation\n",
    "    tol=sqrt(n)*eps(T)\n",
    "    # Counters\n",
    "    p=n*(n-1)/2\n",
    "    sweep=0\n",
    "    pcurrent=0\n",
    "    # First criterion is for standard accuracy, second one is for relative accuracy\n",
    "    # while sweep<30 && vecnorm(A-diagm(diag(A)))>tol\n",
    "    while sweep<30 && pcurrent<p\n",
    "        sweep+=1\n",
    "        # Row-cyclic strategy\n",
    "        for i = 1 : n-1 \n",
    "            for j = i+1 : n\n",
    "                # Check the tolerance - the first criterion is standard,\n",
    "                # the second one is for relative accuracy for PD matrices               \n",
    "                # if A[i,j]!=zero(T)\n",
    "                if abs(A[i,j])>tol*sqrt(abs(A[i,i]*A[j,j]))\n",
    "                    # Compute c and s\n",
    "                    τ=(A[i,i]-A[j,j])/(2*A[i,j])\n",
    "                    t=sign(τ)/(abs(τ)+sqrt(1+τ^2))\n",
    "                    c=1/sqrt(1+t^2)\n",
    "                    s=c*t\n",
    "                    G=LinAlg.Givens(i,j,c,s)\n",
    "                    A=G*A\n",
    "                    # @show\n",
    "                    A*=G'\n",
    "                    A[i,j]=zero(T)\n",
    "                    A[j,i]=zero(T)\n",
    "                    U*=G'\n",
    "                    pcurrent=0\n",
    "                else\n",
    "                    pcurrent+=1\n",
    "                end\n",
    "            end\n",
    "        end\n",
    "    end\n",
    "    # λ, U\n",
    "    # @show A\n",
    "    diag(A), U\n",
    "end"
   ]
  },
  {
   "cell_type": "code",
   "execution_count": 2,
   "metadata": {
    "collapsed": false
   },
   "outputs": [
    {
     "data": {
      "text/plain": [
       "6×6 Array{Int64,2}:\n",
       " 122    2  -21  -76   28   21\n",
       "   2  132  -17  140   60  -12\n",
       " -21  -17   84   15  -37  -67\n",
       " -76  140   15  229   50  -59\n",
       "  28   60  -37   50   82   49\n",
       "  21  -12  -67  -59   49  148"
      ]
     },
     "execution_count": 2,
     "metadata": {},
     "output_type": "execute_result"
    }
   ],
   "source": [
    "n=6\n",
    "A=rand(-9:9,n,n)\n",
    "A=A*A'"
   ]
  },
  {
   "cell_type": "code",
   "execution_count": 3,
   "metadata": {
    "collapsed": false,
    "nbpresent": {
     "id": "a61a812c-8380-4789-9685-819fdb925442"
    }
   },
   "outputs": [
    {
     "data": {
      "text/plain": [
       "6×6 Array{Float64,2}:\n",
       "  1.0         0.0157603  -0.207443  -0.454691   0.279944   0.156282 \n",
       "  0.0157603   1.0        -0.161444   0.805236   0.57671   -0.0858546\n",
       " -0.207443   -0.161444    1.0        0.108152  -0.445815  -0.600903 \n",
       " -0.454691    0.805236    0.108152   1.0        0.364876  -0.320482 \n",
       "  0.279944    0.57671    -0.445815   0.364876   1.0        0.444793 \n",
       "  0.156282   -0.0858546  -0.600903  -0.320482   0.444793   1.0      "
      ]
     },
     "execution_count": 3,
     "metadata": {},
     "output_type": "execute_result"
    }
   ],
   "source": [
    "AS=map(Float64,[A[i,j]/sqrt(A[i,i]*A[j,j]) for i=1:n, j=1:n])"
   ]
  },
  {
   "cell_type": "code",
   "execution_count": 4,
   "metadata": {
    "collapsed": false
   },
   "outputs": [
    {
     "data": {
      "text/plain": [
       "(63.531058220405455,64.04177835616379)"
      ]
     },
     "execution_count": 4,
     "metadata": {},
     "output_type": "execute_result"
    }
   ],
   "source": [
    "cond(AS), cond(A)"
   ]
  },
  {
   "cell_type": "code",
   "execution_count": 5,
   "metadata": {
    "collapsed": false
   },
   "outputs": [
    {
     "data": {
      "text/plain": [
       "6-element Array{Float64,1}:\n",
       " 7.41721e-5\n",
       " 1.63375e-7\n",
       " 6.79371e6 \n",
       " 3.09305e-7\n",
       " 1.82297e8 \n",
       " 6.41459   "
      ]
     },
     "execution_count": 5,
     "metadata": {},
     "output_type": "execute_result"
    }
   ],
   "source": [
    "# Strong scaling\n",
    "D=exp(50*(rand(n)-0.5))"
   ]
  },
  {
   "cell_type": "code",
   "execution_count": 6,
   "metadata": {
    "collapsed": false
   },
   "outputs": [
    {
     "data": {
      "text/plain": [
       "6×6 Array{Float64,2}:\n",
       "    5.50149e-9    1.9098e-13   -104.531       …  3785.21         7.43563e-5\n",
       "    1.9098e-13    2.66914e-14    -0.17919          17.176       -8.99741e-8\n",
       " -104.531        -0.17919         4.61545e13       -5.52129e14  -2.61866e7 \n",
       "   -1.04314e-11   4.06908e-14     0.227263         20.5737      -6.35857e-7\n",
       " 3785.21         17.176          -5.52129e14        3.32321e16   5.20123e8 \n",
       "    7.43563e-5   -8.99741e-8     -2.61866e7   …     5.20123e8   41.1469    "
      ]
     },
     "execution_count": 6,
     "metadata": {},
     "output_type": "execute_result"
    }
   ],
   "source": [
    "A=diagm(D)*AS*diagm(D)"
   ]
  },
  {
   "cell_type": "code",
   "execution_count": 7,
   "metadata": {
    "collapsed": false
   },
   "outputs": [
    {
     "data": {
      "text/plain": [
       "1.3048631512985587e30"
      ]
     },
     "execution_count": 7,
     "metadata": {},
     "output_type": "execute_result"
    }
   ],
   "source": [
    "cond(A)"
   ]
  },
  {
   "cell_type": "code",
   "execution_count": 8,
   "metadata": {
    "collapsed": false
   },
   "outputs": [
    {
     "data": {
      "text/plain": [
       "([5.02261e-9,2.29512e-15,3.6971e13,3.58443e-14,3.32413e16,24.6824],\n",
       "[0.999997 -0.00110471 … 1.13907e-13 -1.88135e-7; -0.000339249 0.823785 … 5.16725e-16 -1.24958e-8; … ; -9.66522e-14 1.80376e-16 … 0.999862 -7.7688e-9; 1.88062e-7 -5.71287e-9 … 1.56578e-8 1.0])"
      ]
     },
     "execution_count": 8,
     "metadata": {},
     "output_type": "execute_result"
    }
   ],
   "source": [
    "λ,U=myJacobi(A)"
   ]
  },
  {
   "cell_type": "code",
   "execution_count": 9,
   "metadata": {
    "collapsed": false
   },
   "outputs": [
    {
     "data": {
      "text/plain": [
       "([3.32413e16,3.6971e13,24.6824,-0.000132288,5.50066e-14,0.00252215],\n",
       "[1.14136e-13 -1.12402e-12 … 9.26906e-8 -7.87273e-10; 2.46992e-16 4.79525e-15 … 9.72615e-12 1.0; … ; 0.999862 0.0166305 … 1.0924e-15 -7.56716e-16; 1.56578e-8 -4.7424e-7 … -2.78688e-8 1.22934e-8])"
      ]
     },
     "execution_count": 9,
     "metadata": {},
     "output_type": "execute_result"
    }
   ],
   "source": [
    "λ1,U1=eig(A)"
   ]
  },
  {
   "cell_type": "code",
   "execution_count": 10,
   "metadata": {
    "collapsed": false
   },
   "outputs": [
    {
     "data": {
      "text/plain": [
       "6×2 Array{Float64,2}:\n",
       "  2.29512e-15  -0.000132288\n",
       "  3.58443e-14   5.50066e-14\n",
       "  5.02261e-9    0.00252215 \n",
       " 24.6824       24.6824     \n",
       "  3.6971e13     3.6971e13  \n",
       "  3.32413e16    3.32413e16 "
      ]
     },
     "execution_count": 10,
     "metadata": {},
     "output_type": "execute_result"
    }
   ],
   "source": [
    "[sort(λ) sort(λ1)]"
   ]
  },
  {
   "cell_type": "code",
   "execution_count": 11,
   "metadata": {
    "collapsed": false
   },
   "outputs": [
    {
     "data": {
      "text/plain": [
       "(BigFloat[5.022614877781149125539210164929030420146746773515899696960643187317643046577704e-09,2.295123812804994670064398624978608626094419879330841147247327958758049463352806e-15,3.69709760989353391999716039607013085617023550846726252497535938803637609775443e+13,3.58442908604202048887119888314880706877507542982825120427202388597308838743938e-14,3.324128602639678860975071153952176645799736210731727702874912594775807140907954e+16,2.46823555145719291121145500883882866290457481725366572554375047580039138063829e+01],\n",
       "BigFloat[9.999969615982539377331101147559754452834275528414717672736964140575748516894691e-01 -1.104713724270534496826238635189559126469097833676912650859732520535158609448299e-03 … 1.139074123223364507094259086863585769557234380818640483261349979571726790219396e-13 -1.881351158755531512751902132523613243002881035801779816506469374670225736025187e-07; -3.392490770226965414700324549475980750803308066749211580480332613491578980333178e-04 8.23785406146559579848959973501187990342783211363296545047132681595475634925085e-01 … 5.167247305996969724117377288960281422889745815215794546200821675228474844995294e-16 -1.249577213641875150355518670123787808105011719167144974245246787561302167334685e-08; … ; -9.665218762218320974517156208047613224742032245695228417492080852158915356104515e-14 1.803759040417889038054839252119948714195609658799141908603296414008085196261394e-16 … 9.998617029538611305076472369766632746218204024703966185526880912738396141212834e-01 -7.768804083455442457468875735372267771497074599729929804624626157890220413611411e-09; 1.880622588205372048628121258192833113556187077864499283519039318391403277403226e-07 -5.712867277240695860403915603348148020041533930749134711787682360597903864223055e-09 … 1.565783023970447449075257186951519015165556278633140441270043166952113248713321e-08 9.999999999998692620381867332896435370604162637896399747370718970454309894624117e-01])"
      ]
     },
     "execution_count": 11,
     "metadata": {},
     "output_type": "execute_result"
    }
   ],
   "source": [
    "# Check with BigFloat\n",
    "λ2,U2=myJacobi(map(BigFloat,A))"
   ]
  },
  {
   "cell_type": "code",
   "execution_count": 12,
   "metadata": {
    "collapsed": false
   },
   "outputs": [
    {
     "data": {
      "text/plain": [
       "6-element Array{BigFloat,1}:\n",
       " -2.608544515585232496093839344125106270207557409753143511686891006658419464596948e-15\n",
       " -2.194318804006210569268021934621652226307993757473709030414239287652003141389973e-16\n",
       " -6.181600905183360108694538884417831953010804722380976622056949928184373641940984e-16\n",
       " -8.006272606869755098814876291906572791964006933460485022962800990262987772746052e-16\n",
       "  8.824412953637573485953240920331026994216541576126251131895845905576149340265213e-17\n",
       " -1.01989113350436958664433563068197557638015726028122315319920090332616898843922e-16 "
      ]
     },
     "execution_count": 12,
     "metadata": {},
     "output_type": "execute_result"
    }
   ],
   "source": [
    "# Relative error is eps()*cond(AS)\n",
    "(sort(λ2)-sort(λ))./sort(λ2)"
   ]
  },
  {
   "cell_type": "markdown",
   "metadata": {
    "nbpresent": {
     "id": "faef4130-76f6-42f2-9613-22521aac7d7e"
    }
   },
   "source": [
    "###  Indefinite matrices\n",
    "\n",
    "__Spectral absolute value__ is $|A|_{spr}=(A^2)^{1/2}$ (PD part of the polar decomposition of $A$).\n",
    "\n",
    "The relative perturbation bounds for PD matrices essentially hold with $A_S$ replaced by $[|A|_{spr}]_S$.\n",
    "\n",
    "Jacobi method can be modified to compute the EVD with small backward error  $\\| \\Delta [|A|_{spr}]_S\\|_2$. [S.]"
   ]
  },
  {
   "cell_type": "markdown",
   "metadata": {
    "nbpresent": {
     "id": "eee64495-853b-473c-9a53-8d7b012e428a"
    }
   },
   "source": [
    "### Singular value decomposition\n",
    "\n",
    "Let $A\\in\\mathbb{C}^{m\\times n}$ and let $q=\\min\\{m,n\\}$.\n",
    "\n",
    "The SVD of $A$ is $A=U\\Sigma V^*$,\n",
    "where $U\\in\\mathbb{C}^{m\\times m}$ and $V\\in\\mathbb{C}^{n\\times n}$ are unitary, and \n",
    "$\\Sigma=\\mathop{\\mathrm{diag}}(\\sigma_1,\\sigma_2,\\ldots,\\sigma_q)\\in\\mathbb{R}^{m\\times n}$ with all \n",
    "$\\sigma_j\\geq 0$.\n",
    "\n",
    "SVD is related to EVDs $A^*A=V\\Sigma^T\\Sigma V^*$ and $AA^*=U\\Sigma\\Sigma^TU^*$. Eigenvalues of \n",
    "the __Jordan-Wielandt__ matrix \n",
    "\n",
    "$$\n",
    "J=\\begin{bmatrix}0 & A \\\\ A^* & 0 \\end{bmatrix}\n",
    "\\in \\mathbb{C}^{(m+n) \\times (m+n)},\n",
    "$$\n",
    "\n",
    "are $\\pm \\sigma_1(A), \\pm\\sigma_2(A), \\cdots,\\pm\\sigma_q(A)$ together with $|m-n|$ zeros.\n"
   ]
  },
  {
   "cell_type": "markdown",
   "metadata": {
    "nbpresent": {
     "id": "df06d7e0-9a9f-4469-9ede-3a6aa4e3a329"
    }
   },
   "source": [
    "### Perturbation theory\n",
    "\n",
    "Bounds analogous to those for PD matrices hold, for example _(Mirsky)_: \n",
    "$\\|\\Sigma-\\tilde\\Sigma\\|_2\\leq \\|\\Delta A\\|_2$ and  $\\|\\Sigma-\\tilde\\Sigma\\|_F\\leq \\|\\Delta A\\|_F$.\n",
    "\n",
    "Relative perturbation bounds involve __graded__ matrices $A=GD$, where $D=\\mathrm{\\mathop{diag}}(\\| A_{:i}\\|_2$, and are efficient when $\\kappa(G)\\ll \\kappa(A)$, for example [Demmel, Veselić, Drmač,...]\n",
    "\n",
    "$$\n",
    "\\frac{|\\sigma_i-\\tilde\\sigma_i|}{\\sigma_i}\\leq \n",
    "\\|G^{\\dagger}\\|_2 \\| \\Delta G\\|_2.\n",
    "$$"
   ]
  },
  {
   "cell_type": "markdown",
   "metadata": {
    "nbpresent": {
     "id": "d2bb68f0-50d0-4411-b8e3-df211ff2600f"
    }
   },
   "source": [
    "### Algorithms and error bounds\n",
    "\n",
    "Standard algorithm is \n",
    "\n",
    "1. Reduce $A$ to bidiagonal form $B$, $X^TAY=B$\n",
    "2. Compute the SVD of $B$, $B=Z\\Sigma Q^T$ \n",
    "3. Multiply $U=XZ$ and $V=YQ$\n",
    "\n",
    "Step 1 can preserve relative accuracy [Barlow, Bosner, Drmač].\n",
    "Step 2 can preserve high relative accuracy [Demmel, Kahan - LAPACK dbdsqr.f, SIAG/LA Prize 1991]\n",
    "\n",
    "One-sided Jacobi computes the SVD with high relative accuracy [DDGESVD], [Drmač, Veselić - LAPACK dgesvj.f, SIAG/LA Prize 2009]\n"
   ]
  },
  {
   "cell_type": "markdown",
   "metadata": {
    "nbpresent": {
     "id": "0dfc1cc9-ffe9-4201-ba64-88f00edce14d"
    }
   },
   "source": [
    "### Acyclic matrices\n",
    "\n",
    "Matrices whose bipartite graph is acyclic preserve their singular values under small componentwise perturbations [Demmel, Gragg]. Examples are\n",
    "\n",
    "1. bidiagonal matrix (path)\n",
    "2. half-arrowhead matrix (star)\n",
    "\n",
    "For example, $\\varepsilon$ relative changes in diagonal and super-diagonal elements of bidiagonal matrix, cause at most $(2n-1)\\varepsilon$ relative changes in the singular values."
   ]
  },
  {
   "cell_type": "code",
   "execution_count": 17,
   "metadata": {
    "collapsed": false,
    "nbpresent": {
     "id": "4ca78374-00d1-4c7a-af63-28daa0b57223"
    }
   },
   "outputs": [
    {
     "data": {
      "text/plain": [
       "100×100 Bidiagonal{Float64}:\n",
       " 0.5  1.0   ⋅    ⋅    ⋅    ⋅    ⋅    ⋅   …   ⋅    ⋅    ⋅    ⋅    ⋅    ⋅    ⋅ \n",
       "  ⋅   0.5  1.0   ⋅    ⋅    ⋅    ⋅    ⋅       ⋅    ⋅    ⋅    ⋅    ⋅    ⋅    ⋅ \n",
       "  ⋅    ⋅   0.5  1.0   ⋅    ⋅    ⋅    ⋅       ⋅    ⋅    ⋅    ⋅    ⋅    ⋅    ⋅ \n",
       "  ⋅    ⋅    ⋅   0.5  1.0   ⋅    ⋅    ⋅       ⋅    ⋅    ⋅    ⋅    ⋅    ⋅    ⋅ \n",
       "  ⋅    ⋅    ⋅    ⋅   0.5  1.0   ⋅    ⋅       ⋅    ⋅    ⋅    ⋅    ⋅    ⋅    ⋅ \n",
       "  ⋅    ⋅    ⋅    ⋅    ⋅   0.5  1.0   ⋅   …   ⋅    ⋅    ⋅    ⋅    ⋅    ⋅    ⋅ \n",
       "  ⋅    ⋅    ⋅    ⋅    ⋅    ⋅   0.5  1.0      ⋅    ⋅    ⋅    ⋅    ⋅    ⋅    ⋅ \n",
       "  ⋅    ⋅    ⋅    ⋅    ⋅    ⋅    ⋅   0.5      ⋅    ⋅    ⋅    ⋅    ⋅    ⋅    ⋅ \n",
       "  ⋅    ⋅    ⋅    ⋅    ⋅    ⋅    ⋅    ⋅       ⋅    ⋅    ⋅    ⋅    ⋅    ⋅    ⋅ \n",
       "  ⋅    ⋅    ⋅    ⋅    ⋅    ⋅    ⋅    ⋅       ⋅    ⋅    ⋅    ⋅    ⋅    ⋅    ⋅ \n",
       "  ⋅    ⋅    ⋅    ⋅    ⋅    ⋅    ⋅    ⋅   …   ⋅    ⋅    ⋅    ⋅    ⋅    ⋅    ⋅ \n",
       "  ⋅    ⋅    ⋅    ⋅    ⋅    ⋅    ⋅    ⋅       ⋅    ⋅    ⋅    ⋅    ⋅    ⋅    ⋅ \n",
       "  ⋅    ⋅    ⋅    ⋅    ⋅    ⋅    ⋅    ⋅       ⋅    ⋅    ⋅    ⋅    ⋅    ⋅    ⋅ \n",
       " ⋮                        ⋮              ⋱            ⋮                      \n",
       "  ⋅    ⋅    ⋅    ⋅    ⋅    ⋅    ⋅    ⋅       ⋅    ⋅    ⋅    ⋅    ⋅    ⋅    ⋅ \n",
       "  ⋅    ⋅    ⋅    ⋅    ⋅    ⋅    ⋅    ⋅       ⋅    ⋅    ⋅    ⋅    ⋅    ⋅    ⋅ \n",
       "  ⋅    ⋅    ⋅    ⋅    ⋅    ⋅    ⋅    ⋅   …   ⋅    ⋅    ⋅    ⋅    ⋅    ⋅    ⋅ \n",
       "  ⋅    ⋅    ⋅    ⋅    ⋅    ⋅    ⋅    ⋅       ⋅    ⋅    ⋅    ⋅    ⋅    ⋅    ⋅ \n",
       "  ⋅    ⋅    ⋅    ⋅    ⋅    ⋅    ⋅    ⋅      1.0   ⋅    ⋅    ⋅    ⋅    ⋅    ⋅ \n",
       "  ⋅    ⋅    ⋅    ⋅    ⋅    ⋅    ⋅    ⋅      0.5  1.0   ⋅    ⋅    ⋅    ⋅    ⋅ \n",
       "  ⋅    ⋅    ⋅    ⋅    ⋅    ⋅    ⋅    ⋅       ⋅   0.5  1.0   ⋅    ⋅    ⋅    ⋅ \n",
       "  ⋅    ⋅    ⋅    ⋅    ⋅    ⋅    ⋅    ⋅   …   ⋅    ⋅   0.5  1.0   ⋅    ⋅    ⋅ \n",
       "  ⋅    ⋅    ⋅    ⋅    ⋅    ⋅    ⋅    ⋅       ⋅    ⋅    ⋅   0.5  1.0   ⋅    ⋅ \n",
       "  ⋅    ⋅    ⋅    ⋅    ⋅    ⋅    ⋅    ⋅       ⋅    ⋅    ⋅    ⋅   0.5  1.0   ⋅ \n",
       "  ⋅    ⋅    ⋅    ⋅    ⋅    ⋅    ⋅    ⋅       ⋅    ⋅    ⋅    ⋅    ⋅   0.5  1.0\n",
       "  ⋅    ⋅    ⋅    ⋅    ⋅    ⋅    ⋅    ⋅       ⋅    ⋅    ⋅    ⋅    ⋅    ⋅   0.5"
      ]
     },
     "execution_count": 17,
     "metadata": {},
     "output_type": "execute_result"
    }
   ],
   "source": [
    "# Singular values of a Jordan block - Veselić\n",
    "n=100\n",
    "# The starting matrix\n",
    "a=0.5*ones(n)\n",
    "b=ones(n-1)\n",
    "A=Bidiagonal(a,b, true)"
   ]
  },
  {
   "cell_type": "code",
   "execution_count": 18,
   "metadata": {
    "collapsed": false
   },
   "outputs": [
    {
     "data": {
      "text/plain": [
       "100×2 Array{Float64,2}:\n",
       " 1.49984      1.49984    \n",
       " 1.49935      1.49935    \n",
       " 1.49853      1.49853    \n",
       " 1.49739      1.49739    \n",
       " 1.49592      1.49592    \n",
       " 1.49412      1.49412    \n",
       " 1.492        1.492      \n",
       " 1.48956      1.48956    \n",
       " 1.48679      1.48679    \n",
       " 1.4837       1.4837     \n",
       " 1.48029      1.48029    \n",
       " 1.47656      1.47656    \n",
       " 1.47251      1.47251    \n",
       " ⋮                       \n",
       " 0.556938     0.556938   \n",
       " 0.547576     0.547576   \n",
       " 0.538931     0.538931   \n",
       " 0.531049     0.531049   \n",
       " 0.523973     0.523973   \n",
       " 0.517744     0.517744   \n",
       " 0.512401     0.512401   \n",
       " 0.507979     0.507979   \n",
       " 0.504507     0.504507   \n",
       " 0.502009     0.502009   \n",
       " 0.500503     0.500503   \n",
       " 5.91646e-31  2.04866e-30"
      ]
     },
     "execution_count": 18,
     "metadata": {},
     "output_type": "execute_result"
    }
   ],
   "source": [
    "σ=svdvals(A)\n",
    "U,σ1,V=svd(A)\n",
    "[σ σ1]"
   ]
  },
  {
   "cell_type": "code",
   "execution_count": 20,
   "metadata": {
    "collapsed": false
   },
   "outputs": [
    {
     "data": {
      "text/plain": [
       "100-element Array{Float64,1}:\n",
       "  0.0        \n",
       "  2.96189e-16\n",
       "  1.48175e-16\n",
       "  1.48288e-16\n",
       "  1.48434e-16\n",
       "  1.48612e-16\n",
       "  0.0        \n",
       "  2.98134e-16\n",
       "  4.48034e-16\n",
       "  4.48967e-16\n",
       "  6.00002e-16\n",
       "  3.00759e-16\n",
       "  1.50793e-16\n",
       "  ⋮          \n",
       "  0.0        \n",
       "  0.0        \n",
       "  2.06005e-16\n",
       " -8.36249e-16\n",
       " -2.11886e-16\n",
       " -4.2887e-16 \n",
       " -6.50012e-16\n",
       " -2.18557e-16\n",
       "  0.0        \n",
       "  0.0        \n",
       "  2.21821e-16\n",
       " -2.46264    "
      ]
     },
     "execution_count": 20,
     "metadata": {},
     "output_type": "execute_result"
    }
   ],
   "source": [
    "(σ-σ1)./σ"
   ]
  },
  {
   "cell_type": "markdown",
   "metadata": {
    "nbpresent": {
     "id": "8047a522-021d-4c62-8a53-da848a6e6f7b"
    }
   },
   "source": [
    "### Arrowhead and DPR1 matrices\n",
    "\n",
    "\n",
    "\n",
    "__Arrowhead__: \n",
    "$A=\\begin{bmatrix} D & z \\\\ z^{T} & \\alpha \\end{bmatrix}$,\n",
    "$D=\\mathop{\\mathrm{diag}}(d_{1}, \\ldots ,d_{n-1})$, \n",
    "$z=\\begin{bmatrix} \\zeta _{1} & \\cdots & \\zeta _{n-1} \\end{bmatrix}^T$,\n",
    "$\\alpha\\in\\mathbb{R}$\n",
    "\n",
    "__DPR1__: $A= D +\\rho z z^T$, $D=\\mathop{\\mathrm{diag}}(d_{1},\\ldots ,d_{n})$, \n",
    "$z=\\begin{bmatrix} \\zeta _{1} & \\cdots & \\zeta _{n} \\end{bmatrix}^T$, $\\rho \\neq 0\\in\\mathbb{R}$\n",
    "\n",
    "If $\\zeta _{i}=0$, then $(d_{i},e_{i})$ is an eigenpair. If $d_{i}=d_{j}$, then $d_{i}$ is\n",
    "an eigenvalue since $\\zeta_j$ can be annihilated by a Givens rotation in the $(i,j)$-plane.\n",
    "\n",
    "Matrices are __irreducible__ if \n",
    "$\\zeta _{i}\\neq 0$ for all $i$ and $d_{i}\\neq d_{j}$ for all $i\\neq j$."
   ]
  },
  {
   "cell_type": "markdown",
   "metadata": {
    "nbpresent": {
     "id": "a44c7db9-8a25-4ffe-935d-b65b2d941919"
    }
   },
   "source": [
    "### Interlacing\n",
    "\n",
    "Let $A=U\\Lambda U^T$ be the EVD of an irreducible arrowhead.\n",
    "If $d_i$ and $\\lambda_i$ are nonincreasingy ordered, then\n",
    "\n",
    "$$\\lambda _{1}> d_{1}> \\lambda _{2}> d_{2}> \\cdots > d_{n-2}>\\lambda\n",
    "_{n-1}> d_{n-1}> \\lambda _{n}.\n",
    "$$\n",
    "\n",
    "Let $A=U\\Lambda U^T$ be the EVD of an irreducible DPR1. \n",
    "If $d_i$ and $\\lambda_i$ are nonincreasingy ordered, then\n",
    "\n",
    "$$\\lambda _{1}> d_{1}> \\lambda _{2}> d_{2}> \\cdots > d_{n-2}>\\lambda\n",
    "_{n-1}> d_{n-1}> \\lambda _{n}> d_n.\n",
    "$$\n",
    "\n"
   ]
  },
  {
   "cell_type": "markdown",
   "metadata": {
    "nbpresent": {
     "id": "4be144be-2fc7-4ecc-8ca7-2dac0c17d7e8"
    }
   },
   "source": [
    "### Arrowhead EVD\n",
    "\n",
    "The eigenvalues $\\lambda_i$ are the zeros of the __Pick function__\n",
    "\n",
    "$$\n",
    "f(\\lambda )=\\alpha -\\lambda -\\sum_{i=1}^{n-1}\\frac{\\zeta _{i}^{2}}{%\n",
    "d_{i}-\\lambda }=\\alpha -\\lambda -z^{T}(D-\\lambda I)^{-1}z,\n",
    "$$\n",
    "\n",
    "and the corresponding eigenvectors are \n",
    "\n",
    "$$\n",
    "U_{:,i}=\\frac{x_{i}}{\\left\\Vert x_{i}\\right\\Vert _{2}},\\quad \n",
    "x_{i}=\\begin{bmatrix}\n",
    "\\left( D-\\lambda _{i}I\\right) ^{-1}z \\\\ \n",
    "-1%\n",
    "\\end{bmatrix}, \n",
    "\\quad i=1,\\ldots ,n.\n",
    "$$"
   ]
  },
  {
   "cell_type": "markdown",
   "metadata": {
    "nbpresent": {
     "id": "8cb82af9-cb2c-4bad-9a01-361cd4134b87"
    }
   },
   "source": [
    "### DPR1 EVD\n",
    "\n",
    "The eigenvalues of $A$ are the zeros of the __secular equation__ \n",
    "\n",
    "$$\n",
    "f(\\lambda )=1+\\rho\\sum_{i=1}^{n}\\frac{\\zeta _{i}^{2}}{d_{i}-\\lambda }\n",
    "=1 +\\rho z^{T}(D-\\lambda I)^{-1}z=0,\n",
    "$$\n",
    "\n",
    "and the corresponding eigenvectors are \n",
    "\n",
    "$$\n",
    "U_{:,i}=\\frac{x_{i}}{\\left\\Vert x_{i}\\right\\Vert _{2}},\\quad\n",
    "x_{i}=( D-\\lambda _{i}I) ^{-1}z.\n",
    "$$\n",
    "\n",
    "The obvious $O(n)$ algorithms (per eigenpair) are inaccurate."
   ]
  },
  {
   "cell_type": "markdown",
   "metadata": {
    "nbpresent": {
     "id": "86a6ece1-f138-4d69-abf1-db8b2cb7ed7d"
    }
   },
   "source": [
    "### Structured inverses (arrowhead)\n",
    "\n",
    "If $d_i\\neq 0$ for all $i$, then\n",
    "\n",
    "$$\n",
    "A^{-1}=\\begin{bmatrix} D^{-1} &  \\\\ & 0 \\end{bmatrix} + \\rho uu^{T}, \\\n",
    "u=\\begin{bmatrix} z^{T}D^{-1} \\\\ -1 \\end{bmatrix}, \\ \\rho =\\displaystyle\\frac{1}{\\alpha-z^{T}D^{-1}z}.\n",
    "$$"
   ]
  },
  {
   "cell_type": "markdown",
   "metadata": {
    "nbpresent": {
     "id": "1b818d33-4e81-435d-916e-740e6793bf33"
    }
   },
   "source": [
    "### Structured inverses (arrow. with zero pole)\n",
    "\n",
    "If $d_i=0$, then\n",
    "\n",
    "$$\n",
    "A^{-1}\\equiv \n",
    "\\begin{bmatrix}\n",
    "D_{1} & 0 & 0 & z_{1} \\\\ \n",
    "0 & 0 & 0 & \\zeta _{i} \\\\ \n",
    "0 & 0 & D_{2} & z_{2} \\\\ \n",
    "z_{1}^{T} & \\zeta _{i} & z_{2}^{T} & \\alpha\n",
    "\\end{bmatrix}^{-1}\n",
    "= \\begin{bmatrix}\n",
    "D_{1}^{-1} & w_{1} & 0 & 0 \\\\ \n",
    "w_{1}^{T} & b & w_{2}^{T} & 1/\\zeta _{i} \\\\ \n",
    "0 & w_{2} & D_{2}^{-1} & 0 \\\\ \n",
    "0 & 1/\\zeta _{i} & 0 & 0\n",
    "\\end{bmatrix},\n",
    "$$\n",
    "\n",
    "$w_{1}=-D_{1}^{-1}z_{1}\\displaystyle\\frac{1}{\\zeta _{i}}$, \n",
    "$w_{2}=-D_{2}^{-1}z_{2}\\displaystyle\\frac{1}{\\zeta _{i}}$,\n",
    "$b= \\displaystyle\\frac{1}{\\zeta _{i}^{2}}\\left(-\\alpha +z_{1}^{T}D_{1}^{-1}z_{1}+z_{2}^{T}D_{2}^{-1}z_{2}\\right)$."
   ]
  },
  {
   "cell_type": "markdown",
   "metadata": {},
   "source": [
    "### Structured inverses (DPR1)\n",
    "\n",
    "If $d_i\\neq 0$ for all $i$, then\n",
    "\n",
    "$$\n",
    "A^{-1}=D^{-1} +\\gamma uu^{T},\\quad  u=D^{-1}z, \\quad \\gamma =-\\frac{\\rho}{1+\\rho z^{T}D^{-1}z}.\n",
    "$$ "
   ]
  },
  {
   "cell_type": "markdown",
   "metadata": {},
   "source": [
    "### Structured inverses (DPR1 with zero pole)\n",
    "\n",
    "If $d_i=0$, then\n",
    "\n",
    "$$\n",
    "A^{-1}\\equiv \\left(\\begin{bmatrix} D_{1} & 0 & 0 \\\\  0 & 0 & 0  \\\\  0 & 0 & D_{2} \\end{bmatrix}\n",
    "+\\rho \\begin{bmatrix} z_{1} \\\\ \\zeta _{i} \\\\ z_{2}\n",
    "\\end{bmatrix}\n",
    "\\begin{bmatrix}\n",
    "z_{1}^{T} & \\zeta _{i} & z_{2}^{T}\n",
    "\\end{bmatrix}\\right)^{-1}=\n",
    "\\begin{bmatrix}\n",
    "D_{1}^{-1} & w_{1} & 0 \\\\ \n",
    "w_{1}^{T} & b & w_{2}^{T} \\\\ \n",
    "0 & w_{2} & D_{2}^{-1} \n",
    "\\end{bmatrix},\n",
    "$$\n",
    "\n",
    "$w_{1}=-D_{1}^{-1}z_{1}\\displaystyle\\frac{1}{\\zeta _{i}}$,\n",
    "$w_{2}=-D_{2}^{-1}z_{2}\\displaystyle\\frac{1}{\\zeta _{i}}$,\n",
    "$b =\\displaystyle\\frac{1}{\\zeta _{i}^{2}}\\left(\n",
    "\\frac{1}{\\rho}+z_{1}^{T}D_{1}^{-1}z_{1}+z_{2}^{T}D_{2}^{-1}z_{2}\\right)$."
   ]
  },
  {
   "cell_type": "markdown",
   "metadata": {},
   "source": [
    "6. The algorithm based on the following approach computes all eigenvalues and _all components_ of the corresponding eigenvectors in a forward stable manner to almost full accuracy in $O(n)$ operations per eigenpair:\n",
    "    1. Shift the irreducible $A$ to $d_i$ which is closer to $\\lambda_i$ (one step of bisection on $f(\\lambda)$).\n",
    "    2. Invert the shifted matrix.\n",
    "    3. Compute the absolutely largest eigenvalue of the inverted shifted matrix and the corresponding eigenvector.\n",
    "\n",
    "7. The algorithm is implemented in the package [Arrowhead.jl](https://github.com/ivanslapnicar/Arrowhead.jl). In certain cases, $b$ or $\\rho$ need to be computed with extended precision for which the package \n",
    "[DoubleDouble.jl](https://github.com/simonbyrne/DoubleDouble.jl) is used."
   ]
  },
  {
   "cell_type": "markdown",
   "metadata": {
    "nbpresent": {
     "id": "c82e5cb0-d85d-41df-abdf-5ae6bdab7ccd"
    }
   },
   "source": [
    "* $p$: vjerojatnost da pratimo neki link\n",
    "* $1-p$:  je vjerojatnost da odemo na neku drugu slučajnu stranicu\n",
    "* google koristi $p=0.85$ ?"
   ]
  },
  {
   "cell_type": "code",
   "execution_count": 4,
   "metadata": {
    "collapsed": false,
    "nbpresent": {
     "id": "799e14b7-f4a0-4f55-a8f8-fc821ce0fd93"
    }
   },
   "outputs": [
    {
     "data": {
      "text/plain": [
       "6×6 Array{Float64,2}:\n",
       " 0.025  0.025  0.025     0.875  0.166667  0.875\n",
       " 0.45   0.025  0.025     0.025  0.166667  0.025\n",
       " 0.025  0.45   0.025     0.025  0.166667  0.025\n",
       " 0.025  0.45   0.308333  0.025  0.166667  0.025\n",
       " 0.025  0.025  0.308333  0.025  0.166667  0.025\n",
       " 0.45   0.025  0.308333  0.025  0.166667  0.025"
      ]
     },
     "execution_count": 4,
     "metadata": {},
     "output_type": "execute_result"
    }
   ],
   "source": [
    "p=0.85\n",
    "z = ((1-p)*(c.!=0) + (c.==0))/n\n",
    "A=p*G+ones(n)*z"
   ]
  },
  {
   "cell_type": "markdown",
   "metadata": {
    "nbpresent": {
     "id": "96822e37-d2f5-4503-9655-e6040556107e"
    }
   },
   "source": [
    "Krenimo u slučajnu šetnju od vektora $x_0=\\begin{bmatrix} 1/n \\\\ 1/n \\\\ \\vdots \\\\ 1/n \\end{bmatrix}$.\n",
    "\n",
    "Sljedeći vektori u nizu su \n",
    "\n",
    "$$\n",
    "x_1=A\\cdot x_0 \\\\\n",
    "x_2=A\\cdot x_1 \\\\\n",
    "x_3=A\\cdot x_2\\\\\n",
    "\\vdots\n",
    "$$\n",
    "\n",
    "Kada se algoritam stabilizira, odnosno kada je \n",
    "\n",
    "$$\n",
    "A\\cdot x\\approx x,\n",
    "$$\n",
    "\n",
    "tada je element vektora $x[i]$ __rang stranice__ $i$."
   ]
  },
  {
   "cell_type": "code",
   "execution_count": 5,
   "metadata": {
    "collapsed": false,
    "nbpresent": {
     "id": "93956a24-6b26-4e59-9921-05164b0826a6"
    }
   },
   "outputs": [
    {
     "data": {
      "text/plain": [
       "myPageRank (generic function with 1 method)"
      ]
     },
     "execution_count": 5,
     "metadata": {},
     "output_type": "execute_result"
    }
   ],
   "source": [
    "function myPageRank(G::SparseMatrixCSC{Float64,Int64},steps::Int)\n",
    "    p=0.85\n",
    "    c=sum(G,1)/p\n",
    "    n=size(G,1)\n",
    "    for i=1:n\n",
    "        G.nzval[G.colptr[i]:G.colptr[i+1]-1]./=c[i]\n",
    "    end\n",
    "    e=ones(n)\n",
    "    x=e/n\n",
    "    z = vec(((1-p)*(c.!=0) + (c.==0))/n)\n",
    "    for j=1:steps\n",
    "        x=G*x+(z⋅x)\n",
    "    end\n",
    "    x/norm(x,1)\n",
    "end"
   ]
  },
  {
   "cell_type": "code",
   "execution_count": 6,
   "metadata": {
    "collapsed": false,
    "nbpresent": {
     "id": "f0505634-c456-47dd-a4fe-0a6a86388b81"
    }
   },
   "outputs": [
    {
     "data": {
      "text/plain": [
       "6-element Array{Float64,1}:\n",
       " 0.321024 \n",
       " 0.170538 \n",
       " 0.106596 \n",
       " 0.136795 \n",
       " 0.0643103\n",
       " 0.200737 "
      ]
     },
     "execution_count": 6,
     "metadata": {},
     "output_type": "execute_result"
    }
   ],
   "source": [
    "myPageRank(G,15)"
   ]
  },
  {
   "cell_type": "markdown",
   "metadata": {
    "nbpresent": {
     "id": "c9bf7ecc-5c51-4cb3-9747-dd4bda11560f"
    }
   },
   "source": [
    "### [Stanford web graph](http://snap.stanford.edu/data/web-Stanford.html)\n",
    "\n",
    "Malo veći testni problem."
   ]
  },
  {
   "cell_type": "code",
   "execution_count": 7,
   "metadata": {
    "collapsed": false,
    "nbpresent": {
     "id": "637112da-d944-4bce-a751-e8a95f9014a2"
    }
   },
   "outputs": [
    {
     "data": {
      "text/plain": [
       "2312497×2 Array{Int64,2}:\n",
       "      1    6548\n",
       "      1   15409\n",
       "   6548   57031\n",
       "  15409   13102\n",
       "      2   17794\n",
       "      2   25202\n",
       "      2   53625\n",
       "      2   54582\n",
       "      2   64930\n",
       "      2   73764\n",
       "      2   84477\n",
       "      2   98628\n",
       "      2  100193\n",
       "      ⋮        \n",
       " 281849  165189\n",
       " 281849  177014\n",
       " 281849  226290\n",
       " 281849  243180\n",
       " 281849  244195\n",
       " 281849  247252\n",
       " 281849  281568\n",
       " 281865  186750\n",
       " 281865  225872\n",
       " 281888  114388\n",
       " 281888  192969\n",
       " 281888  233184"
      ]
     },
     "execution_count": 7,
     "metadata": {},
     "output_type": "execute_result"
    }
   ],
   "source": [
    "W=readdlm(\"web-Stanford.txt\",Int)"
   ]
  },
  {
   "cell_type": "code",
   "execution_count": 8,
   "metadata": {
    "collapsed": false,
    "nbpresent": {
     "id": "cd7c4a66-da5a-4f42-8cd0-f4cff46120df"
    }
   },
   "outputs": [
    {
     "data": {
      "text/plain": [
       "281903×281903 sparse matrix with 2312497 Float64 nonzero entries:\n",
       "\t[6548  ,      1]  =  1.0\n",
       "\t[15409 ,      1]  =  1.0\n",
       "\t[17794 ,      2]  =  1.0\n",
       "\t[25202 ,      2]  =  1.0\n",
       "\t[53625 ,      2]  =  1.0\n",
       "\t[54582 ,      2]  =  1.0\n",
       "\t[64930 ,      2]  =  1.0\n",
       "\t[73764 ,      2]  =  1.0\n",
       "\t[84477 ,      2]  =  1.0\n",
       "\t[98628 ,      2]  =  1.0\n",
       "\t⋮\n",
       "\t[168703, 281902]  =  1.0\n",
       "\t[180771, 281902]  =  1.0\n",
       "\t[266504, 281902]  =  1.0\n",
       "\t[275189, 281902]  =  1.0\n",
       "\t[44103 , 281903]  =  1.0\n",
       "\t[56088 , 281903]  =  1.0\n",
       "\t[90591 , 281903]  =  1.0\n",
       "\t[94440 , 281903]  =  1.0\n",
       "\t[216688, 281903]  =  1.0\n",
       "\t[256539, 281903]  =  1.0\n",
       "\t[260899, 281903]  =  1.0"
      ]
     },
     "execution_count": 8,
     "metadata": {},
     "output_type": "execute_result"
    }
   ],
   "source": [
    "S=sparse(W[:,2],W[:,1],1.0)"
   ]
  },
  {
   "cell_type": "code",
   "execution_count": 9,
   "metadata": {
    "collapsed": false,
    "nbpresent": {
     "id": "b5352330-ab91-41fe-824c-e5ccc2ace595"
    }
   },
   "outputs": [
    {
     "name": "stdout",
     "output_type": "stream",
     "text": [
      "  1.541993 seconds (846.80 k allocations: 542.598 MB, 10.27% gc time)\n"
     ]
    }
   ],
   "source": [
    "@time x100=myPageRank(S,100);"
   ]
  },
  {
   "cell_type": "code",
   "execution_count": 10,
   "metadata": {
    "collapsed": false,
    "nbpresent": {
     "id": "cc0d1a66-a69a-478f-8db8-e6a850725631"
    }
   },
   "outputs": [
    {
     "data": {
      "text/plain": [
       "2.349138102570129e-7"
      ]
     },
     "execution_count": 10,
     "metadata": {},
     "output_type": "execute_result"
    }
   ],
   "source": [
    "x101=myPageRank(S,101)\n",
    "maxabs((x100-x101)./x100)"
   ]
  },
  {
   "cell_type": "code",
   "execution_count": 11,
   "metadata": {
    "collapsed": false,
    "nbpresent": {
     "id": "7caf1ddf-e679-41b6-83ae-75260f278dac"
    }
   },
   "outputs": [
    {
     "data": {
      "text/plain": [
       "([89073,226411,241454,262860,134832,234704,136821,68889,105607,69358  …  281647,281700,281715,281728,281778,281785,281813,281849,281865,281888],[0.0113029,0.00926783,0.00829727,0.00302312,0.00300128,0.00257173,0.00245371,0.00243079,0.00239105,0.00236401  …  5.33369e-7,5.33369e-7,5.33369e-7,5.33369e-7,5.33369e-7,5.33369e-7,5.33369e-7,5.33369e-7,5.33369e-7,5.33369e-7])"
      ]
     },
     "execution_count": 11,
     "metadata": {},
     "output_type": "execute_result"
    }
   ],
   "source": [
    "sortperm(x100,rev=true), sort(x101,rev=true)"
   ]
  },
  {
   "cell_type": "markdown",
   "metadata": {
    "nbpresent": {
     "id": "8e161bdf-c2f4-457b-aa37-87cb7b94a62a"
    }
   },
   "source": [
    "## Doba preporuka \n",
    "\n",
    "NetFlix, Amazon Prime, PickBox, ... - on-line videoteke (filmovi i serije)\n",
    "\n",
    "[NetFlix](https://www.netflix.com/hr/)\n",
    "\n",
    " * [80 milijuna korisnika](https://www.statista.com/statistics/250934/quarterly-number-of-netflix-streaming-subscribers-worldwide/), 5.000 filmova\n",
    " * [NetFlix Prize](http://www.kdd.org/kdd2014/tutorials/KDD%20-%20The%20Recommender%20Problem%20Revisited.pdf)\n",
    " "
   ]
  },
  {
   "cell_type": "markdown",
   "metadata": {
    "nbpresent": {
     "id": "5bd4499f-d408-4ef5-873c-d2af140a3863"
    }
   },
   "source": [
    "## Matematika\n",
    "\n",
    "Netflix Recommendation Engine se temelji na aproksimaciji (velike i rijetke) matrice\n",
    "```\n",
    "M = Korisnici x Filmovi \n",
    "```\n",
    "pomoću rastava singularnih vrijednosti (SVD): \n",
    "\n",
    "* [IncrementalSVD.jl](https://github.com/aaw/IncrementalSVD.jl)\n",
    "* [A parallel recommendation engine in Julia](http://juliacomputing.com/blog/2016/04/22/a-parallel-recommendation-engine-in-julia.html)"
   ]
  },
  {
   "cell_type": "markdown",
   "metadata": {
    "nbpresent": {
     "id": "95e8dd12-5e61-4c6e-903e-21d9933c61d6"
    }
   },
   "source": [
    "## Sličnost\n",
    "\n",
    "Sličnost korisnika $i$ i $k$:\n",
    "$$\n",
    "\\cos \\angle (i,k)=\\frac{(M[i,:],M[k,:])}{\\|M[i,:]\\| \\cdot \\|M[k,:]\\|}\n",
    "$$\n",
    "Sličnost filmova $i$ i $k$:\n",
    "$$\n",
    "\\cos \\angle (i,k)=\\frac{(M[:,i],M[:,k)}{\\|M[:,i]\\| \\cdot \\|M[:,k]\\|}\n",
    "$$"
   ]
  },
  {
   "cell_type": "markdown",
   "metadata": {
    "nbpresent": {
     "id": "310609df-23c9-43d4-be57-c9e837921be5"
    }
   },
   "source": [
    "## Pretraživanje\n",
    "\n",
    "Redak $M[k,:]$ - što korisnik $k$ misli o filmovima.\n",
    "\n",
    "Stupac $M[:,f]$ - što o filmu $f$ misle korisnici\n",
    "\n",
    "Element $M[k,f]$ - što korisnik $k$ misli o filmu $f$."
   ]
  },
  {
   "cell_type": "markdown",
   "metadata": {
    "nbpresent": {
     "id": "0dc62bf7-111e-4a65-aa8f-d581ccc78705"
    }
   },
   "source": [
    "## Problem\n",
    "\n",
    "Matrica $M$ je rijetka pa nemamo dovoljno informacija. Na primjer, \n",
    "\n",
    "```\n",
    "900188 ocjena / ( 6040 korisnika x 3706 filmova ) = 4%\n",
    "```"
   ]
  },
  {
   "cell_type": "markdown",
   "metadata": {
    "nbpresent": {
     "id": "4944f869-4080-4947-a6ad-a08c3f2dc6b8"
    }
   },
   "source": [
    "## Aproksimacija\n",
    "\n",
    "SVD rastav $M=U\\Sigma V^T$ se aproksimira matricom jako malog ranga (npr. $m=25$)\n",
    "\n",
    "![SVD rastav](svd.png)\n",
    "\n",
    "Približna matrica je puna i daje dovoljno informacija.\n",
    "\n",
    "Efikasna aproksimacija? -> $\\$$ 1.000.000  "
   ]
  },
  {
   "cell_type": "code",
   "execution_count": 12,
   "metadata": {
    "collapsed": false,
    "nbpresent": {
     "id": "b668eb1e-a6ab-4765-b3cc-d146fd9af9b6"
    }
   },
   "outputs": [],
   "source": [
    "# Pkg.clone(\"git://github.com/aaw/IncrementalSVD.jl.git\")"
   ]
  },
  {
   "cell_type": "code",
   "execution_count": 13,
   "metadata": {
    "collapsed": false,
    "nbpresent": {
     "id": "bccc43b9-69b2-440e-a866-7deca5e28515"
    }
   },
   "outputs": [
    {
     "name": "stderr",
     "output_type": "stream",
     "text": [
      "\n",
      "WARNING: deprecated syntax \"[a=>b for (a,b) in c]\".\n",
      "Use \"Dict(a=>b for (a,b) in c)\" instead.\n"
     ]
    }
   ],
   "source": [
    "using IncrementalSVD"
   ]
  },
  {
   "cell_type": "code",
   "execution_count": 14,
   "metadata": {
    "collapsed": false,
    "nbpresent": {
     "id": "49fe305c-c879-4aa3-a255-53b3301f55ff"
    }
   },
   "outputs": [
    {
     "name": "stdout",
     "output_type": "stream",
     "text": [
      "                IncrementalSVD     57 KB     Module\n",
      "                        Rating    136 bytes  DataType\n",
      "                     RatingSet    148 bytes  DataType\n",
      "                  RatingsModel    160 bytes  DataType\n",
      "             cosine_similarity      0 bytes  IncrementalSVD.#cosine_similarity\n",
      "          get_predicted_rating      0 bytes  IncrementalSVD.#get_predicted_rati…\n",
      "                 item_features      0 bytes  IncrementalSVD.#item_features\n",
      "                   item_search      0 bytes  IncrementalSVD.#item_search\n",
      "                         items      0 bytes  IncrementalSVD.#items\n",
      "    load_book_crossing_dataset      0 bytes  IncrementalSVD.#load_book_crossing…\n",
      "  load_large_movielens_dataset      0 bytes  IncrementalSVD.#load_large_moviele…\n",
      "  load_small_movielens_dataset      0 bytes  IncrementalSVD.#load_small_moviele…\n",
      "                          rmse      0 bytes  IncrementalSVD.#rmse\n",
      "                 similar_items      0 bytes  IncrementalSVD.#similar_items\n",
      "                 similar_users      0 bytes  IncrementalSVD.#similar_users\n",
      "                 split_ratings      0 bytes  IncrementalSVD.#split_ratings\n",
      "                         train      0 bytes  IncrementalSVD.#train\n",
      "               truncate_model!      0 bytes  IncrementalSVD.#truncate_model!\n",
      "                 user_features      0 bytes  IncrementalSVD.#user_features\n",
      "                  user_ratings      0 bytes  IncrementalSVD.#user_ratings\n",
      "                         users      0 bytes  IncrementalSVD.#users\n"
     ]
    }
   ],
   "source": [
    "whos(IncrementalSVD)"
   ]
  },
  {
   "cell_type": "code",
   "execution_count": 15,
   "metadata": {
    "collapsed": false,
    "nbpresent": {
     "id": "fe34b160-0094-4f16-be24-7dce3df0d876"
    }
   },
   "outputs": [
    {
     "name": "stdout",
     "output_type": "stream",
     "text": [
      "Reusing existing downloaded files...\n",
      "Loading ratings 100% Time: 0:00:03\n"
     ]
    }
   ],
   "source": [
    "rating_set = load_small_movielens_dataset();"
   ]
  },
  {
   "cell_type": "code",
   "execution_count": 16,
   "metadata": {
    "collapsed": false,
    "nbpresent": {
     "id": "0a04c7fc-c67f-4b4b-aa03-32900cb5651e"
    }
   },
   "outputs": [
    {
     "data": {
      "text/plain": [
       "4-element Array{Symbol,1}:\n",
       " :training_set \n",
       " :test_set     \n",
       " :user_to_index\n",
       " :item_to_index"
      ]
     },
     "execution_count": 16,
     "metadata": {},
     "output_type": "execute_result"
    }
   ],
   "source": [
    "fieldnames(rating_set)"
   ]
  },
  {
   "cell_type": "code",
   "execution_count": 17,
   "metadata": {
    "collapsed": false,
    "nbpresent": {
     "id": "c4456c31-299a-4f3a-9ad1-b9544ce009bd"
    }
   },
   "outputs": [
    {
     "data": {
      "text/plain": [
       "900188-element Array{IncrementalSVD.Rating,1}:\n",
       " IncrementalSVD.Rating(3718,1914,2.0)\n",
       " IncrementalSVD.Rating(2078,526,5.0) \n",
       " IncrementalSVD.Rating(2919,284,4.0) \n",
       " IncrementalSVD.Rating(3829,364,3.0) \n",
       " IncrementalSVD.Rating(4887,109,3.0) \n",
       " IncrementalSVD.Rating(4892,377,5.0) \n",
       " IncrementalSVD.Rating(4167,1208,2.0)\n",
       " IncrementalSVD.Rating(3868,559,3.0) \n",
       " IncrementalSVD.Rating(5455,920,3.0) \n",
       " IncrementalSVD.Rating(1999,295,5.0) \n",
       " IncrementalSVD.Rating(6016,490,2.0) \n",
       " IncrementalSVD.Rating(899,19,5.0)   \n",
       " IncrementalSVD.Rating(4490,1242,5.0)\n",
       " ⋮                                   \n",
       " IncrementalSVD.Rating(5776,79,4.0)  \n",
       " IncrementalSVD.Rating(1425,2435,3.0)\n",
       " IncrementalSVD.Rating(2624,23,4.0)  \n",
       " IncrementalSVD.Rating(1146,86,2.0)  \n",
       " IncrementalSVD.Rating(4715,669,4.0) \n",
       " IncrementalSVD.Rating(3546,1356,3.0)\n",
       " IncrementalSVD.Rating(3576,1579,3.0)\n",
       " IncrementalSVD.Rating(3792,651,4.0) \n",
       " IncrementalSVD.Rating(1883,393,3.0) \n",
       " IncrementalSVD.Rating(2353,940,2.0) \n",
       " IncrementalSVD.Rating(5035,427,5.0) \n",
       " IncrementalSVD.Rating(2122,2302,5.0)"
      ]
     },
     "execution_count": 17,
     "metadata": {},
     "output_type": "execute_result"
    }
   ],
   "source": [
    "# Format je (korisnik, film, ocjena)\n",
    "rating_set.training_set"
   ]
  },
  {
   "cell_type": "code",
   "execution_count": 18,
   "metadata": {
    "collapsed": false,
    "nbpresent": {
     "id": "227f2334-6846-4dda-a3f7-a3672a820ea7"
    }
   },
   "outputs": [
    {
     "data": {
      "text/plain": [
       "100021-element Array{IncrementalSVD.Rating,1}:\n",
       " IncrementalSVD.Rating(3272,157,3.0) \n",
       " IncrementalSVD.Rating(883,128,5.0)  \n",
       " IncrementalSVD.Rating(840,105,4.0)  \n",
       " IncrementalSVD.Rating(2402,1107,2.0)\n",
       " IncrementalSVD.Rating(5364,1299,5.0)\n",
       " IncrementalSVD.Rating(4448,774,4.0) \n",
       " IncrementalSVD.Rating(678,995,4.0)  \n",
       " IncrementalSVD.Rating(3684,1388,3.0)\n",
       " IncrementalSVD.Rating(149,406,4.0)  \n",
       " IncrementalSVD.Rating(4854,27,4.0)  \n",
       " IncrementalSVD.Rating(3821,8,2.0)   \n",
       " IncrementalSVD.Rating(1752,185,5.0) \n",
       " IncrementalSVD.Rating(2015,237,4.0) \n",
       " ⋮                                   \n",
       " IncrementalSVD.Rating(3557,1364,1.0)\n",
       " IncrementalSVD.Rating(1232,742,4.0) \n",
       " IncrementalSVD.Rating(2860,429,3.0) \n",
       " IncrementalSVD.Rating(1266,3121,3.0)\n",
       " IncrementalSVD.Rating(4050,1498,4.0)\n",
       " IncrementalSVD.Rating(3669,464,4.0) \n",
       " IncrementalSVD.Rating(1745,1071,4.0)\n",
       " IncrementalSVD.Rating(3754,2871,2.0)\n",
       " IncrementalSVD.Rating(4072,1477,4.0)\n",
       " IncrementalSVD.Rating(687,1086,1.0) \n",
       " IncrementalSVD.Rating(934,1409,2.0) \n",
       " IncrementalSVD.Rating(1150,454,3.0) "
      ]
     },
     "execution_count": 18,
     "metadata": {},
     "output_type": "execute_result"
    }
   ],
   "source": [
    "rating_set.test_set"
   ]
  },
  {
   "cell_type": "code",
   "execution_count": 19,
   "metadata": {
    "collapsed": false,
    "nbpresent": {
     "id": "eda35ea4-4078-4458-b92d-6c616d4809bf"
    }
   },
   "outputs": [
    {
     "data": {
      "text/plain": [
       "Dict{AbstractString,Int32} with 6040 entries:\n",
       "  \"4304\" => 4304\n",
       "  \"3935\" => 3935\n",
       "  \"5422\" => 5422\n",
       "  \"5734\" => 5734\n",
       "  \"2243\" => 2243\n",
       "  \"1881\" => 1881\n",
       "  \"5425\" => 5425\n",
       "  \"4209\" => 4209\n",
       "  \"1907\" => 1907\n",
       "  \"2923\" => 2923\n",
       "  \"599\"  => 599\n",
       "  \"2491\" => 2491\n",
       "  \"5944\" => 5944\n",
       "  \"228\"  => 228\n",
       "  \"2590\" => 2590\n",
       "  \"3697\" => 3697\n",
       "  \"5031\" => 5031\n",
       "  \"2579\" => 2579\n",
       "  \"5551\" => 5551\n",
       "  \"1880\" => 1880\n",
       "  \"2562\" => 2562\n",
       "  \"3215\" => 3215\n",
       "  \"3991\" => 3991\n",
       "  \"4652\" => 4652\n",
       "  \"4088\" => 4088\n",
       "  ⋮      => ⋮"
      ]
     },
     "execution_count": 19,
     "metadata": {},
     "output_type": "execute_result"
    }
   ],
   "source": [
    "# Korisnici i njihove šifre\n",
    "rating_set.user_to_index"
   ]
  },
  {
   "cell_type": "code",
   "execution_count": 20,
   "metadata": {
    "collapsed": false,
    "nbpresent": {
     "id": "b617e472-3cbb-4dac-b889-0ede4baa5299"
    },
    "scrolled": true
   },
   "outputs": [
    {
     "data": {
      "text/plain": [
       "Dict{AbstractString,Int32} with 3706 entries:\n",
       "  \"Fried Green Tomatoes (1991)\"                                       => 594\n",
       "  \"Milk Money (1994)\"                                                 => 1361\n",
       "  \"From Russia with Love (1963)\"                                      => 729\n",
       "  \"House II: The Second Story (1987)\"                                 => 1247\n",
       "  \"Held Up (2000)\"                                                    => 3549\n",
       "  \"Missing in Action 2: The Beginning (1985)\"                         => 2177\n",
       "  \"Murder, My Sweet (1944)\"                                           => 996\n",
       "  \"Hidden, The (1987)\"                                                => 981\n",
       "  \"Cable Guy, The (1996)\"                                             => 669\n",
       "  \"Big Kahuna, The (2000)\"                                            => 893\n",
       "  \"Addams Family Values (1993)\"                                       => 1857\n",
       "  \"Farinelli: il castrato (1994)\"                                     => 1945\n",
       "  \"Education of Little Tree, The (1997)\"                              => 2759\n",
       "  \"In God's Hands (1998)\"                                             => 2814\n",
       "  \"Last Man Standing (1996)\"                                          => 1840\n",
       "  \"Sixth Sense, The (1999)\"                                           => 39\n",
       "  \"Star Maps (1997)\"                                                  => 2670\n",
       "  \"Girl, Interrupted (1999)\"                                          => 32\n",
       "  \"Stand by Me (1986)\"                                                => 85\n",
       "  \"Rob Roy (1995)\"                                                    => 449\n",
       "  \"Caligula (1980)\"                                                   => 2532\n",
       "  \"Flirting With Disaster (1996)\"                                     => 1290\n",
       "  \"Hook (1991)\"                                                       => 657\n",
       "  \"Institute Benjamenta, or This Dream People Call Human Life (1995)\" => 3397\n",
       "  \"Way We Were, The (1973)\"                                           => 762\n",
       "  ⋮                                                                   => ⋮"
      ]
     },
     "execution_count": 20,
     "metadata": {},
     "output_type": "execute_result"
    }
   ],
   "source": [
    "# Filmovi i njihove šifre\n",
    "rating_set.item_to_index"
   ]
  },
  {
   "cell_type": "code",
   "execution_count": 21,
   "metadata": {
    "collapsed": false,
    "nbpresent": {
     "id": "2de54f0f-448a-431f-a6b4-fabdafe1c663"
    },
    "scrolled": true
   },
   "outputs": [
    {
     "data": {
      "text/plain": [
       "Base.KeyIterator for a Dict{AbstractString,Int32} with 3706 entries. Keys:\n",
       "  \"Fried Green Tomatoes (1991)\"\n",
       "  \"Milk Money (1994)\"\n",
       "  \"From Russia with Love (1963)\"\n",
       "  \"House II: The Second Story (1987)\"\n",
       "  \"Held Up (2000)\"\n",
       "  \"Missing in Action 2: The Beginning (1985)\"\n",
       "  \"Murder, My Sweet (1944)\"\n",
       "  \"Hidden, The (1987)\"\n",
       "  \"Cable Guy, The (1996)\"\n",
       "  \"Big Kahuna, The (2000)\"\n",
       "  \"Addams Family Values (1993)\"\n",
       "  \"Farinelli: il castrato (1994)\"\n",
       "  \"Education of Little Tree, The (1997)\"\n",
       "  \"In God's Hands (1998)\"\n",
       "  \"Last Man Standing (1996)\"\n",
       "  \"Sixth Sense, The (1999)\"\n",
       "  \"Star Maps (1997)\"\n",
       "  \"Girl, Interrupted (1999)\"\n",
       "  \"Stand by Me (1986)\"\n",
       "  \"Rob Roy (1995)\"\n",
       "  \"Caligula (1980)\"\n",
       "  \"Flirting With Disaster (1996)\"\n",
       "  \"Hook (1991)\"\n",
       "  \"Institute Benjamenta, or This Dream People Call Human Life (1995)\"\n",
       "  ⋮"
      ]
     },
     "execution_count": 21,
     "metadata": {},
     "output_type": "execute_result"
    }
   ],
   "source": [
    "# Možemo posebno izvaditi naslove ...\n",
    "keys(rating_set.item_to_index)"
   ]
  },
  {
   "cell_type": "code",
   "execution_count": 22,
   "metadata": {
    "collapsed": false,
    "nbpresent": {
     "id": "78d27a10-f1f4-4d6e-9d23-e5e734f61466"
    }
   },
   "outputs": [
    {
     "data": {
      "text/plain": [
       "Base.ValueIterator for a Dict{AbstractString,Int32} with 3706 entries. Values:\n",
       "  594\n",
       "  1361\n",
       "  729\n",
       "  1247\n",
       "  3549\n",
       "  2177\n",
       "  996\n",
       "  981\n",
       "  669\n",
       "  893\n",
       "  1857\n",
       "  1945\n",
       "  2759\n",
       "  2814\n",
       "  1840\n",
       "  39\n",
       "  2670\n",
       "  32\n",
       "  85\n",
       "  449\n",
       "  2532\n",
       "  1290\n",
       "  657\n",
       "  3397\n",
       "  ⋮"
      ]
     },
     "execution_count": 22,
     "metadata": {},
     "output_type": "execute_result"
    }
   ],
   "source": [
    "# i šifre\n",
    "values(rating_set.item_to_index)"
   ]
  },
  {
   "cell_type": "code",
   "execution_count": 23,
   "metadata": {
    "collapsed": false,
    "nbpresent": {
     "id": "d4c4b874-0934-45e3-bd91-ccb28e97ef46"
    }
   },
   "outputs": [
    {
     "data": {
      "text/plain": [
       "96-element Array{Tuple{SubString{String},Float32},1}:\n",
       " (\"American Beauty (1999)\",5.0)                       \n",
       " (\"Dances with Wolves (1990)\",5.0)                    \n",
       " (\"Brazil (1985)\",5.0)                                \n",
       " (\"Babe (1995)\",5.0)                                  \n",
       " (\"Caddyshack (1980)\",5.0)                            \n",
       " (\"Gattaca (1997)\",5.0)                               \n",
       " (\"Brothers McMullen, The (1995)\",5.0)                \n",
       " (\"When Harry Met Sally... (1989)\",5.0)               \n",
       " (\"One Flew Over the Cuckoo's Nest (1975)\",5.0)       \n",
       " (\"Twelve Monkeys (1995)\",5.0)                        \n",
       " (\"Time Bandits (1981)\",5.0)                          \n",
       " (\"Princess Bride, The (1987)\",5.0)                   \n",
       " (\"Chinatown (1974)\",4.0)                             \n",
       " ⋮                                                    \n",
       " (\"2001: A Space Odyssey (1968)\",2.0)                 \n",
       " (\"Romancing the Stone (1984)\",2.0)                   \n",
       " (\"Mission: Impossible (1996)\",1.0)                   \n",
       " (\"Blind Date (1987)\",1.0)                            \n",
       " (\"Star Trek VI: The Undiscovered Country (1991)\",1.0)\n",
       " (\"Sphere (1998)\",1.0)                                \n",
       " (\"Sudden Death (1995)\",1.0)                          \n",
       " (\"Blue Lagoon, The (1980)\",1.0)                      \n",
       " (\"Grease 2 (1982)\",1.0)                              \n",
       " (\"Dirty Dancing (1987)\",1.0)                         \n",
       " (\"Jewel of the Nile, The (1985)\",1.0)                \n",
       " (\"Flashdance (1983)\",1.0)                            "
      ]
     },
     "execution_count": 23,
     "metadata": {},
     "output_type": "execute_result"
    }
   ],
   "source": [
    "# Koje je filmove ocijenio korisnik \"3000\"\n",
    "user_ratings(rating_set, \"3000\")"
   ]
  },
  {
   "cell_type": "code",
   "execution_count": 24,
   "metadata": {
    "collapsed": false,
    "nbpresent": {
     "id": "d3cf851c-af8c-4b79-8f2f-7d01530a4516"
    }
   },
   "outputs": [
    {
     "name": "stdout",
     "output_type": "stream",
     "text": [
      "Sling Blade (1996)\n",
      "Blade (1998)\n",
      "Blade Runner (1982)\n",
      "Some Folks Call It a Sling Blade (1993)\n"
     ]
    },
    {
     "ename": "LoadError",
     "evalue": "LoadError: UnicodeError: invalid character index\nwhile loading In[24], in expression starting on line 2",
     "output_type": "error",
     "traceback": [
      "LoadError: UnicodeError: invalid character index\nwhile loading In[24], in expression starting on line 2",
      "",
      " in slow_utf8_next(::Array{UInt8,1}, ::UInt8, ::Int64) at ./strings/string.jl:67",
      " in next at ./strings/string.jl:92 [inlined]",
      " in next(::SubString{String}, ::Int64) at ./strings/types.jl:51",
      " in search(::SubString{String}, ::Char, ::Int64) at ./strings/search.jl:12",
      " in _searchindex(::SubString{String}, ::String, ::Int64) at ./strings/search.jl:31",
      " in contains(::SubString{String}, ::String) at ./strings/search.jl:310",
      " in macro expansion; at ./In[24]:3 [inlined]",
      " in anonymous at ./<missing>:?"
     ]
    }
   ],
   "source": [
    "# Nađimo točan naziv i šifru za \"Blade runner\"\n",
    "for k in keys(rating_set.item_to_index)\n",
    "    if contains(k,\"Blade\")\n",
    "        println(k)\n",
    "    end\n",
    "end"
   ]
  },
  {
   "cell_type": "code",
   "execution_count": 25,
   "metadata": {
    "collapsed": false,
    "nbpresent": {
     "id": "f9f29054-8d7f-4779-b29c-aa3834e2de8f"
    }
   },
   "outputs": [
    {
     "data": {
      "text/plain": [
       "744"
      ]
     },
     "execution_count": 25,
     "metadata": {},
     "output_type": "execute_result"
    }
   ],
   "source": [
    "get(rating_set.item_to_index,\"Blade Runner (1982)\",0)"
   ]
  },
  {
   "cell_type": "code",
   "execution_count": 26,
   "metadata": {
    "collapsed": false,
    "nbpresent": {
     "id": "1251af52-47ea-4d0f-a8e8-586a1f5517af"
    }
   },
   "outputs": [
    {
     "name": "stdout",
     "output_type": "stream",
     "text": [
      "(\"Blade Runner (1982)\",4.0f0)\n"
     ]
    }
   ],
   "source": [
    "# Da li je korisnik \"3000\" ocijenio \"Blade Runner\" ?\n",
    "for k in user_ratings(rating_set,\"3000\")\n",
    "    if contains(k[1],\"Blade\")\n",
    "        println(k)\n",
    "    end\n",
    "end"
   ]
  },
  {
   "cell_type": "code",
   "execution_count": 27,
   "metadata": {
    "collapsed": false,
    "nbpresent": {
     "id": "97a60042-8c73-46bf-9f9e-66281228aecc"
    }
   },
   "outputs": [],
   "source": [
    "# Da li je korisnik \"3000\" ocijenio \"Citizen Kane\" ?\n",
    "for k in user_ratings(rating_set,\"3000\")\n",
    "    if contains(k[1],\"Citizen\")\n",
    "        println(k)\n",
    "    end\n",
    "end"
   ]
  },
  {
   "cell_type": "code",
   "execution_count": 28,
   "metadata": {
    "collapsed": false,
    "nbpresent": {
     "id": "883cf538-0f01-4a0a-bd2f-dc14fed20fd0"
    }
   },
   "outputs": [
    {
     "name": "stdout",
     "output_type": "stream",
     "text": [
      "Computing truncated rank 25 SVD 100% Time: 0:02:14\n"
     ]
    }
   ],
   "source": [
    "# Ovo traje dvije i po minute\n",
    "model = train(rating_set, 25);"
   ]
  },
  {
   "cell_type": "code",
   "execution_count": 29,
   "metadata": {
    "collapsed": false,
    "nbpresent": {
     "id": "4ab42861-734c-409a-ab8e-0c065328987f"
    }
   },
   "outputs": [
    {
     "data": {
      "text/plain": [
       "5-element Array{Symbol,1}:\n",
       " :user_to_index\n",
       " :item_to_index\n",
       " :U            \n",
       " :S            \n",
       " :V            "
      ]
     },
     "execution_count": 29,
     "metadata": {},
     "output_type": "execute_result"
    }
   ],
   "source": [
    "fieldnames(model)"
   ]
  },
  {
   "cell_type": "code",
   "execution_count": 30,
   "metadata": {
    "collapsed": false,
    "nbpresent": {
     "id": "9175e158-5a25-4d87-8236-0659ef31f3fd"
    }
   },
   "outputs": [
    {
     "data": {
      "text/plain": [
       "6040×25 Array{Float32,2}:\n",
       " 0.0105286   0.0108881    0.0169462    0.00726165  …   0.0165685   0.0105533 \n",
       " 0.0143127   0.0107969    0.00958497   0.0103498       0.00717566  0.0150079 \n",
       " 0.0101161   0.00902197   0.0170195    0.00770462      0.0117291   0.0157636 \n",
       " 0.00710551  0.00677834   0.0158305    0.00420549      0.0114087   0.0111503 \n",
       " 0.0136108   0.0157925    0.00125129   0.0154513       0.0038251   0.00905021\n",
       " 0.0108928   0.0173633    0.0154919    0.0163003   …   0.00889664  0.0159288 \n",
       " 0.00870144  0.00751549   0.0187289    0.00401489      0.0107074   0.0118996 \n",
       " 0.0156788   0.0149871    0.00987733   0.0133478       0.0110488   0.0102954 \n",
       " 0.0134843   0.0083181    0.010523     0.00702826      0.0111521   0.00816377\n",
       " 0.0188921   0.0123215   -0.0108931    0.0242425       0.00759919  0.0124998 \n",
       " 0.01271     0.0114213    0.0110434    0.0103405   …   0.011292    0.00321139\n",
       " 0.00605743  0.00804548   0.0138675    0.00590076      0.0132224   0.0165833 \n",
       " 0.0118863   0.00952506   0.0131845    0.00718291      0.00522086  0.017439  \n",
       " ⋮                                                 ⋱                         \n",
       " 0.00637816  0.0129909    0.0137177    0.0116263       0.0185623   0.0179544 \n",
       " 0.0148243   0.0120957    0.0156166    0.0100511       0.0130567   0.00260667\n",
       " 0.00930082  0.0110824    0.0166959    0.0108397   …   0.00787297  0.0215181 \n",
       " 0.0152003   0.0130907    0.0121974    0.00994505      0.00859643  0.0110352 \n",
       " 0.0104563   0.00985341   0.0170671    0.00735145      0.0129723   0.0121246 \n",
       " 0.00540673  0.011245     0.012312     0.00927308      0.0118498   0.0194324 \n",
       " 0.0139161   0.007034     0.0044327    0.00543997     -0.0162419   0.0160481 \n",
       " 0.0169726   0.0150091   -0.0224702    0.0236435   …  -0.0177601   0.0183075 \n",
       " 0.0153233   0.0107181   -0.000431351  0.0124533       0.00457488  0.0217147 \n",
       " 0.00511705  0.00903653   0.011796     0.00764805      0.0128089   0.0207098 \n",
       " 0.0145618   0.0175328    0.00831574   0.0117466       0.00398802  0.010146  \n",
       " 0.0162319   0.0162784   -0.0097728    0.0188398       0.00443158  0.00456664"
      ]
     },
     "execution_count": 30,
     "metadata": {},
     "output_type": "execute_result"
    }
   ],
   "source": [
    "model.U"
   ]
  },
  {
   "cell_type": "code",
   "execution_count": 31,
   "metadata": {
    "collapsed": false,
    "nbpresent": {
     "id": "5f5fef72-581c-4f0a-bdec-2aba63597e82"
    }
   },
   "outputs": [
    {
     "data": {
      "text/plain": [
       "25-element Array{Float32,1}:\n",
       " 8191.46  \n",
       " 2145.75  \n",
       "  823.595 \n",
       " 1152.41  \n",
       "  852.304 \n",
       " 1202.16  \n",
       "  638.137 \n",
       "  404.692 \n",
       "  331.272 \n",
       "  254.959 \n",
       "  260.26  \n",
       "  346.955 \n",
       "  284.287 \n",
       "  226.332 \n",
       "  258.695 \n",
       "  315.226 \n",
       "  341.985 \n",
       "  192.93  \n",
       "  205.88  \n",
       "  195.595 \n",
       "  171.799 \n",
       "  140.685 \n",
       "  136.543 \n",
       "  115.004 \n",
       "   97.6223"
      ]
     },
     "execution_count": 31,
     "metadata": {},
     "output_type": "execute_result"
    }
   ],
   "source": [
    "model.S"
   ]
  },
  {
   "cell_type": "code",
   "execution_count": 32,
   "metadata": {
    "collapsed": false,
    "nbpresent": {
     "id": "57d586fa-798e-44cb-9e81-f87754188ea8"
    }
   },
   "outputs": [
    {
     "data": {
      "text/plain": [
       "3706×25 Array{Float32,2}:\n",
       " 0.0357308   0.00829067  0.0684244   …  -0.00427573    0.00211629\n",
       " 0.025173    0.0150898   0.0205194      -0.00464182    0.00882804\n",
       " 0.0305362   0.0132749   0.0311393      -0.0013124     0.00987835\n",
       " 0.0320461   0.0118308   0.0538765       0.0193329    -0.02097   \n",
       " 0.0315251   0.00753399  0.0547098       0.0118283    -0.0126033 \n",
       " 0.0345476   0.00460288  0.0685182   …  -0.00493932   -0.00594212\n",
       " 0.030664    0.00816449  0.029397        0.000558795   0.006811  \n",
       " 0.0331358   0.00385654  0.0518303       0.0315574    -0.00627985\n",
       " 0.0288807   0.00781605  0.0234186       0.00174335    0.0199391 \n",
       " 0.0334986   0.00535404  0.0540243      -0.0167033     0.0369555 \n",
       " 0.0296428   0.00542992  0.0376194   …   0.0203523    -0.0223229 \n",
       " 0.0177424   0.0266619   0.0091863       0.00665131    0.0133215 \n",
       " 0.025885    0.0189131   0.0132219       0.00282401    0.00724893\n",
       " ⋮                                   ⋱                           \n",
       " 0.00118762  0.00260339  0.00408728      0.013889      0.0148223 \n",
       " 0.00113699  0.00239618  0.0038666   …   0.0123599     0.0132924 \n",
       " 0.00112264  0.00224237  0.00369467      0.0102801     0.0110935 \n",
       " 0.00114922  0.00253774  0.00402916      0.0143987     0.0154508 \n",
       " 0.00118594  0.00257986  0.00388293      0.0104795     0.0120503 \n",
       " 0.00124809  0.00245462  0.0034857       0.0131468     0.010036  \n",
       " 0.00122855  0.00265491  0.00408049  …   0.0132781     0.0140098 \n",
       " 0.00139119  0.00293329  0.00406722      0.0165901     0.0167884 \n",
       " 0.00125033  0.00247112  0.00351265      0.0103195     0.0121719 \n",
       " 0.00115477  0.00228725  0.00366777      0.010013      0.0110297 \n",
       " 0.00125898  0.00277488  0.00406416      0.0130792     0.0132153 \n",
       " 0.00128577  0.00264787  0.00386465  …   0.0126263     0.0133414 "
      ]
     },
     "execution_count": 32,
     "metadata": {},
     "output_type": "execute_result"
    }
   ],
   "source": [
    "model.V"
   ]
  },
  {
   "cell_type": "code",
   "execution_count": 33,
   "metadata": {
    "collapsed": false,
    "nbpresent": {
     "id": "22056d79-9af6-4ec3-8a7a-32344c7982ef"
    }
   },
   "outputs": [
    {
     "data": {
      "text/plain": [
       "10-element Array{SubString{String},1}:\n",
       " \"Friday the 13th (1980)\"                                    \n",
       " \"Amityville Horror, The (1979)\"                             \n",
       " \"Jaws 2 (1978)\"                                             \n",
       " \"Friday the 13th Part 2 (1981)\"                             \n",
       " \"Omen, The (1976)\"                                          \n",
       " \"Pet Sematary (1989)\"                                       \n",
       " \"Nightmare on Elm Street Part 2: Freddy's Revenge, A (1985)\"\n",
       " \"Cujo (1983)\"                                               \n",
       " \"Candyman (1992)\"                                           \n",
       " \"Freddy's Dead: The Final Nightmare (1991)\"                 "
      ]
     },
     "execution_count": 33,
     "metadata": {},
     "output_type": "execute_result"
    }
   ],
   "source": [
    "similar_items(model, \"Friday the 13th (1980)\")"
   ]
  },
  {
   "cell_type": "code",
   "execution_count": 34,
   "metadata": {
    "collapsed": false,
    "nbpresent": {
     "id": "f5b090ca-1b56-49a2-b3e1-f46e01e28f77"
    }
   },
   "outputs": [
    {
     "data": {
      "text/html": [
       "similar_items(model::<b>IncrementalSVD.RatingsModel</b>, item) at <a href=\"https://github.com/aaw/IncrementalSVD.jl/tree/bfb18ddf8aa238e3e48f0eea7a014fda502c40c6/src/util.jl#L113\" target=\"_blank\">/home/slap/.julia/v0.5/IncrementalSVD/src/util.jl:113</a>"
      ],
      "text/plain": [
       "similar_items(model::IncrementalSVD.RatingsModel, item) at /home/slap/.julia/v0.5/IncrementalSVD/src/util.jl:113"
      ]
     },
     "execution_count": 34,
     "metadata": {},
     "output_type": "execute_result"
    }
   ],
   "source": [
    "@which similar_items(model, \"Friday the 13th (1980)\")"
   ]
  },
  {
   "cell_type": "code",
   "execution_count": 35,
   "metadata": {
    "collapsed": false,
    "nbpresent": {
     "id": "84987c4b-dae3-44b0-a710-91e435d5b13b"
    }
   },
   "outputs": [
    {
     "data": {
      "text/plain": [
       "10-element Array{SubString{String},1}:\n",
       " \"Citizen Kane (1941)\"                                                        \n",
       " \"M*A*S*H (1970)\"                                                             \n",
       " \"Dr. Strangelove or: How I Learned to Stop Worrying and Love the Bomb (1963)\"\n",
       " \"Chinatown (1974)\"                                                           \n",
       " \"Rear Window (1954)\"                                                         \n",
       " \"Vertigo (1958)\"                                                             \n",
       " \"Lawrence of Arabia (1962)\"                                                  \n",
       " \"Casablanca (1942)\"                                                          \n",
       " \"Boat, The (Das Boot) (1981)\"                                                \n",
       " \"Apocalypse Now (1979)\"                                                      "
      ]
     },
     "execution_count": 35,
     "metadata": {},
     "output_type": "execute_result"
    }
   ],
   "source": [
    "similar_items(model, \"Citizen Kane (1941)\")"
   ]
  },
  {
   "cell_type": "code",
   "execution_count": 36,
   "metadata": {
    "collapsed": false,
    "nbpresent": {
     "id": "b6f3dae2-a575-42ac-9b64-2ebe7207749d"
    }
   },
   "outputs": [
    {
     "data": {
      "text/plain": [
       "10-element Array{SubString{String},1}:\n",
       " \"3000\"\n",
       " \"6030\"\n",
       " \"5619\"\n",
       " \"5457\"\n",
       " \"1360\"\n",
       " \"1817\"\n",
       " \"1248\"\n",
       " \"5572\"\n",
       " \"514\" \n",
       " \"5368\""
      ]
     },
     "execution_count": 36,
     "metadata": {},
     "output_type": "execute_result"
    }
   ],
   "source": [
    "similar_users(model,\"3000\")"
   ]
  },
  {
   "cell_type": "code",
   "execution_count": 37,
   "metadata": {
    "collapsed": false,
    "nbpresent": {
     "id": "480f4b30-a821-4873-9007-ba1533569c23"
    }
   },
   "outputs": [
    {
     "data": {
      "text/plain": [
       "4.2329783f0"
      ]
     },
     "execution_count": 37,
     "metadata": {},
     "output_type": "execute_result"
    }
   ],
   "source": [
    "# Stvarna ocjena je bila 4.0\n",
    "get_predicted_rating(model, \"3000\", \"Blade Runner (1982)\")"
   ]
  },
  {
   "cell_type": "code",
   "execution_count": 38,
   "metadata": {
    "collapsed": false,
    "nbpresent": {
     "id": "f4108b64-09bd-45bc-8528-f1ee6f1e03f8"
    }
   },
   "outputs": [
    {
     "data": {
      "text/plain": [
       "4.236797f0"
      ]
     },
     "execution_count": 38,
     "metadata": {},
     "output_type": "execute_result"
    }
   ],
   "source": [
    "IncrementalSVD.get_predicted_rating(model, \"3000\", \"Citizen Kane (1941)\")"
   ]
  },
  {
   "cell_type": "markdown",
   "metadata": {
    "nbpresent": {
     "id": "be0dcc40-6967-43f1-b183-1a84d1231b7c"
    }
   },
   "source": [
    "## Tehnologija - github\n",
    "\n",
    "Open Source!\n",
    "\n",
    "[github](https://github.com) je sustav za kolaborativan razvoj softvera - izlog!\n"
   ]
  },
  {
   "cell_type": "markdown",
   "metadata": {
    "collapsed": true,
    "nbpresent": {
     "id": "34a48ae6-b0f5-4d22-996f-f73960b088e1"
    }
   },
   "source": [
    "## Julia i Jupyter\n",
    "\n",
    "[Julia](http://julialang.org/) je novi programski jezik (evolucija) za BigData\n",
    "\n",
    "* [JuliaBox](https://juliabox.com/)\n",
    "\n",
    "[Jupyter](http://jupyter.org/) bilježnice:\n",
    " \n",
    " * tekst i programi u 40 jezika (Julia, Python, R)\n",
    " * HTML, knjiga (LaTeX, PDF)\n",
    " * prezentacija, `nbgrader`"
   ]
  },
  {
   "cell_type": "markdown",
   "metadata": {
    "nbpresent": {
     "id": "22a2e6a0-950b-436e-ba76-43bdd7f4e917"
    }
   },
   "source": [
    "## Hvala na pažnji\n",
    "\n",
    "Pitanja?"
   ]
  },
  {
   "cell_type": "code",
   "execution_count": null,
   "metadata": {
    "collapsed": true,
    "nbpresent": {
     "id": "5a1c181f-cbc4-4c2a-b0a2-ef794b15a4e9"
    }
   },
   "outputs": [],
   "source": []
  }
 ],
 "metadata": {
  "anaconda-cloud": {},
  "kernelspec": {
   "display_name": "Julia 0.5.1",
   "language": "julia",
   "name": "julia-0.5"
  },
  "language_info": {
   "file_extension": ".jl",
   "mimetype": "application/julia",
   "name": "julia",
   "version": "0.5.1"
  },
  "nbpresent": {
   "slides": {
    "09930920-ac93-49b6-aac8-350b5a5269d8": {
     "id": "09930920-ac93-49b6-aac8-350b5a5269d8",
     "prev": "779025dc-e226-4a38-9b2a-5301d6931549",
     "regions": {
      "d847b718-3dd4-4020-b4d4-41e880b1294d": {
       "attrs": {
        "height": 0.862533692722372,
        "width": 0.8909703504043127,
        "x": 0.05754716981132078,
        "y": 0.06765498652291105
       },
       "content": {
        "cell": "442dce44-21d2-42af-a00f-e12100f7796d",
        "part": "whole"
       },
       "id": "d847b718-3dd4-4020-b4d4-41e880b1294d"
      }
     }
    },
    "10df87b5-4d67-4a7f-aac0-60aefff220d8": {
     "id": "10df87b5-4d67-4a7f-aac0-60aefff220d8",
     "prev": "83d1089a-c516-4837-92c2-ce458a29d59f",
     "regions": {
      "9f0d5d52-2df6-40a7-99ec-624f392e40fd": {
       "attrs": {
        "height": 0.862533692722372,
        "width": 0.8909703504043127,
        "x": 0.05754716981132078,
        "y": 0.06765498652291105
       },
       "content": {
        "cell": "979da434-fe24-4fe1-a193-63ab5d1361f3",
        "part": "whole"
       },
       "id": "9f0d5d52-2df6-40a7-99ec-624f392e40fd"
      }
     }
    },
    "1b25ded4-dae1-4e84-81d8-f510e02c8eab": {
     "id": "1b25ded4-dae1-4e84-81d8-f510e02c8eab",
     "prev": "41d51ffb-e3e4-4afc-9d6c-eb7d85b60eb5",
     "regions": {
      "69b86b48-8357-45d6-945b-e2ffee09e1d8": {
       "attrs": {
        "height": 0.862533692722372,
        "width": 0.8909703504043127,
        "x": 0.05754716981132078,
        "y": 0.06765498652291105
       },
       "content": {
        "cell": "d2bb68f0-50d0-4411-b8e3-df211ff2600f",
        "part": "whole"
       },
       "id": "69b86b48-8357-45d6-945b-e2ffee09e1d8"
      }
     }
    },
    "2575db2f-61fd-4e94-9a5f-981966bb819e": {
     "id": "2575db2f-61fd-4e94-9a5f-981966bb819e",
     "prev": "4f783b3a-4c3e-4fe9-afb1-9404410795c5",
     "regions": {
      "078a8a86-3753-46b7-a4eb-3d6c4315f5fa": {
       "attrs": {
        "height": 0.862533692722372,
        "width": 0.8909703504043127,
        "x": 0.05754716981132078,
        "y": 0.06765498652291105
       },
       "content": {
        "cell": "b7663393-5918-4101-94c5-742e526c6fb0",
        "part": "whole"
       },
       "id": "078a8a86-3753-46b7-a4eb-3d6c4315f5fa"
      }
     }
    },
    "2e82683a-7052-40c7-995f-18371d5bb1e5": {
     "id": "2e82683a-7052-40c7-995f-18371d5bb1e5",
     "prev": "b07b2ab9-cf93-4b00-aef0-69e226d99e53",
     "regions": {
      "3e883b73-d477-463a-846b-f39eab7f8179": {
       "attrs": {
        "height": 0.862533692722372,
        "width": 0.8909703504043127,
        "x": 0.05754716981132078,
        "y": 0.06765498652291105
       },
       "content": {
        "cell": "a44c7db9-8a25-4ffe-935d-b65b2d941919",
        "part": "whole"
       },
       "id": "3e883b73-d477-463a-846b-f39eab7f8179"
      }
     }
    },
    "3794c9b2-ce29-4293-9eb6-ac0a0bd65fdb": {
     "id": "3794c9b2-ce29-4293-9eb6-ac0a0bd65fdb",
     "prev": "5044eafe-d25c-460e-ba7c-0a861c36a369",
     "regions": {
      "3a7229f6-ea63-4beb-ab7b-54a7711a55ee": {
       "attrs": {
        "height": 0.862533692722372,
        "width": 0.8909703504043127,
        "x": 0.05754716981132078,
        "y": 0.06765498652291105
       },
       "content": {
        "cell": "00bc2b92-0529-4d3c-a291-c1664c47ee93",
        "part": "whole"
       },
       "id": "3a7229f6-ea63-4beb-ab7b-54a7711a55ee"
      }
     }
    },
    "3a2d76b7-cb0d-4cdc-abf1-3224274304a7": {
     "id": "3a2d76b7-cb0d-4cdc-abf1-3224274304a7",
     "prev": "bb76afe2-a8d9-47aa-8be5-8df1ca89b1f7",
     "regions": {
      "06ecb15e-2bc7-4eb9-ba70-7031102f0cb3": {
       "attrs": {
        "height": 0.862533692722372,
        "width": 0.8909703504043127,
        "x": 0.05754716981132078,
        "y": 0.06765498652291105
       },
       "content": {
        "cell": "6cd3c9ad-2f9f-4a66-994e-c130d427f7c9",
        "part": "whole"
       },
       "id": "06ecb15e-2bc7-4eb9-ba70-7031102f0cb3"
      }
     }
    },
    "41d51ffb-e3e4-4afc-9d6c-eb7d85b60eb5": {
     "id": "41d51ffb-e3e4-4afc-9d6c-eb7d85b60eb5",
     "prev": "abb46806-6584-43fc-a896-6e7944cfbd5e",
     "regions": {
      "e2421c53-fdb1-4120-b4a0-769ced5f07cd": {
       "attrs": {
        "height": 0.862533692722372,
        "width": 0.8909703504043127,
        "x": 0.05754716981132078,
        "y": 0.06765498652291105
       },
       "content": {
        "cell": "df06d7e0-9a9f-4469-9ede-3a6aa4e3a329",
        "part": "whole"
       },
       "id": "e2421c53-fdb1-4120-b4a0-769ced5f07cd"
      }
     }
    },
    "4f783b3a-4c3e-4fe9-afb1-9404410795c5": {
     "id": "4f783b3a-4c3e-4fe9-afb1-9404410795c5",
     "prev": "10df87b5-4d67-4a7f-aac0-60aefff220d8",
     "regions": {
      "33219590-841b-4e98-a20a-1b887b77f45d": {
       "attrs": {
        "height": 0.862533692722372,
        "width": 0.8909703504043127,
        "x": 0.05754716981132078,
        "y": 0.06765498652291105
       },
       "content": {
        "cell": "70db2855-625a-448d-9a4c-fdc4cde275df",
        "part": "whole"
       },
       "id": "33219590-841b-4e98-a20a-1b887b77f45d"
      }
     }
    },
    "5044eafe-d25c-460e-ba7c-0a861c36a369": {
     "id": "5044eafe-d25c-460e-ba7c-0a861c36a369",
     "prev": "a3e8bb10-d5cf-426d-9f68-19f08cf6ee54",
     "regions": {
      "90a49273-1cc1-4d46-9626-de967ad93cfb": {
       "attrs": {
        "height": 0.862533692722372,
        "width": 0.8909703504043127,
        "x": 0.05754716981132078,
        "y": 0.06765498652291105
       },
       "content": {
        "cell": "cafdef8a-5834-41e9-a802-65dbcf736ca6",
        "part": "whole"
       },
       "id": "90a49273-1cc1-4d46-9626-de967ad93cfb"
      }
     }
    },
    "779025dc-e226-4a38-9b2a-5301d6931549": {
     "id": "779025dc-e226-4a38-9b2a-5301d6931549",
     "prev": "ba488065-74e0-4b8c-98a7-fb8558e1154a",
     "regions": {
      "f973fc53-4126-4653-a4a6-03dc2a6e0a0a": {
       "attrs": {
        "height": 0.862533692722372,
        "width": 0.8909703504043127,
        "x": 0.05754716981132078,
        "y": 0.06765498652291105
       },
       "content": {
        "cell": "1e1d22d5-a704-409a-ac31-add80bf64f13",
        "part": "whole"
       },
       "id": "f973fc53-4126-4653-a4a6-03dc2a6e0a0a"
      }
     }
    },
    "7955d6d8-c47a-4ef1-a65b-24bf143ea17c": {
     "id": "7955d6d8-c47a-4ef1-a65b-24bf143ea17c",
     "prev": "09930920-ac93-49b6-aac8-350b5a5269d8",
     "regions": {
      "11b54646-22a2-4958-8611-3d922da1f332": {
       "attrs": {
        "height": 0.862533692722372,
        "width": 0.8909703504043127,
        "x": 0.05754716981132078,
        "y": 0.06765498652291105
       },
       "content": {
        "cell": "6c0f20a0-4ee1-44de-ac3a-c2aad4504c16",
        "part": "whole"
       },
       "id": "11b54646-22a2-4958-8611-3d922da1f332"
      }
     }
    },
    "82b45ece-f127-4867-81fa-9ead885d3dc9": {
     "id": "82b45ece-f127-4867-81fa-9ead885d3dc9",
     "prev": "2575db2f-61fd-4e94-9a5f-981966bb819e",
     "regions": {
      "ab790692-d4d8-42b1-814b-a38d1678a55f": {
       "attrs": {
        "height": 0.862533692722372,
        "width": 0.8909703504043127,
        "x": 0.05754716981132078,
        "y": 0.06765498652291105
       },
       "content": {
        "cell": "b851b330-8404-4a32-8311-2a75fe0d07a6",
        "part": "whole"
       },
       "id": "ab790692-d4d8-42b1-814b-a38d1678a55f"
      }
     }
    },
    "83d1089a-c516-4837-92c2-ce458a29d59f": {
     "id": "83d1089a-c516-4837-92c2-ce458a29d59f",
     "prev": "c86c64c7-aaeb-4258-9476-173541c64866",
     "regions": {
      "5ea41987-1456-4592-bacc-468af1d0a5d4": {
       "attrs": {
        "height": 0.862533692722372,
        "width": 0.8909703504043127,
        "x": 0.05754716981132078,
        "y": 0.06765498652291105
       },
       "content": {
        "cell": "ba95f896-9ec4-4252-b29c-f185e78868d4",
        "part": "whole"
       },
       "id": "5ea41987-1456-4592-bacc-468af1d0a5d4"
      }
     }
    },
    "8d8ecace-4749-46a8-be9f-51a1eb805331": {
     "id": "8d8ecace-4749-46a8-be9f-51a1eb805331",
     "prev": "cb28b9cd-b502-4716-9f7b-56621414d63d",
     "regions": {
      "32c0514e-1a19-4fb7-8fbd-ead249f4b14c": {
       "attrs": {
        "height": 0.862533692722372,
        "width": 0.8909703504043127,
        "x": 0.05754716981132078,
        "y": 0.06765498652291105
       },
       "content": {
        "cell": "fc9bb354-30c5-40b2-b569-1a31452ff488",
        "part": "whole"
       },
       "id": "32c0514e-1a19-4fb7-8fbd-ead249f4b14c"
      }
     }
    },
    "8f6aca45-5dec-4e41-95ca-09b6a28d48ed": {
     "id": "8f6aca45-5dec-4e41-95ca-09b6a28d48ed",
     "prev": "907c93ff-144d-497a-9981-02cba0fce882",
     "regions": {
      "37fb26d4-dbdf-461b-9801-44b59d32da27": {
       "attrs": {
        "height": 0.862533692722372,
        "width": 0.8909703504043127,
        "x": 0.05754716981132078,
        "y": 0.06765498652291105
       },
       "content": {
        "cell": "8cb82af9-cb2c-4bad-9a01-361cd4134b87",
        "part": "whole"
       },
       "id": "37fb26d4-dbdf-461b-9801-44b59d32da27"
      }
     }
    },
    "907c93ff-144d-497a-9981-02cba0fce882": {
     "id": "907c93ff-144d-497a-9981-02cba0fce882",
     "prev": "2e82683a-7052-40c7-995f-18371d5bb1e5",
     "regions": {
      "bbf09f32-514c-446e-a390-9f0350e0efe1": {
       "attrs": {
        "height": 0.862533692722372,
        "width": 0.8909703504043127,
        "x": 0.05754716981132078,
        "y": 0.06765498652291105
       },
       "content": {
        "cell": "4be144be-2fc7-4ecc-8ca7-2dac0c17d7e8",
        "part": "whole"
       },
       "id": "bbf09f32-514c-446e-a390-9f0350e0efe1"
      }
     }
    },
    "9418d3f9-1ec7-4989-8e56-dab8e0a74445": {
     "id": "9418d3f9-1ec7-4989-8e56-dab8e0a74445",
     "prev": "8d8ecace-4749-46a8-be9f-51a1eb805331",
     "regions": {
      "16ced40a-d165-41cb-bf8d-8e29cce20e1b": {
       "attrs": {
        "height": 0.862533692722372,
        "width": 0.8909703504043127,
        "x": 0.05754716981132078,
        "y": 0.06765498652291105
       },
       "content": {
        "cell": "4c3647c8-bf68-4fc7-9494-d11fdb86327f",
        "part": "whole"
       },
       "id": "16ced40a-d165-41cb-bf8d-8e29cce20e1b"
      }
     }
    },
    "a3e8bb10-d5cf-426d-9f68-19f08cf6ee54": {
     "id": "a3e8bb10-d5cf-426d-9f68-19f08cf6ee54",
     "prev": "82b45ece-f127-4867-81fa-9ead885d3dc9",
     "regions": {
      "e197e097-05cb-48eb-bf5d-a660260da54d": {
       "attrs": {
        "height": 0.862533692722372,
        "width": 0.8909703504043127,
        "x": 0.05754716981132078,
        "y": 0.06765498652291105
       },
       "content": {
        "cell": "bbdb4af0-fe5a-4a89-a8a8-f055f214eb11",
        "part": "whole"
       },
       "id": "e197e097-05cb-48eb-bf5d-a660260da54d"
      }
     }
    },
    "abb46806-6584-43fc-a896-6e7944cfbd5e": {
     "id": "abb46806-6584-43fc-a896-6e7944cfbd5e",
     "prev": "bab9a9d5-7494-46bb-b865-9fb7a68e83af",
     "regions": {
      "6953dcf8-dadd-4a6f-8177-809d9672b02f": {
       "attrs": {
        "height": 0.862533692722372,
        "width": 0.8909703504043127,
        "x": 0.05754716981132078,
        "y": 0.06765498652291105
       },
       "content": {
        "cell": "eee64495-853b-473c-9a53-8d7b012e428a",
        "part": "whole"
       },
       "id": "6953dcf8-dadd-4a6f-8177-809d9672b02f"
      }
     }
    },
    "acb2cb73-4aa9-46d0-9b70-57012e5dd9a4": {
     "id": "acb2cb73-4aa9-46d0-9b70-57012e5dd9a4",
     "prev": "b26efe15-fff9-4a3d-8064-a77bd684b7e6",
     "regions": {
      "d69ffb54-847b-4d2b-a4c3-b934e3077e11": {
       "attrs": {
        "height": 0.862533692722372,
        "width": 0.8909703504043127,
        "x": 0.05754716981132078,
        "y": 0.06765498652291105
       },
       "content": {
        "cell": "c7db25f0-c2df-4975-abe0-a275a61d1a1f",
        "part": "whole"
       },
       "id": "d69ffb54-847b-4d2b-a4c3-b934e3077e11"
      }
     }
    },
    "b07b2ab9-cf93-4b00-aef0-69e226d99e53": {
     "id": "b07b2ab9-cf93-4b00-aef0-69e226d99e53",
     "prev": "b6a216fe-ced4-4d92-814f-402695fb6c02",
     "regions": {
      "85be288b-1279-443f-ab9c-644c849e746d": {
       "attrs": {
        "height": 0.862533692722372,
        "width": 0.8909703504043127,
        "x": 0.05754716981132078,
        "y": 0.06765498652291105
       },
       "content": {
        "cell": "8047a522-021d-4c62-8a53-da848a6e6f7b",
        "part": "whole"
       },
       "id": "85be288b-1279-443f-ab9c-644c849e746d"
      }
     }
    },
    "b26efe15-fff9-4a3d-8064-a77bd684b7e6": {
     "id": "b26efe15-fff9-4a3d-8064-a77bd684b7e6",
     "prev": "f82c9b8f-7a48-4488-a2c4-f3972694e60e",
     "regions": {
      "834cd0f4-61ff-46a8-8159-20b94a114002": {
       "attrs": {
        "height": 0.862533692722372,
        "width": 0.8909703504043127,
        "x": 0.05754716981132078,
        "y": 0.06765498652291105
       },
       "content": {
        "cell": "1b818d33-4e81-435d-916e-740e6793bf33",
        "part": "whole"
       },
       "id": "834cd0f4-61ff-46a8-8159-20b94a114002"
      }
     }
    },
    "b6a216fe-ced4-4d92-814f-402695fb6c02": {
     "id": "b6a216fe-ced4-4d92-814f-402695fb6c02",
     "prev": "1b25ded4-dae1-4e84-81d8-f510e02c8eab",
     "regions": {
      "c2f98159-1791-47ef-bfae-b9b09eb99376": {
       "attrs": {
        "height": 0.862533692722372,
        "width": 0.8909703504043127,
        "x": 0.05754716981132078,
        "y": 0.06765498652291105
       },
       "content": {
        "cell": "0dfc1cc9-ffe9-4201-ba64-88f00edce14d",
        "part": "whole"
       },
       "id": "c2f98159-1791-47ef-bfae-b9b09eb99376"
      }
     }
    },
    "ba488065-74e0-4b8c-98a7-fb8558e1154a": {
     "id": "ba488065-74e0-4b8c-98a7-fb8558e1154a",
     "prev": "bb7e38c1-de6d-4306-8ae3-b5fe3f93bff6",
     "regions": {
      "cb304583-e2bf-48c2-99f0-16105f750e23": {
       "attrs": {
        "height": 0.862533692722372,
        "width": 0.8909703504043127,
        "x": 0.05754716981132078,
        "y": 0.06765498652291105
       },
       "content": {
        "cell": "ec4afe08-74b2-4219-b379-b3a4cfb185c9",
        "part": "whole"
       },
       "id": "cb304583-e2bf-48c2-99f0-16105f750e23"
      }
     }
    },
    "bab9a9d5-7494-46bb-b865-9fb7a68e83af": {
     "id": "bab9a9d5-7494-46bb-b865-9fb7a68e83af",
     "prev": "3a2d76b7-cb0d-4cdc-abf1-3224274304a7",
     "regions": {
      "d9d1e23a-815d-4b15-9fe6-7a41c73a1c12": {
       "attrs": {
        "height": 0.862533692722372,
        "width": 0.8909703504043127,
        "x": 0.05754716981132078,
        "y": 0.06765498652291105
       },
       "content": {
        "cell": "faef4130-76f6-42f2-9613-22521aac7d7e",
        "part": "whole"
       },
       "id": "d9d1e23a-815d-4b15-9fe6-7a41c73a1c12"
      }
     }
    },
    "bb76afe2-a8d9-47aa-8be5-8df1ca89b1f7": {
     "id": "bb76afe2-a8d9-47aa-8be5-8df1ca89b1f7",
     "prev": "3794c9b2-ce29-4293-9eb6-ac0a0bd65fdb",
     "regions": {
      "589d2426-6593-4c24-a367-2f028ffe65db": {
       "attrs": {
        "height": 0.862533692722372,
        "width": 0.8909703504043127,
        "x": 0.05754716981132078,
        "y": 0.06765498652291105
       },
       "content": {
        "cell": "ac8853f9-285d-4d78-ac71-9165306564db",
        "part": "whole"
       },
       "id": "589d2426-6593-4c24-a367-2f028ffe65db"
      }
     }
    },
    "bb7e38c1-de6d-4306-8ae3-b5fe3f93bff6": {
     "id": "bb7e38c1-de6d-4306-8ae3-b5fe3f93bff6",
     "prev": "9418d3f9-1ec7-4989-8e56-dab8e0a74445",
     "regions": {
      "7635dca9-5603-4d55-a537-8399529bde25": {
       "attrs": {
        "height": 0.862533692722372,
        "width": 0.8909703504043127,
        "x": 0.05754716981132078,
        "y": 0.06765498652291105
       },
       "content": {
        "cell": "d194cf53-622d-4d19-a5ea-7bfb4e7cedf1",
        "part": "whole"
       },
       "id": "7635dca9-5603-4d55-a537-8399529bde25"
      }
     }
    },
    "c86c64c7-aaeb-4258-9476-173541c64866": {
     "id": "c86c64c7-aaeb-4258-9476-173541c64866",
     "prev": "7955d6d8-c47a-4ef1-a65b-24bf143ea17c",
     "regions": {
      "709a2637-5d6e-45ee-8b43-cebd2f05f0c3": {
       "attrs": {
        "height": 0.862533692722372,
        "width": 0.8909703504043127,
        "x": 0.05754716981132078,
        "y": 0.06765498652291105
       },
       "content": {
        "cell": "eea77eb3-e996-4f5d-9626-9059120b3548",
        "part": "whole"
       },
       "id": "709a2637-5d6e-45ee-8b43-cebd2f05f0c3"
      }
     }
    },
    "cb28b9cd-b502-4716-9f7b-56621414d63d": {
     "id": "cb28b9cd-b502-4716-9f7b-56621414d63d",
     "prev": null,
     "regions": {
      "f6aa654d-8688-4646-b714-4cc31e207a0e": {
       "attrs": {
        "height": 0.862533692722372,
        "width": 0.8909703504043127,
        "x": 0.05754716981132078,
        "y": 0.06765498652291105
       },
       "content": {
        "cell": "c8a714c5-14b1-4002-862d-8f81edb5674c",
        "part": "whole"
       },
       "id": "f6aa654d-8688-4646-b714-4cc31e207a0e"
      }
     }
    },
    "f82c9b8f-7a48-4488-a2c4-f3972694e60e": {
     "id": "f82c9b8f-7a48-4488-a2c4-f3972694e60e",
     "prev": "8f6aca45-5dec-4e41-95ca-09b6a28d48ed",
     "regions": {
      "5f3cfd90-8e1f-42e3-92bb-4959e547ffa1": {
       "attrs": {
        "height": 0.862533692722372,
        "width": 0.8909703504043127,
        "x": 0.05754716981132078,
        "y": 0.06765498652291105
       },
       "content": {
        "cell": "86a6ece1-f138-4d69-abf1-db8b2cb7ed7d",
        "part": "whole"
       },
       "id": "5f3cfd90-8e1f-42e3-92bb-4959e547ffa1"
      }
     }
    }
   },
   "themes": {
    "default": "12eec1f4-2448-4fdf-9ec4-8075829abdca",
    "theme": {
     "12eec1f4-2448-4fdf-9ec4-8075829abdca": {
      "id": "12eec1f4-2448-4fdf-9ec4-8075829abdca",
      "palette": {
       "19cc588f-0593-49c9-9f4b-e4d7cc113b1c": {
        "id": "19cc588f-0593-49c9-9f4b-e4d7cc113b1c",
        "rgb": [
         252,
         252,
         252
        ]
       },
       "31af15d2-7e15-44c5-ab5e-e04b16a89eff": {
        "id": "31af15d2-7e15-44c5-ab5e-e04b16a89eff",
        "rgb": [
         68,
         68,
         68
        ]
       },
       "50f92c45-a630-455b-aec3-788680ec7410": {
        "id": "50f92c45-a630-455b-aec3-788680ec7410",
        "rgb": [
         155,
         177,
         192
        ]
       },
       "c5cc3653-2ee1-402a-aba2-7caae1da4f6c": {
        "id": "c5cc3653-2ee1-402a-aba2-7caae1da4f6c",
        "rgb": [
         43,
         126,
         184
        ]
       },
       "efa7f048-9acb-414c-8b04-a26811511a21": {
        "id": "efa7f048-9acb-414c-8b04-a26811511a21",
        "rgb": [
         25.118061674008803,
         73.60176211453744,
         107.4819383259912
        ]
       }
      },
      "rules": {
       "blockquote": {
        "color": "50f92c45-a630-455b-aec3-788680ec7410"
       },
       "code": {
        "font-family": "Anonymous Pro"
       },
       "h1": {
        "color": "c5cc3653-2ee1-402a-aba2-7caae1da4f6c",
        "font-family": "Lato",
        "font-size": 8
       },
       "h2": {
        "color": "c5cc3653-2ee1-402a-aba2-7caae1da4f6c",
        "font-family": "Lato",
        "font-size": 6
       },
       "h3": {
        "color": "50f92c45-a630-455b-aec3-788680ec7410",
        "font-family": "Lato",
        "font-size": 5.5
       },
       "h4": {
        "color": "c5cc3653-2ee1-402a-aba2-7caae1da4f6c",
        "font-family": "Lato",
        "font-size": 5
       },
       "h5": {
        "font-family": "Lato"
       },
       "h6": {
        "font-family": "Lato"
       },
       "h7": {
        "font-family": "Lato"
       },
       "pre": {
        "font-family": "Anonymous Pro",
        "font-size": 4
       }
      },
      "text-base": {
       "font-family": "Merriweather",
       "font-size": 4
      }
     },
     "513c8753-d394-4ff4-95ce-f452e39334f5": {
      "backgrounds": {
       "backgroundColor": {
        "background-color": "backgroundColor",
        "id": "backgroundColor"
       }
      },
      "id": "513c8753-d394-4ff4-95ce-f452e39334f5",
      "palette": {
       "backgroundColor": {
        "id": "backgroundColor",
        "rgb": [
         17,
         17,
         17
        ]
       },
       "headingColor": {
        "id": "headingColor",
        "rgb": [
         238,
         238,
         238
        ]
       },
       "linkColor": {
        "id": "linkColor",
        "rgb": [
         231,
         173,
         82
        ]
       },
       "mainColor": {
        "id": "mainColor",
        "rgb": [
         238,
         238,
         238
        ]
       }
      },
      "rules": {
       "a": {
        "color": "linkColor"
       },
       "h1": {
        "color": "headingColor",
        "font-family": "Montserrat",
        "font-size": 7
       },
       "h2": {
        "color": "headingColor",
        "font-family": "Montserrat",
        "font-size": 5
       },
       "h3": {
        "color": "headingColor",
        "font-family": "Montserrat",
        "font-size": 3.75
       },
       "h4": {
        "color": "headingColor",
        "font-family": "Montserrat",
        "font-size": 3
       },
       "h5": {
        "color": "headingColor",
        "font-family": "Montserrat"
       },
       "h6": {
        "color": "headingColor",
        "font-family": "Montserrat"
       },
       "h7": {
        "color": "headingColor",
        "font-family": "Montserrat"
       },
       "li": {
        "color": "mainColor",
        "font-family": "Open Sans",
        "font-size": 4
       },
       "p": {
        "color": "mainColor",
        "font-family": "Open Sans",
        "font-size": 4
       }
      },
      "text-base": {
       "color": "mainColor",
       "font-family": "Open Sans",
       "font-size": 4
      }
     },
     "82f1c284-7368-467d-81a6-51fa90d6c991": {
      "backgrounds": {
       "backgroundColor": {
        "background-color": "backgroundColor",
        "id": "backgroundColor"
       }
      },
      "id": "82f1c284-7368-467d-81a6-51fa90d6c991",
      "palette": {
       "backgroundColor": {
        "id": "backgroundColor",
        "rgb": [
         17,
         17,
         17
        ]
       },
       "headingColor": {
        "id": "headingColor",
        "rgb": [
         238,
         238,
         238
        ]
       },
       "linkColor": {
        "id": "linkColor",
        "rgb": [
         231,
         173,
         82
        ]
       },
       "mainColor": {
        "id": "mainColor",
        "rgb": [
         238,
         238,
         238
        ]
       }
      },
      "rules": {
       "a": {
        "color": "linkColor"
       },
       "h1": {
        "color": "headingColor",
        "font-family": "Montserrat",
        "font-size": 7
       },
       "h2": {
        "color": "headingColor",
        "font-family": "Montserrat",
        "font-size": 5
       },
       "h3": {
        "color": "headingColor",
        "font-family": "Montserrat",
        "font-size": 3.75
       },
       "h4": {
        "color": "headingColor",
        "font-family": "Montserrat",
        "font-size": 3
       },
       "h5": {
        "color": "headingColor",
        "font-family": "Montserrat"
       },
       "h6": {
        "color": "headingColor",
        "font-family": "Montserrat"
       },
       "h7": {
        "color": "headingColor",
        "font-family": "Montserrat"
       },
       "li": {
        "color": "mainColor",
        "font-family": "Open Sans",
        "font-size": 4
       },
       "p": {
        "color": "mainColor",
        "font-family": "Open Sans",
        "font-size": 4
       }
      },
      "text-base": {
       "color": "mainColor",
       "font-family": "Open Sans",
       "font-size": 4
      }
     }
    }
   }
  }
 },
 "nbformat": 4,
 "nbformat_minor": 1
}
