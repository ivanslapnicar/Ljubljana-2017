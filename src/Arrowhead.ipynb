{
 "cells": [
  {
   "cell_type": "markdown",
   "metadata": {
    "nbpresent": {
     "id": "c8a714c5-14b1-4002-862d-8f81edb5674c"
    },
    "slideshow": {
     "slide_type": "slide"
    }
   },
   "source": [
    "##  Forward stable eigenvalue decomposition of real symmetric arrowhead matrices and rank-one modifications of diagonal matrices\n",
    "\n",
    "Fakulteta za matematiko in fiziko - Univerza v Ljubljani\n",
    "\n",
    "\n",
    "Ivan Slapničar, Sveučilište u Splitu, FESB\n",
    "\n",
    "April 19, 2017"
   ]
  },
  {
   "cell_type": "markdown",
   "metadata": {
    "nbpresent": {
     "id": "fc9bb354-30c5-40b2-b569-1a31452ff488"
    },
    "slideshow": {
     "slide_type": "slide"
    }
   },
   "source": [
    "### Outline\n",
    "\n",
    "* Algorithms, errors and perturbation theory\n",
    "* Eigenvalue problem and perturbation theory\n",
    "* Standard algorithms and errors\n",
    "* Arrowhead and DPR1 matrices\n",
    "    * inverses\n",
    "    * algorithm and errors\n",
    "* Extensions - Hermitian case, half-arrowhead SVD, SVD updating, TDC, Polynomials"
   ]
  },
  {
   "cell_type": "markdown",
   "metadata": {
    "collapsed": true,
    "nbpresent": {
     "id": "4c3647c8-bf68-4fc7-9494-d11fdb86327f"
    }
   },
   "source": [
    "### Algorithms, errors and perturbations\n",
    "\n",
    "Let the value of the function $f(x)$ be computed using $\\mathrm{alg(x)}$.\n",
    "\n",
    "__The (forward) error__ is\n",
    "\n",
    "$$\n",
    "\\|\\mathrm{alg(x)}-f(x)\\|,\n",
    "$$\n",
    "\n",
    "and __the relative error__ is \n",
    "\n",
    "$$\n",
    "\\frac{\\| \\mathrm{alg}(x)-f(x)\\|}{\\| f(x) \\|}.\n",
    "$$"
   ]
  },
  {
   "cell_type": "markdown",
   "metadata": {
    "nbpresent": {
     "id": "d194cf53-622d-4d19-a5ea-7bfb4e7cedf1"
    }
   },
   "source": [
    "### Perturbation theory\n",
    "\n",
    "The change in $f(x)$ w.r.t. change of $x$ to $x+\\delta x$ is\n",
    "\n",
    "$$\n",
    "\\| f(x+\\delta x)-f(x)\\| \\leq \\frac{\\| f(x+\\delta x)-f(x)\\|}{\\| \\delta x \\|} \\|\\delta x\\| \\equiv \\kappa \\|\\delta x\\|.\n",
    "$$\n",
    "\n",
    "$\\kappa$ is the __condition number__ (or __condition__) - reminds us of derivative.\n",
    "\n",
    "Similarly, the _relative_ change in $f(x)$ w.r.t. _relative_ change of $x$ to $x+\\delta x$ is\n",
    "\n",
    "$$\n",
    "\\frac{\\| f(x+\\delta x)-f(x)\\|}{\\| f(x) \\|}\\leq \\frac{\\| f(x+\\delta x)-f(x)\\|\\cdot  \\|x\\| }{\\|\\delta x\\| \\cdot\\| f(x)\\|}\n",
    "\\cdot \\frac{\\|\\delta x\\|}{\\|x\\|} \\equiv \\kappa \\frac{\\|\\delta x\\|}{\\|x\\|}\n",
    "$$"
   ]
  },
  {
   "cell_type": "markdown",
   "metadata": {
    "nbpresent": {
     "id": "ec4afe08-74b2-4219-b379-b3a4cfb185c9"
    }
   },
   "source": [
    "### Backward errors\n",
    "\n",
    "Forward erros are hard to estimate.\n",
    "\n",
    "Instead, we consider  __backward error__\n",
    "\n",
    "$$\n",
    "\\mathrm{alg}(x)=f(x+\\delta x).\n",
    "$$\n",
    "\n",
    "Algorithm is __stable__ if  this always holds for some _small_ $\\delta x$."
   ]
  },
  {
   "cell_type": "markdown",
   "metadata": {
    "nbpresent": {
     "id": "1e1d22d5-a704-409a-ac31-add80bf64f13"
    }
   },
   "source": [
    "### Eigenvalues and eigenvectors\n",
    "\n",
    "Let $F=\\mathbb{R}$ or $F=\\mathbb{C}$ and let $A\\in F^{n\\times n}$.\n",
    "\n",
    "If $\\exists (\\lambda,x) \\in F\\times F^n$, such that $n\\neq 0$ and\n",
    "\n",
    "$$\n",
    "Ax=\\lambda x,\n",
    "$$\n",
    "\n",
    "then $\\lambda$ is an __eigenvalue__ of $A$ and $x$ is an __eigenvector__ of $\\lambda$."
   ]
  },
  {
   "cell_type": "markdown",
   "metadata": {
    "nbpresent": {
     "id": "442dce44-21d2-42af-a00f-e12100f7796d"
    }
   },
   "source": [
    "### Schur decomposition\n",
    "\n",
    "\n",
    "__Schur decomposition__ of $A$ is \n",
    "\n",
    "$$A=QTQ^*,$$\n",
    "\n",
    "where $Q$ is unitary and $T$ is upper triangular. It always exists.\n",
    "\n",
    "If $A$ is __normal__ ($AA^*=A^*A$), then $T$ is diagonal.\n",
    "\n",
    "If, in addition, $A$ is __Hermitian__ ($A=A^*$), then $T$ is also real.\n",
    "\n",
    "If, in addition, $A$ is real (real symmetric), then $Q$ is real, $A=Q\\Lambda Q^T$."
   ]
  },
  {
   "cell_type": "markdown",
   "metadata": {
    "nbpresent": {
     "id": "6c0f20a0-4ee1-44de-ac3a-c2aad4504c16"
    }
   },
   "source": [
    "### Perturbation theory\n",
    "\n",
    "Notation: $\\tilde A=A+\\Delta A$ with eigenvalues $\\tilde \\Lambda$, $\\tau$ is a permutation, \n",
    "$\\kappa(A)=\\|A\\| \\|A^{-1}\\|$, $\\sigma(A)$ is the spectrum of $A$.\n",
    "\n",
    "__General__: $\\|\\Lambda- \\tilde\\Lambda_\\tau\\|_2\\leq 4(\\|A\\|_2+\\|\\tilde A\\|_2)^{1-1/n}\\|\\Delta A\\|_2^{1/n}$\n",
    "\n",
    "__Diagonalizable__ _(Bauer-Fike)_: If $A=X\\Lambda X^{-1}$, then \n",
    "\n",
    "$$\n",
    "\\max_i\\min_j |\\tilde \\lambda_i -\n",
    "\\lambda_j|\\leq \\|X^{-1}(\\Delta A)X\\|_p\\leq \\kappa_p(X)\\|\\Delta A\\|_p\n",
    "$$"
   ]
  },
  {
   "cell_type": "markdown",
   "metadata": {
    "nbpresent": {
     "id": "eea77eb3-e996-4f5d-9626-9059120b3548"
    }
   },
   "source": [
    "### Perturbation theory\n",
    "\n",
    "__Both diagonalizable__:\n",
    "$\\|\\Lambda-\\tilde\\Lambda_\\tau\\|_F\\leq \\sqrt{\\kappa_2(X)\\kappa_2(\\tilde X)}\\|\\Delta A\\|_F\n",
    "$\n",
    "\n",
    "$\\Lambda$ and  $\\tilde\\Lambda$ real:\n",
    "$\n",
    "\\|\\Lambda^\\uparrow-\\tilde\\Lambda^\\uparrow\\|_{2,F} \\leq \\sqrt{\\kappa_2(X)\\kappa_2(\\tilde X)}\\|\\Delta A\\|_{2,F}\n",
    "$\n",
    "\n",
    "__Normal__:\n",
    "$\n",
    "\\|\\Lambda-\\tilde\\Lambda_\\tau\\|_F\\leq\\sqrt{n}\\|\\Delta A\\|_F\n",
    "$\n",
    "\n",
    "\n",
    "__Both normal__ _(Hoffman-Wielandt)_:\n",
    "$\n",
    "\\|\\Lambda-\\tilde\\Lambda_\\tau\\|_F\\leq\\|\\Delta A\\|_F\n",
    "$\n"
   ]
  },
  {
   "cell_type": "markdown",
   "metadata": {
    "nbpresent": {
     "id": "ba95f896-9ec4-4252-b29c-f185e78868d4"
    }
   },
   "source": [
    "### Perturbation theory\n",
    "\n",
    "\n",
    "__Both Hermitian__: for any unitarily invariant norm \n",
    "$\\|\\Lambda^\\uparrow-\\tilde\\Lambda^\\uparrow\\| \\leq \\|\\Delta A\\|$\n",
    "\n",
    "In particular,\n",
    "\n",
    "\\begin{align*}\n",
    "\\max_i|\\lambda^\\uparrow_i-\\tilde\\lambda^\\uparrow_i|&\\leq \\|\\Delta A\\|_2\\\\ \n",
    "\\sqrt{\\sum_i(\\lambda^\\uparrow_i-\\tilde\\lambda^\\uparrow_i)^2}&\\leq \\|\\Delta A\\|_F\n",
    "\\end{align*}\n"
   ]
  },
  {
   "cell_type": "markdown",
   "metadata": {
    "nbpresent": {
     "id": "979da434-fe24-4fe1-a193-63ab5d1361f3"
    }
   },
   "source": [
    "### Residual bounds for Hermitian matrices\n",
    "\n",
    "For some $\\tilde\\lambda\\in\\mathbb{R}$ and $\\tilde x\\in\\mathbb{C}^n$, $\\|\\tilde x\\|_2=1$, define __residual__ \n",
    "$\n",
    "r=A\\tilde x-\\tilde\\lambda\\tilde x\n",
    "$.\n",
    "\n",
    "Then $|\\tilde\\lambda-\\lambda|\\leq \\|r\\|_2$ for some $\\lambda\\in\\sigma(A)$.\n",
    "\n",
    "Let, in addition,  $\\tilde\\lambda=\\tilde x^* A\\tilde x$, let $\\lambda$ be closest to $\\tilde\\lambda$ and $x$ be its unit eigenvector, and let \n",
    "$$\\eta=\\mathop{\\mathrm{gap}}(\\tilde\\lambda)= \\min_{\\lambda\\neq\\mu\\in\\sigma(A)}|\\tilde\\lambda-\\mu|.$$\n",
    "If $\\eta>0$, then\n",
    "\n",
    "$$ |\\tilde\\lambda-\\lambda|\\leq \\frac{\\|r\\|_2^2}{\\eta},\\quad \\sin\\theta(x,\\tilde x)\\leq \\frac{\\|r\\|_2}{\\eta}.\n",
    "$$\n"
   ]
  },
  {
   "cell_type": "markdown",
   "metadata": {
    "nbpresent": {
     "id": "70db2855-625a-448d-9a4c-fdc4cde275df"
    }
   },
   "source": [
    "### Algorithms - Power method\n",
    "\n",
    "$A$ is real symmetric and $A=U\\Lambda U^T$ is its EVD.\n",
    "\n",
    "__Power method__ starts from vector $x_0$ and computes the sequences\n",
    "\n",
    "$$\n",
    "\\nu_k=x_k^T A x_k, \\qquad x_{k+1}= A x_k /\n",
    " \\| A x_k \\|, \\qquad k=0,1,2,\\dots\n",
    "$$\n",
    "\n",
    "If $|\\lambda_1|> |\\lambda_2| \\geq \\cdots \\geq |\\lambda_n|$,\n",
    "and if  $x_0=\\sum c_i U_{:i}$, then\n",
    "\n",
    "$$\n",
    "|\\lambda_1-\\nu_k|\\approx \\left|\\frac{c_2}{c_1}\\right| \\left|\n",
    " \\frac{\\lambda_2}{\\lambda_1}\\right|^k,\\qquad\n",
    "\\|U_{:1}-x_k\\|_2 =O\\bigg(\\bigg|\n",
    " \\frac{\\lambda_2}{\\lambda_1}\\bigg|^k\\bigg)\\!.\n",
    "$$"
   ]
  },
  {
   "cell_type": "markdown",
   "metadata": {
    "nbpresent": {
     "id": "b7663393-5918-4101-94c5-742e526c6fb0"
    }
   },
   "source": [
    "### Inverse iteration\n",
    "\n",
    "is the power method applied to the inverse of\n",
    "a _shifted matrix_:\n",
    "\n",
    "$$\n",
    "\\nu_k=x_k^T A x_k, \\\n",
    "x_{k+1}= (A-\\mu I)^{-1} x_k, \\ \n",
    "x_{k+1} = x_{k+1}/\\|x_{k+1}\\|, \\ k=0,1,2,\\dots\n",
    "$$\n",
    "\n",
    "Notice $A-\\mu I=U(\\Lambda-\\mu I) U^T$.  \n",
    "\n",
    "Inverse iteration requires solving the system of linear equations \n",
    "$(A-\\mu I)x_{k+1}= x_k$ in each step. \n",
    "\n",
    "If $\\mu$ is very close to some $\\lambda_i$, then $|\\lambda_i-\\mu|\\gg\n",
    "|\\lambda_j-\\mu|$ for all $j\\neq i$, so the convergence is fast.\n",
    "The solutions of linear systems may have large errors. However, these errors are almost\n",
    "entirely in the direction of the dominant eigenvector so the method is accurate."
   ]
  },
  {
   "cell_type": "markdown",
   "metadata": {
    "nbpresent": {
     "id": "b851b330-8404-4a32-8311-2a75fe0d07a6"
    }
   },
   "source": [
    "###  QR iteration\n",
    "\n",
    "starts from the matrix $A_0=A$ and forms the sequence of matrices\n",
    "\n",
    "$$\n",
    "  A_k=Q_kR_k \\ \\textrm{(factorization)}, \\quad\n",
    "  A_{k+1}=R_kQ_k,\\quad k=0,1,2,\\ldots \n",
    "$$\n",
    "\n",
    "__Shifted QR iteration__ is the QR iteration applied to a shifted matrix:\n",
    "\n",
    "$$\n",
    "A_k-\\mu I=Q_kR_k \\ \\textrm{(factorization)}, \\quad\n",
    "  A_{k+1}=R_kQ_k+\\mu I ,\\quad k=0,1,2,\\ldots \n",
    "$$\n",
    "\n",
    "QR iteration is essentially equivalent to the power method and the shifted QR iteration is essentially equivalent to the inverse power method. "
   ]
  },
  {
   "cell_type": "markdown",
   "metadata": {
    "nbpresent": {
     "id": "bbdb4af0-fe5a-4a89-a8a8-f055f214eb11"
    }
   },
   "source": [
    "### Practical QR method\n",
    "\n",
    "1. Reduce $A$ to tridiagonal form $T$ by orthogonal similarities, $X^TAX=T$\n",
    "2. Compute the EVD of $T$, $T=Q\\Lambda Q^T$ \n",
    "3. Multiply $U=XQ$\n",
    "\n",
    "There are many methods for step 2: QR iterations, bisection and inverse iteration, D&C, MRRR, all requiring $O(n^2)$ operations."
   ]
  },
  {
   "cell_type": "markdown",
   "metadata": {
    "nbpresent": {
     "id": "cafdef8a-5834-41e9-a802-65dbcf736ca6"
    }
   },
   "source": [
    "### Error bounds\n",
    "\n",
    "All previous methods have backward errors s.t. $\\| \\Delta A \\| \\leq O(\\epsilon) \\|A\\|$.\n",
    "\n",
    "More precisely, let $\\tilde U \\tilde \\Lambda \\tilde U^T$ be the computed EVDs of $A$.\n",
    "Then\n",
    "\n",
    "$$\n",
    "|\\lambda_i-\\tilde \\lambda_i|\\leq \\phi \\epsilon\\|A\\|_2,\n",
    "\\qquad\n",
    "\\|u_i-\\tilde u_i\\|_2\\leq \\psi\\epsilon \\frac{\\|A\\|_2}\n",
    "{\\min_{j\\neq i} \n",
    "|\\lambda_i-\\tilde \\lambda_j|}\n",
    "$$\n",
    "\n",
    "$\\epsilon$ is machine precision, $\\phi$ and $\\psi$\n",
    "are slowly growing polynomial functions of\n",
    "$n$ (typically $O(n)$ or $O(n^2)$).\n",
    "Such bounds are obtained by combining perturbation bounds with the floating-point error analysis of the respective\n",
    "algorithm.\n"
   ]
  },
  {
   "cell_type": "markdown",
   "metadata": {
    "nbpresent": {
     "id": "00bc2b92-0529-4d3c-a291-c1664c47ee93"
    }
   },
   "source": [
    "### Relative perturbation theory\n",
    "\n",
    "$A$  is a real symmetric positive definite (PD) matrix, $\\lambda_i>0$.\n",
    "\n",
    "The __scaled matrix__ of $A$ is the matrix\n",
    "$A_S=D^{-1} A D^{-1}$, $D=\\mathop{\\mathrm{diag}}(\\sqrt{A_{11}},\\sqrt{A_{22}},\\ldots,\\sqrt{A_{nn}})$.\n",
    "\n",
    "This scaling is nearly optimal: \n",
    "$\\kappa_2(A_S)\\leq  n \\min\\limits_{D=\\mathrm{diag}} \\kappa(DAD) \\leq n\\kappa_2(A)$.\n",
    "\n",
    "If $\\tilde A=A+\\Delta A$ is PD, then [Demmel, Barlow, Veselić, Drmač, Li,...] \n",
    "\n",
    "$$\n",
    "\\frac{|\\lambda_i-\\tilde\\lambda_i|}{\\lambda_i}\\leq \n",
    "\\frac{\\| D^{-1} (\\Delta A) D^{-1}\\|_2}{\\lambda_{\\min} (A_S)}\\equiv\n",
    "\\|A_S^{-1}\\|_2 \\| \\Delta A_S\\|_2.\n",
    "$$"
   ]
  },
  {
   "cell_type": "markdown",
   "metadata": {
    "nbpresent": {
     "id": "ac8853f9-285d-4d78-ac71-9165306564db"
    }
   },
   "source": [
    "### Relative perturbation theory\n",
    "\n",
    "If $\\lambda_i$ and $\\tilde\\lambda_i$ are simple, then\n",
    "\n",
    "$$\n",
    "\\|U_{:,i}-\\tilde U_{:,i}\\|_2 \\leq \\frac{\\| A_S^{-1}\\|_2 \\|\\Delta A_S\\|_2}\n",
    "{\\displaystyle\\min_{j\\neq i}\\frac{|\\lambda_i-\\lambda_j|}{\\sqrt{\\lambda_i\\lambda_j}}}.\n",
    "$$\n",
    "\n",
    "These bounds are much sharper than the standard bounds when $\\kappa_2(A_S)\\ll \\kappa_2(A)$."
   ]
  },
  {
   "cell_type": "markdown",
   "metadata": {
    "nbpresent": {
     "id": "6cd3c9ad-2f9f-4a66-994e-c130d427f7c9"
    }
   },
   "source": [
    "### Jacobi method and relative error bounds\n",
    "\n",
    "__Jacobi method__ forms a sequence of matrices,\n",
    "\n",
    "$$\n",
    "A_0=A, \\qquad A_{k+1}=G(i_k,j_k,c,s) A_k G(i_k,j_k,c,s)^T, \\qquad\n",
    "k=1,2,\\ldots,\n",
    "$$\n",
    "\n",
    "where $G(i_k,j_k,c,s)$ is the orthogonal __plane rotation matrix__, and $c$ and $s$ are chosen such that \n",
    "$[A_{k+1}]_{i_k j_k}=[A_{k+1}]_{j_k i_k}=0$.\n",
    "\n",
    "Jacobi method with the relative stopping criterion $|A_{ij}|\\leq tol \\sqrt{A_{ii}A_{jj}}$ for all $i\\neq j$ (usually $tol=n\\varepsilon$), computes the EVD with small __scaled__ backward error $\\|\\Delta A_S\\|\\leq \\varepsilon\\, O(\\|A_S\\|_2)\\leq O(n)\\varepsilon$, __provided__ that $\\kappa_2([A_k]_S)$  does not grow much during the iterations. [Demmel, Veselić]"
   ]
  },
  {
   "cell_type": "code",
   "execution_count": 1,
   "metadata": {
    "collapsed": false,
    "nbpresent": {
     "id": "339964f2-eba2-40c6-bc72-08687a1d486e"
    }
   },
   "outputs": [
    {
     "data": {
      "text/plain": [
       "myJacobi (generic function with 1 method)"
      ]
     },
     "execution_count": 1,
     "metadata": {},
     "output_type": "execute_result"
    }
   ],
   "source": [
    "function myJacobi{T}(A::Array{T})\n",
    "    n,m=size(A)\n",
    "    U=eye(T,n)\n",
    "    # Tolerance for rotation\n",
    "    tol=sqrt(n)*eps(T)\n",
    "    # Counters\n",
    "    p=n*(n-1)/2\n",
    "    sweep=0\n",
    "    pcurrent=0\n",
    "    # First criterion is for standard accuracy, second one is for relative accuracy\n",
    "    # while sweep<30 && vecnorm(A-diagm(diag(A)))>tol\n",
    "    while sweep<30 && pcurrent<p\n",
    "        sweep+=1\n",
    "        # Row-cyclic strategy\n",
    "        for i = 1 : n-1 \n",
    "            for j = i+1 : n\n",
    "                # Check the tolerance - the first criterion is standard,\n",
    "                # the second one is for relative accuracy for PD matrices               \n",
    "                # if A[i,j]!=zero(T)\n",
    "                if abs(A[i,j])>tol*sqrt(abs(A[i,i]*A[j,j]))\n",
    "                    # Compute c and s\n",
    "                    τ=(A[i,i]-A[j,j])/(2*A[i,j])\n",
    "                    t=sign(τ)/(abs(τ)+sqrt(1+τ^2))\n",
    "                    c=1/sqrt(1+t^2)\n",
    "                    s=c*t\n",
    "                    G=LinAlg.Givens(i,j,c,s)\n",
    "                    A=G*A\n",
    "                    # @show\n",
    "                    A*=G'\n",
    "                    A[i,j]=zero(T)\n",
    "                    A[j,i]=zero(T)\n",
    "                    U*=G'\n",
    "                    pcurrent=0\n",
    "                else\n",
    "                    pcurrent+=1\n",
    "                end\n",
    "            end\n",
    "        end\n",
    "    end\n",
    "    # λ, U\n",
    "    # @show A\n",
    "    diag(A), U\n",
    "end"
   ]
  },
  {
   "cell_type": "code",
   "execution_count": 2,
   "metadata": {
    "collapsed": false
   },
   "outputs": [
    {
     "data": {
      "text/plain": [
       "6×6 Array{Int64,2}:\n",
       " 135   57   17   19   -2    6\n",
       "  57   99  -30  -21   43   44\n",
       "  17  -30  122   95  -10   -6\n",
       "  19  -21   95   91  -11   25\n",
       "  -2   43  -10  -11  208  -11\n",
       "   6   44   -6   25  -11   86"
      ]
     },
     "execution_count": 2,
     "metadata": {},
     "output_type": "execute_result"
    }
   ],
   "source": [
    "n=6\n",
    "A=rand(-9:9,n,n)\n",
    "A=A*A'"
   ]
  },
  {
   "cell_type": "code",
   "execution_count": 3,
   "metadata": {
    "collapsed": false,
    "nbpresent": {
     "id": "a61a812c-8380-4789-9685-819fdb925442"
    }
   },
   "outputs": [
    {
     "data": {
      "text/plain": [
       "6×6 Array{Float64,2}:\n",
       "  1.0         0.493049   0.132465    0.171422  -0.0119352   0.0556846\n",
       "  0.493049    1.0       -0.272976   -0.221249   0.299653    0.476854 \n",
       "  0.132465   -0.272976   1.0         0.901619  -0.0627752  -0.0585763\n",
       "  0.171422   -0.221249   0.901619    1.0       -0.079954    0.282599 \n",
       " -0.0119352   0.299653  -0.0627752  -0.079954   1.0        -0.0822454\n",
       "  0.0556846   0.476854  -0.0585763   0.282599  -0.0822454   1.0      "
      ]
     },
     "execution_count": 3,
     "metadata": {},
     "output_type": "execute_result"
    }
   ],
   "source": [
    "AS=map(Float64,[A[i,j]/sqrt(A[i,i]*A[j,j]) for i=1:n, j=1:n])"
   ]
  },
  {
   "cell_type": "code",
   "execution_count": 4,
   "metadata": {
    "collapsed": false
   },
   "outputs": [
    {
     "data": {
      "text/plain": [
       "(394.89918180565354,466.89082763889917)"
      ]
     },
     "execution_count": 4,
     "metadata": {},
     "output_type": "execute_result"
    }
   ],
   "source": [
    "cond(AS), cond(A)"
   ]
  },
  {
   "cell_type": "code",
   "execution_count": 5,
   "metadata": {
    "collapsed": false
   },
   "outputs": [
    {
     "data": {
      "text/plain": [
       "6-element Array{Float64,1}:\n",
       " 3.29585e10\n",
       " 3.87633   \n",
       " 1.06779e-8\n",
       " 6.42495e6 \n",
       " 4.18419e-8\n",
       " 2.69236e6 "
      ]
     },
     "execution_count": 5,
     "metadata": {},
     "output_type": "execute_result"
    }
   ],
   "source": [
    "# Strong scaling\n",
    "D=exp(50*(rand(n)-0.5))"
   ]
  },
  {
   "cell_type": "code",
   "execution_count": 6,
   "metadata": {
    "collapsed": false
   },
   "outputs": [
    {
     "data": {
      "text/plain": [
       "6×6 Array{Float64,2}:\n",
       "   1.08626e21   6.2991e10   46.6181       …  -16.4593        4.94123e15\n",
       "   6.2991e10   15.026       -1.12988e-8        4.86018e-8    4.97668e6 \n",
       "  46.6181      -1.12988e-8   1.14017e-16      -2.8047e-17   -0.00168399\n",
       "   3.62997e16  -5.51025e6    0.0618555        -0.0214942     4.88846e12\n",
       " -16.4593       4.86018e-8  -2.8047e-17        1.75075e-15  -0.00926523\n",
       "   4.94123e15   4.97668e6   -0.00168399   …   -0.00926523    7.24879e12"
      ]
     },
     "execution_count": 6,
     "metadata": {},
     "output_type": "execute_result"
    }
   ],
   "source": [
    "A=diagm(D)*AS*diagm(D)"
   ]
  },
  {
   "cell_type": "code",
   "execution_count": 7,
   "metadata": {
    "collapsed": false
   },
   "outputs": [
    {
     "data": {
      "text/plain": [
       "8.811608949836465e35"
      ]
     },
     "execution_count": 7,
     "metadata": {},
     "output_type": "execute_result"
    }
   ],
   "source": [
    "cond(A)"
   ]
  },
  {
   "cell_type": "code",
   "execution_count": 8,
   "metadata": {
    "collapsed": false
   },
   "outputs": [
    {
     "data": {
      "text/plain": [
       "([1.08626e21,5.24415,1.99874e-18,4.07327e13,1.23511e-15,6.56047e12],\n",
       "[1.0 -6.38296e-11 … 6.16806e-19 1.60319e-7; 5.79888e-11 1.0 … -9.71366e-9 8.6994e-7; … ; -1.51522e-20 9.76457e-9 … 0.999048 -9.41521e-16; 4.54884e-6 -8.37826e-7 … 9.08627e-15 0.99021])"
      ]
     },
     "execution_count": 8,
     "metadata": {},
     "output_type": "execute_result"
    }
   ],
   "source": [
    "λ,U=myJacobi(A)"
   ]
  },
  {
   "cell_type": "code",
   "execution_count": 9,
   "metadata": {
    "collapsed": false
   },
   "outputs": [
    {
     "data": {
      "text/plain": [
       "6-element Array{Float64,1}:\n",
       " 1.08626e21 \n",
       " 5.24415    \n",
       " 1.99874e-18\n",
       " 4.07327e13 \n",
       " 1.23511e-15\n",
       " 6.56047e12 "
      ]
     },
     "execution_count": 9,
     "metadata": {},
     "output_type": "execute_result"
    }
   ],
   "source": [
    "λ"
   ]
  },
  {
   "cell_type": "code",
   "execution_count": 10,
   "metadata": {
    "collapsed": false
   },
   "outputs": [
    {
     "data": {
      "text/plain": [
       "6×6 Array{Float64,2}:\n",
       "  1.0          -6.38296e-11   9.44341e-20  …   6.16806e-19   1.60319e-7 \n",
       "  5.79888e-11   1.0          -1.37894e-9      -9.71366e-9    8.6994e-7  \n",
       "  4.29161e-20   9.53884e-10   0.999048        -0.043623     -1.56914e-15\n",
       "  3.34171e-5    2.88831e-7   -2.04315e-15     -2.32947e-15  -0.139588   \n",
       " -1.51522e-20   9.76457e-9    0.043623         0.999048     -9.41521e-16\n",
       "  4.54884e-6   -8.37826e-7    2.54806e-15  …   9.08627e-15   0.99021    "
      ]
     },
     "execution_count": 10,
     "metadata": {},
     "output_type": "execute_result"
    }
   ],
   "source": [
    "U"
   ]
  },
  {
   "cell_type": "code",
   "execution_count": 11,
   "metadata": {
    "collapsed": false
   },
   "outputs": [
    {
     "data": {
      "text/plain": [
       "([1.08626e21,4.07327e13,6.56047e12,5.24414,1.72808e-15,4.83419e-9],\n",
       "[-1.0 3.37249e-5 … -6.20339e-19 3.08109e-16; -5.79888e-11 1.69053e-7 … 9.76459e-9 -4.82696e-6; … ; 1.51522e-20 5.40634e-16 … -1.0 -2.40384e-7; -4.54884e-6 -0.139588 … -9.19446e-15 4.04546e-12])"
      ]
     },
     "execution_count": 11,
     "metadata": {},
     "output_type": "execute_result"
    }
   ],
   "source": [
    "λ1,U1=eig(A)"
   ]
  },
  {
   "cell_type": "code",
   "execution_count": 12,
   "metadata": {
    "collapsed": false
   },
   "outputs": [
    {
     "data": {
      "text/plain": [
       "6×2 Array{Float64,2}:\n",
       " 1.99874e-18  1.72808e-15\n",
       " 1.23511e-15  4.83419e-9 \n",
       " 5.24415      5.24414    \n",
       " 6.56047e12   6.56047e12 \n",
       " 4.07327e13   4.07327e13 \n",
       " 1.08626e21   1.08626e21 "
      ]
     },
     "execution_count": 12,
     "metadata": {},
     "output_type": "execute_result"
    }
   ],
   "source": [
    "[sort(λ) sort(λ1)]"
   ]
  },
  {
   "cell_type": "code",
   "execution_count": 13,
   "metadata": {
    "collapsed": false
   },
   "outputs": [
    {
     "data": {
      "text/plain": [
       "(BigFloat[1.08626161638771899420580831533537333697671880262213862431424020520432325102539e+21,5.244145160466330413081771372746375838125783933298937905212113041298934014672389,1.998739487791781598072674936948428601540768362310798697676298730608933205139271e-18,4.073274106254348345584263063285539430782624090016773345269366357901348521031922e+13,1.235110389022941449511702160424458929649703114670959230599947614674921064109702e-15,6.560474304338998830331024489044751811327231855547026558706103609927874116282841e+12],\n",
       "BigFloat[9.999999994313039480111977055345097092478668803620605598319653151211874786954992e-01 -6.382956548267296831824921118396704867213101765102467914587686626703837303301411e-11 … 6.168055679492958671830825123166598274089282739930356992422910809450114852840839e-19 1.603187281352188186770960885266589082879574768678914110338729269831829329353016e-07; 5.798881515937713044390597211011325356597965167591010234695250846221227252502995e-11 9.99999999999607264292986910439859668501265297856743319484088187431091435994731e-01 … -9.713658984972873586237705828220006099350645836553223900275168180558742428717735e-09 8.699404027255945507324786669952372977507665296252602488000012482326906267964673e-07; … ; -1.515220900979654927888104963183923540842618582132606401156707099672399860824275e-20 9.764565525362460028798678454241972794408379868134777651855263436531935327529873e-09 … 9.990480635393784537317499425891408617637655154485395015738703555250591490903142e-01 -9.41521120421347313320477852464258913078311101542516667103654120711419912992704e-16; 4.548841172252988485072689804112629717278872641977172675287038201198217398473316e-06 -8.378256212053839336985937568825727740999349677178988356548950337279533334317299e-07 … 9.086269803614378053670454583700234180589910188764699993981079938641881929587057e-15 9.902096526561455323638752587560319985231831023334344415457675597908737400965177e-01])"
      ]
     },
     "execution_count": 13,
     "metadata": {},
     "output_type": "execute_result"
    }
   ],
   "source": [
    "# Check with BigFloat\n",
    "λ2,U2=myJacobi(map(BigFloat,A))"
   ]
  },
  {
   "cell_type": "code",
   "execution_count": 14,
   "metadata": {
    "collapsed": false
   },
   "outputs": [
    {
     "data": {
      "text/plain": [
       "1.727233711018888925077270372560079914223200072887256277004740694033718360632485e-77"
      ]
     },
     "execution_count": 14,
     "metadata": {},
     "output_type": "execute_result"
    }
   ],
   "source": [
    "eps(BigFloat)"
   ]
  },
  {
   "cell_type": "code",
   "execution_count": 16,
   "metadata": {
    "collapsed": false
   },
   "outputs": [
    {
     "data": {
      "text/plain": [
       "256"
      ]
     },
     "execution_count": 16,
     "metadata": {},
     "output_type": "execute_result"
    }
   ],
   "source": [
    "setprecision(256)"
   ]
  },
  {
   "cell_type": "code",
   "execution_count": 17,
   "metadata": {
    "collapsed": false
   },
   "outputs": [
    {
     "data": {
      "text/plain": [
       "6-element Array{BigFloat,1}:\n",
       " -1.907389371593347242641881929858412961917410598838005138858001427671287828316911e-14\n",
       " -5.447396434043765303477238417307909747411833149223448529759861879586572941614633e-16\n",
       " -5.250427942686647899072792308848010787228033255808995442157030926267615231889769e-16\n",
       " -9.225676673267259379031158166668136734789526084338278159912638309919979758780357e-16\n",
       " -2.143645907836164614725677789552845972766558116263262407149707914629301421287089e-16\n",
       " -2.806563235645517268954805694280000771290752715461615660373656779004123831448778e-16"
      ]
     },
     "execution_count": 17,
     "metadata": {},
     "output_type": "execute_result"
    }
   ],
   "source": [
    "# Relative error is eps()*cond(AS)\n",
    "(sort(λ2)-sort(λ))./sort(λ2)"
   ]
  },
  {
   "cell_type": "markdown",
   "metadata": {
    "nbpresent": {
     "id": "faef4130-76f6-42f2-9613-22521aac7d7e"
    }
   },
   "source": [
    "###  Indefinite matrices\n",
    "\n",
    "__Spectral absolute value__ is $|A|_{spr}=(A^2)^{1/2}$ (PD part of the polar decomposition of $A$).\n",
    "\n",
    "The relative perturbation bounds for PD matrices essentially hold with $A_S^{-1}$ replaced by $[|A|_{spr}]_S^{-1}$.\n",
    "\n",
    "Jacobi method can be modified to compute the EVD with small backward error  $\\| \\Delta |A|_S\\|_2$. [S.]"
   ]
  },
  {
   "cell_type": "markdown",
   "metadata": {
    "nbpresent": {
     "id": "eee64495-853b-473c-9a53-8d7b012e428a"
    }
   },
   "source": [
    "### Singular value decomposition\n",
    "\n",
    "Let $A\\in\\mathbb{C}^{m\\times n}$ and let $q=\\min\\{m,n\\}$.\n",
    "\n",
    "The SVD of $A$ is $A=U\\Sigma V^*$,\n",
    "where $U\\in\\mathbb{C}^{m\\times m}$ and $V\\in\\mathbb{C}^{n\\times n}$ are unitary, and \n",
    "$\\Sigma=\\mathop{\\mathrm{diag}}(\\sigma_1,\\sigma_2,\\ldots,\\sigma_q)\\in\\mathbb{R}^{m\\times n}$ with all \n",
    "$\\sigma_j\\geq 0$.\n",
    "\n",
    "SVD is related to EVDs $A^*A=V\\Sigma^T\\Sigma V^*$ and $AA^*=U\\Sigma\\Sigma^TU^*$. Eigenvalues of \n",
    "the __Jordan-Wielandt__ matrix \n",
    "\n",
    "$$\n",
    "J=\\begin{bmatrix}0 & A \\\\ A^* & 0 \\end{bmatrix}\n",
    "\\in \\mathbb{C}^{(m+n) \\times (m+n)},\n",
    "$$\n",
    "\n",
    "are $\\pm \\sigma_1(A), \\pm\\sigma_2(A), \\cdots,\\pm\\sigma_q(A)$ together with $|m-n|$ zeros.\n"
   ]
  },
  {
   "cell_type": "markdown",
   "metadata": {
    "nbpresent": {
     "id": "df06d7e0-9a9f-4469-9ede-3a6aa4e3a329"
    }
   },
   "source": [
    "### Perturbation theory\n",
    "\n",
    "Bounds analogous to those for PD matrices hold, for example _(Mirsky)_: \n",
    "$\\|\\Sigma-\\tilde\\Sigma\\|_2\\leq \\|\\Delta A\\|_2$ and  $\\|\\Sigma-\\tilde\\Sigma\\|_F\\leq \\|\\Delta A\\|_F$.\n",
    "\n",
    "Relative perturbation bounds involve __graded__ matrices $A=GD$, where $D=\\mathrm{\\mathop{diag}}(\\| A_{:i}\\|_2$, and are efficient when $\\kappa(G)\\ll \\kappa(A)$, for example [Demmel, Veselić, Drmač,...]\n",
    "\n",
    "$$\n",
    "\\frac{|\\sigma_i-\\tilde\\sigma_i|}{\\sigma_i}\\leq \n",
    "\\|G^{\\dagger}\\|_2 \\| \\Delta G\\|_2.\n",
    "$$"
   ]
  },
  {
   "cell_type": "markdown",
   "metadata": {
    "nbpresent": {
     "id": "d2bb68f0-50d0-4411-b8e3-df211ff2600f"
    }
   },
   "source": [
    "### Algorithms and error bounds\n",
    "\n",
    "Standard algorithm is \n",
    "\n",
    "1. Reduce $A$ to bidiagonal form $B$, $X^TAY=B$\n",
    "2. Compute the SVD of $B$, $B=Z\\Sigma Q^T$ \n",
    "3. Multiply $U=XZ$ and $V=YQ$\n",
    "\n",
    "Step 1 can preserve relative accuracy [Barlow, Bosner, Drmač].\n",
    "Step 2 can preserve high relative accuracy [Demmel, Kahan - LAPACK dbdsqr.f, SIAG/LA Prize 1991]\n",
    "\n",
    "One-sided Jacobi computes the SVD with high relative accuracy [DDGESVD], [Drmač, Veselić - LAPACK dgesvj.f, SIAG/LA Prize 2009]\n"
   ]
  },
  {
   "cell_type": "markdown",
   "metadata": {
    "nbpresent": {
     "id": "0dfc1cc9-ffe9-4201-ba64-88f00edce14d"
    }
   },
   "source": [
    "### Acyclic matrices\n",
    "\n",
    "Matrices whose bipartite graph is acyclic preserve their singular values under small componentwise perturbations [Demmel, Gragg]. Examples are\n",
    "\n",
    "1. bidiagonal matrix (path)\n",
    "2. half-arrowhead matrix (star)\n",
    "\n",
    "For example, $\\varepsilon$ relative changes in diagonal and super-diagonal elements of bidiagonal matrix, cause at most $(2n-1)\\varepsilon$ relative changes in the singular values."
   ]
  },
  {
   "cell_type": "code",
   "execution_count": 18,
   "metadata": {
    "collapsed": false,
    "nbpresent": {
     "id": "4ca78374-00d1-4c7a-af63-28daa0b57223"
    }
   },
   "outputs": [
    {
     "data": {
      "text/plain": [
       "100×100 Bidiagonal{Float64}:\n",
       " 0.5  1.0   ⋅    ⋅    ⋅    ⋅    ⋅    ⋅   …   ⋅    ⋅    ⋅    ⋅    ⋅    ⋅    ⋅ \n",
       "  ⋅   0.5  1.0   ⋅    ⋅    ⋅    ⋅    ⋅       ⋅    ⋅    ⋅    ⋅    ⋅    ⋅    ⋅ \n",
       "  ⋅    ⋅   0.5  1.0   ⋅    ⋅    ⋅    ⋅       ⋅    ⋅    ⋅    ⋅    ⋅    ⋅    ⋅ \n",
       "  ⋅    ⋅    ⋅   0.5  1.0   ⋅    ⋅    ⋅       ⋅    ⋅    ⋅    ⋅    ⋅    ⋅    ⋅ \n",
       "  ⋅    ⋅    ⋅    ⋅   0.5  1.0   ⋅    ⋅       ⋅    ⋅    ⋅    ⋅    ⋅    ⋅    ⋅ \n",
       "  ⋅    ⋅    ⋅    ⋅    ⋅   0.5  1.0   ⋅   …   ⋅    ⋅    ⋅    ⋅    ⋅    ⋅    ⋅ \n",
       "  ⋅    ⋅    ⋅    ⋅    ⋅    ⋅   0.5  1.0      ⋅    ⋅    ⋅    ⋅    ⋅    ⋅    ⋅ \n",
       "  ⋅    ⋅    ⋅    ⋅    ⋅    ⋅    ⋅   0.5      ⋅    ⋅    ⋅    ⋅    ⋅    ⋅    ⋅ \n",
       "  ⋅    ⋅    ⋅    ⋅    ⋅    ⋅    ⋅    ⋅       ⋅    ⋅    ⋅    ⋅    ⋅    ⋅    ⋅ \n",
       "  ⋅    ⋅    ⋅    ⋅    ⋅    ⋅    ⋅    ⋅       ⋅    ⋅    ⋅    ⋅    ⋅    ⋅    ⋅ \n",
       "  ⋅    ⋅    ⋅    ⋅    ⋅    ⋅    ⋅    ⋅   …   ⋅    ⋅    ⋅    ⋅    ⋅    ⋅    ⋅ \n",
       "  ⋅    ⋅    ⋅    ⋅    ⋅    ⋅    ⋅    ⋅       ⋅    ⋅    ⋅    ⋅    ⋅    ⋅    ⋅ \n",
       "  ⋅    ⋅    ⋅    ⋅    ⋅    ⋅    ⋅    ⋅       ⋅    ⋅    ⋅    ⋅    ⋅    ⋅    ⋅ \n",
       " ⋮                        ⋮              ⋱            ⋮                      \n",
       "  ⋅    ⋅    ⋅    ⋅    ⋅    ⋅    ⋅    ⋅       ⋅    ⋅    ⋅    ⋅    ⋅    ⋅    ⋅ \n",
       "  ⋅    ⋅    ⋅    ⋅    ⋅    ⋅    ⋅    ⋅       ⋅    ⋅    ⋅    ⋅    ⋅    ⋅    ⋅ \n",
       "  ⋅    ⋅    ⋅    ⋅    ⋅    ⋅    ⋅    ⋅   …   ⋅    ⋅    ⋅    ⋅    ⋅    ⋅    ⋅ \n",
       "  ⋅    ⋅    ⋅    ⋅    ⋅    ⋅    ⋅    ⋅       ⋅    ⋅    ⋅    ⋅    ⋅    ⋅    ⋅ \n",
       "  ⋅    ⋅    ⋅    ⋅    ⋅    ⋅    ⋅    ⋅      1.0   ⋅    ⋅    ⋅    ⋅    ⋅    ⋅ \n",
       "  ⋅    ⋅    ⋅    ⋅    ⋅    ⋅    ⋅    ⋅      0.5  1.0   ⋅    ⋅    ⋅    ⋅    ⋅ \n",
       "  ⋅    ⋅    ⋅    ⋅    ⋅    ⋅    ⋅    ⋅       ⋅   0.5  1.0   ⋅    ⋅    ⋅    ⋅ \n",
       "  ⋅    ⋅    ⋅    ⋅    ⋅    ⋅    ⋅    ⋅   …   ⋅    ⋅   0.5  1.0   ⋅    ⋅    ⋅ \n",
       "  ⋅    ⋅    ⋅    ⋅    ⋅    ⋅    ⋅    ⋅       ⋅    ⋅    ⋅   0.5  1.0   ⋅    ⋅ \n",
       "  ⋅    ⋅    ⋅    ⋅    ⋅    ⋅    ⋅    ⋅       ⋅    ⋅    ⋅    ⋅   0.5  1.0   ⋅ \n",
       "  ⋅    ⋅    ⋅    ⋅    ⋅    ⋅    ⋅    ⋅       ⋅    ⋅    ⋅    ⋅    ⋅   0.5  1.0\n",
       "  ⋅    ⋅    ⋅    ⋅    ⋅    ⋅    ⋅    ⋅       ⋅    ⋅    ⋅    ⋅    ⋅    ⋅   0.5"
      ]
     },
     "execution_count": 18,
     "metadata": {},
     "output_type": "execute_result"
    }
   ],
   "source": [
    "# Singular values of a Jordan block - Veselić\n",
    "n=100\n",
    "# The starting matrix\n",
    "a=0.5*ones(n)\n",
    "b=ones(n-1)\n",
    "A=Bidiagonal(a,b, true)"
   ]
  },
  {
   "cell_type": "code",
   "execution_count": 19,
   "metadata": {
    "collapsed": false
   },
   "outputs": [
    {
     "data": {
      "text/plain": [
       "100×2 Array{Float64,2}:\n",
       " 1.49984      1.49984    \n",
       " 1.49935      1.49935    \n",
       " 1.49853      1.49853    \n",
       " 1.49739      1.49739    \n",
       " 1.49592      1.49592    \n",
       " 1.49412      1.49412    \n",
       " 1.492        1.492      \n",
       " 1.48956      1.48956    \n",
       " 1.48679      1.48679    \n",
       " 1.4837       1.4837     \n",
       " 1.48029      1.48029    \n",
       " 1.47656      1.47656    \n",
       " 1.47251      1.47251    \n",
       " ⋮                       \n",
       " 0.556938     0.556938   \n",
       " 0.547576     0.547576   \n",
       " 0.538931     0.538931   \n",
       " 0.531049     0.531049   \n",
       " 0.523973     0.523973   \n",
       " 0.517744     0.517744   \n",
       " 0.512401     0.512401   \n",
       " 0.507979     0.507979   \n",
       " 0.504507     0.504507   \n",
       " 0.502009     0.502009   \n",
       " 0.500503     0.500503   \n",
       " 5.91646e-31  2.04866e-30"
      ]
     },
     "execution_count": 19,
     "metadata": {},
     "output_type": "execute_result"
    }
   ],
   "source": [
    "σ=svdvals(A)\n",
    "U,σ1,V=svd(A)\n",
    "[σ σ1]"
   ]
  },
  {
   "cell_type": "code",
   "execution_count": 20,
   "metadata": {
    "collapsed": false
   },
   "outputs": [
    {
     "data": {
      "text/plain": [
       "100-element Array{Float64,1}:\n",
       "  0.0        \n",
       "  2.96189e-16\n",
       "  1.48175e-16\n",
       "  1.48288e-16\n",
       "  1.48434e-16\n",
       "  1.48612e-16\n",
       "  0.0        \n",
       "  2.98134e-16\n",
       "  4.48034e-16\n",
       "  4.48967e-16\n",
       "  6.00002e-16\n",
       "  3.00759e-16\n",
       "  1.50793e-16\n",
       "  ⋮          \n",
       "  0.0        \n",
       "  0.0        \n",
       "  2.06005e-16\n",
       " -8.36249e-16\n",
       " -2.11886e-16\n",
       " -4.2887e-16 \n",
       " -4.33341e-16\n",
       " -2.18557e-16\n",
       "  0.0        \n",
       "  0.0        \n",
       "  2.21821e-16\n",
       " -2.46264    "
      ]
     },
     "execution_count": 20,
     "metadata": {},
     "output_type": "execute_result"
    }
   ],
   "source": [
    "(σ-σ1)./σ"
   ]
  },
  {
   "cell_type": "markdown",
   "metadata": {
    "nbpresent": {
     "id": "8047a522-021d-4c62-8a53-da848a6e6f7b"
    }
   },
   "source": [
    "### Arrowhead and DPR1 matrices\n",
    "\n",
    "\n",
    "\n",
    "__Arrowhead__: \n",
    "$A=\\begin{bmatrix} D & z \\\\ z^{T} & \\alpha \\end{bmatrix}$,\n",
    "$D=\\mathop{\\mathrm{diag}}(d_{1}, \\ldots ,d_{n-1})$, \n",
    "$z=\\begin{bmatrix} \\zeta _{1} & \\cdots & \\zeta _{n-1} \\end{bmatrix}^T$,\n",
    "$\\alpha\\in\\mathbb{R}$\n",
    "\n",
    "__DPR1__: $A= D +\\rho z z^T$, $D=\\mathop{\\mathrm{diag}}(d_{1},\\ldots ,d_{n})$, \n",
    "$z=\\begin{bmatrix} \\zeta _{1} & \\cdots & \\zeta _{n} \\end{bmatrix}^T$, $\\rho \\neq 0\\in\\mathbb{R}$\n",
    "\n",
    "If $\\zeta _{i}=0$, then $(d_{i},e_{i})$ is an eigenpair. If $d_{i}=d_{j}$, then $d_{i}$ is\n",
    "an eigenvalue since $\\zeta_j$ can be annihilated by a Givens rotation in the $(i,j)$-plane.\n",
    "\n",
    "Matrices are __irreducible__ if \n",
    "$\\zeta _{i}\\neq 0$ for all $i$ and $d_{i}\\neq d_{j}$ for all $i\\neq j$."
   ]
  },
  {
   "cell_type": "markdown",
   "metadata": {
    "nbpresent": {
     "id": "a44c7db9-8a25-4ffe-935d-b65b2d941919"
    }
   },
   "source": [
    "### Interlacing\n",
    "\n",
    "Let $A=U\\Lambda U^T$ be the EVD of an irreducible arrowhead.\n",
    "If $d_i$ and $\\lambda_i$ are nonincreasingy ordered, then\n",
    "\n",
    "$$\\lambda _{1}> d_{1}> \\lambda _{2}> d_{2}> \\cdots > d_{n-2}>\\lambda\n",
    "_{n-1}> d_{n-1}> \\lambda _{n}.\n",
    "$$\n",
    "\n",
    "Let $A=U\\Lambda U^T$ be the EVD of an irreducible DPR1. \n",
    "If $d_i$ and $\\lambda_i$ are nonincreasingy ordered, then\n",
    "\n",
    "$$\\lambda _{1}> d_{1}> \\lambda _{2}> d_{2}> \\cdots > d_{n-2}>\\lambda\n",
    "_{n-1}> d_{n-1}> \\lambda _{n}> d_n.\n",
    "$$\n",
    "\n"
   ]
  },
  {
   "cell_type": "markdown",
   "metadata": {
    "nbpresent": {
     "id": "4be144be-2fc7-4ecc-8ca7-2dac0c17d7e8"
    }
   },
   "source": [
    "### Arrowhead EVD\n",
    "\n",
    "The eigenvalues $\\lambda_i$ are the zeros of the __Pick function__ [Stewart, O'Leary]\n",
    "\n",
    "$$\n",
    "f(\\lambda )=\\alpha -\\lambda -\\sum_{i=1}^{n-1}\\frac{\\zeta _{i}^{2}}{%\n",
    "d_{i}-\\lambda }=\\alpha -\\lambda -z^{T}(D-\\lambda I)^{-1}z,\n",
    "$$\n",
    "\n",
    "and the corresponding eigenvectors are \n",
    "\n",
    "$$\n",
    "U_{:,i}=\\frac{x_{i}}{\\left\\Vert x_{i}\\right\\Vert _{2}},\\quad \n",
    "x_{i}=\\begin{bmatrix}\n",
    "\\left( D-\\lambda _{i}I\\right) ^{-1}z \\\\ \n",
    "-1%\n",
    "\\end{bmatrix}, \n",
    "\\quad i=1,\\ldots ,n.\n",
    "$$"
   ]
  },
  {
   "cell_type": "markdown",
   "metadata": {
    "nbpresent": {
     "id": "8cb82af9-cb2c-4bad-9a01-361cd4134b87"
    }
   },
   "source": [
    "### DPR1 EVD\n",
    "\n",
    "The eigenvalues of $A$ are the zeros of the __secular equation__ \n",
    "\n",
    "$$\n",
    "f(\\lambda )=1+\\rho\\sum_{i=1}^{n}\\frac{\\zeta _{i}^{2}}{d_{i}-\\lambda }\n",
    "=1 +\\rho z^{T}(D-\\lambda I)^{-1}z=0,\n",
    "$$\n",
    "\n",
    "and the corresponding eigenvectors are \n",
    "\n",
    "$$\n",
    "U_{:,i}=\\frac{x_{i}}{\\left\\Vert x_{i}\\right\\Vert _{2}},\\quad\n",
    "x_{i}=( D-\\lambda _{i}I) ^{-1}z.\n",
    "$$\n",
    "\n",
    "The obvious $O(n)$ algorithms (per eigenpair) are inaccurate."
   ]
  },
  {
   "cell_type": "markdown",
   "metadata": {
    "nbpresent": {
     "id": "86a6ece1-f138-4d69-abf1-db8b2cb7ed7d"
    }
   },
   "source": [
    "### Structured inverses (arrowhead)\n",
    "\n",
    "If $d_i\\neq 0$ for all $i$, then\n",
    "\n",
    "$$\n",
    "A^{-1}=\\begin{bmatrix} D^{-1} &  \\\\ & 0 \\end{bmatrix} + \\rho uu^{T}, \\\n",
    "u=\\begin{bmatrix} z^{T}D^{-1} \\\\ -1 \\end{bmatrix}, \\ \\rho =\\displaystyle\\frac{1}{\\alpha-z^{T}D^{-1}z}.\n",
    "$$\n",
    "\n",
    "This and subsequent inverses are each computable in $O(n)$ flops."
   ]
  },
  {
   "cell_type": "markdown",
   "metadata": {
    "nbpresent": {
     "id": "1b818d33-4e81-435d-916e-740e6793bf33"
    }
   },
   "source": [
    "### Structured inverses (arrow. with zero pole)\n",
    "\n",
    "If $d_i=0$, then\n",
    "\n",
    "$$\n",
    "A^{-1}\\equiv \n",
    "\\begin{bmatrix}\n",
    "D_{1} & 0 & 0 & z_{1} \\\\ \n",
    "0 & 0 & 0 & \\zeta _{i} \\\\ \n",
    "0 & 0 & D_{2} & z_{2} \\\\ \n",
    "z_{1}^{T} & \\zeta _{i} & z_{2}^{T} & \\alpha\n",
    "\\end{bmatrix}^{-1}\n",
    "= \\begin{bmatrix}\n",
    "D_{1}^{-1} & w_{1} & 0 & 0 \\\\ \n",
    "w_{1}^{T} & b & w_{2}^{T} & 1/\\zeta _{i} \\\\ \n",
    "0 & w_{2} & D_{2}^{-1} & 0 \\\\ \n",
    "0 & 1/\\zeta _{i} & 0 & 0\n",
    "\\end{bmatrix},\n",
    "$$\n",
    "\n",
    "$w_{1}=-D_{1}^{-1}z_{1}\\displaystyle\\frac{1}{\\zeta _{i}}$, \n",
    "$w_{2}=-D_{2}^{-1}z_{2}\\displaystyle\\frac{1}{\\zeta _{i}}$,\n",
    "$b= \\displaystyle\\frac{1}{\\zeta _{i}^{2}}\\left(-\\alpha +z_{1}^{T}D_{1}^{-1}z_{1}+z_{2}^{T}D_{2}^{-1}z_{2}\\right)$."
   ]
  },
  {
   "cell_type": "markdown",
   "metadata": {
    "nbpresent": {
     "id": "b3227170-e102-4f1a-a6b7-7a6ce9b71d5e"
    }
   },
   "source": [
    "### Structured inverses (DPR1)\n",
    "\n",
    "If $d_i\\neq 0$ for all $i$, then\n",
    "\n",
    "$$\n",
    "A^{-1}=D^{-1} +\\gamma uu^{T},\\quad  u=D^{-1}z, \\quad \\gamma =-\\frac{\\rho}{1+\\rho z^{T}D^{-1}z}.\n",
    "$$ "
   ]
  },
  {
   "cell_type": "markdown",
   "metadata": {
    "nbpresent": {
     "id": "fbc71841-7564-4a8f-bb0c-4d27ef5a5641"
    }
   },
   "source": [
    "### Structured inverses (DPR1 with $d_i=0$)\n",
    "\n",
    "$$\n",
    "A^{-1}\\equiv \\left(\\begin{bmatrix} D_{1} & 0 & 0 \\\\  0 & 0 & 0  \\\\  0 & 0 & D_{2} \\end{bmatrix}\n",
    "+\\rho \\begin{bmatrix} z_{1} \\\\ \\zeta _{i} \\\\ z_{2}\n",
    "\\end{bmatrix}\n",
    "\\begin{bmatrix}\n",
    "z_{1}^{T} & \\zeta _{i} & z_{2}^{T}\n",
    "\\end{bmatrix}\\right)^{-1}=\n",
    "\\begin{bmatrix}\n",
    "D_{1}^{-1} & w_{1} & 0 \\\\ \n",
    "w_{1}^{T} & b & w_{2}^{T} \\\\ \n",
    "0 & w_{2} & D_{2}^{-1} \n",
    "\\end{bmatrix},\n",
    "$$\n",
    "\n",
    "$w_{1}=-D_{1}^{-1}z_{1}\\displaystyle\\frac{1}{\\zeta _{i}}$,\n",
    "$w_{2}=-D_{2}^{-1}z_{2}\\displaystyle\\frac{1}{\\zeta _{i}}$,\n",
    "$b =\\displaystyle\\frac{1}{\\zeta _{i}^{2}}\\left(\n",
    "\\frac{1}{\\rho}+z_{1}^{T}D_{1}^{-1}z_{1}+z_{2}^{T}D_{2}^{-1}z_{2}\\right)$."
   ]
  },
  {
   "cell_type": "markdown",
   "metadata": {
    "nbpresent": {
     "id": "070701d6-f2db-43c2-bc59-2593ab2daf1e"
    }
   },
   "source": [
    "### Idea\n",
    "\n",
    "Let $\\lambda_\\max$ be the absolutely largest eigenvalue. \n",
    "\n",
    "It is computed with high relative accuracy by any reasonable algorithm:\n",
    "\n",
    "$$\n",
    "\\frac{\\big|\\lambda_\\max -\\tilde \\lambda_\\max\\big|}{\\big|\\lambda_\\max\\big|}\\leq \n",
    "\\frac{\\|\\Delta A\\|_2}{\\big|\\lambda_\\max\\big|}=\n",
    "\\frac{\\epsilon \\|A\\|_2}{\\big|\\lambda_\\max\\big|}\\equiv \\epsilon.\n",
    "$$"
   ]
  },
  {
   "cell_type": "markdown",
   "metadata": {
    "nbpresent": {
     "id": "9714ee7e-f498-46b6-99bd-08c012985453"
    }
   },
   "source": [
    "### Algorithms\n",
    "\n",
    "The algorithms based on the following approach compute all eigenvalues and _all components_ of the corresponding eigenvectors in a forward stable manner to almost full accuracy in $O(n)$ operations per eigenpair [Jakovčević Stor, Barlow, S.]:\n",
    "\n",
    "1. Shift the irreducible $A$ to $d_i$ which is closer to $\\lambda_i$ (one step of bisection on $f(\\lambda)$).\n",
    "2. Invert the shifted matrix. \n",
    "3. Compute the absolutely largest eigenvalue of the inverted shifted matrix and the corresponding eigenvector."
   ]
  },
  {
   "cell_type": "markdown",
   "metadata": {
    "nbpresent": {
     "id": "caf2a5de-f2fe-4c24-87dc-d2beb42cea6c"
    }
   },
   "source": [
    "### Numerical issues\n",
    "\n",
    "1. All elements of the inverses of the shifted matrices are highly accurate, except possibly $b$ (or $\\rho$ or $\\gamma$). If these are not accurate, compute them using extended precision.\n",
    "\n",
    "2. If two eigenvalues are close to the same pole, one much nearer than the other, some modifications are necessary. \n",
    "\n",
    "The algorithms are implemented in the package [Arrowhead.jl](https://github.com/ivanslapnicar/Arrowhead.jl). \n",
    "\n",
    "For double the working the package [DoubleDouble.jl](https://github.com/simonbyrne/DoubleDouble.jl) is used."
   ]
  },
  {
   "cell_type": "code",
   "execution_count": 21,
   "metadata": {
    "collapsed": false
   },
   "outputs": [],
   "source": [
    "using Arrowhead"
   ]
  },
  {
   "cell_type": "code",
   "execution_count": 22,
   "metadata": {
    "collapsed": false
   },
   "outputs": [
    {
     "name": "stdout",
     "output_type": "stream",
     "text": [
      "                     Arrowhead     30 KB     Module\n",
      "                  GenHalfArrow      0 bytes  Arrowhead.#GenHalfArrow\n",
      "                   GenSymArrow      0 bytes  Arrowhead.#GenSymArrow\n",
      "                    GenSymDPR1      0 bytes  Arrowhead.#GenSymDPR1\n",
      "                     HalfArrow    180 bytes  DataType\n",
      "                      SymArrow    204 bytes  DataType\n",
      "                       SymDPR1    192 bytes  DataType\n",
      "                        bisect      0 bytes  Arrowhead.#bisect\n",
      "                           eig      0 bytes  Base.LinAlg.#eig\n",
      "                           inv      0 bytes  Base.#inv\n",
      "                      rootsWDK      0 bytes  Arrowhead.#rootsWDK\n",
      "                       rootsah      0 bytes  Arrowhead.#rootsah\n",
      "                           svd      0 bytes  Base.LinAlg.#svd\n",
      "                           tdc      0 bytes  Arrowhead.#tdc\n"
     ]
    }
   ],
   "source": [
    "whos(Arrowhead)"
   ]
  },
  {
   "cell_type": "code",
   "execution_count": 23,
   "metadata": {
    "collapsed": false
   },
   "outputs": [
    {
     "data": {
      "text/html": [
       "1 method for generic function <b>GenSymArrow</b>:<ul><li> GenSymArrow(n::<b>Integer</b>, i::<b>Integer</b>) at <a href=\"https://github.com/ivanslapnicar/Arrowhead.jl/tree/68582e74976640b6cda11ed5ac981835e152d5a9/src/arrowhead3.jl#L8\" target=\"_blank\">C:\\Users\\Ivan\\.julia\\v0.5\\Arrowhead\\src\\arrowhead3.jl:8</a></li> </ul>"
      ],
      "text/plain": [
       "# 1 method for generic function \"GenSymArrow\":\n",
       "GenSymArrow(n::Integer, i::Integer) at C:\\Users\\Ivan\\.julia\\v0.5\\Arrowhead\\src\\arrowhead3.jl:8"
      ]
     },
     "execution_count": 23,
     "metadata": {},
     "output_type": "execute_result"
    }
   ],
   "source": [
    "methods(GenSymArrow)"
   ]
  },
  {
   "cell_type": "code",
   "execution_count": 24,
   "metadata": {
    "collapsed": false
   },
   "outputs": [
    {
     "data": {
      "text/plain": [
       "10×10 Arrowhead.SymArrow{Float64}:\n",
       " 0.251722   0.0       0.0       0.0       …  0.0       0.0       0.0331726\n",
       " 0.0        0.559182  0.0       0.0          0.0       0.0       0.811757 \n",
       " 0.0        0.0       0.845298  0.0          0.0       0.0       0.444126 \n",
       " 0.0        0.0       0.0       0.921409     0.0       0.0       0.101049 \n",
       " 0.0        0.0       0.0       0.0          0.0       0.0       0.428597 \n",
       " 0.0        0.0       0.0       0.0       …  0.0       0.0       0.471424 \n",
       " 0.0        0.0       0.0       0.0          0.0       0.0       0.4991   \n",
       " 0.0        0.0       0.0       0.0          0.915905  0.0       0.574678 \n",
       " 0.0        0.0       0.0       0.0          0.0       0.282592  0.645209 \n",
       " 0.0331726  0.811757  0.444126  0.101049     0.574678  0.645209  0.30809  "
      ]
     },
     "execution_count": 24,
     "metadata": {},
     "output_type": "execute_result"
    }
   ],
   "source": [
    "n=10\n",
    "A=GenSymArrow(n,n)"
   ]
  },
  {
   "cell_type": "code",
   "execution_count": 25,
   "metadata": {
    "collapsed": false
   },
   "outputs": [
    {
     "data": {
      "text/plain": [
       "4-element Array{Symbol,1}:\n",
       " :D\n",
       " :z\n",
       " :a\n",
       " :i"
      ]
     },
     "execution_count": 25,
     "metadata": {},
     "output_type": "execute_result"
    }
   ],
   "source": [
    "fieldnames(A)"
   ]
  },
  {
   "cell_type": "code",
   "execution_count": 26,
   "metadata": {
    "collapsed": false
   },
   "outputs": [
    {
     "data": {
      "text/plain": [
       "([0.251722,0.559182,0.845298,0.921409,0.797279,0.0487064,0.992224,0.915905,0.282592],[0.0331726,0.811757,0.444126,0.101049,0.428597,0.471424,0.4991,0.574678,0.645209],0.30808956771580354,10)"
      ]
     },
     "execution_count": 26,
     "metadata": {},
     "output_type": "execute_result"
    }
   ],
   "source": [
    "A.D, A.z, A.a, A.i"
   ]
  },
  {
   "cell_type": "code",
   "execution_count": 27,
   "metadata": {
    "collapsed": false
   },
   "outputs": [
    {
     "data": {
      "text/plain": [
       "(2.0010109520344182e-15,6.327421139988411e-16)"
      ]
     },
     "execution_count": 27,
     "metadata": {},
     "output_type": "execute_result"
    }
   ],
   "source": [
    "tols=[1e2,1e2,1e2,1e2,1e2]\n",
    "U,λ=eig(A,tols)\n",
    "norm(full(A)*U-U*diagm(λ)), norm(U'*U-I)"
   ]
  },
  {
   "cell_type": "code",
   "execution_count": 28,
   "metadata": {
    "collapsed": false
   },
   "outputs": [
    {
     "name": "stdout",
     "output_type": "stream",
     "text": [
      "  0.381110 seconds (1.09 M allocations: 121.123 MB, 8.20% gc time)\n",
      "  0.987643 seconds (4.12 M allocations: 476.543 MB, 14.85% gc time)\n"
     ]
    }
   ],
   "source": [
    "# Timings - notice the O(n^2)\n",
    "@time eig(GenSymArrow(1000,1000),tols);\n",
    "@time eig(GenSymArrow(2000,2000),tols);"
   ]
  },
  {
   "cell_type": "code",
   "execution_count": 29,
   "metadata": {
    "collapsed": false
   },
   "outputs": [
    {
     "data": {
      "text/plain": [
       "6×6 Arrowhead.SymArrow{Float64}:\n",
       " 1.0e10  0.0  0.0  0.0  0.0  1.0e10\n",
       " 0.0     4.0  0.0  0.0  0.0  1.0   \n",
       " 0.0     0.0  3.0  0.0  0.0  1.0   \n",
       " 0.0     0.0  0.0  2.0  0.0  1.0   \n",
       " 0.0     0.0  0.0  0.0  1.0  1.0   \n",
       " 1.0e10  1.0  1.0  1.0  1.0  1.0e10"
      ]
     },
     "execution_count": 29,
     "metadata": {},
     "output_type": "execute_result"
    }
   ],
   "source": [
    "# Numerically demanding matrix\n",
    "A=SymArrow( [ 1e10+1.0/3.0, 4.0, 3.0, 2.0, 1.0 ], \n",
    "[ 1e10 - 1.0/3.0, 1.0, 1.0, 1.0, 1.0 ], 1e10, 6 )"
   ]
  },
  {
   "cell_type": "code",
   "execution_count": 30,
   "metadata": {
    "collapsed": false
   },
   "outputs": [
    {
     "data": {
      "text/plain": [
       "6-element Array{Float64,1}:\n",
       "  2.0e10  \n",
       "  4.17472 \n",
       "  3.18832 \n",
       "  2.22325 \n",
       "  1.26185 \n",
       " -0.348142"
      ]
     },
     "execution_count": 30,
     "metadata": {},
     "output_type": "execute_result"
    }
   ],
   "source": [
    "U,λ=eig(A,tols)\n",
    "λ"
   ]
  },
  {
   "cell_type": "code",
   "execution_count": 31,
   "metadata": {
    "collapsed": false
   },
   "outputs": [
    {
     "data": {
      "text/plain": [
       "6×6 Array{Float64,2}:\n",
       " -0.707107      0.16715     0.175055    0.201186   0.230118    0.589904\n",
       " -3.53553e-11  -0.956659    0.21567     0.113232   0.0840413   0.135668\n",
       " -3.53553e-11  -0.142289   -0.929569    0.25901    0.132392    0.176188\n",
       " -3.53553e-11  -0.0768603  -0.147313   -0.901161   0.31175     0.251222\n",
       " -3.53553e-11  -0.0526502  -0.0799952  -0.164468  -0.878813    0.437568\n",
       " -0.707107     -0.16715    -0.175055   -0.201186  -0.230118   -0.589904"
      ]
     },
     "execution_count": 31,
     "metadata": {},
     "output_type": "execute_result"
    }
   ],
   "source": [
    "U"
   ]
  },
  {
   "cell_type": "code",
   "execution_count": 32,
   "metadata": {
    "collapsed": false
   },
   "outputs": [
    {
     "data": {
      "text/plain": [
       "6-element Array{Float64,1}:\n",
       " -0.348142\n",
       "  1.26185 \n",
       "  2.22325 \n",
       "  3.18832 \n",
       "  4.17472 \n",
       "  2.0e10  "
      ]
     },
     "execution_count": 32,
     "metadata": {},
     "output_type": "execute_result"
    }
   ],
   "source": [
    "λ1,U1=eig(full(A))\n",
    "λ1"
   ]
  },
  {
   "cell_type": "code",
   "execution_count": 33,
   "metadata": {
    "collapsed": false
   },
   "outputs": [
    {
     "data": {
      "text/plain": [
       "6×6 Array{Float64,2}:\n",
       " -0.589904   0.230118   -0.201186   0.175055    0.16715    -0.707107   \n",
       " -0.135668   0.0840414  -0.113232   0.21567    -0.956659   -3.53553e-11\n",
       " -0.176188   0.132392   -0.25901   -0.929568   -0.142289   -3.53553e-11\n",
       " -0.251222   0.31175     0.901161  -0.147313   -0.0768603  -3.53553e-11\n",
       " -0.437568  -0.878813    0.164468  -0.0799953  -0.0526502  -3.53553e-11\n",
       "  0.589904  -0.230118    0.201186  -0.175055   -0.16715    -0.707107   "
      ]
     },
     "execution_count": 33,
     "metadata": {},
     "output_type": "execute_result"
    }
   ],
   "source": [
    "U1"
   ]
  },
  {
   "cell_type": "code",
   "execution_count": 34,
   "metadata": {
    "collapsed": false
   },
   "outputs": [
    {
     "data": {
      "text/plain": [
       "6-element Array{Float64,1}:\n",
       "  1.17284e-6 \n",
       " -4.90798e-8 \n",
       " -2.13464e-8 \n",
       " -1.12719e-8 \n",
       " -7.84919e-9 \n",
       " -1.71661e-15"
      ]
     },
     "execution_count": 34,
     "metadata": {},
     "output_type": "execute_result"
    }
   ],
   "source": [
    "(sort(λ)-sort(λ1))./sort(λ)"
   ]
  },
  {
   "cell_type": "code",
   "execution_count": 35,
   "metadata": {
    "collapsed": false
   },
   "outputs": [
    {
     "data": {
      "text/html": [
       "-3.5355339066398446e-11"
      ],
      "text/plain": [
       "-3.5355339066398446e-11"
      ]
     },
     "execution_count": 35,
     "metadata": {},
     "output_type": "execute_result"
    }
   ],
   "source": [
    "U[2,1]"
   ]
  },
  {
   "cell_type": "code",
   "execution_count": 36,
   "metadata": {
    "collapsed": false
   },
   "outputs": [
    {
     "data": {
      "text/html": [
       "-3.5355274263793035e-11"
      ],
      "text/plain": [
       "-3.5355274263793035e-11"
      ]
     },
     "execution_count": 36,
     "metadata": {},
     "output_type": "execute_result"
    }
   ],
   "source": [
    "U1[end-1,end]"
   ]
  },
  {
   "cell_type": "code",
   "execution_count": 37,
   "metadata": {
    "collapsed": false
   },
   "outputs": [
    {
     "data": {
      "text/plain": [
       "6×6 Arrowhead.SymDPR1{Float64}:\n",
       "    1.0e20  1.0e10  1.0e10  1000.0      1.0e10   1.0e10\n",
       "    1.0e10  6.0     1.0        1.0e-7   1.0      1.0   \n",
       "    1.0e10  1.0     1.004      1.0e-7   1.0      1.0   \n",
       " 1000.0     1.0e-7  1.0e-7     1.0e-14  1.0e-7   1.0e-7\n",
       "    1.0e10  1.0     1.0        1.0e-7   0.996    1.0   \n",
       "    1.0e10  1.0     1.0        1.0e-7   1.0     -4.0   "
      ]
     },
     "execution_count": 37,
     "metadata": {},
     "output_type": "execute_result"
    }
   ],
   "source": [
    "# Numerically demanding DPR1 matrix\n",
    "A=SymDPR1( [ 10.0/3.0, 2.0+1e-7, 2.0-1e-7, 1.0 ], [ 2.0, 1e-7, 1e-7, 2.0], 1.0 )\n",
    "A = SymDPR1( [ 1e10, 5.0, 4e-3, 0.0, -4e-3,-5.0 ], [ 1e10, 1.0, 1.0, 1e-7, 1.0,1.0 ], 1.0 )"
   ]
  },
  {
   "cell_type": "code",
   "execution_count": 38,
   "metadata": {
    "collapsed": false
   },
   "outputs": [
    {
     "data": {
      "text/plain": [
       "3-element Array{Symbol,1}:\n",
       " :D\n",
       " :u\n",
       " :r"
      ]
     },
     "execution_count": 38,
     "metadata": {},
     "output_type": "execute_result"
    }
   ],
   "source": [
    "fieldnames(A)"
   ]
  },
  {
   "cell_type": "code",
   "execution_count": 39,
   "metadata": {
    "collapsed": false
   },
   "outputs": [
    {
     "name": "stdout",
     "output_type": "stream",
     "text": [
      "Remedy 3 \n"
     ]
    },
    {
     "data": {
      "text/plain": [
       "(3.0381820397056514e-6,2.2204460858891437e-16)"
      ]
     },
     "execution_count": 39,
     "metadata": {},
     "output_type": "execute_result"
    }
   ],
   "source": [
    "U,λ=eig(A,tols)\n",
    "norm(full(A)*U-U*diagm(λ)), norm(U'*U-I)"
   ]
  },
  {
   "cell_type": "code",
   "execution_count": 40,
   "metadata": {
    "collapsed": false
   },
   "outputs": [
    {
     "data": {
      "text/plain": [
       "6×2 Array{Float64,2}:\n",
       " -5.0      -5.0        \n",
       " -0.004    -5.74215e-14\n",
       "  1.0e-24   5.62712e-14\n",
       "  0.004     0.004      \n",
       "  5.0       5.0        \n",
       "  1.0e20    1.0e20     "
      ]
     },
     "execution_count": 40,
     "metadata": {},
     "output_type": "execute_result"
    }
   ],
   "source": [
    "[sort(λ) sort(eigvals(full(A)))]"
   ]
  },
  {
   "cell_type": "markdown",
   "metadata": {
    "nbpresent": {
     "id": "96f07e90-e1f2-401c-b66d-a56e2610cb52"
    }
   },
   "source": [
    "### Hermitian case\n",
    "\n",
    "Let $H=\\begin{bmatrix}\n",
    "D & r \\\\\n",
    "r^{*} & \\alpha\n",
    "\\end{bmatrix}$, $r\\in\\mathbb{C}^{n-1}$. Then\n",
    "\n",
    "$$\n",
    "A=\\begin{bmatrix}\n",
    "D & z \\\\\n",
    "z^{T} & \\alpha\n",
    "\\end{bmatrix}, \\ \n",
    "\\Delta =\\mathop{\\mathrm{diag}}\\big(\\frac{r_{1}}{\\left\\vert r_{1}\\right\\vert },\\ldots ,\\frac{r_{n-1}%\n",
    "}{\\left\\vert r_{n-1}\\right\\vert },1\\big) \\\\\n",
    "A=V\\Lambda V^{T}\\Rightarrow\n",
    "H=U\\Lambda U^{*}, U=\\Delta V.\n",
    "$$"
   ]
  },
  {
   "cell_type": "markdown",
   "metadata": {
    "nbpresent": {
     "id": "119bfc9a-a256-4ea5-b8d1-931b3400b133"
    }
   },
   "source": [
    "### Singular value decomposition\n",
    "\n",
    "$$\n",
    "B=\\begin{bmatrix}\n",
    "D & z \\\\ \n",
    "0  & \\alpha\n",
    "\\end{bmatrix}, \\quad\n",
    "A=B^TB=\\begin{bmatrix}\n",
    "D^2 & Dz \\\\ \n",
    "z^T D   & \\alpha+z^T z\n",
    "\\end{bmatrix}$$\n",
    "\n",
    "With proper implementation we ensure that all entries of $A_i^{-1}$ \n",
    "are computed to high relative accuracy, for example \n",
    "\n",
    "$$\n",
    "[A_i^{-1}]_{jj}=\\frac{1}{(d_j-d_i)(d_j+d_i)}, \\quad j\\neq i.\n",
    "$$"
   ]
  },
  {
   "cell_type": "markdown",
   "metadata": {
    "nbpresent": {
     "id": "5a4c3d70-ddf4-4c46-ba59-baa0c201e9a8"
    }
   },
   "source": [
    "Compute the $k$-th eigenpair $(\\lambda,v)$ of $A$.\n",
    "Then $(u,\\sigma=\\sqrt{\\lambda},v)$ is the SV triplet of $B$.\n",
    "\n",
    "From $U^T B=\\Sigma V^T$ for the $k$-th row we have\n",
    "\n",
    "$$\n",
    "\\begin{bmatrix} u_{1:n-1}^T & u_n\n",
    "\\end{bmatrix}\n",
    "\\begin{bmatrix} D & z \\\\ 0 & \\alpha\n",
    "\\end{bmatrix}=\\sigma \\begin{bmatrix} v_{1:n-1}^T & v_n\n",
    "\\end{bmatrix}, \\ u_{1:n-1}= \\sigma v_{1:n-1} D^{-1}.\n",
    "$$\n",
    "\n",
    "From $BV=U\\Sigma $ for the $k$-th column we have\n",
    "\n",
    "$$\n",
    "\\begin{bmatrix} D & z \\\\ 0 & \\alpha\n",
    "\\end{bmatrix}\n",
    "\\begin{bmatrix} v_{1:n-1} \\\\ v_n\n",
    "\\end{bmatrix}\n",
    "=\\sigma \\begin{bmatrix} u_{1:n-1} \\\\ u_n\n",
    "\\end{bmatrix}, \\\n",
    "u_n= \\frac{\\alpha v_n}{\\sigma}.\n",
    "$$"
   ]
  },
  {
   "cell_type": "code",
   "execution_count": 41,
   "metadata": {
    "collapsed": false
   },
   "outputs": [
    {
     "data": {
      "text/plain": [
       "8×8 Arrowhead.HalfArrow{Float64}:\n",
       " 0.146609   0.0        0.0        …   0.0        0.0       -0.257869  \n",
       " 0.0       -0.127191   0.0            0.0        0.0       -0.00524706\n",
       " 0.0        0.0       -0.0442389      0.0        0.0        0.275445  \n",
       " 0.0        0.0        0.0            0.0        0.0       -0.0579225 \n",
       " 0.0        0.0        0.0            0.0        0.0        0.293094  \n",
       " 0.0        0.0        0.0        …  -0.371219   0.0       -0.260795  \n",
       " 0.0        0.0        0.0            0.0       -0.355073  -0.0318741 \n",
       " 0.0        0.0        0.0            0.0        0.0        0.267537  "
      ]
     },
     "execution_count": 41,
     "metadata": {},
     "output_type": "execute_result"
    }
   ],
   "source": [
    "A=GenHalfArrow(8,8)"
   ]
  },
  {
   "cell_type": "code",
   "execution_count": 42,
   "metadata": {
    "collapsed": false
   },
   "outputs": [
    {
     "name": "stdout",
     "output_type": "stream",
     "text": [
      "Remedy 3 \n"
     ]
    },
    {
     "data": {
      "text/plain": [
       "(\n",
       "[0.391393 0.0187291 … -0.0505361 -0.0316466; 0.00785872 0.000362699 … -0.00159118 -0.000868031; … ; 0.0656799 0.984148 … -0.000784861 -0.000643542; -0.385211 -0.016125 … -0.121878 -0.750876],\n",
       "\n",
       "[0.646922,0.35542,0.32936,0.172854,0.127205,0.113978,0.080407,0.0300082],\n",
       "[0.0886996 0.00772565 … -0.0921442 -0.154614; -0.0015451 -0.000129796 … 0.002517 0.00367921; … ; -0.0360494 -0.983187 … 0.00346591 0.00761475; -0.931466 -0.0214219 … -0.0366298 -0.0842216],\n",
       "\n",
       "[1,2,2,3,5,5,6,7],[1.0,2.18493,2.18493,1.56461,6.68125,6.68125,5.40719,4.62462],[1.0,8.55412,8.55412,1.70991,145.063,145.063,20.511,7.94494],[26.7351,1.19279,85.1289,1.43668,1.06532,991.32,1.30469,1.49146],[0.0,0.0,0.0,0.0,0.0,14.9988,0.0,0.0],[0,0,0,0,0,0,0,0])"
      ]
     },
     "execution_count": 42,
     "metadata": {},
     "output_type": "execute_result"
    }
   ],
   "source": [
    "U,Σ,V=svd(A,tols)"
   ]
  },
  {
   "cell_type": "code",
   "execution_count": 43,
   "metadata": {
    "collapsed": false
   },
   "outputs": [
    {
     "data": {
      "text/plain": [
       "(1.7769127543209654e-16,1.442998490456321e-15,6.110570913244331e-16)"
      ]
     },
     "execution_count": 43,
     "metadata": {},
     "output_type": "execute_result"
    }
   ],
   "source": [
    "vecnorm(A*V-U*diagm(Σ)), vecnorm(U'*U-I), vecnorm(V'*V-I)"
   ]
  },
  {
   "cell_type": "markdown",
   "metadata": {
    "nbpresent": {
     "id": "c335db0f-e5d8-45cd-925b-a354bc254244"
    }
   },
   "source": [
    "### SVD updating\n",
    "\n",
    "Let $A=U\\Sigma V^T\\in\\mathbb{R}^{m\\times n}$ with $m\\geq n$ and $\\mathop{\\mathrm{rank}}(A)=n$.\n",
    "Then\n",
    "\n",
    "$$\\begin{bmatrix} A \\\\ a^T\\end{bmatrix} =\\begin{bmatrix} U & \\\\ & 1 \\end{bmatrix} \n",
    "\\begin{bmatrix} \\Sigma \\\\ a^TV \\end{bmatrix}  V^T= \\\\\n",
    "=\\begin{bmatrix} U & \\\\ & 1 \\end{bmatrix} \\bar U \\bar\\Sigma \\bar V^T V^T \\equiv\n",
    "\\tilde U \\bar \\Sigma \\tilde V^T.\n",
    "$$\n",
    "      \n",
    "Computation of $\\tilde U$ and $\\tilde V$ requires $O(mn^2)+O(n^3)$ flops. One can \n",
    "also use FMM [Gu, Eisenstat]  which is \"not for the timid\" [Johnson]."
   ]
  },
  {
   "cell_type": "code",
   "execution_count": 44,
   "metadata": {
    "collapsed": false
   },
   "outputs": [
    {
     "data": {
      "text/plain": [
       "mySVDaddrow (generic function with 1 method)"
      ]
     },
     "execution_count": 44,
     "metadata": {},
     "output_type": "execute_result"
    }
   ],
   "source": [
    "function mySVDaddrow{T}(svdA::Tuple,a::Vector{T})\n",
    "    # Create the transposed half-arrowhead\n",
    "    m,r,n=size(svdA[1],1),length(svdA[2]),size(svdA[3],1)\n",
    "    b=svdA[3]'*a\n",
    "    if m>=n || r<m\n",
    "        M=HalfArrow(svdA[2],b)\n",
    "    else\n",
    "        β=sqrt(vecnorm(a)^2-vecnorm(b)^2)\n",
    "        M=HalfArrow(svdA[2],[b;β])\n",
    "    end\n",
    "    tols=[1e2,1e2,1e2,1e2]\n",
    "    U,σ,V=svd(M,tols)\n",
    "    # Return the updated SVD\n",
    "    if m>=n || r<m\n",
    "        return [svdA[1] zeros(T,m); zeros(T,1,r) one(T)]*V, σ, svdA[3]*U\n",
    "    else\n",
    "        # Need one more row of svdA[3] - v is orthogonal projection\n",
    "        v=a-svdA[3]*b\n",
    "        v=v/norm(v)\n",
    "        return [svdA[1] zeros(T,m); zeros(T,1,r) one(T)]*V, σ, [svdA[3] v]*U\n",
    "    end\n",
    "end"
   ]
  },
  {
   "cell_type": "code",
   "execution_count": 45,
   "metadata": {
    "collapsed": false
   },
   "outputs": [
    {
     "data": {
      "text/plain": [
       "6-element Array{Float64,1}:\n",
       " 0.666597\n",
       " 0.317071\n",
       " 0.917819\n",
       " 0.781676\n",
       " 0.809385\n",
       " 0.288552"
      ]
     },
     "execution_count": 45,
     "metadata": {},
     "output_type": "execute_result"
    }
   ],
   "source": [
    "# Adding row to a tall matrix\n",
    "A=rand(10,6)\n",
    "a=rand(6)"
   ]
  },
  {
   "cell_type": "code",
   "execution_count": 46,
   "metadata": {
    "collapsed": false
   },
   "outputs": [
    {
     "data": {
      "text/plain": [
       "(\n",
       "[-0.439303 -0.269777 … 0.390162 0.0828828; -0.19086 -0.314697 … -0.207524 0.119187; … ; -0.252734 -0.53299 … -0.298892 0.196406; -0.331345 0.527455 … -0.480323 -0.210955],\n",
       "\n",
       "[4.09566,1.2773,1.07608,0.729069,0.601654,0.418239],\n",
       "[-0.404627 0.194671 … -0.0311387 -0.445498; -0.194368 0.363396 … -0.802658 0.206557; … ; -0.529891 0.440275 … 0.525729 0.468035; -0.502513 -0.505668 … -0.259422 0.374237])"
      ]
     },
     "execution_count": 46,
     "metadata": {},
     "output_type": "execute_result"
    }
   ],
   "source": [
    "svdA=svd(A)"
   ]
  },
  {
   "cell_type": "code",
   "execution_count": 47,
   "metadata": {
    "collapsed": false
   },
   "outputs": [
    {
     "data": {
      "text/plain": [
       "Tuple{Array{Float64,2},Array{Float64,1},Array{Float64,2}}"
      ]
     },
     "execution_count": 47,
     "metadata": {},
     "output_type": "execute_result"
    }
   ],
   "source": [
    "typeof(svdA)"
   ]
  },
  {
   "cell_type": "code",
   "execution_count": 48,
   "metadata": {
    "collapsed": false
   },
   "outputs": [
    {
     "data": {
      "text/plain": [
       "(\n",
       "[-0.409075 0.28388 … -0.413502 0.136002; -0.176031 0.326869 … 0.211038 0.00731488; … ; -0.314744 -0.533504 … 0.461212 -0.196933; -0.355818 -0.179562 … -0.192752 -0.409158],\n",
       "\n",
       "[4.37637,1.29503,1.09904,0.817148,0.613834,0.535585],\n",
       "[-0.408228 -0.189292 … -0.258219 -0.595476; -0.196589 -0.367699 … 0.875736 0.00935183; … ; -0.530036 -0.42033 … -0.311158 0.666496; -0.461323 0.604744 … 0.260258 0.142186])"
      ]
     },
     "execution_count": 48,
     "metadata": {},
     "output_type": "execute_result"
    }
   ],
   "source": [
    "U,σ,V=mySVDaddrow(svdA,a)"
   ]
  },
  {
   "cell_type": "code",
   "execution_count": 49,
   "metadata": {
    "collapsed": false
   },
   "outputs": [
    {
     "data": {
      "text/plain": [
       "(1.876226815825556e-15,1.3263025706643674e-15,1.7000563291971699e-15)"
      ]
     },
     "execution_count": 49,
     "metadata": {},
     "output_type": "execute_result"
    }
   ],
   "source": [
    "# Check the residual and orthogonality\n",
    "norm([A;a']*V-U*diagm(σ)), norm(U'*U-I), norm(V'*V-I)"
   ]
  },
  {
   "cell_type": "code",
   "execution_count": 50,
   "metadata": {
    "collapsed": false
   },
   "outputs": [
    {
     "data": {
      "text/plain": [
       "(\n",
       "[-0.325947 -0.318571 … -0.467468 0.612393; -0.555825 0.19249 … -0.265271 -0.466661; … ; -0.307898 0.39308 … -0.483899 0.0137117; -0.320671 -0.122381 … 0.232491 -0.445308],\n",
       "\n",
       "[3.89811,1.16079,0.833261,0.680474,0.60711,0.512597],\n",
       "[-0.379908 -0.0270757 … -0.283916 0.482979; -0.403166 0.542484 … -0.152198 -0.344853; … ; -0.390828 0.0304739 … 0.75037 -0.0500027; -0.220651 0.157168 … 0.00202965 -0.137812])"
      ]
     },
     "execution_count": 50,
     "metadata": {},
     "output_type": "execute_result"
    }
   ],
   "source": [
    "# Adding row to a flat matrix\n",
    "A=rand(6,10)\n",
    "a=rand(10)\n",
    "svdA=svd(A)"
   ]
  },
  {
   "cell_type": "code",
   "execution_count": 51,
   "metadata": {
    "collapsed": false
   },
   "outputs": [
    {
     "name": "stdout",
     "output_type": "stream",
     "text": [
      "Remedy 3 \n"
     ]
    },
    {
     "data": {
      "text/plain": [
       "(5.357160034874592e-15,8.93167302461745e-16,2.9674723977498678e-15)"
      ]
     },
     "execution_count": 51,
     "metadata": {},
     "output_type": "execute_result"
    }
   ],
   "source": [
    "U,σ,V=mySVDaddrow(svdA,a)\n",
    "norm([A;a']*V-U*diagm(σ)), norm(U'*U-I), norm(V'*V-I)"
   ]
  },
  {
   "cell_type": "code",
   "execution_count": 52,
   "metadata": {
    "collapsed": false
   },
   "outputs": [
    {
     "data": {
      "text/plain": [
       "mySVDaddcol (generic function with 1 method)"
      ]
     },
     "execution_count": 52,
     "metadata": {},
     "output_type": "execute_result"
    }
   ],
   "source": [
    "# Adding colums is adding rows to the transpose\n",
    "function mySVDaddcol{T}(svdA::Tuple,a::Vector{T})\n",
    "    reverse(mySVDaddrow(reverse(svdA),a))\n",
    "end "
   ]
  },
  {
   "cell_type": "code",
   "execution_count": 53,
   "metadata": {
    "collapsed": false
   },
   "outputs": [
    {
     "data": {
      "text/plain": [
       "(1.6278725152295515e-15,1.8833672589760425e-15,9.306939896435802e-16)"
      ]
     },
     "execution_count": 53,
     "metadata": {},
     "output_type": "execute_result"
    }
   ],
   "source": [
    "# Flat matrix\n",
    "A=rand(6,10)\n",
    "a=rand(6)\n",
    "svdA=svd(A)\n",
    "U,σ,V=mySVDaddcol(svdA,a)\n",
    "norm([A a]*V-U*diagm(σ)), norm(U'*U-I), norm(V'*V-I)"
   ]
  },
  {
   "cell_type": "code",
   "execution_count": 54,
   "metadata": {
    "collapsed": false
   },
   "outputs": [
    {
     "data": {
      "text/html": [
       "4"
      ],
      "text/plain": [
       "4"
      ]
     },
     "execution_count": 54,
     "metadata": {},
     "output_type": "execute_result"
    }
   ],
   "source": [
    "# Updating low-rank approximation\n",
    "A=rand(10,6)\n",
    "svdA=svd(A)\n",
    "a=rand(6)\n",
    "# Rank of the approximation\n",
    "r=4"
   ]
  },
  {
   "cell_type": "code",
   "execution_count": 55,
   "metadata": {
    "collapsed": false
   },
   "outputs": [
    {
     "data": {
      "text/plain": [
       "(0.4720653968550853,[3.9901,1.33754,1.19048,0.769958,0.457606,0.407084],[3.98955,1.33734,1.18577,0.769257])"
      ]
     },
     "execution_count": 55,
     "metadata": {},
     "output_type": "execute_result"
    }
   ],
   "source": [
    "svdAr=(svdA[1][:,1:r], svdA[2][1:r],svdA[3][:,1:r])\n",
    "U,σ,V=mySVDaddrow(svdAr,a)\n",
    "norm([A;a']-U*diagm(σ)*V'), svdvals([A;a']), σ"
   ]
  },
  {
   "cell_type": "markdown",
   "metadata": {
    "nbpresent": {
     "id": "de37bd89-3cc5-439c-967a-409866ef2fa6"
    }
   },
   "source": [
    "### Trididgonal Divide & Conquer\n",
    "\n",
    "1. The tridiagonal matrix is split into two halves.\n",
    "2. EVD if each half is computed.\n",
    "3. EVDs are merged via SVD of either DPR1 matrix [LAPACK dstedc.f] or arrowhead matrix \n",
    "[tdc()](https://github.com/ivanslapnicar/Arrowhead.jl/blob/master/src/arrowhead7.jl)."
   ]
  },
  {
   "cell_type": "code",
   "execution_count": 56,
   "metadata": {
    "collapsed": false
   },
   "outputs": [
    {
     "data": {
      "text/plain": [
       "21×21 SymTridiagonal{Float64}:\n",
       " 10.0  1.0   ⋅    ⋅    ⋅    ⋅    ⋅   …   ⋅    ⋅    ⋅    ⋅    ⋅    ⋅     ⋅ \n",
       "  1.0  9.0  1.0   ⋅    ⋅    ⋅    ⋅       ⋅    ⋅    ⋅    ⋅    ⋅    ⋅     ⋅ \n",
       "   ⋅   1.0  8.0  1.0   ⋅    ⋅    ⋅       ⋅    ⋅    ⋅    ⋅    ⋅    ⋅     ⋅ \n",
       "   ⋅    ⋅   1.0  7.0  1.0   ⋅    ⋅       ⋅    ⋅    ⋅    ⋅    ⋅    ⋅     ⋅ \n",
       "   ⋅    ⋅    ⋅   1.0  6.0  1.0   ⋅       ⋅    ⋅    ⋅    ⋅    ⋅    ⋅     ⋅ \n",
       "   ⋅    ⋅    ⋅    ⋅   1.0  5.0  1.0  …   ⋅    ⋅    ⋅    ⋅    ⋅    ⋅     ⋅ \n",
       "   ⋅    ⋅    ⋅    ⋅    ⋅   1.0  4.0      ⋅    ⋅    ⋅    ⋅    ⋅    ⋅     ⋅ \n",
       "   ⋅    ⋅    ⋅    ⋅    ⋅    ⋅   1.0      ⋅    ⋅    ⋅    ⋅    ⋅    ⋅     ⋅ \n",
       "   ⋅    ⋅    ⋅    ⋅    ⋅    ⋅    ⋅       ⋅    ⋅    ⋅    ⋅    ⋅    ⋅     ⋅ \n",
       "   ⋅    ⋅    ⋅    ⋅    ⋅    ⋅    ⋅       ⋅    ⋅    ⋅    ⋅    ⋅    ⋅     ⋅ \n",
       "   ⋅    ⋅    ⋅    ⋅    ⋅    ⋅    ⋅   …   ⋅    ⋅    ⋅    ⋅    ⋅    ⋅     ⋅ \n",
       "   ⋅    ⋅    ⋅    ⋅    ⋅    ⋅    ⋅       ⋅    ⋅    ⋅    ⋅    ⋅    ⋅     ⋅ \n",
       "   ⋅    ⋅    ⋅    ⋅    ⋅    ⋅    ⋅       ⋅    ⋅    ⋅    ⋅    ⋅    ⋅     ⋅ \n",
       "   ⋅    ⋅    ⋅    ⋅    ⋅    ⋅    ⋅      1.0   ⋅    ⋅    ⋅    ⋅    ⋅     ⋅ \n",
       "   ⋅    ⋅    ⋅    ⋅    ⋅    ⋅    ⋅      4.0  1.0   ⋅    ⋅    ⋅    ⋅     ⋅ \n",
       "   ⋅    ⋅    ⋅    ⋅    ⋅    ⋅    ⋅   …  1.0  5.0  1.0   ⋅    ⋅    ⋅     ⋅ \n",
       "   ⋅    ⋅    ⋅    ⋅    ⋅    ⋅    ⋅       ⋅   1.0  6.0  1.0   ⋅    ⋅     ⋅ \n",
       "   ⋅    ⋅    ⋅    ⋅    ⋅    ⋅    ⋅       ⋅    ⋅   1.0  7.0  1.0   ⋅     ⋅ \n",
       "   ⋅    ⋅    ⋅    ⋅    ⋅    ⋅    ⋅       ⋅    ⋅    ⋅   1.0  8.0  1.0    ⋅ \n",
       "   ⋅    ⋅    ⋅    ⋅    ⋅    ⋅    ⋅       ⋅    ⋅    ⋅    ⋅   1.0  9.0   1.0\n",
       "   ⋅    ⋅    ⋅    ⋅    ⋅    ⋅    ⋅   …   ⋅    ⋅    ⋅    ⋅    ⋅   1.0  10.0"
      ]
     },
     "execution_count": 56,
     "metadata": {},
     "output_type": "execute_result"
    }
   ],
   "source": [
    "using MatrixDepot\n",
    "W=SymTridiagonal(matrixdepot(\"wilkinson\",21))"
   ]
  },
  {
   "cell_type": "code",
   "execution_count": 57,
   "metadata": {
    "collapsed": false
   },
   "outputs": [
    {
     "data": {
      "text/plain": [
       "21-element Array{Float64,1}:\n",
       " -3.94591e-16\n",
       "  0.0        \n",
       "  1.1717e-16 \n",
       "  0.0        \n",
       "  0.0        \n",
       "  0.0        \n",
       "  0.0        \n",
       "  0.0        \n",
       "  0.0        \n",
       "  0.0        \n",
       "  0.0        \n",
       "  0.0        \n",
       "  0.0        \n",
       "  0.0        \n",
       "  0.0        \n",
       "  0.0        \n",
       "  0.0        \n",
       "  0.0        \n",
       "  0.0        \n",
       "  0.0        \n",
       "  0.0        "
      ]
     },
     "execution_count": 57,
     "metadata": {},
     "output_type": "execute_result"
    }
   ],
   "source": [
    "U,λ=tdc(W)\n",
    "λtrue= [10.746194182903393,\n",
    " 10.746194182903322,\n",
    " 9.210678647361332,\n",
    " 9.210678647304919,\n",
    " 8.038941122829023,\n",
    " 8.038941115814273,\n",
    " 7.003952209528675,\n",
    " 7.003951798616375,\n",
    " 6.000234031584167,\n",
    " 6.000217522257098,\n",
    " 5.000244425001913,\n",
    " 4.999782477742902,\n",
    " 4.004354023440857,\n",
    " 3.9960482013836245,\n",
    " 3.0430992925788236,\n",
    " 2.9610588841857264,\n",
    " 2.1302092193625057,\n",
    " 1.7893213526950813,\n",
    " 0.9475343675292932,\n",
    " 0.25380581709667804,\n",
    " -1.1254415221199847]\n",
    "(sort(λ)-sort(λtrue))./sort(λtrue)"
   ]
  },
  {
   "cell_type": "markdown",
   "metadata": {
    "nbpresent": {
     "id": "4cbb4630-c46c-40ec-bc00-08589a2570d3"
    }
   },
   "source": [
    "### Roots of polynomials\n",
    "\n",
    "[Fiedler] Let $u\\left( x\\right) =x^{n}+px^{n-1}+r\\left( x\\right)$. Let\n",
    "$D=\\mathrm{diag}(d_{1},\\ldots,d_{n-1})$,\n",
    "where $d_j$ are all distinct and $u\\left( d_{j}\\right) \\neq 0$. Let\n",
    "\n",
    "$$\n",
    "\\alpha =-p-\\sum\\limits_{j=1}^{n-1}d_{j}, \\\n",
    "z=\n",
    "\\begin{bmatrix}\n",
    "\\zeta_1 & \\zeta_2 & \\cdots & \\zeta_{n-1}\n",
    "\\end{bmatrix}^T, \\\n",
    "\\zeta_{j}^{2}= -\\frac{u(d_{j})}{\\prod_{\\substack{ i=1  \\\\ i\\neq j}}^{n-1} ( d_{j}-d_i)}.\n",
    "$$\n",
    "\n",
    "Then $A=\\begin{bmatrix}\n",
    "D & z \\\\\n",
    "z^{T} & \\alpha\n",
    "\\end{bmatrix}$\n",
    "has characteristic polynomial $\\left( -1\\right) ^{n}u\\left( x\\right)$.\n",
    "If $u\\left( x\\right) $ has only real distinct roots and the $d_{j}$'s\n",
    "interlace them, then $A$ is real."
   ]
  },
  {
   "cell_type": "code",
   "execution_count": 60,
   "metadata": {
    "collapsed": false
   },
   "outputs": [
    {
     "data": {
      "text/plain": [
       "([0.999991,0.999921,0.99978,0.999568,0.999286,0.998933,0.99851,0.998016,0.997452,0.996818  …  -0.996818,-0.997452,-0.998016,-0.99851,-0.998933,-0.999286,-0.999568,-0.99978,-0.999921,-0.999991],[0,0,0,0,0,0,0,0,0,0  …  0,0,0,0,0,0,0,0,0,0])"
      ]
     },
     "execution_count": 60,
     "metadata": {},
     "output_type": "execute_result"
    }
   ],
   "source": [
    "# Chebyshev polynomials\n",
    "using Polynomials\n",
    "n=374\n",
    "T=Array(Any,n+1)\n",
    "T[1]=Poly([BigInt(1)])\n",
    "T[2]=Poly([BigInt(0),1])\n",
    "for i=3:n+1\n",
    "    T[i]=2*T[2]*T[i-1]-T[i-2]\n",
    "end\n",
    "\n",
    "# True zeros\n",
    "Rtrue=map(Float64,[cos((2*k-1)*pi/(2*n)) for k=1:n])\n",
    "# Zeros of T[n]\n",
    "D=map(Float64,[cos((2*k-1)*pi/(2*(n-1))) for k=1:n-1])\n",
    "\n",
    "# Computed zeros\n",
    "R,qout=rootsah(T[n+1],D)"
   ]
  },
  {
   "cell_type": "code",
   "execution_count": 61,
   "metadata": {
    "collapsed": false
   },
   "outputs": [
    {
     "data": {
      "text/html": [
       "4.625953686934833e-14"
      ],
      "text/plain": [
       "4.625953686934833e-14"
      ]
     },
     "execution_count": 61,
     "metadata": {},
     "output_type": "execute_result"
    }
   ],
   "source": [
    "maximum(abs((Rtrue-R)./Rtrue))"
   ]
  },
  {
   "cell_type": "code",
   "execution_count": 64,
   "metadata": {
    "collapsed": false
   },
   "outputs": [
    {
     "data": {
      "text/html": [
       "&#45;1 &#43; 1250&#8729;x^2 &#45; 260000&#8729;x^4 &#43; 21528000&#8729;x^6 &#45; 947232000&#8729;x^8 &#43; 25638412800&#8729;x^10 &#45; 466152960000&#8729;x^12 &#43; 6034375680000&#8729;x^14 &#45; 57930006528000&#8729;x^16 &#43; 424820047872000&#8729;x^18 &#45; 2432653747814400&#8729;x^20 &#43; 11057517035520000&#8729;x^22 &#45; 40383975260160000&#8729;x^24 &#43; 119536566770073600&#8729;x^26 &#45; 288405684905574400&#8729;x^28 &#43; 568855350917201920&#8729;x^30 &#45; 917508630511616000&#8729;x^32 &#43; 1206989963132928000&#8729;x^34 &#45; 1287455960675123200&#8729;x^36 &#43; 1102487181118668800&#8729;x^38 &#45; 746299014911098880&#8729;x^40 &#43; 390051749953536000&#8729;x^42 &#45; 151732604633088000&#8729;x^44 &#43; 41341637204377600&#8729;x^46 &#45; 7036874417766400&#8729;x^48 &#43; 562949953421312&#8729;x^50"
      ],
      "text/plain": [
       "Poly(-1 + 1250*x^2 - 260000*x^4 + 21528000*x^6 - 947232000*x^8 + 25638412800*x^10 - 466152960000*x^12 + 6034375680000*x^14 - 57930006528000*x^16 + 424820047872000*x^18 - 2432653747814400*x^20 + 11057517035520000*x^22 - 40383975260160000*x^24 + 119536566770073600*x^26 - 288405684905574400*x^28 + 568855350917201920*x^30 - 917508630511616000*x^32 + 1206989963132928000*x^34 - 1287455960675123200*x^36 + 1102487181118668800*x^38 - 746299014911098880*x^40 + 390051749953536000*x^42 - 151732604633088000*x^44 + 41341637204377600*x^46 - 7036874417766400*x^48 + 562949953421312*x^50)"
      ]
     },
     "execution_count": 64,
     "metadata": {},
     "output_type": "execute_result"
    }
   ],
   "source": [
    "T[51]"
   ]
  },
  {
   "cell_type": "markdown",
   "metadata": {
    "nbpresent": {
     "id": "22a2e6a0-950b-436e-ba76-43bdd7f4e917"
    }
   },
   "source": [
    "### To-do List\n",
    "\n",
    "1. Implement fast singular vector update via FMM.\n",
    "2. Consider general matrices (complex symmetric) for EVD or Takagi factorization.\n",
    "\n",
    "\n",
    "## Thank you!\n",
    "\n",
    "### Questions?"
   ]
  },
  {
   "cell_type": "code",
   "execution_count": null,
   "metadata": {
    "collapsed": true
   },
   "outputs": [],
   "source": []
  }
 ],
 "metadata": {
  "anaconda-cloud": {},
  "kernelspec": {
   "display_name": "Julia 0.5.1",
   "language": "julia",
   "name": "julia-0.5"
  },
  "language_info": {
   "file_extension": ".jl",
   "mimetype": "application/julia",
   "name": "julia",
   "version": "0.5.1"
  },
  "nbpresent": {
   "slides": {
    "09930920-ac93-49b6-aac8-350b5a5269d8": {
     "id": "09930920-ac93-49b6-aac8-350b5a5269d8",
     "prev": "779025dc-e226-4a38-9b2a-5301d6931549",
     "regions": {
      "d847b718-3dd4-4020-b4d4-41e880b1294d": {
       "attrs": {
        "height": 0.862533692722372,
        "width": 0.8909703504043127,
        "x": 0.05754716981132078,
        "y": 0.06765498652291105
       },
       "content": {
        "cell": "442dce44-21d2-42af-a00f-e12100f7796d",
        "part": "whole"
       },
       "id": "d847b718-3dd4-4020-b4d4-41e880b1294d"
      }
     }
    },
    "0a54b131-b462-45fd-ab37-0230a2f4ce66": {
     "id": "0a54b131-b462-45fd-ab37-0230a2f4ce66",
     "prev": "4aa0600b-da7b-4aec-a925-be6bddff2506",
     "regions": {
      "2219e905-b6ed-47c4-8325-e45bd2d73d12": {
       "attrs": {
        "height": 0.862533692722372,
        "width": 0.8909703504043127,
        "x": 0.05754716981132078,
        "y": 0.06765498652291105
       },
       "content": {
        "cell": "22a2e6a0-950b-436e-ba76-43bdd7f4e917",
        "part": "whole"
       },
       "id": "2219e905-b6ed-47c4-8325-e45bd2d73d12"
      }
     }
    },
    "10df87b5-4d67-4a7f-aac0-60aefff220d8": {
     "id": "10df87b5-4d67-4a7f-aac0-60aefff220d8",
     "prev": "83d1089a-c516-4837-92c2-ce458a29d59f",
     "regions": {
      "9f0d5d52-2df6-40a7-99ec-624f392e40fd": {
       "attrs": {
        "height": 0.862533692722372,
        "width": 0.8909703504043127,
        "x": 0.05754716981132078,
        "y": 0.06765498652291105
       },
       "content": {
        "cell": "979da434-fe24-4fe1-a193-63ab5d1361f3",
        "part": "whole"
       },
       "id": "9f0d5d52-2df6-40a7-99ec-624f392e40fd"
      }
     }
    },
    "1836818f-25f2-42d6-905f-0987b916896d": {
     "id": "1836818f-25f2-42d6-905f-0987b916896d",
     "prev": "d0e713a8-aecd-42fe-b415-d56d23890a36",
     "regions": {
      "0170ea94-f7e9-4453-8346-5f43f512015f": {
       "attrs": {
        "height": 0.862533692722372,
        "width": 0.8909703504043127,
        "x": 0.05754716981132078,
        "y": 0.06765498652291105
       },
       "content": {
        "cell": "119bfc9a-a256-4ea5-b8d1-931b3400b133",
        "part": "whole"
       },
       "id": "0170ea94-f7e9-4453-8346-5f43f512015f"
      }
     }
    },
    "1b25ded4-dae1-4e84-81d8-f510e02c8eab": {
     "id": "1b25ded4-dae1-4e84-81d8-f510e02c8eab",
     "prev": "41d51ffb-e3e4-4afc-9d6c-eb7d85b60eb5",
     "regions": {
      "69b86b48-8357-45d6-945b-e2ffee09e1d8": {
       "attrs": {
        "height": 0.862533692722372,
        "width": 0.8909703504043127,
        "x": 0.05754716981132078,
        "y": 0.06765498652291105
       },
       "content": {
        "cell": "d2bb68f0-50d0-4411-b8e3-df211ff2600f",
        "part": "whole"
       },
       "id": "69b86b48-8357-45d6-945b-e2ffee09e1d8"
      }
     }
    },
    "243e67d7-cae9-4491-945e-33ae06dea90c": {
     "id": "243e67d7-cae9-4491-945e-33ae06dea90c",
     "prev": "5cd1455f-dfce-47de-b506-8aea0bcacab6",
     "regions": {
      "1dcf5f28-5ede-4e8e-85e4-fc5b74c6b352": {
       "attrs": {
        "height": 0.862533692722372,
        "width": 0.8909703504043127,
        "x": 0.05754716981132078,
        "y": 0.06765498652291105
       },
       "content": {
        "cell": "070701d6-f2db-43c2-bc59-2593ab2daf1e",
        "part": "whole"
       },
       "id": "1dcf5f28-5ede-4e8e-85e4-fc5b74c6b352"
      }
     }
    },
    "2575db2f-61fd-4e94-9a5f-981966bb819e": {
     "id": "2575db2f-61fd-4e94-9a5f-981966bb819e",
     "prev": "4f783b3a-4c3e-4fe9-afb1-9404410795c5",
     "regions": {
      "078a8a86-3753-46b7-a4eb-3d6c4315f5fa": {
       "attrs": {
        "height": 0.862533692722372,
        "width": 0.8909703504043127,
        "x": 0.05754716981132078,
        "y": 0.06765498652291105
       },
       "content": {
        "cell": "b7663393-5918-4101-94c5-742e526c6fb0",
        "part": "whole"
       },
       "id": "078a8a86-3753-46b7-a4eb-3d6c4315f5fa"
      }
     }
    },
    "2e5d625c-755e-42d0-9cc7-611e7f0725d4": {
     "id": "2e5d625c-755e-42d0-9cc7-611e7f0725d4",
     "prev": "243e67d7-cae9-4491-945e-33ae06dea90c",
     "regions": {
      "7ba08ef0-b178-4711-a9b4-3597953b80e1": {
       "attrs": {
        "height": 0.862533692722372,
        "width": 0.8909703504043127,
        "x": 0.05754716981132078,
        "y": 0.06765498652291105
       },
       "content": {
        "cell": "9714ee7e-f498-46b6-99bd-08c012985453",
        "part": "whole"
       },
       "id": "7ba08ef0-b178-4711-a9b4-3597953b80e1"
      }
     }
    },
    "2e82683a-7052-40c7-995f-18371d5bb1e5": {
     "id": "2e82683a-7052-40c7-995f-18371d5bb1e5",
     "prev": "b07b2ab9-cf93-4b00-aef0-69e226d99e53",
     "regions": {
      "3e883b73-d477-463a-846b-f39eab7f8179": {
       "attrs": {
        "height": 0.862533692722372,
        "width": 0.8909703504043127,
        "x": 0.05754716981132078,
        "y": 0.06765498652291105
       },
       "content": {
        "cell": "a44c7db9-8a25-4ffe-935d-b65b2d941919",
        "part": "whole"
       },
       "id": "3e883b73-d477-463a-846b-f39eab7f8179"
      }
     }
    },
    "2fef111c-0455-4986-88b7-db0f899d4973": {
     "id": "2fef111c-0455-4986-88b7-db0f899d4973",
     "prev": "2e5d625c-755e-42d0-9cc7-611e7f0725d4",
     "regions": {
      "10aa28fe-e835-4b60-9b11-cc6f580afcec": {
       "attrs": {
        "height": 0.862533692722372,
        "width": 0.8909703504043127,
        "x": 0.05754716981132078,
        "y": 0.06765498652291105
       },
       "content": {
        "cell": "caf2a5de-f2fe-4c24-87dc-d2beb42cea6c",
        "part": "whole"
       },
       "id": "10aa28fe-e835-4b60-9b11-cc6f580afcec"
      }
     }
    },
    "3794c9b2-ce29-4293-9eb6-ac0a0bd65fdb": {
     "id": "3794c9b2-ce29-4293-9eb6-ac0a0bd65fdb",
     "prev": "5044eafe-d25c-460e-ba7c-0a861c36a369",
     "regions": {
      "3a7229f6-ea63-4beb-ab7b-54a7711a55ee": {
       "attrs": {
        "height": 0.862533692722372,
        "width": 0.8909703504043127,
        "x": 0.05754716981132078,
        "y": 0.06765498652291105
       },
       "content": {
        "cell": "00bc2b92-0529-4d3c-a291-c1664c47ee93",
        "part": "whole"
       },
       "id": "3a7229f6-ea63-4beb-ab7b-54a7711a55ee"
      }
     }
    },
    "3a2d76b7-cb0d-4cdc-abf1-3224274304a7": {
     "id": "3a2d76b7-cb0d-4cdc-abf1-3224274304a7",
     "prev": "bb76afe2-a8d9-47aa-8be5-8df1ca89b1f7",
     "regions": {
      "06ecb15e-2bc7-4eb9-ba70-7031102f0cb3": {
       "attrs": {
        "height": 0.862533692722372,
        "width": 0.8909703504043127,
        "x": 0.05754716981132078,
        "y": 0.06765498652291105
       },
       "content": {
        "cell": "6cd3c9ad-2f9f-4a66-994e-c130d427f7c9",
        "part": "whole"
       },
       "id": "06ecb15e-2bc7-4eb9-ba70-7031102f0cb3"
      }
     }
    },
    "41d51ffb-e3e4-4afc-9d6c-eb7d85b60eb5": {
     "id": "41d51ffb-e3e4-4afc-9d6c-eb7d85b60eb5",
     "prev": "abb46806-6584-43fc-a896-6e7944cfbd5e",
     "regions": {
      "e2421c53-fdb1-4120-b4a0-769ced5f07cd": {
       "attrs": {
        "height": 0.862533692722372,
        "width": 0.8909703504043127,
        "x": 0.05754716981132078,
        "y": 0.06765498652291105
       },
       "content": {
        "cell": "df06d7e0-9a9f-4469-9ede-3a6aa4e3a329",
        "part": "whole"
       },
       "id": "e2421c53-fdb1-4120-b4a0-769ced5f07cd"
      }
     }
    },
    "4aa0600b-da7b-4aec-a925-be6bddff2506": {
     "id": "4aa0600b-da7b-4aec-a925-be6bddff2506",
     "prev": "ea6157f6-8bce-47a0-a58c-74f29279bd7f",
     "regions": {
      "3e88d600-a4b7-4386-9c3b-eec3e5df2f32": {
       "attrs": {
        "height": 0.862533692722372,
        "width": 0.8909703504043127,
        "x": 0.05754716981132078,
        "y": 0.06765498652291105
       },
       "content": {
        "cell": "4cbb4630-c46c-40ec-bc00-08589a2570d3",
        "part": "whole"
       },
       "id": "3e88d600-a4b7-4386-9c3b-eec3e5df2f32"
      }
     }
    },
    "4f783b3a-4c3e-4fe9-afb1-9404410795c5": {
     "id": "4f783b3a-4c3e-4fe9-afb1-9404410795c5",
     "prev": "10df87b5-4d67-4a7f-aac0-60aefff220d8",
     "regions": {
      "33219590-841b-4e98-a20a-1b887b77f45d": {
       "attrs": {
        "height": 0.862533692722372,
        "width": 0.8909703504043127,
        "x": 0.05754716981132078,
        "y": 0.06765498652291105
       },
       "content": {
        "cell": "70db2855-625a-448d-9a4c-fdc4cde275df",
        "part": "whole"
       },
       "id": "33219590-841b-4e98-a20a-1b887b77f45d"
      }
     }
    },
    "5044eafe-d25c-460e-ba7c-0a861c36a369": {
     "id": "5044eafe-d25c-460e-ba7c-0a861c36a369",
     "prev": "a3e8bb10-d5cf-426d-9f68-19f08cf6ee54",
     "regions": {
      "90a49273-1cc1-4d46-9626-de967ad93cfb": {
       "attrs": {
        "height": 0.862533692722372,
        "width": 0.8909703504043127,
        "x": 0.05754716981132078,
        "y": 0.06765498652291105
       },
       "content": {
        "cell": "cafdef8a-5834-41e9-a802-65dbcf736ca6",
        "part": "whole"
       },
       "id": "90a49273-1cc1-4d46-9626-de967ad93cfb"
      }
     }
    },
    "5726ec64-feb1-4975-8d79-44de52285e10": {
     "id": "5726ec64-feb1-4975-8d79-44de52285e10",
     "prev": "1836818f-25f2-42d6-905f-0987b916896d",
     "regions": {
      "89c30a91-69f8-4902-841e-2f2b1533af53": {
       "attrs": {
        "height": 0.862533692722372,
        "width": 0.8909703504043127,
        "x": 0.05754716981132078,
        "y": 0.06765498652291105
       },
       "content": {
        "cell": "5a4c3d70-ddf4-4c46-ba59-baa0c201e9a8",
        "part": "whole"
       },
       "id": "89c30a91-69f8-4902-841e-2f2b1533af53"
      }
     }
    },
    "5cd1455f-dfce-47de-b506-8aea0bcacab6": {
     "id": "5cd1455f-dfce-47de-b506-8aea0bcacab6",
     "prev": "c0490da7-e0f1-42a0-8622-662d7f450126",
     "regions": {
      "8033cf42-ce9e-4903-8ad4-d56de345bb72": {
       "attrs": {
        "height": 0.862533692722372,
        "width": 0.8909703504043127,
        "x": 0.05754716981132078,
        "y": 0.06765498652291105
       },
       "content": {
        "cell": "fbc71841-7564-4a8f-bb0c-4d27ef5a5641",
        "part": "whole"
       },
       "id": "8033cf42-ce9e-4903-8ad4-d56de345bb72"
      }
     }
    },
    "779025dc-e226-4a38-9b2a-5301d6931549": {
     "id": "779025dc-e226-4a38-9b2a-5301d6931549",
     "prev": "ba488065-74e0-4b8c-98a7-fb8558e1154a",
     "regions": {
      "f973fc53-4126-4653-a4a6-03dc2a6e0a0a": {
       "attrs": {
        "height": 0.862533692722372,
        "width": 0.8909703504043127,
        "x": 0.05754716981132078,
        "y": 0.06765498652291105
       },
       "content": {
        "cell": "1e1d22d5-a704-409a-ac31-add80bf64f13",
        "part": "whole"
       },
       "id": "f973fc53-4126-4653-a4a6-03dc2a6e0a0a"
      }
     }
    },
    "7955d6d8-c47a-4ef1-a65b-24bf143ea17c": {
     "id": "7955d6d8-c47a-4ef1-a65b-24bf143ea17c",
     "prev": "09930920-ac93-49b6-aac8-350b5a5269d8",
     "regions": {
      "11b54646-22a2-4958-8611-3d922da1f332": {
       "attrs": {
        "height": 0.862533692722372,
        "width": 0.8909703504043127,
        "x": 0.05754716981132078,
        "y": 0.06765498652291105
       },
       "content": {
        "cell": "6c0f20a0-4ee1-44de-ac3a-c2aad4504c16",
        "part": "whole"
       },
       "id": "11b54646-22a2-4958-8611-3d922da1f332"
      }
     }
    },
    "82b45ece-f127-4867-81fa-9ead885d3dc9": {
     "id": "82b45ece-f127-4867-81fa-9ead885d3dc9",
     "prev": "2575db2f-61fd-4e94-9a5f-981966bb819e",
     "regions": {
      "ab790692-d4d8-42b1-814b-a38d1678a55f": {
       "attrs": {
        "height": 0.862533692722372,
        "width": 0.8909703504043127,
        "x": 0.05754716981132078,
        "y": 0.06765498652291105
       },
       "content": {
        "cell": "b851b330-8404-4a32-8311-2a75fe0d07a6",
        "part": "whole"
       },
       "id": "ab790692-d4d8-42b1-814b-a38d1678a55f"
      }
     }
    },
    "83d1089a-c516-4837-92c2-ce458a29d59f": {
     "id": "83d1089a-c516-4837-92c2-ce458a29d59f",
     "prev": "c86c64c7-aaeb-4258-9476-173541c64866",
     "regions": {
      "5ea41987-1456-4592-bacc-468af1d0a5d4": {
       "attrs": {
        "height": 0.862533692722372,
        "width": 0.8909703504043127,
        "x": 0.05754716981132078,
        "y": 0.06765498652291105
       },
       "content": {
        "cell": "ba95f896-9ec4-4252-b29c-f185e78868d4",
        "part": "whole"
       },
       "id": "5ea41987-1456-4592-bacc-468af1d0a5d4"
      }
     }
    },
    "8d8ecace-4749-46a8-be9f-51a1eb805331": {
     "id": "8d8ecace-4749-46a8-be9f-51a1eb805331",
     "prev": "cb28b9cd-b502-4716-9f7b-56621414d63d",
     "regions": {
      "32c0514e-1a19-4fb7-8fbd-ead249f4b14c": {
       "attrs": {
        "height": 0.862533692722372,
        "width": 0.8909703504043127,
        "x": 0.05754716981132078,
        "y": 0.06765498652291105
       },
       "content": {
        "cell": "fc9bb354-30c5-40b2-b569-1a31452ff488",
        "part": "whole"
       },
       "id": "32c0514e-1a19-4fb7-8fbd-ead249f4b14c"
      }
     }
    },
    "8f6aca45-5dec-4e41-95ca-09b6a28d48ed": {
     "id": "8f6aca45-5dec-4e41-95ca-09b6a28d48ed",
     "prev": "907c93ff-144d-497a-9981-02cba0fce882",
     "regions": {
      "37fb26d4-dbdf-461b-9801-44b59d32da27": {
       "attrs": {
        "height": 0.862533692722372,
        "width": 0.8909703504043127,
        "x": 0.05754716981132078,
        "y": 0.06765498652291105
       },
       "content": {
        "cell": "8cb82af9-cb2c-4bad-9a01-361cd4134b87",
        "part": "whole"
       },
       "id": "37fb26d4-dbdf-461b-9801-44b59d32da27"
      }
     }
    },
    "907c93ff-144d-497a-9981-02cba0fce882": {
     "id": "907c93ff-144d-497a-9981-02cba0fce882",
     "prev": "2e82683a-7052-40c7-995f-18371d5bb1e5",
     "regions": {
      "bbf09f32-514c-446e-a390-9f0350e0efe1": {
       "attrs": {
        "height": 0.862533692722372,
        "width": 0.8909703504043127,
        "x": 0.05754716981132078,
        "y": 0.06765498652291105
       },
       "content": {
        "cell": "4be144be-2fc7-4ecc-8ca7-2dac0c17d7e8",
        "part": "whole"
       },
       "id": "bbf09f32-514c-446e-a390-9f0350e0efe1"
      }
     }
    },
    "9418d3f9-1ec7-4989-8e56-dab8e0a74445": {
     "id": "9418d3f9-1ec7-4989-8e56-dab8e0a74445",
     "prev": "8d8ecace-4749-46a8-be9f-51a1eb805331",
     "regions": {
      "16ced40a-d165-41cb-bf8d-8e29cce20e1b": {
       "attrs": {
        "height": 0.862533692722372,
        "width": 0.8909703504043127,
        "x": 0.05754716981132078,
        "y": 0.06765498652291105
       },
       "content": {
        "cell": "4c3647c8-bf68-4fc7-9494-d11fdb86327f",
        "part": "whole"
       },
       "id": "16ced40a-d165-41cb-bf8d-8e29cce20e1b"
      }
     }
    },
    "9ec42047-de67-47b5-bde9-d210b51bf1f5": {
     "id": "9ec42047-de67-47b5-bde9-d210b51bf1f5",
     "prev": "5726ec64-feb1-4975-8d79-44de52285e10",
     "regions": {
      "571c3ee2-50ed-4619-b7ea-96587a6dfa83": {
       "attrs": {
        "height": 0.862533692722372,
        "width": 0.8909703504043127,
        "x": 0.05754716981132078,
        "y": 0.06765498652291105
       },
       "content": {
        "cell": "c335db0f-e5d8-45cd-925b-a354bc254244",
        "part": "whole"
       },
       "id": "571c3ee2-50ed-4619-b7ea-96587a6dfa83"
      }
     }
    },
    "a3e8bb10-d5cf-426d-9f68-19f08cf6ee54": {
     "id": "a3e8bb10-d5cf-426d-9f68-19f08cf6ee54",
     "prev": "82b45ece-f127-4867-81fa-9ead885d3dc9",
     "regions": {
      "e197e097-05cb-48eb-bf5d-a660260da54d": {
       "attrs": {
        "height": 0.862533692722372,
        "width": 0.8909703504043127,
        "x": 0.05754716981132078,
        "y": 0.06765498652291105
       },
       "content": {
        "cell": "bbdb4af0-fe5a-4a89-a8a8-f055f214eb11",
        "part": "whole"
       },
       "id": "e197e097-05cb-48eb-bf5d-a660260da54d"
      }
     }
    },
    "abb46806-6584-43fc-a896-6e7944cfbd5e": {
     "id": "abb46806-6584-43fc-a896-6e7944cfbd5e",
     "prev": "bab9a9d5-7494-46bb-b865-9fb7a68e83af",
     "regions": {
      "6953dcf8-dadd-4a6f-8177-809d9672b02f": {
       "attrs": {
        "height": 0.862533692722372,
        "width": 0.8909703504043127,
        "x": 0.05754716981132078,
        "y": 0.06765498652291105
       },
       "content": {
        "cell": "eee64495-853b-473c-9a53-8d7b012e428a",
        "part": "whole"
       },
       "id": "6953dcf8-dadd-4a6f-8177-809d9672b02f"
      }
     }
    },
    "b07b2ab9-cf93-4b00-aef0-69e226d99e53": {
     "id": "b07b2ab9-cf93-4b00-aef0-69e226d99e53",
     "prev": "b6a216fe-ced4-4d92-814f-402695fb6c02",
     "regions": {
      "85be288b-1279-443f-ab9c-644c849e746d": {
       "attrs": {
        "height": 0.862533692722372,
        "width": 0.8909703504043127,
        "x": 0.05754716981132078,
        "y": 0.06765498652291105
       },
       "content": {
        "cell": "8047a522-021d-4c62-8a53-da848a6e6f7b",
        "part": "whole"
       },
       "id": "85be288b-1279-443f-ab9c-644c849e746d"
      }
     }
    },
    "b26efe15-fff9-4a3d-8064-a77bd684b7e6": {
     "id": "b26efe15-fff9-4a3d-8064-a77bd684b7e6",
     "prev": "f82c9b8f-7a48-4488-a2c4-f3972694e60e",
     "regions": {
      "834cd0f4-61ff-46a8-8159-20b94a114002": {
       "attrs": {
        "height": 0.862533692722372,
        "width": 0.8909703504043127,
        "x": 0.05754716981132078,
        "y": 0.06765498652291105
       },
       "content": {
        "cell": "1b818d33-4e81-435d-916e-740e6793bf33",
        "part": "whole"
       },
       "id": "834cd0f4-61ff-46a8-8159-20b94a114002"
      }
     }
    },
    "b6a216fe-ced4-4d92-814f-402695fb6c02": {
     "id": "b6a216fe-ced4-4d92-814f-402695fb6c02",
     "prev": "1b25ded4-dae1-4e84-81d8-f510e02c8eab",
     "regions": {
      "c2f98159-1791-47ef-bfae-b9b09eb99376": {
       "attrs": {
        "height": 0.862533692722372,
        "width": 0.8909703504043127,
        "x": 0.05754716981132078,
        "y": 0.06765498652291105
       },
       "content": {
        "cell": "0dfc1cc9-ffe9-4201-ba64-88f00edce14d",
        "part": "whole"
       },
       "id": "c2f98159-1791-47ef-bfae-b9b09eb99376"
      }
     }
    },
    "ba488065-74e0-4b8c-98a7-fb8558e1154a": {
     "id": "ba488065-74e0-4b8c-98a7-fb8558e1154a",
     "prev": "bb7e38c1-de6d-4306-8ae3-b5fe3f93bff6",
     "regions": {
      "cb304583-e2bf-48c2-99f0-16105f750e23": {
       "attrs": {
        "height": 0.862533692722372,
        "width": 0.8909703504043127,
        "x": 0.05754716981132078,
        "y": 0.06765498652291105
       },
       "content": {
        "cell": "ec4afe08-74b2-4219-b379-b3a4cfb185c9",
        "part": "whole"
       },
       "id": "cb304583-e2bf-48c2-99f0-16105f750e23"
      }
     }
    },
    "bab9a9d5-7494-46bb-b865-9fb7a68e83af": {
     "id": "bab9a9d5-7494-46bb-b865-9fb7a68e83af",
     "prev": "3a2d76b7-cb0d-4cdc-abf1-3224274304a7",
     "regions": {
      "d9d1e23a-815d-4b15-9fe6-7a41c73a1c12": {
       "attrs": {
        "height": 0.862533692722372,
        "width": 0.8909703504043127,
        "x": 0.05754716981132078,
        "y": 0.06765498652291105
       },
       "content": {
        "cell": "faef4130-76f6-42f2-9613-22521aac7d7e",
        "part": "whole"
       },
       "id": "d9d1e23a-815d-4b15-9fe6-7a41c73a1c12"
      }
     }
    },
    "bb76afe2-a8d9-47aa-8be5-8df1ca89b1f7": {
     "id": "bb76afe2-a8d9-47aa-8be5-8df1ca89b1f7",
     "prev": "3794c9b2-ce29-4293-9eb6-ac0a0bd65fdb",
     "regions": {
      "589d2426-6593-4c24-a367-2f028ffe65db": {
       "attrs": {
        "height": 0.862533692722372,
        "width": 0.8909703504043127,
        "x": 0.05754716981132078,
        "y": 0.06765498652291105
       },
       "content": {
        "cell": "ac8853f9-285d-4d78-ac71-9165306564db",
        "part": "whole"
       },
       "id": "589d2426-6593-4c24-a367-2f028ffe65db"
      }
     }
    },
    "bb7e38c1-de6d-4306-8ae3-b5fe3f93bff6": {
     "id": "bb7e38c1-de6d-4306-8ae3-b5fe3f93bff6",
     "prev": "9418d3f9-1ec7-4989-8e56-dab8e0a74445",
     "regions": {
      "7635dca9-5603-4d55-a537-8399529bde25": {
       "attrs": {
        "height": 0.862533692722372,
        "width": 0.8909703504043127,
        "x": 0.05754716981132078,
        "y": 0.06765498652291105
       },
       "content": {
        "cell": "d194cf53-622d-4d19-a5ea-7bfb4e7cedf1",
        "part": "whole"
       },
       "id": "7635dca9-5603-4d55-a537-8399529bde25"
      }
     }
    },
    "c0490da7-e0f1-42a0-8622-662d7f450126": {
     "id": "c0490da7-e0f1-42a0-8622-662d7f450126",
     "prev": "b26efe15-fff9-4a3d-8064-a77bd684b7e6",
     "regions": {
      "ebab94af-309a-4c92-99b5-392d5eb84a48": {
       "attrs": {
        "height": 0.862533692722372,
        "width": 0.8909703504043127,
        "x": 0.05754716981132078,
        "y": 0.06765498652291105
       },
       "content": {
        "cell": "b3227170-e102-4f1a-a6b7-7a6ce9b71d5e",
        "part": "whole"
       },
       "id": "ebab94af-309a-4c92-99b5-392d5eb84a48"
      }
     }
    },
    "c86c64c7-aaeb-4258-9476-173541c64866": {
     "id": "c86c64c7-aaeb-4258-9476-173541c64866",
     "prev": "7955d6d8-c47a-4ef1-a65b-24bf143ea17c",
     "regions": {
      "709a2637-5d6e-45ee-8b43-cebd2f05f0c3": {
       "attrs": {
        "height": 0.862533692722372,
        "width": 0.8909703504043127,
        "x": 0.05754716981132078,
        "y": 0.06765498652291105
       },
       "content": {
        "cell": "eea77eb3-e996-4f5d-9626-9059120b3548",
        "part": "whole"
       },
       "id": "709a2637-5d6e-45ee-8b43-cebd2f05f0c3"
      }
     }
    },
    "cb28b9cd-b502-4716-9f7b-56621414d63d": {
     "id": "cb28b9cd-b502-4716-9f7b-56621414d63d",
     "prev": null,
     "regions": {
      "f6aa654d-8688-4646-b714-4cc31e207a0e": {
       "attrs": {
        "height": 0.862533692722372,
        "width": 0.8909703504043127,
        "x": 0.05754716981132078,
        "y": 0.06765498652291105
       },
       "content": {
        "cell": "c8a714c5-14b1-4002-862d-8f81edb5674c",
        "part": "whole"
       },
       "id": "f6aa654d-8688-4646-b714-4cc31e207a0e"
      }
     }
    },
    "d0e713a8-aecd-42fe-b415-d56d23890a36": {
     "id": "d0e713a8-aecd-42fe-b415-d56d23890a36",
     "prev": "2fef111c-0455-4986-88b7-db0f899d4973",
     "regions": {
      "0240b8f8-a002-4456-808b-25af399656c8": {
       "attrs": {
        "height": 0.862533692722372,
        "width": 0.8909703504043127,
        "x": 0.05754716981132078,
        "y": 0.06765498652291105
       },
       "content": {
        "cell": "96f07e90-e1f2-401c-b66d-a56e2610cb52",
        "part": "whole"
       },
       "id": "0240b8f8-a002-4456-808b-25af399656c8"
      }
     }
    },
    "ea6157f6-8bce-47a0-a58c-74f29279bd7f": {
     "id": "ea6157f6-8bce-47a0-a58c-74f29279bd7f",
     "prev": "9ec42047-de67-47b5-bde9-d210b51bf1f5",
     "regions": {
      "968fb774-8ac9-4327-b168-8c7ec5bc49b2": {
       "attrs": {
        "height": 0.862533692722372,
        "width": 0.8909703504043127,
        "x": 0.05754716981132078,
        "y": 0.06765498652291105
       },
       "content": {
        "cell": "de37bd89-3cc5-439c-967a-409866ef2fa6",
        "part": "whole"
       },
       "id": "968fb774-8ac9-4327-b168-8c7ec5bc49b2"
      }
     }
    },
    "f82c9b8f-7a48-4488-a2c4-f3972694e60e": {
     "id": "f82c9b8f-7a48-4488-a2c4-f3972694e60e",
     "prev": "8f6aca45-5dec-4e41-95ca-09b6a28d48ed",
     "regions": {
      "5f3cfd90-8e1f-42e3-92bb-4959e547ffa1": {
       "attrs": {
        "height": 0.862533692722372,
        "width": 0.8909703504043127,
        "x": 0.05754716981132078,
        "y": 0.06765498652291105
       },
       "content": {
        "cell": "86a6ece1-f138-4d69-abf1-db8b2cb7ed7d",
        "part": "whole"
       },
       "id": "5f3cfd90-8e1f-42e3-92bb-4959e547ffa1"
      }
     }
    }
   },
   "themes": {
    "default": "12eec1f4-2448-4fdf-9ec4-8075829abdca",
    "theme": {
     "12eec1f4-2448-4fdf-9ec4-8075829abdca": {
      "id": "12eec1f4-2448-4fdf-9ec4-8075829abdca",
      "palette": {
       "19cc588f-0593-49c9-9f4b-e4d7cc113b1c": {
        "id": "19cc588f-0593-49c9-9f4b-e4d7cc113b1c",
        "rgb": [
         252,
         252,
         252
        ]
       },
       "31af15d2-7e15-44c5-ab5e-e04b16a89eff": {
        "id": "31af15d2-7e15-44c5-ab5e-e04b16a89eff",
        "rgb": [
         68,
         68,
         68
        ]
       },
       "50f92c45-a630-455b-aec3-788680ec7410": {
        "id": "50f92c45-a630-455b-aec3-788680ec7410",
        "rgb": [
         155,
         177,
         192
        ]
       },
       "c5cc3653-2ee1-402a-aba2-7caae1da4f6c": {
        "id": "c5cc3653-2ee1-402a-aba2-7caae1da4f6c",
        "rgb": [
         43,
         126,
         184
        ]
       },
       "efa7f048-9acb-414c-8b04-a26811511a21": {
        "id": "efa7f048-9acb-414c-8b04-a26811511a21",
        "rgb": [
         25.118061674008803,
         73.60176211453744,
         107.4819383259912
        ]
       }
      },
      "rules": {
       "blockquote": {
        "color": "50f92c45-a630-455b-aec3-788680ec7410"
       },
       "code": {
        "font-family": "Anonymous Pro"
       },
       "h1": {
        "color": "c5cc3653-2ee1-402a-aba2-7caae1da4f6c",
        "font-family": "Lato",
        "font-size": 8
       },
       "h2": {
        "color": "c5cc3653-2ee1-402a-aba2-7caae1da4f6c",
        "font-family": "Lato",
        "font-size": 6
       },
       "h3": {
        "color": "50f92c45-a630-455b-aec3-788680ec7410",
        "font-family": "Lato",
        "font-size": 5.5
       },
       "h4": {
        "color": "c5cc3653-2ee1-402a-aba2-7caae1da4f6c",
        "font-family": "Lato",
        "font-size": 5
       },
       "h5": {
        "font-family": "Lato"
       },
       "h6": {
        "font-family": "Lato"
       },
       "h7": {
        "font-family": "Lato"
       },
       "pre": {
        "font-family": "Anonymous Pro",
        "font-size": 4
       }
      },
      "text-base": {
       "font-family": "Merriweather",
       "font-size": 4
      }
     },
     "513c8753-d394-4ff4-95ce-f452e39334f5": {
      "backgrounds": {
       "backgroundColor": {
        "background-color": "backgroundColor",
        "id": "backgroundColor"
       }
      },
      "id": "513c8753-d394-4ff4-95ce-f452e39334f5",
      "palette": {
       "backgroundColor": {
        "id": "backgroundColor",
        "rgb": [
         17,
         17,
         17
        ]
       },
       "headingColor": {
        "id": "headingColor",
        "rgb": [
         238,
         238,
         238
        ]
       },
       "linkColor": {
        "id": "linkColor",
        "rgb": [
         231,
         173,
         82
        ]
       },
       "mainColor": {
        "id": "mainColor",
        "rgb": [
         238,
         238,
         238
        ]
       }
      },
      "rules": {
       "a": {
        "color": "linkColor"
       },
       "h1": {
        "color": "headingColor",
        "font-family": "Montserrat",
        "font-size": 7
       },
       "h2": {
        "color": "headingColor",
        "font-family": "Montserrat",
        "font-size": 5
       },
       "h3": {
        "color": "headingColor",
        "font-family": "Montserrat",
        "font-size": 3.75
       },
       "h4": {
        "color": "headingColor",
        "font-family": "Montserrat",
        "font-size": 3
       },
       "h5": {
        "color": "headingColor",
        "font-family": "Montserrat"
       },
       "h6": {
        "color": "headingColor",
        "font-family": "Montserrat"
       },
       "h7": {
        "color": "headingColor",
        "font-family": "Montserrat"
       },
       "li": {
        "color": "mainColor",
        "font-family": "Open Sans",
        "font-size": 4
       },
       "p": {
        "color": "mainColor",
        "font-family": "Open Sans",
        "font-size": 4
       }
      },
      "text-base": {
       "color": "mainColor",
       "font-family": "Open Sans",
       "font-size": 4
      }
     },
     "82f1c284-7368-467d-81a6-51fa90d6c991": {
      "backgrounds": {
       "backgroundColor": {
        "background-color": "backgroundColor",
        "id": "backgroundColor"
       }
      },
      "id": "82f1c284-7368-467d-81a6-51fa90d6c991",
      "palette": {
       "backgroundColor": {
        "id": "backgroundColor",
        "rgb": [
         17,
         17,
         17
        ]
       },
       "headingColor": {
        "id": "headingColor",
        "rgb": [
         238,
         238,
         238
        ]
       },
       "linkColor": {
        "id": "linkColor",
        "rgb": [
         231,
         173,
         82
        ]
       },
       "mainColor": {
        "id": "mainColor",
        "rgb": [
         238,
         238,
         238
        ]
       }
      },
      "rules": {
       "a": {
        "color": "linkColor"
       },
       "h1": {
        "color": "headingColor",
        "font-family": "Montserrat",
        "font-size": 7
       },
       "h2": {
        "color": "headingColor",
        "font-family": "Montserrat",
        "font-size": 5
       },
       "h3": {
        "color": "headingColor",
        "font-family": "Montserrat",
        "font-size": 3.75
       },
       "h4": {
        "color": "headingColor",
        "font-family": "Montserrat",
        "font-size": 3
       },
       "h5": {
        "color": "headingColor",
        "font-family": "Montserrat"
       },
       "h6": {
        "color": "headingColor",
        "font-family": "Montserrat"
       },
       "h7": {
        "color": "headingColor",
        "font-family": "Montserrat"
       },
       "li": {
        "color": "mainColor",
        "font-family": "Open Sans",
        "font-size": 4
       },
       "p": {
        "color": "mainColor",
        "font-family": "Open Sans",
        "font-size": 4
       }
      },
      "text-base": {
       "color": "mainColor",
       "font-family": "Open Sans",
       "font-size": 4
      }
     }
    }
   }
  }
 },
 "nbformat": 4,
 "nbformat_minor": 1
}
